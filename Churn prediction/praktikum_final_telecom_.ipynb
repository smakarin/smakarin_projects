{
 "cells": [
  {
   "cell_type": "markdown",
   "metadata": {},
   "source": [
    "# Predicting customer churn for a telecom company"
   ]
  },
  {
   "cell_type": "markdown",
   "metadata": {},
   "source": [
    "In this project, a telecommunications operator wants to learn how to predict customer churn. If it turns out that a user plans to leave, they will be offered promo codes and special conditions. We have personal data about some clients, as well as information about their tariffs and contracts, available for analysis.\n",
    "\n",
    "### Service Description\n",
    "\n",
    "The operator provides two main types of services:  \n",
    "\n",
    "1. Landline phone service. The connection of a telephone apparatus to several lines at once is possible.\n",
    "2. Internet. The connection can be of two types: via a telephone line (DSL) or a fiber optic cable (Fiber optic).\n",
    "\n",
    "Also, the following services are available:  \n",
    "\n",
    "* Internet security: antivirus (DeviceProtection) and blocking of unsafe sites (OnlineSecurity);\n",
    "* Dedicated tech support line (TechSupport);\n",
    "* Cloud file storage for data backup (OnlineBackup);\n",
    "* Streaming TV (StreamingTV) and a movie catalog (StreamingMovies).  \n",
    "\n",
    "Customers can pay for services every month or sign a contract for 1-2 years. Various payment methods are available, as well as the option to receive an electronic check.\n",
    "\n",
    "### Data Description\n",
    "\n",
    "The data consists of files obtained from different sources:\n",
    "\n",
    "- `contract.csv` — contract information;\n",
    "- `personal.csv` — client's personal data;\n",
    "- `internet.csv` — information about internet services;\n",
    "- `phone.csv` — information about telephony services.\n",
    "\n",
    "In all files, the customerID column contains the client code.\n",
    "\n",
    "Contract information is up-to-date as of February 1, 2020.\n",
    "\n",
    "\n",
    "### Task\n",
    "1. Conduct an exploratory data analysis to determine the difference in behavior between current users and those who have left;\n",
    "2. Create a predictive model that will help predict customer churn.\n",
    "\n",
    "### Work plan\n",
    "1. [Loading and preprocessing the data;](#00)   \n",
    "\n",
    "\n",
    "2. [Loading and preprocessing the data;](#01)\n",
    "    * [Analysis of the behavior of the company's active customers and those who have left;](#02)\n",
    "    * [Analysis of the dynamics of change in the number of new customers;](#03)\n",
    "    * [Analysis of the influence of payment methods on the monthly payment;](#04)\n",
    "    * [Analysis of the influence of the tariff (internet+phone, phone only, internet only) on the monthly payment;](#05)\n",
    "    * [Exploratory analysis. Conclusion.](#06)        \n",
    "    \n",
    "    \n",
    "\n",
    "3. [Creating a predictive model:](#07)   \n",
    "    * [Preparing data for prediction;](#08)\n",
    "    * [Working with features - encoding and scaling features, creating new ones, deleting unnecessary ones;](#09)\n",
    "    * [Upsampling the data;](#10)\n",
    "    * [Preparing to create models;](#11)\n",
    "    * [Preliminary training of models;](#12)\n",
    "    * [Hyperparameter tuning for the best models;](#13)\n",
    "    * [Analysis of models, validation of the result on the test sample;](#14)\n",
    "    * [Checking the result for adequacy.](#15)\n",
    "4. [Overall Conclusion](#16)"
   ]
  },
  {
   "cell_type": "code",
   "execution_count": 1,
   "metadata": {},
   "outputs": [],
   "source": [
    "import warnings\n",
    "warnings.simplefilter('ignore')\n",
    "\n",
    "import pandas as pd\n",
    "import matplotlib.pyplot as plt\n",
    "import numpy as np\n",
    "import seaborn as sns\n",
    "import random\n",
    "from sklearn.utils import shuffle\n",
    "from sklearn.model_selection import train_test_split, GridSearchCV, RandomizedSearchCV\n",
    "from sklearn.preprocessing import StandardScaler\n",
    "from sklearn.ensemble import RandomForestClassifier\n",
    "from sklearn.tree import DecisionTreeClassifier\n",
    "from sklearn.linear_model import LogisticRegression\n",
    "from sklearn.metrics import f1_score, recall_score, precision_score, accuracy_score, roc_auc_score, make_scorer\n",
    "\n",
    "#regressors\n",
    "from sklearn.dummy import DummyClassifier\n",
    "from sklearn.ensemble import GradientBoostingClassifier\n",
    "from catboost import CatBoostClassifier, Pool\n",
    "import xgboost as xgb\n",
    "from lightgbm import LGBMClassifier"
   ]
  },
  {
   "cell_type": "markdown",
   "metadata": {},
   "source": [
    "# 1. Loading and preprocessing the data <a class='anchor' id='00'></a>"
   ]
  },
  {
   "cell_type": "markdown",
   "metadata": {},
   "source": [
    "We have four datasets:\n",
    "\n",
    "1. contract - information about the contract;\n",
    "2. personal - client's personal data;\n",
    "3. internet - information about internet services;\n",
    "4. phone - information about telephony services.  \n",
    "\n",
    "Let's load each of them, inspect the data, their types, and count the number of missing values and duplicates."
   ]
  },
  {
   "cell_type": "markdown",
   "metadata": {},
   "source": [
    "### Сontract - information about the contract"
   ]
  },
  {
   "cell_type": "code",
   "execution_count": 2,
   "metadata": {},
   "outputs": [
    {
     "data": {
      "text/html": [
       "<div>\n",
       "<style scoped>\n",
       "    .dataframe tbody tr th:only-of-type {\n",
       "        vertical-align: middle;\n",
       "    }\n",
       "\n",
       "    .dataframe tbody tr th {\n",
       "        vertical-align: top;\n",
       "    }\n",
       "\n",
       "    .dataframe thead th {\n",
       "        text-align: right;\n",
       "    }\n",
       "</style>\n",
       "<table border=\"1\" class=\"dataframe\">\n",
       "  <thead>\n",
       "    <tr style=\"text-align: right;\">\n",
       "      <th></th>\n",
       "      <th>customerID</th>\n",
       "      <th>BeginDate</th>\n",
       "      <th>EndDate</th>\n",
       "      <th>Type</th>\n",
       "      <th>PaperlessBilling</th>\n",
       "      <th>PaymentMethod</th>\n",
       "      <th>MonthlyCharges</th>\n",
       "      <th>TotalCharges</th>\n",
       "    </tr>\n",
       "  </thead>\n",
       "  <tbody>\n",
       "    <tr>\n",
       "      <td>0</td>\n",
       "      <td>7590-VHVEG</td>\n",
       "      <td>2020-01-01</td>\n",
       "      <td>No</td>\n",
       "      <td>Month-to-month</td>\n",
       "      <td>Yes</td>\n",
       "      <td>Electronic check</td>\n",
       "      <td>29.85</td>\n",
       "      <td>29.85</td>\n",
       "    </tr>\n",
       "    <tr>\n",
       "      <td>1</td>\n",
       "      <td>5575-GNVDE</td>\n",
       "      <td>2017-04-01</td>\n",
       "      <td>No</td>\n",
       "      <td>One year</td>\n",
       "      <td>No</td>\n",
       "      <td>Mailed check</td>\n",
       "      <td>56.95</td>\n",
       "      <td>1889.5</td>\n",
       "    </tr>\n",
       "    <tr>\n",
       "      <td>2</td>\n",
       "      <td>3668-QPYBK</td>\n",
       "      <td>2019-10-01</td>\n",
       "      <td>2019-12-01 00:00:00</td>\n",
       "      <td>Month-to-month</td>\n",
       "      <td>Yes</td>\n",
       "      <td>Mailed check</td>\n",
       "      <td>53.85</td>\n",
       "      <td>108.15</td>\n",
       "    </tr>\n",
       "    <tr>\n",
       "      <td>3</td>\n",
       "      <td>7795-CFOCW</td>\n",
       "      <td>2016-05-01</td>\n",
       "      <td>No</td>\n",
       "      <td>One year</td>\n",
       "      <td>No</td>\n",
       "      <td>Bank transfer (automatic)</td>\n",
       "      <td>42.30</td>\n",
       "      <td>1840.75</td>\n",
       "    </tr>\n",
       "    <tr>\n",
       "      <td>4</td>\n",
       "      <td>9237-HQITU</td>\n",
       "      <td>2019-09-01</td>\n",
       "      <td>2019-11-01 00:00:00</td>\n",
       "      <td>Month-to-month</td>\n",
       "      <td>Yes</td>\n",
       "      <td>Electronic check</td>\n",
       "      <td>70.70</td>\n",
       "      <td>151.65</td>\n",
       "    </tr>\n",
       "  </tbody>\n",
       "</table>\n",
       "</div>"
      ],
      "text/plain": [
       "   customerID   BeginDate              EndDate            Type  \\\n",
       "0  7590-VHVEG  2020-01-01                   No  Month-to-month   \n",
       "1  5575-GNVDE  2017-04-01                   No        One year   \n",
       "2  3668-QPYBK  2019-10-01  2019-12-01 00:00:00  Month-to-month   \n",
       "3  7795-CFOCW  2016-05-01                   No        One year   \n",
       "4  9237-HQITU  2019-09-01  2019-11-01 00:00:00  Month-to-month   \n",
       "\n",
       "  PaperlessBilling              PaymentMethod  MonthlyCharges TotalCharges  \n",
       "0              Yes           Electronic check           29.85        29.85  \n",
       "1               No               Mailed check           56.95       1889.5  \n",
       "2              Yes               Mailed check           53.85       108.15  \n",
       "3               No  Bank transfer (automatic)           42.30      1840.75  \n",
       "4              Yes           Electronic check           70.70       151.65  "
      ]
     },
     "execution_count": 2,
     "metadata": {},
     "output_type": "execute_result"
    }
   ],
   "source": [
    "contract = pd.read_csv('/datasets/final_provider/contract.csv')\n",
    "contract.head(5)"
   ]
  },
  {
   "cell_type": "code",
   "execution_count": 3,
   "metadata": {},
   "outputs": [
    {
     "name": "stdout",
     "output_type": "stream",
     "text": [
      "<class 'pandas.core.frame.DataFrame'>\n",
      "RangeIndex: 7043 entries, 0 to 7042\n",
      "Data columns (total 8 columns):\n",
      "customerID          7043 non-null object\n",
      "BeginDate           7043 non-null object\n",
      "EndDate             7043 non-null object\n",
      "Type                7043 non-null object\n",
      "PaperlessBilling    7043 non-null object\n",
      "PaymentMethod       7043 non-null object\n",
      "MonthlyCharges      7043 non-null float64\n",
      "TotalCharges        7043 non-null object\n",
      "dtypes: float64(1), object(7)\n",
      "memory usage: 440.3+ KB\n"
     ]
    }
   ],
   "source": [
    "contract.info()"
   ]
  },
  {
   "cell_type": "markdown",
   "metadata": {},
   "source": [
    "The dataset contains 7043 objects and 8 features:\n",
    "\n",
    "1. customerID - client id;\n",
    "2. BeginDate - contract start date;\n",
    "3. EndDate - end date, if applicable;\n",
    "4. Type - contract type - monthly payment or payment for a year or two in advance;\n",
    "5. PaperlessBilling - whether the option to receive electronic bills is enabled;\n",
    "6. PaymentMethod - payment method;\n",
    "7. MonthlyCharges - monthly cost of the contract;\n",
    "8. TotalCharges - total cost of the contract over time.  \n",
    "\n",
    "There are no missing values in the dataset, but the data is cast to incorrect types.  \n",
    "The data types of the BeginDate and TotalCharges columns need to be changed."
   ]
  },
  {
   "cell_type": "code",
   "execution_count": 4,
   "metadata": {},
   "outputs": [],
   "source": [
    "contract['TotalCharges'] = contract['TotalCharges'].replace(' ', 0)\n",
    "contract['TotalCharges'] = pd.to_numeric(contract['TotalCharges'])\n",
    "contract['BeginDate'] = pd.to_datetime(contract['BeginDate'])"
   ]
  },
  {
   "cell_type": "markdown",
   "metadata": {},
   "source": [
    "The dataset contains 11 records where TotalCharges = 0. These are new customers who arrived less than a month ago and have not yet received a payment bill."
   ]
  },
  {
   "cell_type": "code",
   "execution_count": 5,
   "metadata": {},
   "outputs": [
    {
     "data": {
      "text/html": [
       "<div>\n",
       "<style scoped>\n",
       "    .dataframe tbody tr th:only-of-type {\n",
       "        vertical-align: middle;\n",
       "    }\n",
       "\n",
       "    .dataframe tbody tr th {\n",
       "        vertical-align: top;\n",
       "    }\n",
       "\n",
       "    .dataframe thead th {\n",
       "        text-align: right;\n",
       "    }\n",
       "</style>\n",
       "<table border=\"1\" class=\"dataframe\">\n",
       "  <thead>\n",
       "    <tr style=\"text-align: right;\">\n",
       "      <th></th>\n",
       "      <th>customerID</th>\n",
       "      <th>BeginDate</th>\n",
       "      <th>EndDate</th>\n",
       "      <th>Type</th>\n",
       "      <th>PaperlessBilling</th>\n",
       "      <th>PaymentMethod</th>\n",
       "      <th>MonthlyCharges</th>\n",
       "      <th>TotalCharges</th>\n",
       "    </tr>\n",
       "  </thead>\n",
       "  <tbody>\n",
       "    <tr>\n",
       "      <td>488</td>\n",
       "      <td>4472-LVYGI</td>\n",
       "      <td>2020-02-01</td>\n",
       "      <td>No</td>\n",
       "      <td>Two year</td>\n",
       "      <td>Yes</td>\n",
       "      <td>Bank transfer (automatic)</td>\n",
       "      <td>52.55</td>\n",
       "      <td>0.0</td>\n",
       "    </tr>\n",
       "    <tr>\n",
       "      <td>753</td>\n",
       "      <td>3115-CZMZD</td>\n",
       "      <td>2020-02-01</td>\n",
       "      <td>No</td>\n",
       "      <td>Two year</td>\n",
       "      <td>No</td>\n",
       "      <td>Mailed check</td>\n",
       "      <td>20.25</td>\n",
       "      <td>0.0</td>\n",
       "    </tr>\n",
       "    <tr>\n",
       "      <td>936</td>\n",
       "      <td>5709-LVOEQ</td>\n",
       "      <td>2020-02-01</td>\n",
       "      <td>No</td>\n",
       "      <td>Two year</td>\n",
       "      <td>No</td>\n",
       "      <td>Mailed check</td>\n",
       "      <td>80.85</td>\n",
       "      <td>0.0</td>\n",
       "    </tr>\n",
       "    <tr>\n",
       "      <td>1082</td>\n",
       "      <td>4367-NUYAO</td>\n",
       "      <td>2020-02-01</td>\n",
       "      <td>No</td>\n",
       "      <td>Two year</td>\n",
       "      <td>No</td>\n",
       "      <td>Mailed check</td>\n",
       "      <td>25.75</td>\n",
       "      <td>0.0</td>\n",
       "    </tr>\n",
       "    <tr>\n",
       "      <td>1340</td>\n",
       "      <td>1371-DWPAZ</td>\n",
       "      <td>2020-02-01</td>\n",
       "      <td>No</td>\n",
       "      <td>Two year</td>\n",
       "      <td>No</td>\n",
       "      <td>Credit card (automatic)</td>\n",
       "      <td>56.05</td>\n",
       "      <td>0.0</td>\n",
       "    </tr>\n",
       "    <tr>\n",
       "      <td>3331</td>\n",
       "      <td>7644-OMVMY</td>\n",
       "      <td>2020-02-01</td>\n",
       "      <td>No</td>\n",
       "      <td>Two year</td>\n",
       "      <td>No</td>\n",
       "      <td>Mailed check</td>\n",
       "      <td>19.85</td>\n",
       "      <td>0.0</td>\n",
       "    </tr>\n",
       "    <tr>\n",
       "      <td>3826</td>\n",
       "      <td>3213-VVOLG</td>\n",
       "      <td>2020-02-01</td>\n",
       "      <td>No</td>\n",
       "      <td>Two year</td>\n",
       "      <td>No</td>\n",
       "      <td>Mailed check</td>\n",
       "      <td>25.35</td>\n",
       "      <td>0.0</td>\n",
       "    </tr>\n",
       "    <tr>\n",
       "      <td>4380</td>\n",
       "      <td>2520-SGTTA</td>\n",
       "      <td>2020-02-01</td>\n",
       "      <td>No</td>\n",
       "      <td>Two year</td>\n",
       "      <td>No</td>\n",
       "      <td>Mailed check</td>\n",
       "      <td>20.00</td>\n",
       "      <td>0.0</td>\n",
       "    </tr>\n",
       "    <tr>\n",
       "      <td>5218</td>\n",
       "      <td>2923-ARZLG</td>\n",
       "      <td>2020-02-01</td>\n",
       "      <td>No</td>\n",
       "      <td>One year</td>\n",
       "      <td>Yes</td>\n",
       "      <td>Mailed check</td>\n",
       "      <td>19.70</td>\n",
       "      <td>0.0</td>\n",
       "    </tr>\n",
       "    <tr>\n",
       "      <td>6670</td>\n",
       "      <td>4075-WKNIU</td>\n",
       "      <td>2020-02-01</td>\n",
       "      <td>No</td>\n",
       "      <td>Two year</td>\n",
       "      <td>No</td>\n",
       "      <td>Mailed check</td>\n",
       "      <td>73.35</td>\n",
       "      <td>0.0</td>\n",
       "    </tr>\n",
       "    <tr>\n",
       "      <td>6754</td>\n",
       "      <td>2775-SEFEE</td>\n",
       "      <td>2020-02-01</td>\n",
       "      <td>No</td>\n",
       "      <td>Two year</td>\n",
       "      <td>Yes</td>\n",
       "      <td>Bank transfer (automatic)</td>\n",
       "      <td>61.90</td>\n",
       "      <td>0.0</td>\n",
       "    </tr>\n",
       "  </tbody>\n",
       "</table>\n",
       "</div>"
      ],
      "text/plain": [
       "      customerID  BeginDate EndDate      Type PaperlessBilling  \\\n",
       "488   4472-LVYGI 2020-02-01      No  Two year              Yes   \n",
       "753   3115-CZMZD 2020-02-01      No  Two year               No   \n",
       "936   5709-LVOEQ 2020-02-01      No  Two year               No   \n",
       "1082  4367-NUYAO 2020-02-01      No  Two year               No   \n",
       "1340  1371-DWPAZ 2020-02-01      No  Two year               No   \n",
       "3331  7644-OMVMY 2020-02-01      No  Two year               No   \n",
       "3826  3213-VVOLG 2020-02-01      No  Two year               No   \n",
       "4380  2520-SGTTA 2020-02-01      No  Two year               No   \n",
       "5218  2923-ARZLG 2020-02-01      No  One year              Yes   \n",
       "6670  4075-WKNIU 2020-02-01      No  Two year               No   \n",
       "6754  2775-SEFEE 2020-02-01      No  Two year              Yes   \n",
       "\n",
       "                  PaymentMethod  MonthlyCharges  TotalCharges  \n",
       "488   Bank transfer (automatic)           52.55           0.0  \n",
       "753                Mailed check           20.25           0.0  \n",
       "936                Mailed check           80.85           0.0  \n",
       "1082               Mailed check           25.75           0.0  \n",
       "1340    Credit card (automatic)           56.05           0.0  \n",
       "3331               Mailed check           19.85           0.0  \n",
       "3826               Mailed check           25.35           0.0  \n",
       "4380               Mailed check           20.00           0.0  \n",
       "5218               Mailed check           19.70           0.0  \n",
       "6670               Mailed check           73.35           0.0  \n",
       "6754  Bank transfer (automatic)           61.90           0.0  "
      ]
     },
     "execution_count": 5,
     "metadata": {},
     "output_type": "execute_result"
    }
   ],
   "source": [
    "contract[contract['TotalCharges']== 0]"
   ]
  },
  {
   "cell_type": "markdown",
   "metadata": {},
   "source": [
    "### Personal — client's personal data;"
   ]
  },
  {
   "cell_type": "code",
   "execution_count": 6,
   "metadata": {},
   "outputs": [
    {
     "data": {
      "text/html": [
       "<div>\n",
       "<style scoped>\n",
       "    .dataframe tbody tr th:only-of-type {\n",
       "        vertical-align: middle;\n",
       "    }\n",
       "\n",
       "    .dataframe tbody tr th {\n",
       "        vertical-align: top;\n",
       "    }\n",
       "\n",
       "    .dataframe thead th {\n",
       "        text-align: right;\n",
       "    }\n",
       "</style>\n",
       "<table border=\"1\" class=\"dataframe\">\n",
       "  <thead>\n",
       "    <tr style=\"text-align: right;\">\n",
       "      <th></th>\n",
       "      <th>customerID</th>\n",
       "      <th>gender</th>\n",
       "      <th>SeniorCitizen</th>\n",
       "      <th>Partner</th>\n",
       "      <th>Dependents</th>\n",
       "    </tr>\n",
       "  </thead>\n",
       "  <tbody>\n",
       "    <tr>\n",
       "      <td>0</td>\n",
       "      <td>7590-VHVEG</td>\n",
       "      <td>Female</td>\n",
       "      <td>0</td>\n",
       "      <td>Yes</td>\n",
       "      <td>No</td>\n",
       "    </tr>\n",
       "    <tr>\n",
       "      <td>1</td>\n",
       "      <td>5575-GNVDE</td>\n",
       "      <td>Male</td>\n",
       "      <td>0</td>\n",
       "      <td>No</td>\n",
       "      <td>No</td>\n",
       "    </tr>\n",
       "    <tr>\n",
       "      <td>2</td>\n",
       "      <td>3668-QPYBK</td>\n",
       "      <td>Male</td>\n",
       "      <td>0</td>\n",
       "      <td>No</td>\n",
       "      <td>No</td>\n",
       "    </tr>\n",
       "    <tr>\n",
       "      <td>3</td>\n",
       "      <td>7795-CFOCW</td>\n",
       "      <td>Male</td>\n",
       "      <td>0</td>\n",
       "      <td>No</td>\n",
       "      <td>No</td>\n",
       "    </tr>\n",
       "    <tr>\n",
       "      <td>4</td>\n",
       "      <td>9237-HQITU</td>\n",
       "      <td>Female</td>\n",
       "      <td>0</td>\n",
       "      <td>No</td>\n",
       "      <td>No</td>\n",
       "    </tr>\n",
       "  </tbody>\n",
       "</table>\n",
       "</div>"
      ],
      "text/plain": [
       "   customerID  gender  SeniorCitizen Partner Dependents\n",
       "0  7590-VHVEG  Female              0     Yes         No\n",
       "1  5575-GNVDE    Male              0      No         No\n",
       "2  3668-QPYBK    Male              0      No         No\n",
       "3  7795-CFOCW    Male              0      No         No\n",
       "4  9237-HQITU  Female              0      No         No"
      ]
     },
     "execution_count": 6,
     "metadata": {},
     "output_type": "execute_result"
    }
   ],
   "source": [
    "personal = pd.read_csv('/datasets/final_provider/personal.csv')\n",
    "personal.head(5)"
   ]
  },
  {
   "cell_type": "code",
   "execution_count": 7,
   "metadata": {},
   "outputs": [
    {
     "name": "stdout",
     "output_type": "stream",
     "text": [
      "<class 'pandas.core.frame.DataFrame'>\n",
      "RangeIndex: 7043 entries, 0 to 7042\n",
      "Data columns (total 5 columns):\n",
      "customerID       7043 non-null object\n",
      "gender           7043 non-null object\n",
      "SeniorCitizen    7043 non-null int64\n",
      "Partner          7043 non-null object\n",
      "Dependents       7043 non-null object\n",
      "dtypes: int64(1), object(4)\n",
      "memory usage: 275.2+ KB\n"
     ]
    }
   ],
   "source": [
    "personal.info()"
   ]
  },
  {
   "cell_type": "markdown",
   "metadata": {},
   "source": [
    "The dataset contains 7043 records and 5 features:\n",
    "\n",
    "1. customerID - client id;\n",
    "2. gender - client's gender;\n",
    "3. SeniorCitizen - whether the client is a senior citizen or not;\n",
    "4. Partner - the meaning of the column is not entirely clear. Most likely - whether the client has a partner;\n",
    "5. Dependents - the meaning of the column is not entirely clear;  \n",
    "\n",
    "There are no missing values in the dataset. All columns are of the object type except for SeniorCitizen.  \n",
    "All these features are categorical"
   ]
  },
  {
   "cell_type": "markdown",
   "metadata": {},
   "source": [
    "### Internet — information about internet services"
   ]
  },
  {
   "cell_type": "code",
   "execution_count": 8,
   "metadata": {},
   "outputs": [
    {
     "data": {
      "text/html": [
       "<div>\n",
       "<style scoped>\n",
       "    .dataframe tbody tr th:only-of-type {\n",
       "        vertical-align: middle;\n",
       "    }\n",
       "\n",
       "    .dataframe tbody tr th {\n",
       "        vertical-align: top;\n",
       "    }\n",
       "\n",
       "    .dataframe thead th {\n",
       "        text-align: right;\n",
       "    }\n",
       "</style>\n",
       "<table border=\"1\" class=\"dataframe\">\n",
       "  <thead>\n",
       "    <tr style=\"text-align: right;\">\n",
       "      <th></th>\n",
       "      <th>customerID</th>\n",
       "      <th>InternetService</th>\n",
       "      <th>OnlineSecurity</th>\n",
       "      <th>OnlineBackup</th>\n",
       "      <th>DeviceProtection</th>\n",
       "      <th>TechSupport</th>\n",
       "      <th>StreamingTV</th>\n",
       "      <th>StreamingMovies</th>\n",
       "    </tr>\n",
       "  </thead>\n",
       "  <tbody>\n",
       "    <tr>\n",
       "      <td>0</td>\n",
       "      <td>7590-VHVEG</td>\n",
       "      <td>DSL</td>\n",
       "      <td>No</td>\n",
       "      <td>Yes</td>\n",
       "      <td>No</td>\n",
       "      <td>No</td>\n",
       "      <td>No</td>\n",
       "      <td>No</td>\n",
       "    </tr>\n",
       "    <tr>\n",
       "      <td>1</td>\n",
       "      <td>5575-GNVDE</td>\n",
       "      <td>DSL</td>\n",
       "      <td>Yes</td>\n",
       "      <td>No</td>\n",
       "      <td>Yes</td>\n",
       "      <td>No</td>\n",
       "      <td>No</td>\n",
       "      <td>No</td>\n",
       "    </tr>\n",
       "    <tr>\n",
       "      <td>2</td>\n",
       "      <td>3668-QPYBK</td>\n",
       "      <td>DSL</td>\n",
       "      <td>Yes</td>\n",
       "      <td>Yes</td>\n",
       "      <td>No</td>\n",
       "      <td>No</td>\n",
       "      <td>No</td>\n",
       "      <td>No</td>\n",
       "    </tr>\n",
       "    <tr>\n",
       "      <td>3</td>\n",
       "      <td>7795-CFOCW</td>\n",
       "      <td>DSL</td>\n",
       "      <td>Yes</td>\n",
       "      <td>No</td>\n",
       "      <td>Yes</td>\n",
       "      <td>Yes</td>\n",
       "      <td>No</td>\n",
       "      <td>No</td>\n",
       "    </tr>\n",
       "    <tr>\n",
       "      <td>4</td>\n",
       "      <td>9237-HQITU</td>\n",
       "      <td>Fiber optic</td>\n",
       "      <td>No</td>\n",
       "      <td>No</td>\n",
       "      <td>No</td>\n",
       "      <td>No</td>\n",
       "      <td>No</td>\n",
       "      <td>No</td>\n",
       "    </tr>\n",
       "  </tbody>\n",
       "</table>\n",
       "</div>"
      ],
      "text/plain": [
       "   customerID InternetService OnlineSecurity OnlineBackup DeviceProtection  \\\n",
       "0  7590-VHVEG             DSL             No          Yes               No   \n",
       "1  5575-GNVDE             DSL            Yes           No              Yes   \n",
       "2  3668-QPYBK             DSL            Yes          Yes               No   \n",
       "3  7795-CFOCW             DSL            Yes           No              Yes   \n",
       "4  9237-HQITU     Fiber optic             No           No               No   \n",
       "\n",
       "  TechSupport StreamingTV StreamingMovies  \n",
       "0          No          No              No  \n",
       "1          No          No              No  \n",
       "2          No          No              No  \n",
       "3         Yes          No              No  \n",
       "4          No          No              No  "
      ]
     },
     "execution_count": 8,
     "metadata": {},
     "output_type": "execute_result"
    }
   ],
   "source": [
    "internet = pd.read_csv('/datasets/final_provider/internet.csv')\n",
    "internet.head(5)"
   ]
  },
  {
   "cell_type": "code",
   "execution_count": 9,
   "metadata": {},
   "outputs": [
    {
     "name": "stdout",
     "output_type": "stream",
     "text": [
      "<class 'pandas.core.frame.DataFrame'>\n",
      "RangeIndex: 5517 entries, 0 to 5516\n",
      "Data columns (total 8 columns):\n",
      "customerID          5517 non-null object\n",
      "InternetService     5517 non-null object\n",
      "OnlineSecurity      5517 non-null object\n",
      "OnlineBackup        5517 non-null object\n",
      "DeviceProtection    5517 non-null object\n",
      "TechSupport         5517 non-null object\n",
      "StreamingTV         5517 non-null object\n",
      "StreamingMovies     5517 non-null object\n",
      "dtypes: object(8)\n",
      "memory usage: 344.9+ KB\n"
     ]
    }
   ],
   "source": [
    "internet.info()"
   ]
  },
  {
   "cell_type": "markdown",
   "metadata": {},
   "source": [
    "The dataset contains 5517 records and 8 features - type of internet connection and status of additional internet services:\n",
    "\n",
    "1. customerID - client id;\n",
    "2. InternetService - type of internet connection (can be of two types: via a phone line (DSL) or fiber optic cable);\n",
    "3. OnlineSecurity - whether the unsafe site blocking service is activated;\n",
    "4. OnlineBackup - whether the cloud file storage service for data backup is activated;\n",
    "5. DeviceProtection - whether the antivirus is activated;\n",
    "6. TechSupport - whether a dedicated tech support line is activated;\n",
    "7. StreamingTV - whether streaming television is activated;\n",
    "8. StreamingMovies - whether a movie catalog is activated.  \n",
    "\n",
    "There are no missing values in the dataset. All columns are of the object type.  \n",
    "Considering that the number of records is less than in the 'contract' dataset, it can be inferred that not all clients have an internet connection."
   ]
  },
  {
   "cell_type": "markdown",
   "metadata": {},
   "source": [
    "### Phone — information about telephony services.  "
   ]
  },
  {
   "cell_type": "code",
   "execution_count": 10,
   "metadata": {},
   "outputs": [
    {
     "data": {
      "text/html": [
       "<div>\n",
       "<style scoped>\n",
       "    .dataframe tbody tr th:only-of-type {\n",
       "        vertical-align: middle;\n",
       "    }\n",
       "\n",
       "    .dataframe tbody tr th {\n",
       "        vertical-align: top;\n",
       "    }\n",
       "\n",
       "    .dataframe thead th {\n",
       "        text-align: right;\n",
       "    }\n",
       "</style>\n",
       "<table border=\"1\" class=\"dataframe\">\n",
       "  <thead>\n",
       "    <tr style=\"text-align: right;\">\n",
       "      <th></th>\n",
       "      <th>customerID</th>\n",
       "      <th>MultipleLines</th>\n",
       "    </tr>\n",
       "  </thead>\n",
       "  <tbody>\n",
       "    <tr>\n",
       "      <td>0</td>\n",
       "      <td>5575-GNVDE</td>\n",
       "      <td>No</td>\n",
       "    </tr>\n",
       "    <tr>\n",
       "      <td>1</td>\n",
       "      <td>3668-QPYBK</td>\n",
       "      <td>No</td>\n",
       "    </tr>\n",
       "    <tr>\n",
       "      <td>2</td>\n",
       "      <td>9237-HQITU</td>\n",
       "      <td>No</td>\n",
       "    </tr>\n",
       "    <tr>\n",
       "      <td>3</td>\n",
       "      <td>9305-CDSKC</td>\n",
       "      <td>Yes</td>\n",
       "    </tr>\n",
       "    <tr>\n",
       "      <td>4</td>\n",
       "      <td>1452-KIOVK</td>\n",
       "      <td>Yes</td>\n",
       "    </tr>\n",
       "  </tbody>\n",
       "</table>\n",
       "</div>"
      ],
      "text/plain": [
       "   customerID MultipleLines\n",
       "0  5575-GNVDE            No\n",
       "1  3668-QPYBK            No\n",
       "2  9237-HQITU            No\n",
       "3  9305-CDSKC           Yes\n",
       "4  1452-KIOVK           Yes"
      ]
     },
     "execution_count": 10,
     "metadata": {},
     "output_type": "execute_result"
    }
   ],
   "source": [
    "phone = pd.read_csv('/datasets/final_provider/phone.csv')\n",
    "phone.head(5)"
   ]
  },
  {
   "cell_type": "markdown",
   "metadata": {},
   "source": [
    "The dataset contains 6361 records and just 2 features:\n",
    "\n",
    "1. customerID - client id;\n",
    "2. MultipleLines - whether the service for connecting a telephone device to multiple lines at the same time is activated.  \n",
    "\n",
    "There are no missing values in the dataset. All columns are of the object type.\n",
    "Given that the number of records is less than in the 'contract' dataset, it can be inferred that not all clients have a phone line connected."
   ]
  },
  {
   "cell_type": "markdown",
   "metadata": {},
   "source": [
    "## Checking datasets for missing values and duplicates"
   ]
  },
  {
   "cell_type": "markdown",
   "metadata": {},
   "source": [
    "Let's write a function to count missing values and check for duplicates."
   ]
  },
  {
   "cell_type": "code",
   "execution_count": 11,
   "metadata": {},
   "outputs": [],
   "source": [
    "def miss_inf(data, name):\n",
    "    shape_data = data.shape\n",
    "    miss_data = (data.isnull().sum()/data.shape[0]*100).sort_values(ascending = False).head(10)\n",
    "    print()\n",
    "    print(name)\n",
    "    print()\n",
    "    print('Number of rows and columns in ' + name + ':', shape_data)\n",
    "    print()\n",
    "    print('Proportion of missing values in columns (top-10):')\n",
    "    print(miss_data)\n",
    "    print()\n",
    "    print('Number of duplicates in ' + name + ':', data.duplicated().sum())"
   ]
  },
  {
   "cell_type": "code",
   "execution_count": 12,
   "metadata": {
    "scrolled": true
   },
   "outputs": [
    {
     "name": "stdout",
     "output_type": "stream",
     "text": [
      "\n",
      "contract\n",
      "\n",
      "Количество строк, столбцов в contract: (7043, 8)\n",
      "\n",
      "Доля пропущенных значений в столбцах (топ-10):\n",
      "TotalCharges        0.0\n",
      "MonthlyCharges      0.0\n",
      "PaymentMethod       0.0\n",
      "PaperlessBilling    0.0\n",
      "Type                0.0\n",
      "EndDate             0.0\n",
      "BeginDate           0.0\n",
      "customerID          0.0\n",
      "dtype: float64\n",
      "\n",
      "Количество дубликатов в contract: 0\n",
      "None\n",
      "\n",
      "personal\n",
      "\n",
      "Количество строк, столбцов в personal: (7043, 5)\n",
      "\n",
      "Доля пропущенных значений в столбцах (топ-10):\n",
      "Dependents       0.0\n",
      "Partner          0.0\n",
      "SeniorCitizen    0.0\n",
      "gender           0.0\n",
      "customerID       0.0\n",
      "dtype: float64\n",
      "\n",
      "Количество дубликатов в personal: 0\n",
      "None\n",
      "\n",
      "internet\n",
      "\n",
      "Количество строк, столбцов в internet: (5517, 8)\n",
      "\n",
      "Доля пропущенных значений в столбцах (топ-10):\n",
      "StreamingMovies     0.0\n",
      "StreamingTV         0.0\n",
      "TechSupport         0.0\n",
      "DeviceProtection    0.0\n",
      "OnlineBackup        0.0\n",
      "OnlineSecurity      0.0\n",
      "InternetService     0.0\n",
      "customerID          0.0\n",
      "dtype: float64\n",
      "\n",
      "Количество дубликатов в internet: 0\n",
      "None\n",
      "\n",
      "phone\n",
      "\n",
      "Количество строк, столбцов в phone: (6361, 2)\n",
      "\n",
      "Доля пропущенных значений в столбцах (топ-10):\n",
      "MultipleLines    0.0\n",
      "customerID       0.0\n",
      "dtype: float64\n",
      "\n",
      "Количество дубликатов в phone: 0\n",
      "None\n"
     ]
    }
   ],
   "source": [
    "print(miss_inf(contract, 'contract'))\n",
    "print(miss_inf(personal, 'personal'))\n",
    "print(miss_inf(internet, 'internet'))\n",
    "print(miss_inf(phone, 'phone'))"
   ]
  },
  {
   "cell_type": "markdown",
   "metadata": {},
   "source": [
    "There are no missing values or duplicates."
   ]
  },
  {
   "cell_type": "markdown",
   "metadata": {},
   "source": [
    "### Converting string data to lowercase."
   ]
  },
  {
   "cell_type": "markdown",
   "metadata": {},
   "source": [
    "Let's create a function"
   ]
  },
  {
   "cell_type": "code",
   "execution_count": 13,
   "metadata": {},
   "outputs": [],
   "source": [
    "def lower_casing(dataframe):\n",
    "    dataframe.columns = dataframe.columns.str.lower()# converting column names to lowercase\n",
    "    for i in range (len(dataframe.columns)):\n",
    "        if dataframe.columns[i] != 'customerid':# don't change the data in the 'customerid' column.\n",
    "            try:\n",
    "                dataframe[dataframe.columns[i]] = dataframe[dataframe.columns[i]].str.lower()\n",
    "            except:\n",
    "                dataframe[dataframe.columns[i]] = dataframe[dataframe.columns[i]]\n",
    "    return dataframe"
   ]
  },
  {
   "cell_type": "markdown",
   "metadata": {},
   "source": [
    "Приведем строковые данные исходных таблиц к нижнему регистру"
   ]
  },
  {
   "cell_type": "code",
   "execution_count": 14,
   "metadata": {},
   "outputs": [],
   "source": [
    "contract = lower_casing(contract)\n",
    "personal = lower_casing(personal)\n",
    "internet = lower_casing(internet)\n",
    "phone = lower_casing(phone)"
   ]
  },
  {
   "cell_type": "markdown",
   "metadata": {},
   "source": [
    "***\n",
    "### Conclusion"
   ]
  },
  {
   "cell_type": "markdown",
   "metadata": {},
   "source": [
    "We have access to 4 datasets with information on contracts, customers, internet and telephony services connected to each contract.\n",
    "Each dataset contains a 'customerID' column, which allows us to merge them. There are no missing values or duplicates in the datasets.\n",
    "The first data dates back to 01.10.2013, and the most recent is from 01.02.2020"
   ]
  },
  {
   "cell_type": "markdown",
   "metadata": {},
   "source": [
    "***\n",
    "# 2. Исследовательский анализ данных <a class='anchor' id='01'></a>"
   ]
  },
  {
   "cell_type": "markdown",
   "metadata": {},
   "source": [
    "Основной целью исследовательского анализа является изучение разницы в поведении активных клиентов компании и ушедших.  \n",
    "Для этого выделим отдельный столбец 'Status' со статусом клиентов."
   ]
  },
  {
   "cell_type": "markdown",
   "metadata": {},
   "source": [
    "***\n",
    "## Анализ поведения активных клиентов компании и ушедших <a class='anchor' id='02'></a>"
   ]
  },
  {
   "cell_type": "code",
   "execution_count": 15,
   "metadata": {},
   "outputs": [
    {
     "data": {
      "text/html": [
       "<div>\n",
       "<style scoped>\n",
       "    .dataframe tbody tr th:only-of-type {\n",
       "        vertical-align: middle;\n",
       "    }\n",
       "\n",
       "    .dataframe tbody tr th {\n",
       "        vertical-align: top;\n",
       "    }\n",
       "\n",
       "    .dataframe thead th {\n",
       "        text-align: right;\n",
       "    }\n",
       "</style>\n",
       "<table border=\"1\" class=\"dataframe\">\n",
       "  <thead>\n",
       "    <tr style=\"text-align: right;\">\n",
       "      <th></th>\n",
       "      <th>customerid</th>\n",
       "      <th>begindate</th>\n",
       "      <th>enddate</th>\n",
       "      <th>type</th>\n",
       "      <th>paperlessbilling</th>\n",
       "      <th>paymentmethod</th>\n",
       "      <th>monthlycharges</th>\n",
       "      <th>totalcharges</th>\n",
       "      <th>status</th>\n",
       "    </tr>\n",
       "  </thead>\n",
       "  <tbody>\n",
       "    <tr>\n",
       "      <td>0</td>\n",
       "      <td>7590-VHVEG</td>\n",
       "      <td>2020-01-01</td>\n",
       "      <td>no</td>\n",
       "      <td>month-to-month</td>\n",
       "      <td>yes</td>\n",
       "      <td>electronic check</td>\n",
       "      <td>29.85</td>\n",
       "      <td>29.85</td>\n",
       "      <td>active_client</td>\n",
       "    </tr>\n",
       "    <tr>\n",
       "      <td>1</td>\n",
       "      <td>5575-GNVDE</td>\n",
       "      <td>2017-04-01</td>\n",
       "      <td>no</td>\n",
       "      <td>one year</td>\n",
       "      <td>no</td>\n",
       "      <td>mailed check</td>\n",
       "      <td>56.95</td>\n",
       "      <td>1889.50</td>\n",
       "      <td>active_client</td>\n",
       "    </tr>\n",
       "    <tr>\n",
       "      <td>2</td>\n",
       "      <td>3668-QPYBK</td>\n",
       "      <td>2019-10-01</td>\n",
       "      <td>2019-12-01 00:00:00</td>\n",
       "      <td>month-to-month</td>\n",
       "      <td>yes</td>\n",
       "      <td>mailed check</td>\n",
       "      <td>53.85</td>\n",
       "      <td>108.15</td>\n",
       "      <td>gone_client</td>\n",
       "    </tr>\n",
       "    <tr>\n",
       "      <td>3</td>\n",
       "      <td>7795-CFOCW</td>\n",
       "      <td>2016-05-01</td>\n",
       "      <td>no</td>\n",
       "      <td>one year</td>\n",
       "      <td>no</td>\n",
       "      <td>bank transfer (automatic)</td>\n",
       "      <td>42.30</td>\n",
       "      <td>1840.75</td>\n",
       "      <td>active_client</td>\n",
       "    </tr>\n",
       "    <tr>\n",
       "      <td>4</td>\n",
       "      <td>9237-HQITU</td>\n",
       "      <td>2019-09-01</td>\n",
       "      <td>2019-11-01 00:00:00</td>\n",
       "      <td>month-to-month</td>\n",
       "      <td>yes</td>\n",
       "      <td>electronic check</td>\n",
       "      <td>70.70</td>\n",
       "      <td>151.65</td>\n",
       "      <td>gone_client</td>\n",
       "    </tr>\n",
       "  </tbody>\n",
       "</table>\n",
       "</div>"
      ],
      "text/plain": [
       "   customerid  begindate              enddate            type  \\\n",
       "0  7590-VHVEG 2020-01-01                   no  month-to-month   \n",
       "1  5575-GNVDE 2017-04-01                   no        one year   \n",
       "2  3668-QPYBK 2019-10-01  2019-12-01 00:00:00  month-to-month   \n",
       "3  7795-CFOCW 2016-05-01                   no        one year   \n",
       "4  9237-HQITU 2019-09-01  2019-11-01 00:00:00  month-to-month   \n",
       "\n",
       "  paperlessbilling              paymentmethod  monthlycharges  totalcharges  \\\n",
       "0              yes           electronic check           29.85         29.85   \n",
       "1               no               mailed check           56.95       1889.50   \n",
       "2              yes               mailed check           53.85        108.15   \n",
       "3               no  bank transfer (automatic)           42.30       1840.75   \n",
       "4              yes           electronic check           70.70        151.65   \n",
       "\n",
       "          status  \n",
       "0  active_client  \n",
       "1  active_client  \n",
       "2    gone_client  \n",
       "3  active_client  \n",
       "4    gone_client  "
      ]
     },
     "execution_count": 15,
     "metadata": {},
     "output_type": "execute_result"
    }
   ],
   "source": [
    "contract['status'] = contract['enddate'].apply(lambda x: 'active_client' if x =='no' else 'gone_client')\n",
    "# contract.loc[contract['enddate'] == 'no', 'status'] = 'active_client'\n",
    "# contract.loc[contract['enddate'] != 'no', 'status'] = 'gone_client'\n",
    "contract.head(5)"
   ]
  },
  {
   "cell_type": "markdown",
   "metadata": {},
   "source": [
    "Построим график распределения величин ежемесячных платежей всех действующих клиентов и тех, кто ушёл."
   ]
  },
  {
   "cell_type": "code",
   "execution_count": 16,
   "metadata": {},
   "outputs": [
    {
     "data": {
      "image/png": "[encoded data removed]",
      "text/plain": [
       "<Figure size 1152x360 with 1 Axes>"
      ]
     },
     "metadata": {},
     "output_type": "display_data"
    }
   ],
   "source": [
    "sns.set_style('whitegrid')\n",
    "plt.figure(figsize=(16, 5))\n",
    "sns.distplot(contract['monthlycharges'][contract['status']=='active_client'], kde=False, bins=30, label='Действующие клиенты')\n",
    "sns.distplot(contract['monthlycharges'][contract['status']=='gone_client'], kde=False, bins=30, label='Ушедшие клиенты')\n",
    "plt.title(\"Распределение величин ежемесячных платежей\")\n",
    "plt.xlabel('Величина ежемесячного платежа, $')\n",
    "plt.ylabel('Количество платежей')\n",
    "plt.legend()\n",
    "plt.show()"
   ]
  },
  {
   "cell_type": "markdown",
   "metadata": {},
   "source": [
    "Из получившегося графика можно сделать вывод, что клиенты с небольшой величиной месячного платежа верны компании и не уходят от нее.  \n",
    "Проверим это предположение, сравнив статистики этих двух групп клиентов."
   ]
  },
  {
   "cell_type": "code",
   "execution_count": 17,
   "metadata": {},
   "outputs": [
    {
     "data": {
      "image/png": "[encoded data removed]",
      "text/plain": [
       "<Figure size 1152x288 with 1 Axes>"
      ]
     },
     "metadata": {},
     "output_type": "display_data"
    },
    {
     "data": {
      "text/html": [
       "<div>\n",
       "<style scoped>\n",
       "    .dataframe tbody tr th:only-of-type {\n",
       "        vertical-align: middle;\n",
       "    }\n",
       "\n",
       "    .dataframe tbody tr th {\n",
       "        vertical-align: top;\n",
       "    }\n",
       "\n",
       "    .dataframe thead th {\n",
       "        text-align: right;\n",
       "    }\n",
       "</style>\n",
       "<table border=\"1\" class=\"dataframe\">\n",
       "  <thead>\n",
       "    <tr style=\"text-align: right;\">\n",
       "      <th>status</th>\n",
       "      <th>active_client</th>\n",
       "      <th>gone_client</th>\n",
       "    </tr>\n",
       "  </thead>\n",
       "  <tbody>\n",
       "    <tr>\n",
       "      <td>count</td>\n",
       "      <td>5174.000000</td>\n",
       "      <td>1869.000000</td>\n",
       "    </tr>\n",
       "    <tr>\n",
       "      <td>mean</td>\n",
       "      <td>61.265124</td>\n",
       "      <td>74.441332</td>\n",
       "    </tr>\n",
       "    <tr>\n",
       "      <td>std</td>\n",
       "      <td>31.092648</td>\n",
       "      <td>24.666053</td>\n",
       "    </tr>\n",
       "    <tr>\n",
       "      <td>min</td>\n",
       "      <td>18.250000</td>\n",
       "      <td>18.850000</td>\n",
       "    </tr>\n",
       "    <tr>\n",
       "      <td>25%</td>\n",
       "      <td>25.100000</td>\n",
       "      <td>56.150000</td>\n",
       "    </tr>\n",
       "    <tr>\n",
       "      <td>50%</td>\n",
       "      <td>64.425000</td>\n",
       "      <td>79.650000</td>\n",
       "    </tr>\n",
       "    <tr>\n",
       "      <td>75%</td>\n",
       "      <td>88.400000</td>\n",
       "      <td>94.200000</td>\n",
       "    </tr>\n",
       "    <tr>\n",
       "      <td>max</td>\n",
       "      <td>118.750000</td>\n",
       "      <td>118.350000</td>\n",
       "    </tr>\n",
       "  </tbody>\n",
       "</table>\n",
       "</div>"
      ],
      "text/plain": [
       "status  active_client  gone_client\n",
       "count     5174.000000  1869.000000\n",
       "mean        61.265124    74.441332\n",
       "std         31.092648    24.666053\n",
       "min         18.250000    18.850000\n",
       "25%         25.100000    56.150000\n",
       "50%         64.425000    79.650000\n",
       "75%         88.400000    94.200000\n",
       "max        118.750000   118.350000"
      ]
     },
     "execution_count": 17,
     "metadata": {},
     "output_type": "execute_result"
    }
   ],
   "source": [
    "sns.set_style('whitegrid')\n",
    "plt.figure(figsize=(16, 4))\n",
    "sns.boxplot(x=\"monthlycharges\", y=\"status\", data=contract, palette='rainbow', orient='h')\n",
    "plt.title(\"Распределение величин ежемесячных платежей клиентов\")\n",
    "plt.xlabel('Величина ежемесячного платежа, $')\n",
    "plt.ylabel('Тип клиента')\n",
    "plt.show()\n",
    "\n",
    "# вывод числовых характеристи ежемесячных выплат по действующим и недействующим пользователям\n",
    "contract.groupby('status')['monthlycharges'].describe().transpose()"
   ]
  },
  {
   "cell_type": "markdown",
   "metadata": {},
   "source": [
    "Диаграмма размаха также показывает, что у действующих клиентов медианные значения, 25% и 75% квартили ниже, чем у ушедших."
   ]
  },
  {
   "cell_type": "markdown",
   "metadata": {},
   "source": [
    "Объединим все датасеты в один для того, чтобы понять, какими услугами пользовались клиенты и добавим новые признаки:\n",
    "* Internet_client - показывает пользовался ли клиент услугами интернета;\n",
    "* Phone_client - показывает пользовался ли клиент услугами телефонной связи;\n",
    "* Tariff - показывает комбинацию тарифов клиента."
   ]
  },
  {
   "cell_type": "code",
   "execution_count": 18,
   "metadata": {},
   "outputs": [
    {
     "data": {
      "text/html": [
       "<div>\n",
       "<style scoped>\n",
       "    .dataframe tbody tr th:only-of-type {\n",
       "        vertical-align: middle;\n",
       "    }\n",
       "\n",
       "    .dataframe tbody tr th {\n",
       "        vertical-align: top;\n",
       "    }\n",
       "\n",
       "    .dataframe thead th {\n",
       "        text-align: right;\n",
       "    }\n",
       "</style>\n",
       "<table border=\"1\" class=\"dataframe\">\n",
       "  <thead>\n",
       "    <tr style=\"text-align: right;\">\n",
       "      <th></th>\n",
       "      <th>customerid</th>\n",
       "      <th>begindate</th>\n",
       "      <th>enddate</th>\n",
       "      <th>type</th>\n",
       "      <th>paperlessbilling</th>\n",
       "      <th>paymentmethod</th>\n",
       "      <th>monthlycharges</th>\n",
       "      <th>totalcharges</th>\n",
       "      <th>status</th>\n",
       "      <th>gender</th>\n",
       "      <th>...</th>\n",
       "      <th>onlinesecurity</th>\n",
       "      <th>onlinebackup</th>\n",
       "      <th>deviceprotection</th>\n",
       "      <th>techsupport</th>\n",
       "      <th>streamingtv</th>\n",
       "      <th>streamingmovies</th>\n",
       "      <th>multiplelines</th>\n",
       "      <th>internet_client</th>\n",
       "      <th>phone_client</th>\n",
       "      <th>tariff</th>\n",
       "    </tr>\n",
       "  </thead>\n",
       "  <tbody>\n",
       "    <tr>\n",
       "      <td>0</td>\n",
       "      <td>7590-VHVEG</td>\n",
       "      <td>2020-01-01</td>\n",
       "      <td>no</td>\n",
       "      <td>month-to-month</td>\n",
       "      <td>yes</td>\n",
       "      <td>electronic check</td>\n",
       "      <td>29.85</td>\n",
       "      <td>29.85</td>\n",
       "      <td>active_client</td>\n",
       "      <td>female</td>\n",
       "      <td>...</td>\n",
       "      <td>no</td>\n",
       "      <td>yes</td>\n",
       "      <td>no</td>\n",
       "      <td>no</td>\n",
       "      <td>no</td>\n",
       "      <td>no</td>\n",
       "      <td>NaN</td>\n",
       "      <td>yes</td>\n",
       "      <td>no</td>\n",
       "      <td>internet</td>\n",
       "    </tr>\n",
       "    <tr>\n",
       "      <td>1</td>\n",
       "      <td>5575-GNVDE</td>\n",
       "      <td>2017-04-01</td>\n",
       "      <td>no</td>\n",
       "      <td>one year</td>\n",
       "      <td>no</td>\n",
       "      <td>mailed check</td>\n",
       "      <td>56.95</td>\n",
       "      <td>1889.50</td>\n",
       "      <td>active_client</td>\n",
       "      <td>male</td>\n",
       "      <td>...</td>\n",
       "      <td>yes</td>\n",
       "      <td>no</td>\n",
       "      <td>yes</td>\n",
       "      <td>no</td>\n",
       "      <td>no</td>\n",
       "      <td>no</td>\n",
       "      <td>no</td>\n",
       "      <td>yes</td>\n",
       "      <td>yes</td>\n",
       "      <td>internet + phone</td>\n",
       "    </tr>\n",
       "    <tr>\n",
       "      <td>2</td>\n",
       "      <td>3668-QPYBK</td>\n",
       "      <td>2019-10-01</td>\n",
       "      <td>2019-12-01 00:00:00</td>\n",
       "      <td>month-to-month</td>\n",
       "      <td>yes</td>\n",
       "      <td>mailed check</td>\n",
       "      <td>53.85</td>\n",
       "      <td>108.15</td>\n",
       "      <td>gone_client</td>\n",
       "      <td>male</td>\n",
       "      <td>...</td>\n",
       "      <td>yes</td>\n",
       "      <td>yes</td>\n",
       "      <td>no</td>\n",
       "      <td>no</td>\n",
       "      <td>no</td>\n",
       "      <td>no</td>\n",
       "      <td>no</td>\n",
       "      <td>yes</td>\n",
       "      <td>yes</td>\n",
       "      <td>internet + phone</td>\n",
       "    </tr>\n",
       "    <tr>\n",
       "      <td>3</td>\n",
       "      <td>7795-CFOCW</td>\n",
       "      <td>2016-05-01</td>\n",
       "      <td>no</td>\n",
       "      <td>one year</td>\n",
       "      <td>no</td>\n",
       "      <td>bank transfer (automatic)</td>\n",
       "      <td>42.30</td>\n",
       "      <td>1840.75</td>\n",
       "      <td>active_client</td>\n",
       "      <td>male</td>\n",
       "      <td>...</td>\n",
       "      <td>yes</td>\n",
       "      <td>no</td>\n",
       "      <td>yes</td>\n",
       "      <td>yes</td>\n",
       "      <td>no</td>\n",
       "      <td>no</td>\n",
       "      <td>NaN</td>\n",
       "      <td>yes</td>\n",
       "      <td>no</td>\n",
       "      <td>internet</td>\n",
       "    </tr>\n",
       "    <tr>\n",
       "      <td>4</td>\n",
       "      <td>9237-HQITU</td>\n",
       "      <td>2019-09-01</td>\n",
       "      <td>2019-11-01 00:00:00</td>\n",
       "      <td>month-to-month</td>\n",
       "      <td>yes</td>\n",
       "      <td>electronic check</td>\n",
       "      <td>70.70</td>\n",
       "      <td>151.65</td>\n",
       "      <td>gone_client</td>\n",
       "      <td>female</td>\n",
       "      <td>...</td>\n",
       "      <td>no</td>\n",
       "      <td>no</td>\n",
       "      <td>no</td>\n",
       "      <td>no</td>\n",
       "      <td>no</td>\n",
       "      <td>no</td>\n",
       "      <td>no</td>\n",
       "      <td>yes</td>\n",
       "      <td>yes</td>\n",
       "      <td>internet + phone</td>\n",
       "    </tr>\n",
       "  </tbody>\n",
       "</table>\n",
       "<p>5 rows × 24 columns</p>\n",
       "</div>"
      ],
      "text/plain": [
       "   customerid  begindate              enddate            type  \\\n",
       "0  7590-VHVEG 2020-01-01                   no  month-to-month   \n",
       "1  5575-GNVDE 2017-04-01                   no        one year   \n",
       "2  3668-QPYBK 2019-10-01  2019-12-01 00:00:00  month-to-month   \n",
       "3  7795-CFOCW 2016-05-01                   no        one year   \n",
       "4  9237-HQITU 2019-09-01  2019-11-01 00:00:00  month-to-month   \n",
       "\n",
       "  paperlessbilling              paymentmethod  monthlycharges  totalcharges  \\\n",
       "0              yes           electronic check           29.85         29.85   \n",
       "1               no               mailed check           56.95       1889.50   \n",
       "2              yes               mailed check           53.85        108.15   \n",
       "3               no  bank transfer (automatic)           42.30       1840.75   \n",
       "4              yes           electronic check           70.70        151.65   \n",
       "\n",
       "          status  gender  ...  onlinesecurity onlinebackup deviceprotection  \\\n",
       "0  active_client  female  ...              no          yes               no   \n",
       "1  active_client    male  ...             yes           no              yes   \n",
       "2    gone_client    male  ...             yes          yes               no   \n",
       "3  active_client    male  ...             yes           no              yes   \n",
       "4    gone_client  female  ...              no           no               no   \n",
       "\n",
       "  techsupport streamingtv streamingmovies multiplelines internet_client  \\\n",
       "0          no          no              no           NaN             yes   \n",
       "1          no          no              no            no             yes   \n",
       "2          no          no              no            no             yes   \n",
       "3         yes          no              no           NaN             yes   \n",
       "4          no          no              no            no             yes   \n",
       "\n",
       "  phone_client            tariff  \n",
       "0           no          internet  \n",
       "1          yes  internet + phone  \n",
       "2          yes  internet + phone  \n",
       "3           no          internet  \n",
       "4          yes  internet + phone  \n",
       "\n",
       "[5 rows x 24 columns]"
      ]
     },
     "execution_count": 18,
     "metadata": {},
     "output_type": "execute_result"
    }
   ],
   "source": [
    "#Соединим таблицы методом merge\n",
    "data = contract.merge(personal, on = 'customerid', how = 'left')\n",
    "data = data.merge(internet, on = 'customerid', how = 'left')\n",
    "data = data.merge(phone, on = 'customerid', how = 'left')\n",
    "\n",
    "#Создадим новые признаки\n",
    "data.loc[data['internetservice'].isna() == False, 'internet_client'] = 'yes'\n",
    "data.loc[data['internetservice'].isna() == True, 'internet_client'] = 'no'\n",
    "data.loc[data['multiplelines'].isna() == True, 'phone_client'] = 'no'\n",
    "data.loc[data['multiplelines'].isna() == False, 'phone_client'] = 'yes'\n",
    "data.loc[(data['internet_client']== 'yes') & (data['phone_client']== 'yes'), 'tariff'] = 'internet + phone'\n",
    "data.loc[(data['internet_client']== 'yes') & (data['phone_client']== 'no'), 'tariff'] = 'internet'\n",
    "data.loc[(data['internet_client']== 'no') & (data['phone_client']== 'yes'), 'tariff'] = 'phone'\n",
    "data.head(5)"
   ]
  },
  {
   "cell_type": "markdown",
   "metadata": {},
   "source": [
    "Сравним поведение действующих и ушедших клиентов. Для каждой группы построим два графика, изображающих долю пользователей телефонной связи и долю интернет-пользователей."
   ]
  },
  {
   "cell_type": "code",
   "execution_count": 19,
   "metadata": {},
   "outputs": [
    {
     "data": {
      "image/png": "[encoded data removed]",
      "text/plain": [
       "<Figure size 864x864 with 4 Axes>"
      ]
     },
     "metadata": {},
     "output_type": "display_data"
    }
   ],
   "source": [
    "# Подготовка данных\n",
    "df_active = data[data['status']=='active_client'].groupby('internet_client').size().reset_index(name='counts')\n",
    "df_gone = data[data['status']=='gone_client'].groupby('internet_client').size().reset_index(name='counts')\n",
    "df_active_phone = data[data['status']=='active_client'].groupby('phone_client').size().reset_index(name='counts')\n",
    "df_gone_phone = data[data['status']=='gone_client'].groupby('phone_client').size().reset_index(name='counts')\n",
    "\n",
    "# Создание графика\n",
    "fig, axes = plt.subplots(2, 2, figsize = (12, 12))\n",
    "\n",
    "labels = df_active['internet_client']\n",
    "sizes = df_active['counts']\n",
    "explode = (0, 0)  \n",
    "axes[0, 0].pie(sizes, explode=explode,  labels = labels, autopct='%1.1f%%', startangle=90, colors=plt.cm.Dark2.colors)\n",
    "axes[0, 0].set_title('Действующие клиенты. Наличие интернета')\n",
    "\n",
    "labels1 = df_gone['internet_client']\n",
    "sizes = df_gone['counts']\n",
    "axes[0, 1].pie(sizes, explode=explode,  labels = labels1, autopct='%1.1f%%', startangle=90, colors=plt.cm.Dark2.colors)\n",
    "axes[0, 1].set_title('Ушедшие клиенты. Наличие интернета')\n",
    "\n",
    "labels2 = df_active_phone['phone_client']\n",
    "sizes = df_active_phone['counts']\n",
    "explode = (0, 0)  \n",
    "axes[1, 0].pie(sizes, explode=explode,  labels = labels2, autopct='%1.1f%%', startangle=90, colors=plt.cm.Dark2.colors)\n",
    "axes[1, 0].set_title('Действующие клиенты. Наличие телефона')\n",
    "\n",
    "labels3 = df_gone_phone['phone_client']\n",
    "sizes = df_gone_phone['counts']\n",
    "axes[1, 1].pie(sizes, explode=explode,  labels = labels3, autopct='%1.1f%%', startangle=90, colors=plt.cm.Dark2.colors)\n",
    "axes[1, 1].set_title('Ушедшие клиенты. Наличие телефона')\n",
    "\n",
    "plt.show()"
   ]
  },
  {
   "cell_type": "markdown",
   "metadata": {},
   "source": [
    "Видим на графиках, что доля пользователей телефонной связи не изменяется в группе ушедших и действующих клиентов.  \n",
    "При этом доля пользователей интернета среди ушедших пользователей намного больше, чем среди действующих.  \n",
    "\n",
    "Из этого можно сделать вывод о том, что качество услуг телефонной связи устраивает клиентов, а основной причиной ухода является качество или цена интернет-услуг."
   ]
  },
  {
   "cell_type": "markdown",
   "metadata": {},
   "source": [
    "***\n",
    "### Вывод"
   ]
  },
  {
   "cell_type": "markdown",
   "metadata": {},
   "source": [
    "При сравнении активных клиентов компании и ушедших были сделаны следующие выводы:\n",
    "* Клиенты с небольшой величиной месячного платежа верны компании и не уходят от нее;\n",
    "* Диаграмма размаха показала, что у действующих клиентов медианные значения месячного платежа, 25% и 75% квартили ниже, чем у ушедших;\n",
    "* Доля пользователей телефонной связи не изменяется в группе ушедших и действующих клиентов;\n",
    "* Доля пользователей интернета среди ушедших пользователей намного больше, чем среди действующих.  \n",
    "\n",
    "Из этих замечаний можно сделать вывод о том, что качество услуг телефонной связи устраивает клиентов, а основной причиной ухода является качество или цена интернет-услуг."
   ]
  },
  {
   "cell_type": "markdown",
   "metadata": {},
   "source": [
    "***\n",
    "## Анализ динамики изменения количества новых клиентов <a class='anchor' id='02'></a>"
   ]
  },
  {
   "cell_type": "markdown",
   "metadata": {},
   "source": [
    "Посмотрим на динамику подключения новых клиентов"
   ]
  },
  {
   "cell_type": "code",
   "execution_count": 20,
   "metadata": {},
   "outputs": [
    {
     "data": {
      "image/png": "[encoded data removed]",
      "text/plain": [
       "<Figure size 1152x432 with 1 Axes>"
      ]
     },
     "metadata": {},
     "output_type": "display_data"
    }
   ],
   "source": [
    "data.groupby('begindate')['totalcharges'].count().plot(figsize = (16, 6))\n",
    "plt.title(\"Количество новых клиентов\")\n",
    "plt.xlabel('Начало сотрудничества')\n",
    "plt.ylabel('Количество')\n",
    "plt.show()"
   ]
  },
  {
   "cell_type": "markdown",
   "metadata": {},
   "source": [
    "Видим, что данные у нас есть в основном с января 2014 года по январь 2020 года, при этом продажи в января 2020 года очень сильно упали, даже складывается впечатление, что не у нас не полная база данных за этот период."
   ]
  },
  {
   "cell_type": "code",
   "execution_count": 21,
   "metadata": {},
   "outputs": [
    {
     "data": {
      "image/png": "[encoded data removed]",
      "text/plain": [
       "<Figure size 720x288 with 1 Axes>"
      ]
     },
     "metadata": {},
     "output_type": "display_data"
    }
   ],
   "source": [
    "sns.set_style('whitegrid')\n",
    "plt.figure(figsize=(10, 4))\n",
    "sns.countplot(x='enddate', data=data[data['enddate'] != 'no'], palette='rainbow')\n",
    "plt.title(\"Количество ушедших клиентов\")\n",
    "plt.xlabel('Месяц расторжения контракта')\n",
    "plt.ylabel('Количество')\n",
    "plt.show()"
   ]
  },
  {
   "cell_type": "markdown",
   "metadata": {},
   "source": [
    "Уходить клиенты начали только с октября 2019 года и продолжают уходить примерно в одинаковом количестве по текущий момент."
   ]
  },
  {
   "cell_type": "markdown",
   "metadata": {},
   "source": [
    "***\n",
    "## Анализ влияния типа контракта на общие расходы клиента <a class='anchor' id='03'></a>"
   ]
  },
  {
   "cell_type": "markdown",
   "metadata": {},
   "source": [
    "Проанализируем распределение типов контрактов на общие расходы клиента за время сотрудничества с компанией."
   ]
  },
  {
   "cell_type": "code",
   "execution_count": 22,
   "metadata": {},
   "outputs": [
    {
     "data": {
      "image/png": "[encoded data removed]",
      "text/plain": [
       "<Figure size 720x288 with 1 Axes>"
      ]
     },
     "metadata": {},
     "output_type": "display_data"
    }
   ],
   "source": [
    "sns.set_style('whitegrid')\n",
    "plt.figure(figsize=(10, 4))\n",
    "sns.countplot(x='type', data=contract, palette='rainbow')\n",
    "plt.title(\"Распределение типов контрактов\")\n",
    "plt.xlabel('Тип контракта')\n",
    "plt.ylabel('Количество')\n",
    "plt.show()"
   ]
  },
  {
   "cell_type": "code",
   "execution_count": 23,
   "metadata": {},
   "outputs": [
    {
     "data": {
      "image/png": "[encoded data removed]",
      "text/plain": [
       "<Figure size 1152x288 with 1 Axes>"
      ]
     },
     "metadata": {},
     "output_type": "display_data"
    }
   ],
   "source": [
    "sns.set_style('whitegrid')\n",
    "plt.figure(figsize=(16, 4))\n",
    "sns.violinplot(x=\"type\", y=\"totalcharges\", data=contract, palette='rainbow')\n",
    "plt.title(\"Распределение общих доходов\")\n",
    "plt.xlabel('Тип контракта')\n",
    "plt.ylabel('Суммарные доходы, $')\n",
    "plt.show()"
   ]
  },
  {
   "cell_type": "code",
   "execution_count": 24,
   "metadata": {},
   "outputs": [
    {
     "data": {
      "image/png": "[encoded data removed]",
      "text/plain": [
       "<Figure size 1152x360 with 1 Axes>"
      ]
     },
     "metadata": {},
     "output_type": "display_data"
    }
   ],
   "source": [
    "sns.set_style('whitegrid')\n",
    "plt.figure(figsize=(16, 5))\n",
    "sns.boxplot(x='monthlycharges', y='type', data=data, palette='rainbow', orient='h')\n",
    "plt.title(\"Разброс величины месячных платежей, $\")\n",
    "plt.xlabel('Величина месячного платежа')\n",
    "plt.ylabel('Тип контракта')\n",
    "plt.show()"
   ]
  },
  {
   "cell_type": "markdown",
   "metadata": {},
   "source": [
    "Из графика видно, что наибольшую суммарную прибыль приносят клиенты с долгосрочными контрактами - на один-два года.  \n",
    "При этом средние месячные платежи выше у краткосрочных контрактов.  \n",
    "\n",
    "Можно предположить, что клиенты с тарифом помесячной оплаты чаще уходят от компании. Проверим это."
   ]
  },
  {
   "cell_type": "code",
   "execution_count": 25,
   "metadata": {},
   "outputs": [],
   "source": [
    "def pivot(data, column):\n",
    "    tariff_piv = data.pivot_table(index=column, columns = 'status', values = 'customerid', aggfunc = 'count')\n",
    "    tariff_piv['ratio'] = tariff_piv['gone_client'] / (tariff_piv['gone_client'] + tariff_piv['active_client'])\n",
    "    return tariff_piv"
   ]
  },
  {
   "cell_type": "code",
   "execution_count": 26,
   "metadata": {},
   "outputs": [
    {
     "data": {
      "text/html": [
       "<div>\n",
       "<style scoped>\n",
       "    .dataframe tbody tr th:only-of-type {\n",
       "        vertical-align: middle;\n",
       "    }\n",
       "\n",
       "    .dataframe tbody tr th {\n",
       "        vertical-align: top;\n",
       "    }\n",
       "\n",
       "    .dataframe thead th {\n",
       "        text-align: right;\n",
       "    }\n",
       "</style>\n",
       "<table border=\"1\" class=\"dataframe\">\n",
       "  <thead>\n",
       "    <tr style=\"text-align: right;\">\n",
       "      <th>status</th>\n",
       "      <th>active_client</th>\n",
       "      <th>gone_client</th>\n",
       "      <th>ratio</th>\n",
       "    </tr>\n",
       "    <tr>\n",
       "      <th>type</th>\n",
       "      <th></th>\n",
       "      <th></th>\n",
       "      <th></th>\n",
       "    </tr>\n",
       "  </thead>\n",
       "  <tbody>\n",
       "    <tr>\n",
       "      <td>month-to-month</td>\n",
       "      <td>2220</td>\n",
       "      <td>1655</td>\n",
       "      <td>0.427097</td>\n",
       "    </tr>\n",
       "    <tr>\n",
       "      <td>one year</td>\n",
       "      <td>1307</td>\n",
       "      <td>166</td>\n",
       "      <td>0.112695</td>\n",
       "    </tr>\n",
       "    <tr>\n",
       "      <td>two year</td>\n",
       "      <td>1647</td>\n",
       "      <td>48</td>\n",
       "      <td>0.028319</td>\n",
       "    </tr>\n",
       "  </tbody>\n",
       "</table>\n",
       "</div>"
      ],
      "text/plain": [
       "status          active_client  gone_client     ratio\n",
       "type                                                \n",
       "month-to-month           2220         1655  0.427097\n",
       "one year                 1307          166  0.112695\n",
       "two year                 1647           48  0.028319"
      ]
     },
     "execution_count": 26,
     "metadata": {},
     "output_type": "execute_result"
    }
   ],
   "source": [
    "pivot(data, data['type'])"
   ]
  },
  {
   "cell_type": "markdown",
   "metadata": {},
   "source": [
    "Так и есть. Доля ушедших клиентов намного выше среди помесячных контрактов и достигает 42%."
   ]
  },
  {
   "cell_type": "markdown",
   "metadata": {},
   "source": [
    "***\n",
    "## Анализ влияния способов оплаты на месячный платеж <a class='anchor' id='04'></a>"
   ]
  },
  {
   "cell_type": "markdown",
   "metadata": {},
   "source": [
    "Рассмотрим распределение типов контрактов на общие расходы клиента за время сотрудничества с компанией."
   ]
  },
  {
   "cell_type": "code",
   "execution_count": 27,
   "metadata": {},
   "outputs": [
    {
     "data": {
      "image/png": "[encoded data removed]",
      "text/plain": [
       "<Figure size 720x288 with 1 Axes>"
      ]
     },
     "metadata": {},
     "output_type": "display_data"
    }
   ],
   "source": [
    "sns.set_style('whitegrid')\n",
    "plt.figure(figsize=(10, 4))\n",
    "sns.countplot(x='paymentmethod', data=contract, palette='rainbow')\n",
    "plt.title(\"Распределение разных вариантов оплаты\")\n",
    "plt.xlabel('Способ оплаты')\n",
    "plt.ylabel('Количество клиентов')\n",
    "plt.show()"
   ]
  },
  {
   "cell_type": "code",
   "execution_count": 28,
   "metadata": {},
   "outputs": [
    {
     "data": {
      "image/png": "[encoded data removed]",
      "text/plain": [
       "<Figure size 1152x360 with 1 Axes>"
      ]
     },
     "metadata": {},
     "output_type": "display_data"
    }
   ],
   "source": [
    "sns.set_style('whitegrid')\n",
    "plt.figure(figsize=(16, 5))\n",
    "sns.boxplot(x='monthlycharges', y='paymentmethod', data=data, palette='rainbow', orient='h')\n",
    "plt.title(\"Разброс величины месячных платежей, $\")\n",
    "plt.xlabel('Величина месячного платежа')\n",
    "plt.ylabel('Способ оплаты')\n",
    "plt.show()"
   ]
  },
  {
   "cell_type": "markdown",
   "metadata": {},
   "source": [
    "Наибольший месячная стоимость у электронного чека, который высылается на почту и клиент каждый раз его самостоятельно оплачивает.  \n",
    "Наименьшая стоимость у чеков, высылаемых по почте, скорее всего таким образом оплачиваются телефонные услуги некоторыми слоями населения.  \n",
    "Автоматические платежи чуть меньше по размеру, чем электронные чеки.  \n",
    "\n",
    "Проверим, насколько велика разница в количестве ушедших клиентов. "
   ]
  },
  {
   "cell_type": "code",
   "execution_count": 29,
   "metadata": {},
   "outputs": [
    {
     "data": {
      "text/html": [
       "<div>\n",
       "<style scoped>\n",
       "    .dataframe tbody tr th:only-of-type {\n",
       "        vertical-align: middle;\n",
       "    }\n",
       "\n",
       "    .dataframe tbody tr th {\n",
       "        vertical-align: top;\n",
       "    }\n",
       "\n",
       "    .dataframe thead th {\n",
       "        text-align: right;\n",
       "    }\n",
       "</style>\n",
       "<table border=\"1\" class=\"dataframe\">\n",
       "  <thead>\n",
       "    <tr style=\"text-align: right;\">\n",
       "      <th>status</th>\n",
       "      <th>active_client</th>\n",
       "      <th>gone_client</th>\n",
       "      <th>ratio</th>\n",
       "    </tr>\n",
       "    <tr>\n",
       "      <th>paymentmethod</th>\n",
       "      <th></th>\n",
       "      <th></th>\n",
       "      <th></th>\n",
       "    </tr>\n",
       "  </thead>\n",
       "  <tbody>\n",
       "    <tr>\n",
       "      <td>bank transfer (automatic)</td>\n",
       "      <td>1286</td>\n",
       "      <td>258</td>\n",
       "      <td>0.167098</td>\n",
       "    </tr>\n",
       "    <tr>\n",
       "      <td>credit card (automatic)</td>\n",
       "      <td>1290</td>\n",
       "      <td>232</td>\n",
       "      <td>0.152431</td>\n",
       "    </tr>\n",
       "    <tr>\n",
       "      <td>electronic check</td>\n",
       "      <td>1294</td>\n",
       "      <td>1071</td>\n",
       "      <td>0.452854</td>\n",
       "    </tr>\n",
       "    <tr>\n",
       "      <td>mailed check</td>\n",
       "      <td>1304</td>\n",
       "      <td>308</td>\n",
       "      <td>0.191067</td>\n",
       "    </tr>\n",
       "  </tbody>\n",
       "</table>\n",
       "</div>"
      ],
      "text/plain": [
       "status                     active_client  gone_client     ratio\n",
       "paymentmethod                                                  \n",
       "bank transfer (automatic)           1286          258  0.167098\n",
       "credit card (automatic)             1290          232  0.152431\n",
       "electronic check                    1294         1071  0.452854\n",
       "mailed check                        1304          308  0.191067"
      ]
     },
     "execution_count": 29,
     "metadata": {},
     "output_type": "execute_result"
    }
   ],
   "source": [
    "pivot(data, data['paymentmethod'])"
   ]
  },
  {
   "cell_type": "markdown",
   "metadata": {},
   "source": [
    "Видно, что количество ушедших клиентов намного больше у типа оплаты Electronic check, чем у остальных.  \n",
    "Возможно проблема в уходе кроется в неудобной системе оплаты или ошибках в форме оплаты."
   ]
  },
  {
   "cell_type": "markdown",
   "metadata": {},
   "source": [
    "***\n",
    "## Анализ влияния тарифа (интернет+телефон, только телефон, только интернет) на месячный платеж <a class='anchor' id='05'></a>"
   ]
  },
  {
   "cell_type": "markdown",
   "metadata": {},
   "source": [
    "Рассмотрим распределение велечины ежемесячной оплаты в зависимости от тарифа (интернет+телефон, только телефон, только интернет). "
   ]
  },
  {
   "cell_type": "code",
   "execution_count": 30,
   "metadata": {},
   "outputs": [
    {
     "data": {
      "image/png": "[encoded data removed]",
      "text/plain": [
       "<Figure size 720x288 with 1 Axes>"
      ]
     },
     "metadata": {},
     "output_type": "display_data"
    }
   ],
   "source": [
    "sns.set_style('whitegrid')\n",
    "plt.figure(figsize=(10, 4))\n",
    "sns.countplot(x='tariff', data=data, palette='rainbow')\n",
    "plt.title(\"Распределение разных тарифов\")\n",
    "plt.xlabel('Тип тарифа')\n",
    "plt.ylabel('Количество клиентов')\n",
    "plt.show()"
   ]
  },
  {
   "cell_type": "code",
   "execution_count": 31,
   "metadata": {},
   "outputs": [
    {
     "data": {
      "image/png": "[encoded data removed]",
      "text/plain": [
       "<Figure size 1152x360 with 1 Axes>"
      ]
     },
     "metadata": {},
     "output_type": "display_data"
    }
   ],
   "source": [
    "sns.set_style('whitegrid')\n",
    "plt.figure(figsize=(16, 5))\n",
    "sns.boxplot(x='monthlycharges', y='tariff', data=data, palette='rainbow', orient='h')\n",
    "plt.title(\"Разброс величины месячных платежей, $\")\n",
    "plt.xlabel('Величина месячного платежа')\n",
    "plt.ylabel('Тип тарифа')\n",
    "plt.show()"
   ]
  },
  {
   "cell_type": "markdown",
   "metadata": {},
   "source": [
    "Разброс величин ежемесячного платежа очень большой. Наибольший платеж у клиентов, которые пользуются и интернетом, и телефоном.  \n",
    "Так же видно, что таких клиентов больше всего.\n"
   ]
  },
  {
   "cell_type": "code",
   "execution_count": 32,
   "metadata": {},
   "outputs": [
    {
     "data": {
      "text/html": [
       "<div>\n",
       "<style scoped>\n",
       "    .dataframe tbody tr th:only-of-type {\n",
       "        vertical-align: middle;\n",
       "    }\n",
       "\n",
       "    .dataframe tbody tr th {\n",
       "        vertical-align: top;\n",
       "    }\n",
       "\n",
       "    .dataframe thead th {\n",
       "        text-align: right;\n",
       "    }\n",
       "</style>\n",
       "<table border=\"1\" class=\"dataframe\">\n",
       "  <thead>\n",
       "    <tr style=\"text-align: right;\">\n",
       "      <th>status</th>\n",
       "      <th>active_client</th>\n",
       "      <th>gone_client</th>\n",
       "      <th>ratio</th>\n",
       "    </tr>\n",
       "    <tr>\n",
       "      <th>phone_client</th>\n",
       "      <th></th>\n",
       "      <th></th>\n",
       "      <th></th>\n",
       "    </tr>\n",
       "  </thead>\n",
       "  <tbody>\n",
       "    <tr>\n",
       "      <td>no</td>\n",
       "      <td>512</td>\n",
       "      <td>170</td>\n",
       "      <td>0.249267</td>\n",
       "    </tr>\n",
       "    <tr>\n",
       "      <td>yes</td>\n",
       "      <td>4662</td>\n",
       "      <td>1699</td>\n",
       "      <td>0.267096</td>\n",
       "    </tr>\n",
       "  </tbody>\n",
       "</table>\n",
       "</div>"
      ],
      "text/plain": [
       "status        active_client  gone_client     ratio\n",
       "phone_client                                      \n",
       "no                      512          170  0.249267\n",
       "yes                    4662         1699  0.267096"
      ]
     },
     "execution_count": 32,
     "metadata": {},
     "output_type": "execute_result"
    }
   ],
   "source": [
    "pivot(data, data['phone_client'])"
   ]
  },
  {
   "cell_type": "code",
   "execution_count": 33,
   "metadata": {},
   "outputs": [
    {
     "data": {
      "text/html": [
       "<div>\n",
       "<style scoped>\n",
       "    .dataframe tbody tr th:only-of-type {\n",
       "        vertical-align: middle;\n",
       "    }\n",
       "\n",
       "    .dataframe tbody tr th {\n",
       "        vertical-align: top;\n",
       "    }\n",
       "\n",
       "    .dataframe thead th {\n",
       "        text-align: right;\n",
       "    }\n",
       "</style>\n",
       "<table border=\"1\" class=\"dataframe\">\n",
       "  <thead>\n",
       "    <tr style=\"text-align: right;\">\n",
       "      <th>status</th>\n",
       "      <th>active_client</th>\n",
       "      <th>gone_client</th>\n",
       "      <th>ratio</th>\n",
       "    </tr>\n",
       "    <tr>\n",
       "      <th>internet_client</th>\n",
       "      <th></th>\n",
       "      <th></th>\n",
       "      <th></th>\n",
       "    </tr>\n",
       "  </thead>\n",
       "  <tbody>\n",
       "    <tr>\n",
       "      <td>no</td>\n",
       "      <td>1413</td>\n",
       "      <td>113</td>\n",
       "      <td>0.074050</td>\n",
       "    </tr>\n",
       "    <tr>\n",
       "      <td>yes</td>\n",
       "      <td>3761</td>\n",
       "      <td>1756</td>\n",
       "      <td>0.318289</td>\n",
       "    </tr>\n",
       "  </tbody>\n",
       "</table>\n",
       "</div>"
      ],
      "text/plain": [
       "status           active_client  gone_client     ratio\n",
       "internet_client                                      \n",
       "no                        1413          113  0.074050\n",
       "yes                       3761         1756  0.318289"
      ]
     },
     "execution_count": 33,
     "metadata": {},
     "output_type": "execute_result"
    }
   ],
   "source": [
    "pivot(data, data['internet_client'])"
   ]
  },
  {
   "cell_type": "markdown",
   "metadata": {},
   "source": [
    "Видим, что данные также подтверждают наши более ранние замечания о том, что клиенты, пользующиеся только телефоном не прекращают сотрудничество, а основной причиной ухода является качество или цена интернет-услуг."
   ]
  },
  {
   "cell_type": "markdown",
   "metadata": {},
   "source": [
    "***\n",
    "## Исследовательский анализ. Вывод. <a class='anchor' id='06'></a>"
   ]
  },
  {
   "cell_type": "markdown",
   "metadata": {},
   "source": [
    "Предварительно можно делать следующие выводы о том, что доля ушедших пользователей намного выше:\n",
    "* У пользователей интернет-услуг, чем у пользователей услуг телефонной связи;\n",
    "* У пользователей с ежемесячной оплатой, чем с долгосроными контрактами;\n",
    "* У пользователей без автоматического ежемесячного списания оплаты."
   ]
  },
  {
   "cell_type": "markdown",
   "metadata": {},
   "source": [
    "Средний месячный чек выше у пользователей на тарифе Интернет+Телефон, с ежемесячным платежом и электронным чеком.  \n",
    "Однако общая прибыль выше у долгосрочных контрактов с автоматическим списанием оплаты.  \n",
    "\n",
    "С большой долей вероятности можно сказать, что интернет пользователи с помесячной ручной оплатой более привержены к уходу от сотрудничества с нашей компанией. На это могут виять, как новые конкруенты, так и проблемы с формой или алгоритмом оплаты на сайте.\n",
    "***\n",
    "*Однако все данные предположения необходимо проверять статистически в связи с тем, что у нас есть только частичная выборка.*"
   ]
  },
  {
   "cell_type": "markdown",
   "metadata": {},
   "source": [
    "***\n",
    "# 3. Создание предиктивной модели <a class='anchor' id='07'></a>"
   ]
  },
  {
   "cell_type": "markdown",
   "metadata": {},
   "source": [
    "В данном проекте нам необходимо решить задачу бинарной классификации.  \n",
    "Основной метрикой, которую мы будем оптимизировать будет являться ROC-AUC. Минимально удовлетворяющий результат этой метрики -0.75, в идеале получить результат близкий к 0.85 и выше.  \n",
    "Также, по требованию заказчика, необходимо выводить результат метрики Accuracy, но ее можно не оптимизировать.  \n",
    "\n",
    "План работ на данном этапе следующий:\n",
    "    * Подготовка данных для прогнозирования;\n",
    "    * Работа с признаками - перевод категориальных признаков в количественные, создание новых, удаление ненужных;\n",
    "    * Upsampling данных и разбивка данных на выборки;\n",
    "    * Предварительное обучение моделей;\n",
    "    * Анализ результатов и подбор параметров у лучших моделей;\n",
    "    * Выбор наилучшей модели, валидация результата на тестовой выборке."
   ]
  },
  {
   "cell_type": "markdown",
   "metadata": {},
   "source": [
    "## Подготовка данных для прогнозирования <a class='anchor' id='08'></a>"
   ]
  },
  {
   "cell_type": "markdown",
   "metadata": {},
   "source": [
    "Основной задачей при подготовке имеющихся данных на данном этапе будет заполнение пропусков, которые появились после объединения таблиц, преобразование даты из столбца enddate в формат datetime."
   ]
  },
  {
   "cell_type": "markdown",
   "metadata": {},
   "source": [
    "Для начала проверим, в каких столбцах появились пропуски."
   ]
  },
  {
   "cell_type": "code",
   "execution_count": 34,
   "metadata": {
    "scrolled": true
   },
   "outputs": [
    {
     "name": "stdout",
     "output_type": "stream",
     "text": [
      "<class 'pandas.core.frame.DataFrame'>\n",
      "Int64Index: 7043 entries, 0 to 7042\n",
      "Data columns (total 24 columns):\n",
      "customerid          7043 non-null object\n",
      "begindate           7043 non-null datetime64[ns]\n",
      "enddate             7043 non-null object\n",
      "type                7043 non-null object\n",
      "paperlessbilling    7043 non-null object\n",
      "paymentmethod       7043 non-null object\n",
      "monthlycharges      7043 non-null float64\n",
      "totalcharges        7043 non-null float64\n",
      "status              7043 non-null object\n",
      "gender              7043 non-null object\n",
      "seniorcitizen       7043 non-null int64\n",
      "partner             7043 non-null object\n",
      "dependents          7043 non-null object\n",
      "internetservice     5517 non-null object\n",
      "onlinesecurity      5517 non-null object\n",
      "onlinebackup        5517 non-null object\n",
      "deviceprotection    5517 non-null object\n",
      "techsupport         5517 non-null object\n",
      "streamingtv         5517 non-null object\n",
      "streamingmovies     5517 non-null object\n",
      "multiplelines       6361 non-null object\n",
      "internet_client     7043 non-null object\n",
      "phone_client        7043 non-null object\n",
      "tariff              7043 non-null object\n",
      "dtypes: datetime64[ns](1), float64(2), int64(1), object(20)\n",
      "memory usage: 1.7+ MB\n"
     ]
    }
   ],
   "source": [
    "data.info()"
   ]
  },
  {
   "cell_type": "markdown",
   "metadata": {},
   "source": [
    "Как и ожидалось, они появились в столбцах, связанных с наличием подключения раличных интернет и телефонных услуг в связи с тем, что не у всех клиентов подключен интернет или телефон.  \n",
    "Заменим эти пропуски текстовыми значениями - 'no_internet' и 'no_phone'."
   ]
  },
  {
   "cell_type": "code",
   "execution_count": 35,
   "metadata": {},
   "outputs": [],
   "source": [
    "data['multiplelines'] = data['multiplelines'].fillna('no_pnone')\n",
    "data = data.fillna('no_internet')"
   ]
  },
  {
   "cell_type": "markdown",
   "metadata": {},
   "source": [
    "Создадим новый столбец 'enddate_true', в которй перенесем имеющиеся даты из столбца enddate, а у действующих клиентов заменим значения no на дату выгрузки батасета - '2020-02-01'."
   ]
  },
  {
   "cell_type": "code",
   "execution_count": 36,
   "metadata": {},
   "outputs": [],
   "source": [
    "data['enddate_true'] = data['enddate'].apply(lambda x: '2020-02-01' if x =='no' else x)"
   ]
  },
  {
   "cell_type": "markdown",
   "metadata": {},
   "source": [
    "Проверим корректность замены"
   ]
  },
  {
   "cell_type": "code",
   "execution_count": 37,
   "metadata": {},
   "outputs": [
    {
     "data": {
      "text/plain": [
       "2020-02-01             5174\n",
       "2019-11-01 00:00:00     485\n",
       "2019-12-01 00:00:00     466\n",
       "2020-01-01 00:00:00     460\n",
       "2019-10-01 00:00:00     458\n",
       "Name: enddate_true, dtype: int64"
      ]
     },
     "execution_count": 37,
     "metadata": {},
     "output_type": "execute_result"
    }
   ],
   "source": [
    "data['enddate_true'].value_counts()"
   ]
  },
  {
   "cell_type": "markdown",
   "metadata": {},
   "source": [
    "Переведем данные столбца в формат datetime."
   ]
  },
  {
   "cell_type": "code",
   "execution_count": 38,
   "metadata": {},
   "outputs": [],
   "source": [
    "data['enddate_true'] = pd.to_datetime(data['enddate_true'])"
   ]
  },
  {
   "cell_type": "markdown",
   "metadata": {},
   "source": [
    "***\n",
    "## Работа с признаками <a class='anchor' id='09'></a>"
   ]
  },
  {
   "cell_type": "markdown",
   "metadata": {},
   "source": [
    "Для обучения модели проведем работу по подготовке признаков:\n",
    "* Создадим целевой признак;\n",
    "* Добавим новые обучающие признаки;\n",
    "* Удалим ненужные обучающие признаки;\n",
    "* Проведем прямое кодирование и масштабирование признаков."
   ]
  },
  {
   "cell_type": "markdown",
   "metadata": {},
   "source": [
    "### Создание целевого признака"
   ]
  },
  {
   "cell_type": "markdown",
   "metadata": {},
   "source": [
    "Создадим целевой признак - если у признака enddate значение 'no', то ставим 0, т.е. клиент остался, иначе 1, т.е. клиент ушел."
   ]
  },
  {
   "cell_type": "code",
   "execution_count": 39,
   "metadata": {},
   "outputs": [],
   "source": [
    "data['target'] = data['enddate'].apply(lambda x: 0 if x =='no' else 1)"
   ]
  },
  {
   "cell_type": "markdown",
   "metadata": {},
   "source": [
    "### Добавление новых обучающих признаков"
   ]
  },
  {
   "cell_type": "markdown",
   "metadata": {},
   "source": [
    "Добавим обучающий признак - Время жизни абонента (clv). Для этого вычтем из значений столбца enddate_true столбец begindate."
   ]
  },
  {
   "cell_type": "code",
   "execution_count": 40,
   "metadata": {},
   "outputs": [],
   "source": [
    "data['clv'] = (data['enddate_true'] - data['begindate']).dt.days"
   ]
  },
  {
   "cell_type": "markdown",
   "metadata": {},
   "source": [
    "Проверим рспределение значений, чтобы понять, есть ли утечка целевого признака"
   ]
  },
  {
   "cell_type": "code",
   "execution_count": 41,
   "metadata": {},
   "outputs": [
    {
     "data": {
      "image/png": "[encoded data removed]",
      "text/plain": [
       "<Figure size 1152x360 with 1 Axes>"
      ]
     },
     "metadata": {},
     "output_type": "display_data"
    },
    {
     "data": {
      "text/plain": [
       "31      431\n",
       "2191    362\n",
       "30      182\n",
       "92      169\n",
       "2163    164\n",
       "       ... \n",
       "1552      2\n",
       "2068      2\n",
       "1369      2\n",
       "1917      1\n",
       "2161      1\n",
       "Name: clv, Length: 156, dtype: int64"
      ]
     },
     "execution_count": 41,
     "metadata": {},
     "output_type": "execute_result"
    }
   ],
   "source": [
    "sns.set_style('whitegrid')\n",
    "plt.figure(figsize=(16, 5))\n",
    "sns.distplot(data['clv'], bins=50)\n",
    "plt.title(\"Распределение времени 'жизни' абонента, дни\")\n",
    "plt.xlabel('Количество дней')\n",
    "plt.ylabel('Количество клиентов')\n",
    "plt.show() \n",
    "\n",
    "data['clv'].value_counts()"
   ]
  },
  {
   "cell_type": "markdown",
   "metadata": {},
   "source": [
    "Распределение не является нормальным, но и не повторяет количество оставшихся клиентов. Будем считать, что этот признак не является утечкой целевого признака."
   ]
  },
  {
   "cell_type": "markdown",
   "metadata": {},
   "source": [
    "### Удаление ненужных обучающих признаков"
   ]
  },
  {
   "cell_type": "markdown",
   "metadata": {},
   "source": [
    "**Проверим, какие признаки важны для обучения моделей.**  \n",
    "Для этого разобъем датасет на выборки и удалим точно лишние признаки - customerid, столбцы с датами и созданные для анализа столбцы.  \n",
    "После этого с помощью метода feature_importances_ посмотрим какие признаки наиболее важны для моделей. В качестве модели возьмем Случайный лес."
   ]
  },
  {
   "cell_type": "code",
   "execution_count": 42,
   "metadata": {},
   "outputs": [],
   "source": [
    "features_ = data.drop(['customerid', 'begindate', 'enddate', 'status', 'internet_client', \n",
    "                       'phone_client', 'tariff', 'enddate_true', 'target'], axis=1)\n",
    "target_ = data['target']\n",
    "features_ = pd.get_dummies(features_, drop_first=True)\n",
    "\n",
    "X_train, X_valid, y_train, y_valid = train_test_split(\n",
    "    features_, target_, test_size=0.4, random_state=12345\n",
    ")"
   ]
  },
  {
   "cell_type": "code",
   "execution_count": 87,
   "metadata": {},
   "outputs": [
    {
     "data": {
      "image/png": "[encoded data removed]",
      "text/plain": [
       "<Figure size 864x432 with 1 Axes>"
      ]
     },
     "metadata": {},
     "output_type": "display_data"
    }
   ],
   "source": [
    "#обучим базовую модель и посчитаем feature_importance\n",
    "rfc1 = RandomForestClassifier(random_state=42)\n",
    "rfc1.fit(X_train, y_train)\n",
    "feature_importance = rfc1.feature_importances_\n",
    "\n",
    "# построим график\n",
    "sorted_idx = np.argsort(feature_importance)\n",
    "pos = np.arange(sorted_idx.shape[0]) + .5\n",
    "fig = plt.figure(figsize=(12, 6))\n",
    "\n",
    "plt.barh(pos, feature_importance[sorted_idx], align='center')\n",
    "plt.yticks(pos, np.array(features_.columns)[sorted_idx])\n",
    "plt.title('Feature Importance (MDI)')\n",
    "\n",
    "plt.show()"
   ]
  },
  {
   "cell_type": "markdown",
   "metadata": {},
   "source": [
    "Три наиболее важных признака clv, totalcharges и monthlycharges.  \n",
    "\n",
    "Признак totalcharges находится в середине списка признаков по важности, в первый раз удалил его, предположив, что он может сильно коррелировать с monthlycharges. Проверим, так ли это на самом деле."
   ]
  },
  {
   "cell_type": "code",
   "execution_count": 44,
   "metadata": {},
   "outputs": [
    {
     "name": "stdout",
     "output_type": "stream",
     "text": [
      "Корреляция между monthlycharges и totalcharges = 0.65\n"
     ]
    }
   ],
   "source": [
    "corr = data['monthlycharges'].corr(data['totalcharges'])\n",
    "print('Корреляция между monthlycharges и totalcharges = {:.2f}'.format(corr))"
   ]
  },
  {
   "cell_type": "markdown",
   "metadata": {},
   "source": [
    "Корреляция между признаками 0.65. Это много, но попробуем убрать totalcharges.  \n",
    "\n",
    "В результате тестирования двух варинатов лучший результат показала модель без totalcharges."
   ]
  },
  {
   "cell_type": "markdown",
   "metadata": {},
   "source": [
    "**Удалим ненужные признаки из основного датасета.**"
   ]
  },
  {
   "cell_type": "code",
   "execution_count": 45,
   "metadata": {},
   "outputs": [],
   "source": [
    "data_new = data.drop(['customerid', 'begindate', 'enddate', 'paperlessbilling', 'totalcharges', \n",
    "                      'status', 'internet_client', 'phone_client', 'tariff', 'enddate_true'], axis=1)"
   ]
  },
  {
   "cell_type": "code",
   "execution_count": 46,
   "metadata": {},
   "outputs": [
    {
     "data": {
      "text/html": [
       "<div>\n",
       "<style scoped>\n",
       "    .dataframe tbody tr th:only-of-type {\n",
       "        vertical-align: middle;\n",
       "    }\n",
       "\n",
       "    .dataframe tbody tr th {\n",
       "        vertical-align: top;\n",
       "    }\n",
       "\n",
       "    .dataframe thead th {\n",
       "        text-align: right;\n",
       "    }\n",
       "</style>\n",
       "<table border=\"1\" class=\"dataframe\">\n",
       "  <thead>\n",
       "    <tr style=\"text-align: right;\">\n",
       "      <th></th>\n",
       "      <th>type</th>\n",
       "      <th>paymentmethod</th>\n",
       "      <th>monthlycharges</th>\n",
       "      <th>gender</th>\n",
       "      <th>seniorcitizen</th>\n",
       "      <th>partner</th>\n",
       "      <th>dependents</th>\n",
       "      <th>internetservice</th>\n",
       "      <th>onlinesecurity</th>\n",
       "      <th>onlinebackup</th>\n",
       "      <th>deviceprotection</th>\n",
       "      <th>techsupport</th>\n",
       "      <th>streamingtv</th>\n",
       "      <th>streamingmovies</th>\n",
       "      <th>multiplelines</th>\n",
       "      <th>target</th>\n",
       "      <th>clv</th>\n",
       "    </tr>\n",
       "  </thead>\n",
       "  <tbody>\n",
       "    <tr>\n",
       "      <td>0</td>\n",
       "      <td>month-to-month</td>\n",
       "      <td>electronic check</td>\n",
       "      <td>29.85</td>\n",
       "      <td>female</td>\n",
       "      <td>0</td>\n",
       "      <td>yes</td>\n",
       "      <td>no</td>\n",
       "      <td>dsl</td>\n",
       "      <td>no</td>\n",
       "      <td>yes</td>\n",
       "      <td>no</td>\n",
       "      <td>no</td>\n",
       "      <td>no</td>\n",
       "      <td>no</td>\n",
       "      <td>no_pnone</td>\n",
       "      <td>0</td>\n",
       "      <td>31</td>\n",
       "    </tr>\n",
       "    <tr>\n",
       "      <td>1</td>\n",
       "      <td>one year</td>\n",
       "      <td>mailed check</td>\n",
       "      <td>56.95</td>\n",
       "      <td>male</td>\n",
       "      <td>0</td>\n",
       "      <td>no</td>\n",
       "      <td>no</td>\n",
       "      <td>dsl</td>\n",
       "      <td>yes</td>\n",
       "      <td>no</td>\n",
       "      <td>yes</td>\n",
       "      <td>no</td>\n",
       "      <td>no</td>\n",
       "      <td>no</td>\n",
       "      <td>no</td>\n",
       "      <td>0</td>\n",
       "      <td>1036</td>\n",
       "    </tr>\n",
       "    <tr>\n",
       "      <td>2</td>\n",
       "      <td>month-to-month</td>\n",
       "      <td>mailed check</td>\n",
       "      <td>53.85</td>\n",
       "      <td>male</td>\n",
       "      <td>0</td>\n",
       "      <td>no</td>\n",
       "      <td>no</td>\n",
       "      <td>dsl</td>\n",
       "      <td>yes</td>\n",
       "      <td>yes</td>\n",
       "      <td>no</td>\n",
       "      <td>no</td>\n",
       "      <td>no</td>\n",
       "      <td>no</td>\n",
       "      <td>no</td>\n",
       "      <td>1</td>\n",
       "      <td>61</td>\n",
       "    </tr>\n",
       "    <tr>\n",
       "      <td>3</td>\n",
       "      <td>one year</td>\n",
       "      <td>bank transfer (automatic)</td>\n",
       "      <td>42.30</td>\n",
       "      <td>male</td>\n",
       "      <td>0</td>\n",
       "      <td>no</td>\n",
       "      <td>no</td>\n",
       "      <td>dsl</td>\n",
       "      <td>yes</td>\n",
       "      <td>no</td>\n",
       "      <td>yes</td>\n",
       "      <td>yes</td>\n",
       "      <td>no</td>\n",
       "      <td>no</td>\n",
       "      <td>no_pnone</td>\n",
       "      <td>0</td>\n",
       "      <td>1371</td>\n",
       "    </tr>\n",
       "    <tr>\n",
       "      <td>4</td>\n",
       "      <td>month-to-month</td>\n",
       "      <td>electronic check</td>\n",
       "      <td>70.70</td>\n",
       "      <td>female</td>\n",
       "      <td>0</td>\n",
       "      <td>no</td>\n",
       "      <td>no</td>\n",
       "      <td>fiber optic</td>\n",
       "      <td>no</td>\n",
       "      <td>no</td>\n",
       "      <td>no</td>\n",
       "      <td>no</td>\n",
       "      <td>no</td>\n",
       "      <td>no</td>\n",
       "      <td>no</td>\n",
       "      <td>1</td>\n",
       "      <td>61</td>\n",
       "    </tr>\n",
       "  </tbody>\n",
       "</table>\n",
       "</div>"
      ],
      "text/plain": [
       "             type              paymentmethod  monthlycharges  gender  \\\n",
       "0  month-to-month           electronic check           29.85  female   \n",
       "1        one year               mailed check           56.95    male   \n",
       "2  month-to-month               mailed check           53.85    male   \n",
       "3        one year  bank transfer (automatic)           42.30    male   \n",
       "4  month-to-month           electronic check           70.70  female   \n",
       "\n",
       "   seniorcitizen partner dependents internetservice onlinesecurity  \\\n",
       "0              0     yes         no             dsl             no   \n",
       "1              0      no         no             dsl            yes   \n",
       "2              0      no         no             dsl            yes   \n",
       "3              0      no         no             dsl            yes   \n",
       "4              0      no         no     fiber optic             no   \n",
       "\n",
       "  onlinebackup deviceprotection techsupport streamingtv streamingmovies  \\\n",
       "0          yes               no          no          no              no   \n",
       "1           no              yes          no          no              no   \n",
       "2          yes               no          no          no              no   \n",
       "3           no              yes         yes          no              no   \n",
       "4           no               no          no          no              no   \n",
       "\n",
       "  multiplelines  target   clv  \n",
       "0      no_pnone       0    31  \n",
       "1            no       0  1036  \n",
       "2            no       1    61  \n",
       "3      no_pnone       0  1371  \n",
       "4            no       1    61  "
      ]
     },
     "execution_count": 46,
     "metadata": {},
     "output_type": "execute_result"
    }
   ],
   "source": [
    "data_new.head(5)"
   ]
  },
  {
   "cell_type": "markdown",
   "metadata": {},
   "source": [
    "### Преобразование категориальных признаков в численные"
   ]
  },
  {
   "cell_type": "markdown",
   "metadata": {},
   "source": [
    "Переведем категориальных признаков в численные с помощью метода прямого кодирования"
   ]
  },
  {
   "cell_type": "code",
   "execution_count": 47,
   "metadata": {},
   "outputs": [
    {
     "data": {
      "text/html": [
       "<div>\n",
       "<style scoped>\n",
       "    .dataframe tbody tr th:only-of-type {\n",
       "        vertical-align: middle;\n",
       "    }\n",
       "\n",
       "    .dataframe tbody tr th {\n",
       "        vertical-align: top;\n",
       "    }\n",
       "\n",
       "    .dataframe thead th {\n",
       "        text-align: right;\n",
       "    }\n",
       "</style>\n",
       "<table border=\"1\" class=\"dataframe\">\n",
       "  <thead>\n",
       "    <tr style=\"text-align: right;\">\n",
       "      <th></th>\n",
       "      <th>monthlycharges</th>\n",
       "      <th>seniorcitizen</th>\n",
       "      <th>target</th>\n",
       "      <th>clv</th>\n",
       "      <th>type_one year</th>\n",
       "      <th>type_two year</th>\n",
       "      <th>paymentmethod_credit card (automatic)</th>\n",
       "      <th>paymentmethod_electronic check</th>\n",
       "      <th>paymentmethod_mailed check</th>\n",
       "      <th>gender_male</th>\n",
       "      <th>...</th>\n",
       "      <th>deviceprotection_no_internet</th>\n",
       "      <th>deviceprotection_yes</th>\n",
       "      <th>techsupport_no_internet</th>\n",
       "      <th>techsupport_yes</th>\n",
       "      <th>streamingtv_no_internet</th>\n",
       "      <th>streamingtv_yes</th>\n",
       "      <th>streamingmovies_no_internet</th>\n",
       "      <th>streamingmovies_yes</th>\n",
       "      <th>multiplelines_no_pnone</th>\n",
       "      <th>multiplelines_yes</th>\n",
       "    </tr>\n",
       "  </thead>\n",
       "  <tbody>\n",
       "    <tr>\n",
       "      <td>0</td>\n",
       "      <td>29.85</td>\n",
       "      <td>0</td>\n",
       "      <td>0</td>\n",
       "      <td>31</td>\n",
       "      <td>0</td>\n",
       "      <td>0</td>\n",
       "      <td>0</td>\n",
       "      <td>1</td>\n",
       "      <td>0</td>\n",
       "      <td>0</td>\n",
       "      <td>...</td>\n",
       "      <td>0</td>\n",
       "      <td>0</td>\n",
       "      <td>0</td>\n",
       "      <td>0</td>\n",
       "      <td>0</td>\n",
       "      <td>0</td>\n",
       "      <td>0</td>\n",
       "      <td>0</td>\n",
       "      <td>1</td>\n",
       "      <td>0</td>\n",
       "    </tr>\n",
       "    <tr>\n",
       "      <td>1</td>\n",
       "      <td>56.95</td>\n",
       "      <td>0</td>\n",
       "      <td>0</td>\n",
       "      <td>1036</td>\n",
       "      <td>1</td>\n",
       "      <td>0</td>\n",
       "      <td>0</td>\n",
       "      <td>0</td>\n",
       "      <td>1</td>\n",
       "      <td>1</td>\n",
       "      <td>...</td>\n",
       "      <td>0</td>\n",
       "      <td>1</td>\n",
       "      <td>0</td>\n",
       "      <td>0</td>\n",
       "      <td>0</td>\n",
       "      <td>0</td>\n",
       "      <td>0</td>\n",
       "      <td>0</td>\n",
       "      <td>0</td>\n",
       "      <td>0</td>\n",
       "    </tr>\n",
       "    <tr>\n",
       "      <td>2</td>\n",
       "      <td>53.85</td>\n",
       "      <td>0</td>\n",
       "      <td>1</td>\n",
       "      <td>61</td>\n",
       "      <td>0</td>\n",
       "      <td>0</td>\n",
       "      <td>0</td>\n",
       "      <td>0</td>\n",
       "      <td>1</td>\n",
       "      <td>1</td>\n",
       "      <td>...</td>\n",
       "      <td>0</td>\n",
       "      <td>0</td>\n",
       "      <td>0</td>\n",
       "      <td>0</td>\n",
       "      <td>0</td>\n",
       "      <td>0</td>\n",
       "      <td>0</td>\n",
       "      <td>0</td>\n",
       "      <td>0</td>\n",
       "      <td>0</td>\n",
       "    </tr>\n",
       "    <tr>\n",
       "      <td>3</td>\n",
       "      <td>42.30</td>\n",
       "      <td>0</td>\n",
       "      <td>0</td>\n",
       "      <td>1371</td>\n",
       "      <td>1</td>\n",
       "      <td>0</td>\n",
       "      <td>0</td>\n",
       "      <td>0</td>\n",
       "      <td>0</td>\n",
       "      <td>1</td>\n",
       "      <td>...</td>\n",
       "      <td>0</td>\n",
       "      <td>1</td>\n",
       "      <td>0</td>\n",
       "      <td>1</td>\n",
       "      <td>0</td>\n",
       "      <td>0</td>\n",
       "      <td>0</td>\n",
       "      <td>0</td>\n",
       "      <td>1</td>\n",
       "      <td>0</td>\n",
       "    </tr>\n",
       "    <tr>\n",
       "      <td>4</td>\n",
       "      <td>70.70</td>\n",
       "      <td>0</td>\n",
       "      <td>1</td>\n",
       "      <td>61</td>\n",
       "      <td>0</td>\n",
       "      <td>0</td>\n",
       "      <td>0</td>\n",
       "      <td>1</td>\n",
       "      <td>0</td>\n",
       "      <td>0</td>\n",
       "      <td>...</td>\n",
       "      <td>0</td>\n",
       "      <td>0</td>\n",
       "      <td>0</td>\n",
       "      <td>0</td>\n",
       "      <td>0</td>\n",
       "      <td>0</td>\n",
       "      <td>0</td>\n",
       "      <td>0</td>\n",
       "      <td>0</td>\n",
       "      <td>0</td>\n",
       "    </tr>\n",
       "  </tbody>\n",
       "</table>\n",
       "<p>5 rows × 28 columns</p>\n",
       "</div>"
      ],
      "text/plain": [
       "   monthlycharges  seniorcitizen  target   clv  type_one year  type_two year  \\\n",
       "0           29.85              0       0    31              0              0   \n",
       "1           56.95              0       0  1036              1              0   \n",
       "2           53.85              0       1    61              0              0   \n",
       "3           42.30              0       0  1371              1              0   \n",
       "4           70.70              0       1    61              0              0   \n",
       "\n",
       "   paymentmethod_credit card (automatic)  paymentmethod_electronic check  \\\n",
       "0                                      0                               1   \n",
       "1                                      0                               0   \n",
       "2                                      0                               0   \n",
       "3                                      0                               0   \n",
       "4                                      0                               1   \n",
       "\n",
       "   paymentmethod_mailed check  gender_male  ...  deviceprotection_no_internet  \\\n",
       "0                           0            0  ...                             0   \n",
       "1                           1            1  ...                             0   \n",
       "2                           1            1  ...                             0   \n",
       "3                           0            1  ...                             0   \n",
       "4                           0            0  ...                             0   \n",
       "\n",
       "   deviceprotection_yes  techsupport_no_internet  techsupport_yes  \\\n",
       "0                     0                        0                0   \n",
       "1                     1                        0                0   \n",
       "2                     0                        0                0   \n",
       "3                     1                        0                1   \n",
       "4                     0                        0                0   \n",
       "\n",
       "   streamingtv_no_internet  streamingtv_yes  streamingmovies_no_internet  \\\n",
       "0                        0                0                            0   \n",
       "1                        0                0                            0   \n",
       "2                        0                0                            0   \n",
       "3                        0                0                            0   \n",
       "4                        0                0                            0   \n",
       "\n",
       "   streamingmovies_yes  multiplelines_no_pnone  multiplelines_yes  \n",
       "0                    0                       1                  0  \n",
       "1                    0                       0                  0  \n",
       "2                    0                       0                  0  \n",
       "3                    0                       1                  0  \n",
       "4                    0                       0                  0  \n",
       "\n",
       "[5 rows x 28 columns]"
      ]
     },
     "execution_count": 47,
     "metadata": {},
     "output_type": "execute_result"
    }
   ],
   "source": [
    "data_new_ohe = pd.get_dummies(data_new, drop_first=True)\n",
    "data_new_ohe.head()"
   ]
  },
  {
   "cell_type": "markdown",
   "metadata": {},
   "source": [
    "### Масштабирование количественных признаков"
   ]
  },
  {
   "cell_type": "markdown",
   "metadata": {},
   "source": [
    "Теперь проведем масштабирование данных в оставшихся численных столбцах, не трогая целевой столбец target.  \n",
    "Перед проведением масштабирования разделим данные на три выборки - обучающую, валидационную, тестовую в соотношении 3/1/1."
   ]
  },
  {
   "cell_type": "code",
   "execution_count": 48,
   "metadata": {},
   "outputs": [
    {
     "name": "stdout",
     "output_type": "stream",
     "text": [
      "Размер обучающей выборки: (4225, 27)\n",
      "Размер валидационной выборки: (1409, 27)\n",
      "Размер тестовой выборки: (1409, 27)\n"
     ]
    }
   ],
   "source": [
    "features = data_new_ohe.drop('target', axis=1)\n",
    "target = data_new_ohe['target']\n",
    "\n",
    "features_train, features_valid, target_train, target_valid = train_test_split(features, target, test_size=0.4, random_state=12345)\n",
    "features_valid, features_test, target_valid, target_test = train_test_split(features_valid, target_valid, test_size=0.5, random_state=12345)\n",
    "\n",
    "print('Размер обучающей выборки:', features_train.shape)\n",
    "print('Размер валидационной выборки:', features_valid.shape)\n",
    "print('Размер тестовой выборки:', features_test.shape)"
   ]
  },
  {
   "cell_type": "markdown",
   "metadata": {},
   "source": [
    "Теперь проведем масштабирование количественных признаков с помощью метода Стандартизация.\n",
    "Стандартизация подразумевает такую предобработку данных, после которой каждый признак имеет среднее 0 и дисперсию 1. Создадим функцию стандартизации и проверим распрделение после проведения масштабирования."
   ]
  },
  {
   "cell_type": "code",
   "execution_count": 49,
   "metadata": {},
   "outputs": [
    {
     "data": {
      "text/html": [
       "<div>\n",
       "<style scoped>\n",
       "    .dataframe tbody tr th:only-of-type {\n",
       "        vertical-align: middle;\n",
       "    }\n",
       "\n",
       "    .dataframe tbody tr th {\n",
       "        vertical-align: top;\n",
       "    }\n",
       "\n",
       "    .dataframe thead th {\n",
       "        text-align: right;\n",
       "    }\n",
       "</style>\n",
       "<table border=\"1\" class=\"dataframe\">\n",
       "  <thead>\n",
       "    <tr style=\"text-align: right;\">\n",
       "      <th></th>\n",
       "      <th>monthlycharges</th>\n",
       "      <th>clv</th>\n",
       "    </tr>\n",
       "  </thead>\n",
       "  <tbody>\n",
       "    <tr>\n",
       "      <td>count</td>\n",
       "      <td>4225.0000</td>\n",
       "      <td>4225.0000</td>\n",
       "    </tr>\n",
       "    <tr>\n",
       "      <td>mean</td>\n",
       "      <td>-0.0000</td>\n",
       "      <td>-0.0000</td>\n",
       "    </tr>\n",
       "    <tr>\n",
       "      <td>std</td>\n",
       "      <td>1.0001</td>\n",
       "      <td>1.0001</td>\n",
       "    </tr>\n",
       "    <tr>\n",
       "      <td>min</td>\n",
       "      <td>-1.5407</td>\n",
       "      <td>-1.3439</td>\n",
       "    </tr>\n",
       "    <tr>\n",
       "      <td>25%</td>\n",
       "      <td>-0.9695</td>\n",
       "      <td>-0.9729</td>\n",
       "    </tr>\n",
       "    <tr>\n",
       "      <td>50%</td>\n",
       "      <td>0.1829</td>\n",
       "      <td>-0.1154</td>\n",
       "    </tr>\n",
       "    <tr>\n",
       "      <td>75%</td>\n",
       "      <td>0.8451</td>\n",
       "      <td>0.9491</td>\n",
       "    </tr>\n",
       "    <tr>\n",
       "      <td>max</td>\n",
       "      <td>1.7872</td>\n",
       "      <td>1.6009</td>\n",
       "    </tr>\n",
       "  </tbody>\n",
       "</table>\n",
       "</div>"
      ],
      "text/plain": [
       "       monthlycharges        clv\n",
       "count       4225.0000  4225.0000\n",
       "mean          -0.0000    -0.0000\n",
       "std            1.0001     1.0001\n",
       "min           -1.5407    -1.3439\n",
       "25%           -0.9695    -0.9729\n",
       "50%            0.1829    -0.1154\n",
       "75%            0.8451     0.9491\n",
       "max            1.7872     1.6009"
      ]
     },
     "execution_count": 49,
     "metadata": {},
     "output_type": "execute_result"
    }
   ],
   "source": [
    "numeric = ['monthlycharges', 'clv']\n",
    "\n",
    "scaler = StandardScaler()\n",
    "scaler.fit(features_train[numeric])\n",
    "\n",
    "features_train[numeric] = scaler.transform(features_train[numeric])\n",
    "features_valid[numeric] = scaler.transform(features_valid[numeric])\n",
    "features_test[numeric] = scaler.transform(features_test[numeric])\n",
    "\n",
    "features_train[['monthlycharges', 'clv']].describe().round(4)"
   ]
  },
  {
   "cell_type": "markdown",
   "metadata": {},
   "source": [
    "Масштабирование прошло успешно."
   ]
  },
  {
   "cell_type": "markdown",
   "metadata": {},
   "source": [
    "***\n",
    "## Upsampling данных <a class='anchor' id='10'></a>"
   ]
  },
  {
   "cell_type": "markdown",
   "metadata": {},
   "source": [
    "Произведем балансировку классов путем upsampling данных, для этого предварительно посмотрим соотношение классов в полной выборке."
   ]
  },
  {
   "cell_type": "code",
   "execution_count": 50,
   "metadata": {},
   "outputs": [
    {
     "data": {
      "text/plain": [
       "0    0.73463\n",
       "1    0.26537\n",
       "Name: target, dtype: float64"
      ]
     },
     "execution_count": 50,
     "metadata": {},
     "output_type": "execute_result"
    }
   ],
   "source": [
    "data_new_ohe['target'].value_counts(normalize=True)"
   ]
  },
  {
   "cell_type": "markdown",
   "metadata": {},
   "source": [
    "Преобразование проведем в несколько этапов:\n",
    "\n",
    "* Разделим обучающую выборку на отрицательные и положительные объекты;\n",
    "* Скопируем несколько раз положительные объекты -в нашем случае увеличиваем выборку положительных объектов в 3 раза;\n",
    "* С учётом полученных данных создадим новую обучающую выборку;\n",
    "* Перемешаем данные."
   ]
  },
  {
   "cell_type": "code",
   "execution_count": 51,
   "metadata": {},
   "outputs": [],
   "source": [
    "def upsample(features, target, repeat):\n",
    "    features_zeros = features[target == 0]\n",
    "    features_ones = features[target == 1]\n",
    "    target_zeros = target[target == 0]\n",
    "    target_ones = target[target == 1]\n",
    "\n",
    "    features_upsampled = pd.concat([features_zeros] + [features_ones] * repeat)\n",
    "    target_upsampled = pd.concat([target_zeros] + [target_ones] * repeat)\n",
    "    \n",
    "    features_upsampled, target_upsampled = shuffle(\n",
    "        features_upsampled, target_upsampled, random_state=12345)\n",
    "    \n",
    "    return features_upsampled, target_upsampled\n",
    "\n",
    "features_upsampled, target_upsampled = upsample(features_train, target_train, 3)"
   ]
  },
  {
   "cell_type": "markdown",
   "metadata": {},
   "source": [
    "Посмотрим размеры новых таблиц и изучим новый баланс классов."
   ]
  },
  {
   "cell_type": "code",
   "execution_count": 52,
   "metadata": {},
   "outputs": [
    {
     "name": "stdout",
     "output_type": "stream",
     "text": [
      "Размеры таблицы features_upsampled: (6427, 27)\n",
      "Размеры таблицы target_upsampled: (6427,)\n",
      "\n",
      "1    0.513926\n",
      "0    0.486074\n",
      "Name: target, dtype: float64\n"
     ]
    }
   ],
   "source": [
    "print('Размеры таблицы features_upsampled:', features_upsampled.shape)\n",
    "print('Размеры таблицы target_upsampled:',target_upsampled.shape)\n",
    "print()\n",
    "print(target_upsampled.value_counts(normalize=True))"
   ]
  },
  {
   "cell_type": "markdown",
   "metadata": {},
   "source": [
    "Классы сбалансированны, можем начинать обучать модели."
   ]
  },
  {
   "cell_type": "markdown",
   "metadata": {},
   "source": [
    "***\n",
    "# Обучение моделей <a class='anchor' id='11'></a>"
   ]
  },
  {
   "cell_type": "markdown",
   "metadata": {},
   "source": [
    "В данном проекте применим несколько стандартных моделей типа логистическиой регрессии и случайного леса и модели, основанные на градиентном бустинге.  \n",
    "\n",
    "Для начала создадим все функции, которые нам потребуются поздее."
   ]
  },
  {
   "cell_type": "markdown",
   "metadata": {},
   "source": [
    "### Подготовка к созданию моделей."
   ]
  },
  {
   "cell_type": "markdown",
   "metadata": {},
   "source": [
    "Зафиксируем значение random_state"
   ]
  },
  {
   "cell_type": "code",
   "execution_count": 53,
   "metadata": {},
   "outputs": [],
   "source": [
    "RND_ST = 42"
   ]
  },
  {
   "cell_type": "markdown",
   "metadata": {},
   "source": [
    "Построим функцию обучения моделей без подбора параметров"
   ]
  },
  {
   "cell_type": "code",
   "execution_count": 54,
   "metadata": {},
   "outputs": [],
   "source": [
    "def ml_models(models, ft, tt, fv, tv):\n",
    "    model = models\n",
    "    model.fit(ft, tt)\n",
    "    predictions_valid = model.predict(fv)\n",
    "    probabilities_valid = model.predict_proba(fv)\n",
    "    print('AUC-ROC = {:.2f}'.format(roc_auc_score(tv, probabilities_valid[:,1])))    \n",
    "    print('accuracy_score = {:.2f}'.format(accuracy_score(tv, predictions_valid)))"
   ]
  },
  {
   "cell_type": "markdown",
   "metadata": {},
   "source": [
    "Так как метрика roc_auc_score является метрической функцией, создадим scorer, необходимых для gridsearch"
   ]
  },
  {
   "cell_type": "code",
   "execution_count": 55,
   "metadata": {},
   "outputs": [],
   "source": [
    "roc_auc = make_scorer(roc_auc_score, greater_is_better=True, needs_proba=True)"
   ]
  },
  {
   "cell_type": "markdown",
   "metadata": {},
   "source": [
    "Создадим функцию для применения GridSearchCV"
   ]
  },
  {
   "cell_type": "code",
   "execution_count": 56,
   "metadata": {},
   "outputs": [],
   "source": [
    "def gridsearchcv(model, grid, features, target):\n",
    "\n",
    "    CV = GridSearchCV(estimator = model, param_grid = grid, cv = 5, scoring = roc_auc)\n",
    "    CV.fit(features, target)\n",
    "    \n",
    "    print('AUC-ROC = {:.2f}'.format(CV.best_score_))\n",
    "    print(CV.best_params_)"
   ]
  },
  {
   "cell_type": "markdown",
   "metadata": {},
   "source": [
    "В случае, если gridsearch будет занимать много времени, то воспользуемся RandomizedSearchCV"
   ]
  },
  {
   "cell_type": "code",
   "execution_count": 57,
   "metadata": {},
   "outputs": [],
   "source": [
    "def rand_search(model, grid, features, target):\n",
    "    \n",
    "    search = RandomizedSearchCV(model, grid, cv=5, scoring=roc_auc, n_jobs=-1)\n",
    "    search.fit(features, target)\n",
    "    \n",
    "    print('AUC-ROC = {:.2f}'.format(search.best_score_))\n",
    "    print(search.best_params_)"
   ]
  },
  {
   "cell_type": "markdown",
   "metadata": {},
   "source": [
    "Для валидации результатов моделей создадим функцию, без обучения моделей."
   ]
  },
  {
   "cell_type": "code",
   "execution_count": 58,
   "metadata": {},
   "outputs": [],
   "source": [
    "def auc_roc_val(model, fv, tv, name):\n",
    "    \n",
    "    predictions_valid = model.predict(fv)\n",
    "    probabilities_valid = model.predict_proba(fv)\n",
    "    print(name + ' AUC-ROC = {:.2f}'.format(roc_auc_score(tv, probabilities_valid[:,1])))    \n",
    "    print(name + ' accuracy_score = {:.2f}'.format(accuracy_score(tv, predictions_valid)))"
   ]
  },
  {
   "cell_type": "markdown",
   "metadata": {},
   "source": [
    "***\n",
    "## Первичное обучение моделей без подбора гиперпараметров. <a class='anchor' id='12'></a>"
   ]
  },
  {
   "cell_type": "markdown",
   "metadata": {},
   "source": [
    "Обучим модели без подбора параметров и посмотрим получившиеся результаты"
   ]
  },
  {
   "cell_type": "markdown",
   "metadata": {},
   "source": [
    "**Логистическая регрессия**"
   ]
  },
  {
   "cell_type": "code",
   "execution_count": 59,
   "metadata": {},
   "outputs": [
    {
     "name": "stdout",
     "output_type": "stream",
     "text": [
      "AUC-ROC = 0.85\n",
      "accuracy_score = 0.75\n"
     ]
    }
   ],
   "source": [
    "ml_models(LogisticRegression(random_state=RND_ST), features_upsampled, target_upsampled, features_valid, target_valid)"
   ]
  },
  {
   "cell_type": "markdown",
   "metadata": {},
   "source": [
    "**Дерево решений**"
   ]
  },
  {
   "cell_type": "code",
   "execution_count": 60,
   "metadata": {},
   "outputs": [
    {
     "name": "stdout",
     "output_type": "stream",
     "text": [
      "AUC-ROC = 0.70\n",
      "accuracy_score = 0.78\n"
     ]
    }
   ],
   "source": [
    "ml_models(DecisionTreeClassifier(random_state=RND_ST), features_upsampled, target_upsampled, features_valid, target_valid)"
   ]
  },
  {
   "cell_type": "markdown",
   "metadata": {},
   "source": [
    "**Случайный лес**"
   ]
  },
  {
   "cell_type": "code",
   "execution_count": 61,
   "metadata": {},
   "outputs": [
    {
     "name": "stdout",
     "output_type": "stream",
     "text": [
      "AUC-ROC = 0.83\n",
      "accuracy_score = 0.80\n"
     ]
    }
   ],
   "source": [
    "ml_models(RandomForestClassifier(random_state=RND_ST), features_upsampled, target_upsampled, features_valid, target_valid)"
   ]
  },
  {
   "cell_type": "markdown",
   "metadata": {},
   "source": [
    "**Градиентный бустинг**"
   ]
  },
  {
   "cell_type": "code",
   "execution_count": 62,
   "metadata": {},
   "outputs": [
    {
     "name": "stdout",
     "output_type": "stream",
     "text": [
      "AUC-ROC = 0.88\n",
      "accuracy_score = 0.79\n"
     ]
    }
   ],
   "source": [
    "ml_models(GradientBoostingClassifier(random_state=RND_ST), features_upsampled, target_upsampled, features_valid, target_valid)"
   ]
  },
  {
   "cell_type": "markdown",
   "metadata": {},
   "source": [
    "**LGBMClassifier**"
   ]
  },
  {
   "cell_type": "code",
   "execution_count": 63,
   "metadata": {},
   "outputs": [
    {
     "name": "stdout",
     "output_type": "stream",
     "text": [
      "AUC-ROC = 0.90\n",
      "accuracy_score = 0.82\n"
     ]
    }
   ],
   "source": [
    "ml_models(LGBMClassifier(random_state=RND_ST), features_upsampled, target_upsampled, features_valid, target_valid)"
   ]
  },
  {
   "cell_type": "markdown",
   "metadata": {},
   "source": [
    "**CatBoostClassifier**"
   ]
  },
  {
   "cell_type": "code",
   "execution_count": 64,
   "metadata": {},
   "outputs": [
    {
     "name": "stdout",
     "output_type": "stream",
     "text": [
      "AUC-ROC = 0.91\n",
      "accuracy_score = 0.84\n"
     ]
    }
   ],
   "source": [
    "ml_models(CatBoostClassifier(random_state=RND_ST, verbose = 0), features_upsampled, target_upsampled, features_valid, target_valid)"
   ]
  },
  {
   "cell_type": "markdown",
   "metadata": {},
   "source": [
    "Наилучшие результаты показали модели бустинга и логистическая регрессия.  \n",
    "\n",
    "На следующем шаге подберем гиперпараметры лучших моделей и модели случайный лес."
   ]
  },
  {
   "cell_type": "markdown",
   "metadata": {},
   "source": [
    "***\n",
    "## Подбор гиперпараметров <a class='anchor' id='13'></a>"
   ]
  },
  {
   "cell_type": "markdown",
   "metadata": {},
   "source": [
    "**Подберем параметры для модели Случайный лес**"
   ]
  },
  {
   "cell_type": "code",
   "execution_count": 65,
   "metadata": {},
   "outputs": [],
   "source": [
    "rfc = RandomForestClassifier(random_state=RND_ST)\n",
    "\n",
    "rfc_params = dict(max_depth=range(2, 15, 2), \n",
    "                 max_features=range(2, 15, 2),\n",
    "                 n_estimators=range(25, 200, 25))"
   ]
  },
  {
   "cell_type": "code",
   "execution_count": 66,
   "metadata": {},
   "outputs": [
    {
     "name": "stdout",
     "output_type": "stream",
     "text": [
      "AUC-ROC = 0.95\n",
      "{'n_estimators': 75, 'max_features': 2, 'max_depth': 12}\n"
     ]
    }
   ],
   "source": [
    "rand_search(rfc, rfc_params, features_upsampled, target_upsampled)"
   ]
  },
  {
   "cell_type": "markdown",
   "metadata": {},
   "source": [
    "Результат AUC-ROC равен 0.97. Похоже на переобучение."
   ]
  },
  {
   "cell_type": "markdown",
   "metadata": {},
   "source": [
    "Проведем проверку работы модели на валидационной выборке"
   ]
  },
  {
   "cell_type": "code",
   "execution_count": 67,
   "metadata": {},
   "outputs": [
    {
     "name": "stdout",
     "output_type": "stream",
     "text": [
      "Результат на валидационной выборке: AUC-ROC = 0.84\n",
      "Результат на валидационной выборке: accuracy_score = 0.79\n"
     ]
    }
   ],
   "source": [
    "rfc = RandomForestClassifier(random_state=RND_ST, n_estimators = 150, max_features = 2, max_depth = 14)\n",
    "rfc.fit(features_upsampled, target_upsampled)\n",
    "\n",
    "auc_roc_val(rfc, features_valid, target_valid, 'Результат на валидационной выборке:')"
   ]
  },
  {
   "cell_type": "markdown",
   "metadata": {},
   "source": [
    "**Подберем параметры для модели GradientBoostingClassifier**"
   ]
  },
  {
   "cell_type": "code",
   "execution_count": 68,
   "metadata": {},
   "outputs": [],
   "source": [
    "gbr = GradientBoostingClassifier(random_state=RND_ST)\n",
    "\n",
    "gbr_params = dict(n_estimators=range(50, 200, 25),\n",
    "                  max_depth=[2,3,4], \n",
    "                  learning_rate=[0.1,0.5,1],\n",
    "                 )"
   ]
  },
  {
   "cell_type": "code",
   "execution_count": 69,
   "metadata": {},
   "outputs": [
    {
     "name": "stdout",
     "output_type": "stream",
     "text": [
      "AUC-ROC = 0.98\n",
      "{'learning_rate': 0.5, 'max_depth': 4, 'n_estimators': 175}\n"
     ]
    }
   ],
   "source": [
    "gridsearchcv(gbr, gbr_params, features_upsampled, target_upsampled)"
   ]
  },
  {
   "cell_type": "markdown",
   "metadata": {},
   "source": [
    "Проведем проверку работы модели на валидационной выборке"
   ]
  },
  {
   "cell_type": "code",
   "execution_count": 70,
   "metadata": {},
   "outputs": [
    {
     "name": "stdout",
     "output_type": "stream",
     "text": [
      "Результат на валидационной выборке: AUC-ROC = 0.92\n",
      "Результат на валидационной выборке: accuracy_score = 0.86\n"
     ]
    }
   ],
   "source": [
    "gbr = GradientBoostingClassifier(random_state=RND_ST, learning_rate = 0.5, max_depth = 4, n_estimators = 175)\n",
    "gbr.fit(features_upsampled, target_upsampled)\n",
    "\n",
    "auc_roc_val(gbr, features_valid, target_valid, 'Результат на валидационной выборке:')"
   ]
  },
  {
   "cell_type": "markdown",
   "metadata": {},
   "source": [
    "**Подберем параметры для модели LGBMClassifier**"
   ]
  },
  {
   "cell_type": "code",
   "execution_count": 71,
   "metadata": {},
   "outputs": [],
   "source": [
    "LGBM = LGBMClassifier()\n",
    "LGBM_params = dict(n_estimators = [175, 200],\n",
    "                   max_depth = [7, 10],\n",
    "                   verbose = [0] \n",
    "                  )"
   ]
  },
  {
   "cell_type": "code",
   "execution_count": 72,
   "metadata": {},
   "outputs": [],
   "source": [
    "# rand_search(LGBM, LGBM_params, features_upsampled, target_upsampled)"
   ]
  },
  {
   "cell_type": "markdown",
   "metadata": {},
   "source": [
    "Это так же оказалось слишком долгим на тренажере (первая операция потребовала >15 минут). Попробуем вручную подобрать параметры и сотавим наилучший результат."
   ]
  },
  {
   "cell_type": "code",
   "execution_count": 73,
   "metadata": {},
   "outputs": [
    {
     "name": "stdout",
     "output_type": "stream",
     "text": [
      "AUC-ROC = 0.91\n",
      "accuracy_score = 0.83\n"
     ]
    }
   ],
   "source": [
    "ml_models(LGBMClassifier(random_state=RND_ST, n_estimators = 175, max_depth = 10), \n",
    "          features_upsampled, target_upsampled, features_valid, target_valid)"
   ]
  },
  {
   "cell_type": "markdown",
   "metadata": {},
   "source": [
    "Вручную получилось не очень хорошо, но что поделать."
   ]
  },
  {
   "cell_type": "markdown",
   "metadata": {},
   "source": [
    "Проведем проверку работы модели на валидационной выборке"
   ]
  },
  {
   "cell_type": "code",
   "execution_count": 74,
   "metadata": {},
   "outputs": [
    {
     "name": "stdout",
     "output_type": "stream",
     "text": [
      "Результат на валидационной выборке: AUC-ROC = 0.91\n",
      "Результат на валидационной выборке: accuracy_score = 0.83\n"
     ]
    }
   ],
   "source": [
    "lgbm = LGBMClassifier(random_state=RND_ST, max_depth = 10, n_estimators = 175)\n",
    "lgbm.fit(features_upsampled, target_upsampled)\n",
    "\n",
    "auc_roc_val(lgbm, features_valid, target_valid, 'Результат на валидационной выборке:')"
   ]
  },
  {
   "cell_type": "markdown",
   "metadata": {},
   "source": [
    "**Подберем параметры для модели CatBoostClassifier**"
   ]
  },
  {
   "cell_type": "code",
   "execution_count": 75,
   "metadata": {},
   "outputs": [],
   "source": [
    "cbc = CatBoostClassifier(random_state=RND_ST)\n",
    "cbc_params = dict(n_estimators = range(50, 200, 25),\n",
    "                  max_depth = [5, 7, 10],\n",
    "                  verbose = [0]\n",
    "                 )"
   ]
  },
  {
   "cell_type": "code",
   "execution_count": 76,
   "metadata": {},
   "outputs": [
    {
     "name": "stdout",
     "output_type": "stream",
     "text": [
      "AUC-ROC = 0.97\n",
      "{'verbose': 0, 'n_estimators': 125, 'max_depth': 10}\n"
     ]
    }
   ],
   "source": [
    "rand_search(cbc, cbc_params, features_upsampled, target_upsampled)"
   ]
  },
  {
   "cell_type": "markdown",
   "metadata": {},
   "source": [
    "В отличие от LGBMClassifier для модели CatBoostClassifier нам удалось провести поиск оптимальных гиперпараметров за адекватное время."
   ]
  },
  {
   "cell_type": "markdown",
   "metadata": {},
   "source": [
    "Проведем проверку работы модели на валидационной выборке"
   ]
  },
  {
   "cell_type": "code",
   "execution_count": 77,
   "metadata": {},
   "outputs": [
    {
     "name": "stdout",
     "output_type": "stream",
     "text": [
      "Результат на валидационной выборке: AUC-ROC = 0.91\n",
      "Результат на валидационной выборке: accuracy_score = 0.84\n"
     ]
    }
   ],
   "source": [
    "cbc = CatBoostClassifier(random_state=RND_ST, verbose = 0)\n",
    "cbc.fit(features_upsampled, target_upsampled)\n",
    "\n",
    "auc_roc_val(cbc, features_valid, target_valid, 'Результат на валидационной выборке:')"
   ]
  },
  {
   "cell_type": "markdown",
   "metadata": {},
   "source": [
    "**Результаты исследования для наглядности соберем в отдельный фрейм.**"
   ]
  },
  {
   "cell_type": "code",
   "execution_count": 78,
   "metadata": {},
   "outputs": [
    {
     "data": {
      "text/html": [
       "<div>\n",
       "<style scoped>\n",
       "    .dataframe tbody tr th:only-of-type {\n",
       "        vertical-align: middle;\n",
       "    }\n",
       "\n",
       "    .dataframe tbody tr th {\n",
       "        vertical-align: top;\n",
       "    }\n",
       "\n",
       "    .dataframe thead th {\n",
       "        text-align: right;\n",
       "    }\n",
       "</style>\n",
       "<table border=\"1\" class=\"dataframe\">\n",
       "  <thead>\n",
       "    <tr style=\"text-align: right;\">\n",
       "      <th></th>\n",
       "      <th>Model</th>\n",
       "      <th>AUC-ROC_valid</th>\n",
       "      <th>Accurace_valid</th>\n",
       "      <th>AUC-ROC_test</th>\n",
       "      <th>Accurace_test</th>\n",
       "    </tr>\n",
       "  </thead>\n",
       "  <tbody>\n",
       "    <tr>\n",
       "      <td>0</td>\n",
       "      <td>RandomForestClassifier</td>\n",
       "      <td>0.84</td>\n",
       "      <td>0.79</td>\n",
       "      <td>0</td>\n",
       "      <td>0</td>\n",
       "    </tr>\n",
       "    <tr>\n",
       "      <td>1</td>\n",
       "      <td>GradientBoostingClassifier</td>\n",
       "      <td>0.92</td>\n",
       "      <td>0.86</td>\n",
       "      <td>0</td>\n",
       "      <td>0</td>\n",
       "    </tr>\n",
       "    <tr>\n",
       "      <td>2</td>\n",
       "      <td>LightGBM</td>\n",
       "      <td>0.91</td>\n",
       "      <td>0.83</td>\n",
       "      <td>0</td>\n",
       "      <td>0</td>\n",
       "    </tr>\n",
       "    <tr>\n",
       "      <td>3</td>\n",
       "      <td>CatBoost</td>\n",
       "      <td>0.91</td>\n",
       "      <td>0.84</td>\n",
       "      <td>0</td>\n",
       "      <td>0</td>\n",
       "    </tr>\n",
       "  </tbody>\n",
       "</table>\n",
       "</div>"
      ],
      "text/plain": [
       "                        Model  AUC-ROC_valid  Accurace_valid  AUC-ROC_test  \\\n",
       "0      RandomForestClassifier           0.84            0.79             0   \n",
       "1  GradientBoostingClassifier           0.92            0.86             0   \n",
       "2                    LightGBM           0.91            0.83             0   \n",
       "3                    CatBoost           0.91            0.84             0   \n",
       "\n",
       "   Accurace_test  \n",
       "0              0  \n",
       "1              0  \n",
       "2              0  \n",
       "3              0  "
      ]
     },
     "execution_count": 78,
     "metadata": {},
     "output_type": "execute_result"
    }
   ],
   "source": [
    "res = {'Model' : ['RandomForestClassifier', 'GradientBoostingClassifier', 'LightGBM', 'CatBoost'],\n",
    "       'AUC-ROC_valid' :pd.Series([0.84, 0.92, 0.91, 0.91]),\n",
    "       'Accurace_valid': pd.Series([0.79, 0.86, 0.83, 0.84]),\n",
    "        'AUC-ROC_test' :pd.Series([0, 0, 0, 0]),\n",
    "       'Accurace_test': pd.Series([0, 0, 0, 0]),\n",
    "    }\n",
    "results = pd.DataFrame(res)\n",
    "results"
   ]
  },
  {
   "cell_type": "markdown",
   "metadata": {},
   "source": [
    "***\n",
    "## Вывод\n",
    "\n",
    "На данном шаге было проведено тестирование четырех моделей:\n",
    "\n",
    "* Случайный лес sklearn\n",
    "* Градиентный бустинг sklearn\n",
    "* LightGBM\n",
    "* CatBoost\n",
    "\n",
    "Быстрее всех учится и лучше предсказывает GradientBoosting. LightGBM и CatBoost показали примерно одинаковый результат AUC-ROC, но CatBoost намного быстрее обучается, что позволяет лучше подобрать гиперпараметры.\n",
    "\n",
    "В целом, сейчас уже можно выбросить из конкурса Случайный лес, однако, произведем замеры AUC-ROC всех моделей на тестовой выборке."
   ]
  },
  {
   "cell_type": "markdown",
   "metadata": {},
   "source": [
    "***\n",
    "## Анализ моделей <a class='anchor' id='14'></a>"
   ]
  },
  {
   "cell_type": "markdown",
   "metadata": {},
   "source": [
    "На данном этапе определим метрику AUC-ROC всех моделей на оставшейся тестовой выборке."
   ]
  },
  {
   "cell_type": "code",
   "execution_count": 79,
   "metadata": {},
   "outputs": [
    {
     "name": "stdout",
     "output_type": "stream",
     "text": [
      "Результат RandomForrest на тестовой выборке: AUC-ROC = 0.82\n",
      "Результат RandomForrest на тестовой выборке: accuracy_score = 0.77\n"
     ]
    }
   ],
   "source": [
    "auc_roc_val(rfc, features_test, target_test, 'Результат RandomForrest на тестовой выборке:')"
   ]
  },
  {
   "cell_type": "code",
   "execution_count": 80,
   "metadata": {},
   "outputs": [
    {
     "name": "stdout",
     "output_type": "stream",
     "text": [
      "Результат GradBoost на тестовой выборке: AUC-ROC = 0.91\n",
      "Результат GradBoost на тестовой выборке: accuracy_score = 0.87\n"
     ]
    }
   ],
   "source": [
    "auc_roc_val(gbr, features_test, target_test, 'Результат GradBoost на тестовой выборке:')"
   ]
  },
  {
   "cell_type": "code",
   "execution_count": 81,
   "metadata": {},
   "outputs": [
    {
     "name": "stdout",
     "output_type": "stream",
     "text": [
      "Результат LightGBM на тестовой выборке: AUC-ROC = 0.89\n",
      "Результат LightGBM на тестовой выборке: accuracy_score = 0.84\n"
     ]
    }
   ],
   "source": [
    "auc_roc_val(lgbm, features_test, target_test, 'Результат LightGBM на тестовой выборке:')"
   ]
  },
  {
   "cell_type": "code",
   "execution_count": 82,
   "metadata": {},
   "outputs": [
    {
     "name": "stdout",
     "output_type": "stream",
     "text": [
      "Результат CatBoost на тестовой выборке: AUC-ROC = 0.90\n",
      "Результат CatBoost на тестовой выборке: accuracy_score = 0.85\n"
     ]
    }
   ],
   "source": [
    "auc_roc_val(cbc, features_test, target_test, 'Результат CatBoost на тестовой выборке:')"
   ]
  },
  {
   "cell_type": "markdown",
   "metadata": {},
   "source": [
    "Соберем все данные в таблицу результатов."
   ]
  },
  {
   "cell_type": "code",
   "execution_count": 83,
   "metadata": {},
   "outputs": [],
   "source": [
    "results.loc[0,'AUC-ROC_test'] = 0.82\n",
    "results.loc[0,'Accurace_test'] = 0.77\n",
    "\n",
    "results.loc[1,'AUC-ROC_test'] = 0.91\n",
    "results.loc[1,'Accurace_test'] = 0.87\n",
    "\n",
    "results.loc[2,'AUC-ROC_test'] = 0.89\n",
    "results.loc[2,'Accurace_test'] = 0.84\n",
    "\n",
    "results.loc[3,'AUC-ROC_test'] = 0.90\n",
    "results.loc[3,'Accurace_test'] = 0.85"
   ]
  },
  {
   "cell_type": "code",
   "execution_count": 84,
   "metadata": {},
   "outputs": [
    {
     "data": {
      "text/html": [
       "<div>\n",
       "<style scoped>\n",
       "    .dataframe tbody tr th:only-of-type {\n",
       "        vertical-align: middle;\n",
       "    }\n",
       "\n",
       "    .dataframe tbody tr th {\n",
       "        vertical-align: top;\n",
       "    }\n",
       "\n",
       "    .dataframe thead th {\n",
       "        text-align: right;\n",
       "    }\n",
       "</style>\n",
       "<table border=\"1\" class=\"dataframe\">\n",
       "  <thead>\n",
       "    <tr style=\"text-align: right;\">\n",
       "      <th></th>\n",
       "      <th>Model</th>\n",
       "      <th>AUC-ROC_valid</th>\n",
       "      <th>Accurace_valid</th>\n",
       "      <th>AUC-ROC_test</th>\n",
       "      <th>Accurace_test</th>\n",
       "    </tr>\n",
       "  </thead>\n",
       "  <tbody>\n",
       "    <tr>\n",
       "      <td>1</td>\n",
       "      <td>GradientBoostingClassifier</td>\n",
       "      <td>0.92</td>\n",
       "      <td>0.86</td>\n",
       "      <td>0.91</td>\n",
       "      <td>0.87</td>\n",
       "    </tr>\n",
       "    <tr>\n",
       "      <td>3</td>\n",
       "      <td>CatBoost</td>\n",
       "      <td>0.91</td>\n",
       "      <td>0.84</td>\n",
       "      <td>0.90</td>\n",
       "      <td>0.85</td>\n",
       "    </tr>\n",
       "    <tr>\n",
       "      <td>2</td>\n",
       "      <td>LightGBM</td>\n",
       "      <td>0.91</td>\n",
       "      <td>0.83</td>\n",
       "      <td>0.89</td>\n",
       "      <td>0.84</td>\n",
       "    </tr>\n",
       "    <tr>\n",
       "      <td>0</td>\n",
       "      <td>RandomForestClassifier</td>\n",
       "      <td>0.84</td>\n",
       "      <td>0.79</td>\n",
       "      <td>0.82</td>\n",
       "      <td>0.77</td>\n",
       "    </tr>\n",
       "  </tbody>\n",
       "</table>\n",
       "</div>"
      ],
      "text/plain": [
       "                        Model  AUC-ROC_valid  Accurace_valid  AUC-ROC_test  \\\n",
       "1  GradientBoostingClassifier           0.92            0.86          0.91   \n",
       "3                    CatBoost           0.91            0.84          0.90   \n",
       "2                    LightGBM           0.91            0.83          0.89   \n",
       "0      RandomForestClassifier           0.84            0.79          0.82   \n",
       "\n",
       "   Accurace_test  \n",
       "1           0.87  \n",
       "3           0.85  \n",
       "2           0.84  \n",
       "0           0.77  "
      ]
     },
     "execution_count": 84,
     "metadata": {},
     "output_type": "execute_result"
    }
   ],
   "source": [
    "results.sort_values(by=['AUC-ROC_test'], ascending=False)"
   ]
  },
  {
   "cell_type": "markdown",
   "metadata": {},
   "source": [
    "Наилучший результат на тестовой выборке показала модель GradientBoostingClassifier - метрика AUC-ROC равна 0.91, Accuracy 0.87."
   ]
  },
  {
   "cell_type": "markdown",
   "metadata": {},
   "source": [
    "## Проверка модели на адекватность <a class='anchor' id='15'></a>"
   ]
  },
  {
   "cell_type": "markdown",
   "metadata": {},
   "source": [
    "Перед тем, чтобы запускать модель прогнозирования в работу необходимо проверим ее на адекватность, то есть проверим лучше ли результат ее работы точности фиктивного классификатора.  \n",
    "Для этого используем модель DummyClassifier, в котором используем стратегию most_frequent: классификатор всегда предсказывает самый частый ярлык класса в данных обучения. И обучим модель на первоначальных выборках."
   ]
  },
  {
   "cell_type": "code",
   "execution_count": 85,
   "metadata": {},
   "outputs": [
    {
     "name": "stdout",
     "output_type": "stream",
     "text": [
      "AUC-ROC = 0.50\n",
      "accuracy_score = 0.73\n"
     ]
    }
   ],
   "source": [
    "ml_models(DummyClassifier(strategy = 'most_frequent', random_state = RND_ST), \n",
    "          features_train, target_train, features_test, target_test)"
   ]
  },
  {
   "cell_type": "markdown",
   "metadata": {},
   "source": [
    "Dummy-модель показала плохой результат метрики AUC-ROC = 0.5, поэтому берем нашу модель в работу."
   ]
  },
  {
   "cell_type": "markdown",
   "metadata": {},
   "source": [
    "***\n",
    "# 4. Общий Вывод <a class='anchor' id='16'></a>"
   ]
  },
  {
   "cell_type": "markdown",
   "metadata": {},
   "source": [
    "В данной работе мы провели предобработку данных, ислледовательский анализ данных и создали модель прогнозирования уйдет ли клиент к конкурентам или нет.  \n",
    "\n",
    "На этапе исследовательского анализа был сделан вывод о том, что интернет пользователи с помесячной не автоматической оплатой более привержены к уходу от сотрудничества с нашей компанией. И на это могут влиять, как новые конкуренты, так и проблемы с формой или алгоритмом оплаты на сайте.\n",
    "\n",
    "На этапе создания модели прогнозирования мы обучили несколько различных моделей, лучший результат показала модель градиентного бустинга из библиотеки sklearn. \n",
    "* AUC-ROC = 0.91,  \n",
    "* accuracy_score = 0.87\n",
    "\n",
    "Данный результат прошел проверку на адекватность и выше целевого результата, поставленного руководством, поэтому данную модель можем взять в производство."
   ]
  },
  {
   "cell_type": "markdown",
   "metadata": {},
   "source": [
    "***\n",
    "# Ответы на вопросы"
   ]
  },
  {
   "cell_type": "markdown",
   "metadata": {},
   "source": [
    "**1. Какие пункты плана были выполнены, а какие — нет (поясните почему)?**  \n",
    "\n",
    "Выполнены все пункты изначального плана (в оглавлении)."
   ]
  },
  {
   "cell_type": "markdown",
   "metadata": {},
   "source": [
    "**2. Какие трудности возникли и как вы их преодолели?**  \n",
    "\n",
    "Основной трудностью стало создание scorer, подсчитывающего метрику roc_auc, необходимого для использования в gridsearchCV - преодолел, изучим гайды в sklearn."
   ]
  },
  {
   "cell_type": "markdown",
   "metadata": {},
   "source": [
    "**3. Какие ключевые шаги в решении задачи выделили?**  \n",
    "\n",
    "Ключевыми шагами, повлиявшими на решение, стали выравнивание балансов класов, удаление ненужных признаков ('customerid', признаки с датами, признак totalcharges, т.к. он сильно коррелирует с месячным платежом и временем жизни клиента) и создание нового признака - время жизник клиента (clv).  \n",
    "Для создания нового признака было необходимо заполнить какой-то датой значения 'No' в столбце 'Enddate' - было принято решение использовать дату выгрузки базы 2020-02-01. После заполнения была проведена проверка распределения получившегося признака clv, в результате которого данный вариант заполнения был утвержден."
   ]
  },
  {
   "cell_type": "markdown",
   "metadata": {},
   "source": [
    "**4.Какая ваша итоговая модель и какое у неё качество?**  \n",
    "* Итоговая модель - GradientBoostingClassifier;  \n",
    "* Результат AUC-ROC на тестовой выборке = 0.91;\n",
    "* Результат accuracy_score на тестовой выборке = 0.87.\n",
    "\n",
    "Близкий результат также получила модель CatBoostClassifier (AUC-ROC = 0.90, accuracy_score = 0.85)."
   ]
  }
 ],
 "metadata": {
  "kernelspec": {
   "display_name": "Python 3.8.8 ('.venv_jupyter': venv)",
   "language": "python",
   "name": "python3"
  },
  "language_info": {
   "codemirror_mode": {
    "name": "ipython",
    "version": 3
   },
   "file_extension": ".py",
   "mimetype": "text/x-python",
   "name": "python",
   "nbconvert_exporter": "python",
   "pygments_lexer": "ipython3",
   "version": "3.8.8"
  },
  "vscode": {
   "interpreter": {
    "hash": "8317a14bc432fb48e9bde5d37ba63e0bf13812e58ed7d047a83ef8c7e7d4c4d4"
   }
  }
 },
 "nbformat": 4,
 "nbformat_minor": 2
}
