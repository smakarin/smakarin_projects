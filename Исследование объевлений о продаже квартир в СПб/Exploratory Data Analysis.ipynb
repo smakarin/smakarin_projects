{
 "cells": [
  {
   "cell_type": "markdown",
   "metadata": {},
   "source": [
    "# Исследование объявлений о продаже квартир\n",
    "\n",
    "В вашем распоряжении данные сервиса Яндекс.Недвижимость — архив объявлений о продаже квартир в Санкт-Петербурге и соседних населённых пунктов за несколько лет. Нужно научиться определять рыночную стоимость объектов недвижимости. Ваша задача — установить параметры. Это позволит построить автоматизированную систему: она отследит аномалии и мошенническую деятельность. \n",
    "\n",
    "По каждой квартире на продажу доступны два вида данных. Первые вписаны пользователем, вторые — получены автоматически на основе картографических данных. Например, расстояние до центра, аэропорта, ближайшего парка и водоёма. "
   ]
  },
  {
   "cell_type": "markdown",
   "metadata": {},
   "source": [
    "<div style=\"border:solid green 2px; padding: 20px\"> <h1 style=\"color:green; margin-bottom:20px\">Комментарий наставника</h1>\n",
    "\n",
    "Привет! Спасибо, что вовремя сдал задание:) Ты проделал большую работу. Далее в файле мои комментарии ты сможешь найти в ячейках, аналогичных данной ( если рамки комментария зелёные - всё сделано правильно; жёлтые - есть замечания, но не критично; красные - нужно переделать). Не удаляй эти комментарии и постарайся учесть их в ходе выполнения проекта. \n",
    "\n",
    "</div>"
   ]
  },
  {
   "cell_type": "markdown",
   "metadata": {},
   "source": [
    "### Шаг 1. Откройте файл с данными и изучите общую информацию. "
   ]
  },
  {
   "cell_type": "code",
   "execution_count": 1,
   "metadata": {},
   "outputs": [
    {
     "name": "stdout",
     "output_type": "stream",
     "text": [
      "<class 'pandas.core.frame.DataFrame'>\n",
      "RangeIndex: 23699 entries, 0 to 23698\n",
      "Data columns (total 22 columns):\n",
      "total_images            23699 non-null int64\n",
      "last_price              23699 non-null float64\n",
      "total_area              23699 non-null float64\n",
      "first_day_exposition    23699 non-null object\n",
      "rooms                   23699 non-null int64\n",
      "ceiling_height          14504 non-null float64\n",
      "floors_total            23613 non-null float64\n",
      "living_area             21796 non-null float64\n",
      "floor                   23699 non-null int64\n",
      "is_apartment            2775 non-null object\n",
      "studio                  23699 non-null bool\n",
      "open_plan               23699 non-null bool\n",
      "kitchen_area            21421 non-null float64\n",
      "balcony                 12180 non-null float64\n",
      "locality_name           23650 non-null object\n",
      "airports_nearest        18157 non-null float64\n",
      "cityCenters_nearest     18180 non-null float64\n",
      "parks_around3000        18181 non-null float64\n",
      "parks_nearest           8079 non-null float64\n",
      "ponds_around3000        18181 non-null float64\n",
      "ponds_nearest           9110 non-null float64\n",
      "days_exposition         20518 non-null float64\n",
      "dtypes: bool(2), float64(14), int64(3), object(3)\n",
      "memory usage: 3.7+ MB\n"
     ]
    }
   ],
   "source": [
    "import pandas as pd\n",
    "import matplotlib.pyplot as plt\n",
    "import numpy as np\n",
    "import seaborn as sns\n",
    "import random\n",
    "\n",
    "data = pd.read_csv('/datasets/real_estate_data.csv', sep='\\t')\n",
    "data.info()"
   ]
  },
  {
   "cell_type": "markdown",
   "metadata": {},
   "source": [
    "### Вывод"
   ]
  },
  {
   "cell_type": "markdown",
   "metadata": {},
   "source": [
    "В таблице 22 столбца в основном численных форматов int64 И float64, также присутствуют форматы bool и object.  \n",
    "В таблице 23699 строк, во многих столбцах присутствуют пропущенные значения. Необходимо изучить данные подробнее и понять, что делать с пропусками."
   ]
  },
  {
   "cell_type": "markdown",
   "metadata": {},
   "source": [
    "<div style=\"border:solid green 2px; padding: 20px\"> <h1 style=\"color:green; margin-bottom:20px\">Комментарий наставника</h1>\n",
    "\n",
    "Данные загружены и изучены, класс"
   ]
  },
  {
   "cell_type": "markdown",
   "metadata": {},
   "source": [
    "### Шаг 2. Предобработка данных"
   ]
  },
  {
   "cell_type": "markdown",
   "metadata": {},
   "source": [
    "**1. Работа с датой и временем**  \n",
    "Переведем данные в столбце first_day_exposition в формат даты и уберем пустые значения времени."
   ]
  },
  {
   "cell_type": "code",
   "execution_count": 2,
   "metadata": {
    "scrolled": true
   },
   "outputs": [
    {
     "data": {
      "text/html": [
       "<div>\n",
       "<style scoped>\n",
       "    .dataframe tbody tr th:only-of-type {\n",
       "        vertical-align: middle;\n",
       "    }\n",
       "\n",
       "    .dataframe tbody tr th {\n",
       "        vertical-align: top;\n",
       "    }\n",
       "\n",
       "    .dataframe thead th {\n",
       "        text-align: right;\n",
       "    }\n",
       "</style>\n",
       "<table border=\"1\" class=\"dataframe\">\n",
       "  <thead>\n",
       "    <tr style=\"text-align: right;\">\n",
       "      <th></th>\n",
       "      <th>total_images</th>\n",
       "      <th>last_price</th>\n",
       "      <th>total_area</th>\n",
       "      <th>first_day_exposition</th>\n",
       "      <th>rooms</th>\n",
       "      <th>ceiling_height</th>\n",
       "      <th>floors_total</th>\n",
       "      <th>living_area</th>\n",
       "      <th>floor</th>\n",
       "      <th>is_apartment</th>\n",
       "      <th>...</th>\n",
       "      <th>kitchen_area</th>\n",
       "      <th>balcony</th>\n",
       "      <th>locality_name</th>\n",
       "      <th>airports_nearest</th>\n",
       "      <th>cityCenters_nearest</th>\n",
       "      <th>parks_around3000</th>\n",
       "      <th>parks_nearest</th>\n",
       "      <th>ponds_around3000</th>\n",
       "      <th>ponds_nearest</th>\n",
       "      <th>days_exposition</th>\n",
       "    </tr>\n",
       "  </thead>\n",
       "  <tbody>\n",
       "    <tr>\n",
       "      <td>0</td>\n",
       "      <td>20</td>\n",
       "      <td>13000000.0</td>\n",
       "      <td>108.0</td>\n",
       "      <td>2019-03-07</td>\n",
       "      <td>3</td>\n",
       "      <td>2.70</td>\n",
       "      <td>16.0</td>\n",
       "      <td>51.0</td>\n",
       "      <td>8</td>\n",
       "      <td>NaN</td>\n",
       "      <td>...</td>\n",
       "      <td>25.0</td>\n",
       "      <td>NaN</td>\n",
       "      <td>Санкт-Петербург</td>\n",
       "      <td>18863.0</td>\n",
       "      <td>16028.0</td>\n",
       "      <td>1.0</td>\n",
       "      <td>482.0</td>\n",
       "      <td>2.0</td>\n",
       "      <td>755.0</td>\n",
       "      <td>NaN</td>\n",
       "    </tr>\n",
       "    <tr>\n",
       "      <td>1</td>\n",
       "      <td>7</td>\n",
       "      <td>3350000.0</td>\n",
       "      <td>40.4</td>\n",
       "      <td>2018-12-04</td>\n",
       "      <td>1</td>\n",
       "      <td>NaN</td>\n",
       "      <td>11.0</td>\n",
       "      <td>18.6</td>\n",
       "      <td>1</td>\n",
       "      <td>NaN</td>\n",
       "      <td>...</td>\n",
       "      <td>11.0</td>\n",
       "      <td>2.0</td>\n",
       "      <td>посёлок Шушары</td>\n",
       "      <td>12817.0</td>\n",
       "      <td>18603.0</td>\n",
       "      <td>0.0</td>\n",
       "      <td>NaN</td>\n",
       "      <td>0.0</td>\n",
       "      <td>NaN</td>\n",
       "      <td>81.0</td>\n",
       "    </tr>\n",
       "    <tr>\n",
       "      <td>2</td>\n",
       "      <td>10</td>\n",
       "      <td>5196000.0</td>\n",
       "      <td>56.0</td>\n",
       "      <td>2015-08-20</td>\n",
       "      <td>2</td>\n",
       "      <td>NaN</td>\n",
       "      <td>5.0</td>\n",
       "      <td>34.3</td>\n",
       "      <td>4</td>\n",
       "      <td>NaN</td>\n",
       "      <td>...</td>\n",
       "      <td>8.3</td>\n",
       "      <td>0.0</td>\n",
       "      <td>Санкт-Петербург</td>\n",
       "      <td>21741.0</td>\n",
       "      <td>13933.0</td>\n",
       "      <td>1.0</td>\n",
       "      <td>90.0</td>\n",
       "      <td>2.0</td>\n",
       "      <td>574.0</td>\n",
       "      <td>558.0</td>\n",
       "    </tr>\n",
       "    <tr>\n",
       "      <td>3</td>\n",
       "      <td>0</td>\n",
       "      <td>64900000.0</td>\n",
       "      <td>159.0</td>\n",
       "      <td>2015-07-24</td>\n",
       "      <td>3</td>\n",
       "      <td>NaN</td>\n",
       "      <td>14.0</td>\n",
       "      <td>NaN</td>\n",
       "      <td>9</td>\n",
       "      <td>NaN</td>\n",
       "      <td>...</td>\n",
       "      <td>NaN</td>\n",
       "      <td>0.0</td>\n",
       "      <td>Санкт-Петербург</td>\n",
       "      <td>28098.0</td>\n",
       "      <td>6800.0</td>\n",
       "      <td>2.0</td>\n",
       "      <td>84.0</td>\n",
       "      <td>3.0</td>\n",
       "      <td>234.0</td>\n",
       "      <td>424.0</td>\n",
       "    </tr>\n",
       "    <tr>\n",
       "      <td>4</td>\n",
       "      <td>2</td>\n",
       "      <td>10000000.0</td>\n",
       "      <td>100.0</td>\n",
       "      <td>2018-06-19</td>\n",
       "      <td>2</td>\n",
       "      <td>3.03</td>\n",
       "      <td>14.0</td>\n",
       "      <td>32.0</td>\n",
       "      <td>13</td>\n",
       "      <td>NaN</td>\n",
       "      <td>...</td>\n",
       "      <td>41.0</td>\n",
       "      <td>NaN</td>\n",
       "      <td>Санкт-Петербург</td>\n",
       "      <td>31856.0</td>\n",
       "      <td>8098.0</td>\n",
       "      <td>2.0</td>\n",
       "      <td>112.0</td>\n",
       "      <td>1.0</td>\n",
       "      <td>48.0</td>\n",
       "      <td>121.0</td>\n",
       "    </tr>\n",
       "  </tbody>\n",
       "</table>\n",
       "<p>5 rows × 22 columns</p>\n",
       "</div>"
      ],
      "text/plain": [
       "   total_images  last_price  total_area first_day_exposition  rooms  \\\n",
       "0            20  13000000.0       108.0           2019-03-07      3   \n",
       "1             7   3350000.0        40.4           2018-12-04      1   \n",
       "2            10   5196000.0        56.0           2015-08-20      2   \n",
       "3             0  64900000.0       159.0           2015-07-24      3   \n",
       "4             2  10000000.0       100.0           2018-06-19      2   \n",
       "\n",
       "   ceiling_height  floors_total  living_area  floor is_apartment  ...  \\\n",
       "0            2.70          16.0         51.0      8          NaN  ...   \n",
       "1             NaN          11.0         18.6      1          NaN  ...   \n",
       "2             NaN           5.0         34.3      4          NaN  ...   \n",
       "3             NaN          14.0          NaN      9          NaN  ...   \n",
       "4            3.03          14.0         32.0     13          NaN  ...   \n",
       "\n",
       "   kitchen_area  balcony    locality_name  airports_nearest  \\\n",
       "0          25.0      NaN  Санкт-Петербург           18863.0   \n",
       "1          11.0      2.0   посёлок Шушары           12817.0   \n",
       "2           8.3      0.0  Санкт-Петербург           21741.0   \n",
       "3           NaN      0.0  Санкт-Петербург           28098.0   \n",
       "4          41.0      NaN  Санкт-Петербург           31856.0   \n",
       "\n",
       "  cityCenters_nearest  parks_around3000  parks_nearest  ponds_around3000  \\\n",
       "0             16028.0               1.0          482.0               2.0   \n",
       "1             18603.0               0.0            NaN               0.0   \n",
       "2             13933.0               1.0           90.0               2.0   \n",
       "3              6800.0               2.0           84.0               3.0   \n",
       "4              8098.0               2.0          112.0               1.0   \n",
       "\n",
       "   ponds_nearest  days_exposition  \n",
       "0          755.0              NaN  \n",
       "1            NaN             81.0  \n",
       "2          574.0            558.0  \n",
       "3          234.0            424.0  \n",
       "4           48.0            121.0  \n",
       "\n",
       "[5 rows x 22 columns]"
      ]
     },
     "execution_count": 2,
     "metadata": {},
     "output_type": "execute_result"
    }
   ],
   "source": [
    "data['first_day_exposition'] = pd.to_datetime(data['first_day_exposition'], format='%Y-%m-%dT%H:%M:%S')\n",
    "data.head()"
   ]
  },
  {
   "cell_type": "markdown",
   "metadata": {},
   "source": [
    "**2. Проверка наличия дубликатов**  \n",
    "Проверим наличие дубликатов, если их нет, то нам повезло."
   ]
  },
  {
   "cell_type": "code",
   "execution_count": 3,
   "metadata": {},
   "outputs": [
    {
     "data": {
      "text/plain": [
       "0"
      ]
     },
     "execution_count": 3,
     "metadata": {},
     "output_type": "execute_result"
    }
   ],
   "source": [
    "data.duplicated().sum()"
   ]
  },
  {
   "cell_type": "markdown",
   "metadata": {},
   "source": [
    "**3. Работа с пропусками**  \n",
    "Изучим столбцы таблицы на наличие пропусков данных. В первую очередь обратим внимание на столбцы с параметрами, которые нужны для исследования - площадь, цена, число комнат, высота потолков."
   ]
  },
  {
   "cell_type": "code",
   "execution_count": 4,
   "metadata": {},
   "outputs": [
    {
     "data": {
      "text/plain": [
       "total_images                0\n",
       "last_price                  0\n",
       "total_area                  0\n",
       "first_day_exposition        0\n",
       "rooms                       0\n",
       "ceiling_height           9195\n",
       "floors_total               86\n",
       "living_area              1903\n",
       "floor                       0\n",
       "is_apartment            20924\n",
       "studio                      0\n",
       "open_plan                   0\n",
       "kitchen_area             2278\n",
       "balcony                 11519\n",
       "locality_name              49\n",
       "airports_nearest         5542\n",
       "cityCenters_nearest      5519\n",
       "parks_around3000         5518\n",
       "parks_nearest           15620\n",
       "ponds_around3000         5518\n",
       "ponds_nearest           14589\n",
       "days_exposition          3181\n",
       "dtype: int64"
      ]
     },
     "execution_count": 4,
     "metadata": {},
     "output_type": "execute_result"
    }
   ],
   "source": [
    "data.isna().sum()"
   ]
  },
  {
   "cell_type": "markdown",
   "metadata": {},
   "source": [
    "В таблице есть случайные и неслучайные пропуски:  \n",
    "  1. В столбцах locality_name и floors_total пропусков немного, поэтому строки с ними можно удалить на данном этапе;\n",
    "  2. В столбце balcony пропуски могут связаны с отсутствием балконов в квартирах, заменим их на нули;\n",
    "  3. В столбцах airports_nearest, cityCenters_nearest, parks_around3000, ponds_around3000, ponds_nearest заполним пропуски медианными значениями в связи с их не очень большой важностью.\n",
    "  4. В столбцах ceiling_height, living_area, kitchen_area пропусков очень много, данные в этих столбцах важны. Нужно будет думать, как их заполнить.\n",
    "  5. "
   ]
  },
  {
   "cell_type": "markdown",
   "metadata": {},
   "source": [
    "* Удалим строки с пропусками в столбцах locality_name и floors_total*"
   ]
  },
  {
   "cell_type": "code",
   "execution_count": 5,
   "metadata": {},
   "outputs": [
    {
     "data": {
      "text/plain": [
       "total_images                0\n",
       "last_price                  0\n",
       "total_area                  0\n",
       "first_day_exposition        0\n",
       "rooms                       0\n",
       "ceiling_height           9084\n",
       "floors_total                0\n",
       "living_area              1865\n",
       "floor                       0\n",
       "is_apartment            20805\n",
       "studio                      0\n",
       "open_plan                   0\n",
       "kitchen_area             2222\n",
       "balcony                 11475\n",
       "locality_name               0\n",
       "airports_nearest         5524\n",
       "cityCenters_nearest      5501\n",
       "parks_around3000         5500\n",
       "parks_nearest           15535\n",
       "ponds_around3000         5500\n",
       "ponds_nearest           14529\n",
       "days_exposition          3171\n",
       "dtype: int64"
      ]
     },
     "execution_count": 5,
     "metadata": {},
     "output_type": "execute_result"
    }
   ],
   "source": [
    "data.dropna(subset = ['locality_name', 'floors_total'], inplace = True)\n",
    "data.isna().sum()"
   ]
  },
  {
   "cell_type": "markdown",
   "metadata": {},
   "source": [
    "* В столбце balcony пропуски могут связаны с отсутствием балконов в квартирах, заменим их на нули;"
   ]
  },
  {
   "cell_type": "code",
   "execution_count": 6,
   "metadata": {},
   "outputs": [
    {
     "data": {
      "text/plain": [
       "0.0    15155\n",
       "1.0     4187\n",
       "2.0     3656\n",
       "5.0      304\n",
       "4.0      182\n",
       "3.0       81\n",
       "Name: balcony, dtype: int64"
      ]
     },
     "execution_count": 6,
     "metadata": {},
     "output_type": "execute_result"
    }
   ],
   "source": [
    "data['balcony'] = data['balcony'].fillna(value=0) \n",
    "data['balcony'].value_counts()"
   ]
  },
  {
   "cell_type": "markdown",
   "metadata": {},
   "source": [
    "* В столбцах airports_nearest, parks_around3000, ponds_around3000, ponds_nearest заполним пропуски медианными значениями в связи с их не очень большой важностью."
   ]
  },
  {
   "cell_type": "code",
   "execution_count": 7,
   "metadata": {},
   "outputs": [
    {
     "data": {
      "text/plain": [
       "total_images                0\n",
       "last_price                  0\n",
       "total_area                  0\n",
       "first_day_exposition        0\n",
       "rooms                       0\n",
       "ceiling_height           9084\n",
       "floors_total                0\n",
       "living_area              1865\n",
       "floor                       0\n",
       "is_apartment            20805\n",
       "studio                      0\n",
       "open_plan                   0\n",
       "kitchen_area             2222\n",
       "balcony                     0\n",
       "locality_name               0\n",
       "airports_nearest            0\n",
       "cityCenters_nearest      5501\n",
       "parks_around3000            0\n",
       "parks_nearest               0\n",
       "ponds_around3000            0\n",
       "ponds_nearest               0\n",
       "days_exposition          3171\n",
       "dtype: int64"
      ]
     },
     "execution_count": 7,
     "metadata": {},
     "output_type": "execute_result"
    }
   ],
   "source": [
    "#Найдем медианы для указанных столбцов\n",
    "airports_nearest_median = data['airports_nearest'].median()\n",
    "parks_around3000_median = data['parks_around3000'].median()\n",
    "parks_nearest_median = data['parks_nearest'].median()\n",
    "ponds_around3000_median = data['ponds_around3000'].median()\n",
    "ponds_nearest_median = data['ponds_nearest'].median()\n",
    "\n",
    "#Заменим пропуски на медианы\n",
    "data['airports_nearest'] = data['airports_nearest'].fillna(airports_nearest_median)\n",
    "data['parks_around3000'] = data['parks_around3000'].fillna(parks_around3000_median)\n",
    "data['parks_nearest'] = data['parks_nearest'].fillna(parks_nearest_median)\n",
    "data['ponds_around3000'] = data['ponds_around3000'].fillna(ponds_around3000_median)\n",
    "data['ponds_nearest'] = data['ponds_nearest'].fillna(ponds_nearest_median)\n",
    "\n",
    "#Изучим таблицу\n",
    "data.isna().sum()"
   ]
  },
  {
   "cell_type": "markdown",
   "metadata": {},
   "source": [
    "* Значения в столбце cityCenters_distance важны для дальнейшего анализа, пропусков в столбце много, значения между собой не связанные, поэтому примем решение не заменять их, а добавить столбец, в котором будет указано наличие или отсутствие значений и по которому вдальнейшем можно будет фильтровать таблицу"
   ]
  },
  {
   "cell_type": "code",
   "execution_count": 8,
   "metadata": {},
   "outputs": [
    {
     "data": {
      "text/html": [
       "<div>\n",
       "<style scoped>\n",
       "    .dataframe tbody tr th:only-of-type {\n",
       "        vertical-align: middle;\n",
       "    }\n",
       "\n",
       "    .dataframe tbody tr th {\n",
       "        vertical-align: top;\n",
       "    }\n",
       "\n",
       "    .dataframe thead th {\n",
       "        text-align: right;\n",
       "    }\n",
       "</style>\n",
       "<table border=\"1\" class=\"dataframe\">\n",
       "  <thead>\n",
       "    <tr style=\"text-align: right;\">\n",
       "      <th></th>\n",
       "      <th>total_images</th>\n",
       "      <th>last_price</th>\n",
       "      <th>total_area</th>\n",
       "      <th>first_day_exposition</th>\n",
       "      <th>rooms</th>\n",
       "      <th>ceiling_height</th>\n",
       "      <th>floors_total</th>\n",
       "      <th>living_area</th>\n",
       "      <th>floor</th>\n",
       "      <th>is_apartment</th>\n",
       "      <th>...</th>\n",
       "      <th>balcony</th>\n",
       "      <th>locality_name</th>\n",
       "      <th>airports_nearest</th>\n",
       "      <th>cityCenters_nearest</th>\n",
       "      <th>parks_around3000</th>\n",
       "      <th>parks_nearest</th>\n",
       "      <th>ponds_around3000</th>\n",
       "      <th>ponds_nearest</th>\n",
       "      <th>days_exposition</th>\n",
       "      <th>cityCenters_distance</th>\n",
       "    </tr>\n",
       "  </thead>\n",
       "  <tbody>\n",
       "    <tr>\n",
       "      <td>0</td>\n",
       "      <td>20</td>\n",
       "      <td>13000000.0</td>\n",
       "      <td>108.0</td>\n",
       "      <td>2019-03-07</td>\n",
       "      <td>3</td>\n",
       "      <td>2.70</td>\n",
       "      <td>16.0</td>\n",
       "      <td>51.0</td>\n",
       "      <td>8</td>\n",
       "      <td>NaN</td>\n",
       "      <td>...</td>\n",
       "      <td>0.0</td>\n",
       "      <td>Санкт-Петербург</td>\n",
       "      <td>18863.0</td>\n",
       "      <td>16028.0</td>\n",
       "      <td>1.0</td>\n",
       "      <td>482.0</td>\n",
       "      <td>2.0</td>\n",
       "      <td>755.0</td>\n",
       "      <td>NaN</td>\n",
       "      <td>1</td>\n",
       "    </tr>\n",
       "    <tr>\n",
       "      <td>1</td>\n",
       "      <td>7</td>\n",
       "      <td>3350000.0</td>\n",
       "      <td>40.4</td>\n",
       "      <td>2018-12-04</td>\n",
       "      <td>1</td>\n",
       "      <td>NaN</td>\n",
       "      <td>11.0</td>\n",
       "      <td>18.6</td>\n",
       "      <td>1</td>\n",
       "      <td>NaN</td>\n",
       "      <td>...</td>\n",
       "      <td>2.0</td>\n",
       "      <td>посёлок Шушары</td>\n",
       "      <td>12817.0</td>\n",
       "      <td>18603.0</td>\n",
       "      <td>0.0</td>\n",
       "      <td>455.0</td>\n",
       "      <td>0.0</td>\n",
       "      <td>503.0</td>\n",
       "      <td>81.0</td>\n",
       "      <td>1</td>\n",
       "    </tr>\n",
       "    <tr>\n",
       "      <td>2</td>\n",
       "      <td>10</td>\n",
       "      <td>5196000.0</td>\n",
       "      <td>56.0</td>\n",
       "      <td>2015-08-20</td>\n",
       "      <td>2</td>\n",
       "      <td>NaN</td>\n",
       "      <td>5.0</td>\n",
       "      <td>34.3</td>\n",
       "      <td>4</td>\n",
       "      <td>NaN</td>\n",
       "      <td>...</td>\n",
       "      <td>0.0</td>\n",
       "      <td>Санкт-Петербург</td>\n",
       "      <td>21741.0</td>\n",
       "      <td>13933.0</td>\n",
       "      <td>1.0</td>\n",
       "      <td>90.0</td>\n",
       "      <td>2.0</td>\n",
       "      <td>574.0</td>\n",
       "      <td>558.0</td>\n",
       "      <td>1</td>\n",
       "    </tr>\n",
       "    <tr>\n",
       "      <td>3</td>\n",
       "      <td>0</td>\n",
       "      <td>64900000.0</td>\n",
       "      <td>159.0</td>\n",
       "      <td>2015-07-24</td>\n",
       "      <td>3</td>\n",
       "      <td>NaN</td>\n",
       "      <td>14.0</td>\n",
       "      <td>NaN</td>\n",
       "      <td>9</td>\n",
       "      <td>NaN</td>\n",
       "      <td>...</td>\n",
       "      <td>0.0</td>\n",
       "      <td>Санкт-Петербург</td>\n",
       "      <td>28098.0</td>\n",
       "      <td>6800.0</td>\n",
       "      <td>2.0</td>\n",
       "      <td>84.0</td>\n",
       "      <td>3.0</td>\n",
       "      <td>234.0</td>\n",
       "      <td>424.0</td>\n",
       "      <td>1</td>\n",
       "    </tr>\n",
       "    <tr>\n",
       "      <td>4</td>\n",
       "      <td>2</td>\n",
       "      <td>10000000.0</td>\n",
       "      <td>100.0</td>\n",
       "      <td>2018-06-19</td>\n",
       "      <td>2</td>\n",
       "      <td>3.03</td>\n",
       "      <td>14.0</td>\n",
       "      <td>32.0</td>\n",
       "      <td>13</td>\n",
       "      <td>NaN</td>\n",
       "      <td>...</td>\n",
       "      <td>0.0</td>\n",
       "      <td>Санкт-Петербург</td>\n",
       "      <td>31856.0</td>\n",
       "      <td>8098.0</td>\n",
       "      <td>2.0</td>\n",
       "      <td>112.0</td>\n",
       "      <td>1.0</td>\n",
       "      <td>48.0</td>\n",
       "      <td>121.0</td>\n",
       "      <td>1</td>\n",
       "    </tr>\n",
       "  </tbody>\n",
       "</table>\n",
       "<p>5 rows × 23 columns</p>\n",
       "</div>"
      ],
      "text/plain": [
       "   total_images  last_price  total_area first_day_exposition  rooms  \\\n",
       "0            20  13000000.0       108.0           2019-03-07      3   \n",
       "1             7   3350000.0        40.4           2018-12-04      1   \n",
       "2            10   5196000.0        56.0           2015-08-20      2   \n",
       "3             0  64900000.0       159.0           2015-07-24      3   \n",
       "4             2  10000000.0       100.0           2018-06-19      2   \n",
       "\n",
       "   ceiling_height  floors_total  living_area  floor is_apartment  ...  \\\n",
       "0            2.70          16.0         51.0      8          NaN  ...   \n",
       "1             NaN          11.0         18.6      1          NaN  ...   \n",
       "2             NaN           5.0         34.3      4          NaN  ...   \n",
       "3             NaN          14.0          NaN      9          NaN  ...   \n",
       "4            3.03          14.0         32.0     13          NaN  ...   \n",
       "\n",
       "   balcony    locality_name  airports_nearest  cityCenters_nearest  \\\n",
       "0      0.0  Санкт-Петербург           18863.0              16028.0   \n",
       "1      2.0   посёлок Шушары           12817.0              18603.0   \n",
       "2      0.0  Санкт-Петербург           21741.0              13933.0   \n",
       "3      0.0  Санкт-Петербург           28098.0               6800.0   \n",
       "4      0.0  Санкт-Петербург           31856.0               8098.0   \n",
       "\n",
       "  parks_around3000  parks_nearest  ponds_around3000  ponds_nearest  \\\n",
       "0              1.0          482.0               2.0          755.0   \n",
       "1              0.0          455.0               0.0          503.0   \n",
       "2              1.0           90.0               2.0          574.0   \n",
       "3              2.0           84.0               3.0          234.0   \n",
       "4              2.0          112.0               1.0           48.0   \n",
       "\n",
       "   days_exposition  cityCenters_distance  \n",
       "0              NaN                     1  \n",
       "1             81.0                     1  \n",
       "2            558.0                     1  \n",
       "3            424.0                     1  \n",
       "4            121.0                     1  \n",
       "\n",
       "[5 rows x 23 columns]"
      ]
     },
     "execution_count": 8,
     "metadata": {},
     "output_type": "execute_result"
    }
   ],
   "source": [
    "def cityCenters(row):\n",
    "    cityCenters_dist = row['cityCenters_nearest']\n",
    "    if cityCenters_dist > 0:\n",
    "        return 1\n",
    "    return 0\n",
    "data['cityCenters_distance'] = data.apply(cityCenters, axis=1) \n",
    "cityCenters_good = data.query('cityCenters_distance == 1')\n",
    "cityCenters_good.head()"
   ]
  },
  {
   "cell_type": "markdown",
   "metadata": {},
   "source": [
    "* Изучим столбец is_apartment"
   ]
  },
  {
   "cell_type": "code",
   "execution_count": 9,
   "metadata": {},
   "outputs": [
    {
     "data": {
      "text/plain": [
       "NaN      20805\n",
       "False     2710\n",
       "True        50\n",
       "Name: is_apartment, dtype: int64"
      ]
     },
     "execution_count": 9,
     "metadata": {},
     "output_type": "execute_result"
    }
   ],
   "source": [
    "data.is_apartment.value_counts(dropna = False)"
   ]
  },
  {
   "cell_type": "markdown",
   "metadata": {},
   "source": [
    "В данном столбце в большинстве строк значения отсутствуют. В связи с тем, что в России количество апартаментов намного меньше количества квартир, заполним пропуски значением False."
   ]
  },
  {
   "cell_type": "code",
   "execution_count": 10,
   "metadata": {},
   "outputs": [
    {
     "data": {
      "text/plain": [
       "False    23515\n",
       "True        50\n",
       "Name: is_apartment, dtype: int64"
      ]
     },
     "execution_count": 10,
     "metadata": {},
     "output_type": "execute_result"
    }
   ],
   "source": [
    "data['is_apartment'] = data['is_apartment'].fillna(value=False) \n",
    "data.is_apartment.value_counts(dropna = False)"
   ]
  },
  {
   "cell_type": "markdown",
   "metadata": {},
   "source": [
    "* Изучим подробнее значения столбца ceiling_height"
   ]
  },
  {
   "cell_type": "code",
   "execution_count": 11,
   "metadata": {},
   "outputs": [
    {
     "data": {
      "text/plain": [
       "NaN      9084\n",
       "2.50     3515\n",
       "2.60     1645\n",
       "2.70     1571\n",
       "3.00     1108\n",
       "         ... \n",
       "26.00       1\n",
       "3.88        1\n",
       "3.29        1\n",
       "3.83        1\n",
       "3.58        1\n",
       "Name: ceiling_height, Length: 184, dtype: int64"
      ]
     },
     "execution_count": 11,
     "metadata": {},
     "output_type": "execute_result"
    }
   ],
   "source": [
    "data.ceiling_height.value_counts(dropna=False)"
   ]
  },
  {
   "cell_type": "markdown",
   "metadata": {},
   "source": [
    "Построим гистограмму по данным из столбца"
   ]
  },
  {
   "cell_type": "code",
   "execution_count": 12,
   "metadata": {},
   "outputs": [
    {
     "name": "stdout",
     "output_type": "stream",
     "text": [
      "Медианная высота потолка: 2.65\n",
      "Средняя высота потолка: 2.77\n"
     ]
    },
    {
     "data": {
      "image/png": "[encoded data removed]",
      "text/plain": [
       "<Figure size 432x288 with 1 Axes>"
      ]
     },
     "metadata": {
      "needs_background": "light"
     },
     "output_type": "display_data"
    }
   ],
   "source": [
    "data['ceiling_height'].hist(bins=20, range=(2.4, 3.5))\n",
    "print('Медианная высота потолка: {:.2f}'.format(data['ceiling_height'].median()))\n",
    "print('Средняя высота потолка: {:.2f}'.format(data['ceiling_height'].mean()))"
   ]
  },
  {
   "cell_type": "markdown",
   "metadata": {},
   "source": [
    "В столбце большое количество пустых значений. Заменить их на значение медианы или среднего нельзя, так как это очень сильно повлияет на выборку. Компромиссным решением будет заменить их с помощью метода interpolate по методу метод стохастической линейной регрессии. После этого проверим сильно ли изменилась гистограмма."
   ]
  },
  {
   "cell_type": "code",
   "execution_count": 13,
   "metadata": {},
   "outputs": [
    {
     "data": {
      "text/plain": [
       "45.0      879\n",
       "60.0      538\n",
       "7.0       234\n",
       "30.0      208\n",
       "90.0      200\n",
       "         ... \n",
       "1355.0      1\n",
       "873.0       1\n",
       "730.0       1\n",
       "976.0       1\n",
       "773.0       1\n",
       "Name: days_exposition, Length: 1139, dtype: int64"
      ]
     },
     "execution_count": 13,
     "metadata": {},
     "output_type": "execute_result"
    }
   ],
   "source": [
    "data2 = data.copy(deep=True)\n",
    "data2['days_exposition'].value_counts()"
   ]
  },
  {
   "cell_type": "code",
   "execution_count": 14,
   "metadata": {},
   "outputs": [
    {
     "data": {
      "text/plain": [
       "0         True\n",
       "1        False\n",
       "2        False\n",
       "3        False\n",
       "4        False\n",
       "         ...  \n",
       "23694     True\n",
       "23695    False\n",
       "23696     True\n",
       "23697    False\n",
       "23698     True\n",
       "Name: days_exposition, Length: 23565, dtype: bool"
      ]
     },
     "execution_count": 14,
     "metadata": {},
     "output_type": "execute_result"
    }
   ],
   "source": [
    "days_exposition_bad = data2.days_exposition.isna()\n",
    "days_exposition_bad"
   ]
  },
  {
   "cell_type": "code",
   "execution_count": 15,
   "metadata": {},
   "outputs": [],
   "source": [
    "days_exposition_vals = data2[~days_exposition_bad].days_exposition.values.tolist()"
   ]
  },
  {
   "cell_type": "code",
   "execution_count": 16,
   "metadata": {},
   "outputs": [],
   "source": [
    "random.shuffle(days_exposition_vals)"
   ]
  },
  {
   "cell_type": "code",
   "execution_count": 17,
   "metadata": {},
   "outputs": [
    {
     "data": {
      "text/plain": [
       "20394"
      ]
     },
     "execution_count": 17,
     "metadata": {},
     "output_type": "execute_result"
    }
   ],
   "source": [
    "vals = len(days_exposition_vals)\n",
    "vals"
   ]
  },
  {
   "cell_type": "code",
   "execution_count": 18,
   "metadata": {},
   "outputs": [],
   "source": [
    "data2.days_exposition = data2.days_exposition.apply(lambda x : days_exposition_vals[random.randint(0,vals-1)] if x!=x else x)"
   ]
  },
  {
   "cell_type": "code",
   "execution_count": 19,
   "metadata": {},
   "outputs": [
    {
     "data": {
      "text/plain": [
       "45.0     1031\n",
       "60.0      644\n",
       "7.0       281\n",
       "30.0      238\n",
       "90.0      230\n",
       "         ... \n",
       "730.0       1\n",
       "873.0       1\n",
       "793.0       1\n",
       "768.0       1\n",
       "773.0       1\n",
       "Name: days_exposition, Length: 1139, dtype: int64"
      ]
     },
     "execution_count": 19,
     "metadata": {},
     "output_type": "execute_result"
    }
   ],
   "source": [
    "data2['days_exposition'].value_counts()"
   ]
  },
  {
   "cell_type": "code",
   "execution_count": 20,
   "metadata": {},
   "outputs": [
    {
     "name": "stderr",
     "output_type": "stream",
     "text": [
      "/opt/conda/lib/python3.7/site-packages/numpy/lib/histograms.py:839: RuntimeWarning: invalid value encountered in greater_equal\n",
      "  keep = (tmp_a >= first_edge)\n",
      "/opt/conda/lib/python3.7/site-packages/numpy/lib/histograms.py:840: RuntimeWarning: invalid value encountered in less_equal\n",
      "  keep &= (tmp_a <= last_edge)\n"
     ]
    },
    {
     "data": {
      "image/png": "[encoded data removed]",
      "text/plain": [
       "<Figure size 432x288 with 1 Axes>"
      ]
     },
     "metadata": {
      "needs_background": "light"
     },
     "output_type": "display_data"
    }
   ],
   "source": [
    "sns.distplot(data['days_exposition'], kde=False, bins=30)\n",
    "sns.distplot(data2['days_exposition'], kde=False, bins=30)\n",
    "plt.show()"
   ]
  },
  {
   "cell_type": "code",
   "execution_count": 21,
   "metadata": {},
   "outputs": [
    {
     "name": "stdout",
     "output_type": "stream",
     "text": [
      "Медианная высота потолка: 2.66\n",
      "Средняя высота потолка: 2.77\n"
     ]
    },
    {
     "data": {
      "image/png": "[encoded data removed]",
      "text/plain": [
       "<Figure size 432x288 with 1 Axes>"
      ]
     },
     "metadata": {
      "needs_background": "light"
     },
     "output_type": "display_data"
    }
   ],
   "source": [
    "data['ceiling_height'] = data['ceiling_height'].interpolate(method ='slinear', limit_direction ='forward')\n",
    "data['ceiling_height'].hist(bins=20, range=(2.4, 3.5))\n",
    "print('Медианная высота потолка: {:.2f}'.format(data['ceiling_height'].median()))\n",
    "print('Средняя высота потолка: {:.2f}'.format(data['ceiling_height'].mean()))"
   ]
  },
  {
   "cell_type": "markdown",
   "metadata": {},
   "source": [
    "Общий рисунок гистограммы не изменился. Медиана и среднее значение тоже. Остановимся на примененном методе заполнения пропусков."
   ]
  },
  {
   "cell_type": "markdown",
   "metadata": {},
   "source": [
    "Видим наличие неадекватных данных, неапример, высота потолков 27.50 и 100 метров. Отсортируем столбец по возрастанию и убыванию."
   ]
  },
  {
   "cell_type": "code",
   "execution_count": 22,
   "metadata": {},
   "outputs": [
    {
     "data": {
      "text/plain": [
       "22869    100.0\n",
       "22336     32.0\n",
       "3148      32.0\n",
       "21377     27.5\n",
       "22938     27.0\n",
       "Name: ceiling_height, dtype: float64"
      ]
     },
     "execution_count": 22,
     "metadata": {},
     "output_type": "execute_result"
    }
   ],
   "source": [
    "data['ceiling_height'].sort_values(ascending=False).head()"
   ]
  },
  {
   "cell_type": "code",
   "execution_count": 23,
   "metadata": {},
   "outputs": [
    {
     "data": {
      "text/plain": [
       "22590    1.00\n",
       "5712     1.20\n",
       "16934    1.75\n",
       "22960    2.00\n",
       "5850     2.00\n",
       "Name: ceiling_height, dtype: float64"
      ]
     },
     "execution_count": 23,
     "metadata": {},
     "output_type": "execute_result"
    }
   ],
   "source": [
    "data['ceiling_height'].sort_values(ascending=True).head()"
   ]
  },
  {
   "cell_type": "markdown",
   "metadata": {},
   "source": [
    "Примем, что минимальная высота потолка в квартире может быть 2.40 (2.50 за вычетом опускания потолка при ремонте), а максимальная высота - 4.5 метров. Значения вне этих пределов удалим. "
   ]
  },
  {
   "cell_type": "code",
   "execution_count": 24,
   "metadata": {},
   "outputs": [
    {
     "data": {
      "text/plain": [
       "7521     4.45\n",
       "8018     4.45\n",
       "7274     4.40\n",
       "6728     4.40\n",
       "11651    4.40\n",
       "Name: ceiling_height, dtype: float64"
      ]
     },
     "execution_count": 24,
     "metadata": {},
     "output_type": "execute_result"
    }
   ],
   "source": [
    "data = data.query('2.4 < ceiling_height < 4.5')\n",
    "data['ceiling_height'].sort_values(ascending=False).head()"
   ]
  },
  {
   "cell_type": "markdown",
   "metadata": {},
   "source": [
    "* Изучим подробнее значения столбцов kitchen_area и living_area"
   ]
  },
  {
   "cell_type": "code",
   "execution_count": 25,
   "metadata": {},
   "outputs": [
    {
     "data": {
      "text/html": [
       "<div>\n",
       "<style scoped>\n",
       "    .dataframe tbody tr th:only-of-type {\n",
       "        vertical-align: middle;\n",
       "    }\n",
       "\n",
       "    .dataframe tbody tr th {\n",
       "        vertical-align: top;\n",
       "    }\n",
       "\n",
       "    .dataframe thead th {\n",
       "        text-align: right;\n",
       "    }\n",
       "</style>\n",
       "<table border=\"1\" class=\"dataframe\">\n",
       "  <thead>\n",
       "    <tr style=\"text-align: right;\">\n",
       "      <th></th>\n",
       "      <th>total_images</th>\n",
       "      <th>last_price</th>\n",
       "      <th>total_area</th>\n",
       "      <th>first_day_exposition</th>\n",
       "      <th>rooms</th>\n",
       "      <th>ceiling_height</th>\n",
       "      <th>floors_total</th>\n",
       "      <th>living_area</th>\n",
       "      <th>floor</th>\n",
       "      <th>is_apartment</th>\n",
       "      <th>...</th>\n",
       "      <th>balcony</th>\n",
       "      <th>locality_name</th>\n",
       "      <th>airports_nearest</th>\n",
       "      <th>cityCenters_nearest</th>\n",
       "      <th>parks_around3000</th>\n",
       "      <th>parks_nearest</th>\n",
       "      <th>ponds_around3000</th>\n",
       "      <th>ponds_nearest</th>\n",
       "      <th>days_exposition</th>\n",
       "      <th>cityCenters_distance</th>\n",
       "    </tr>\n",
       "  </thead>\n",
       "  <tbody>\n",
       "    <tr>\n",
       "      <td>3</td>\n",
       "      <td>0</td>\n",
       "      <td>64900000.0</td>\n",
       "      <td>159.0</td>\n",
       "      <td>2015-07-24</td>\n",
       "      <td>3</td>\n",
       "      <td>2.947500</td>\n",
       "      <td>14.0</td>\n",
       "      <td>NaN</td>\n",
       "      <td>9</td>\n",
       "      <td>False</td>\n",
       "      <td>...</td>\n",
       "      <td>0.0</td>\n",
       "      <td>Санкт-Петербург</td>\n",
       "      <td>28098.0</td>\n",
       "      <td>6800.0</td>\n",
       "      <td>2.0</td>\n",
       "      <td>84.0</td>\n",
       "      <td>3.0</td>\n",
       "      <td>234.0</td>\n",
       "      <td>424.0</td>\n",
       "      <td>1</td>\n",
       "    </tr>\n",
       "    <tr>\n",
       "      <td>30</td>\n",
       "      <td>12</td>\n",
       "      <td>2200000.0</td>\n",
       "      <td>32.8</td>\n",
       "      <td>2018-02-19</td>\n",
       "      <td>1</td>\n",
       "      <td>2.833333</td>\n",
       "      <td>9.0</td>\n",
       "      <td>NaN</td>\n",
       "      <td>2</td>\n",
       "      <td>False</td>\n",
       "      <td>...</td>\n",
       "      <td>0.0</td>\n",
       "      <td>Коммунар</td>\n",
       "      <td>26757.0</td>\n",
       "      <td>NaN</td>\n",
       "      <td>0.0</td>\n",
       "      <td>455.0</td>\n",
       "      <td>1.0</td>\n",
       "      <td>503.0</td>\n",
       "      <td>63.0</td>\n",
       "      <td>0</td>\n",
       "    </tr>\n",
       "    <tr>\n",
       "      <td>37</td>\n",
       "      <td>10</td>\n",
       "      <td>1990000.0</td>\n",
       "      <td>45.8</td>\n",
       "      <td>2017-10-28</td>\n",
       "      <td>2</td>\n",
       "      <td>2.500000</td>\n",
       "      <td>5.0</td>\n",
       "      <td>NaN</td>\n",
       "      <td>1</td>\n",
       "      <td>False</td>\n",
       "      <td>...</td>\n",
       "      <td>0.0</td>\n",
       "      <td>поселок городского типа Красный Бор</td>\n",
       "      <td>26757.0</td>\n",
       "      <td>NaN</td>\n",
       "      <td>0.0</td>\n",
       "      <td>455.0</td>\n",
       "      <td>1.0</td>\n",
       "      <td>503.0</td>\n",
       "      <td>196.0</td>\n",
       "      <td>0</td>\n",
       "    </tr>\n",
       "    <tr>\n",
       "      <td>44</td>\n",
       "      <td>13</td>\n",
       "      <td>5350000.0</td>\n",
       "      <td>40.0</td>\n",
       "      <td>2018-11-18</td>\n",
       "      <td>1</td>\n",
       "      <td>2.825000</td>\n",
       "      <td>22.0</td>\n",
       "      <td>NaN</td>\n",
       "      <td>3</td>\n",
       "      <td>False</td>\n",
       "      <td>...</td>\n",
       "      <td>1.0</td>\n",
       "      <td>Санкт-Петербург</td>\n",
       "      <td>30471.0</td>\n",
       "      <td>11603.0</td>\n",
       "      <td>1.0</td>\n",
       "      <td>620.0</td>\n",
       "      <td>1.0</td>\n",
       "      <td>1152.0</td>\n",
       "      <td>NaN</td>\n",
       "      <td>1</td>\n",
       "    </tr>\n",
       "    <tr>\n",
       "      <td>59</td>\n",
       "      <td>15</td>\n",
       "      <td>6300000.0</td>\n",
       "      <td>46.5</td>\n",
       "      <td>2017-03-06</td>\n",
       "      <td>1</td>\n",
       "      <td>2.650000</td>\n",
       "      <td>13.0</td>\n",
       "      <td>NaN</td>\n",
       "      <td>13</td>\n",
       "      <td>False</td>\n",
       "      <td>...</td>\n",
       "      <td>0.0</td>\n",
       "      <td>Санкт-Петербург</td>\n",
       "      <td>11125.0</td>\n",
       "      <td>14501.0</td>\n",
       "      <td>0.0</td>\n",
       "      <td>455.0</td>\n",
       "      <td>0.0</td>\n",
       "      <td>503.0</td>\n",
       "      <td>336.0</td>\n",
       "      <td>1</td>\n",
       "    </tr>\n",
       "  </tbody>\n",
       "</table>\n",
       "<p>5 rows × 23 columns</p>\n",
       "</div>"
      ],
      "text/plain": [
       "    total_images  last_price  total_area first_day_exposition  rooms  \\\n",
       "3              0  64900000.0       159.0           2015-07-24      3   \n",
       "30            12   2200000.0        32.8           2018-02-19      1   \n",
       "37            10   1990000.0        45.8           2017-10-28      2   \n",
       "44            13   5350000.0        40.0           2018-11-18      1   \n",
       "59            15   6300000.0        46.5           2017-03-06      1   \n",
       "\n",
       "    ceiling_height  floors_total  living_area  floor  is_apartment  ...  \\\n",
       "3         2.947500          14.0          NaN      9         False  ...   \n",
       "30        2.833333           9.0          NaN      2         False  ...   \n",
       "37        2.500000           5.0          NaN      1         False  ...   \n",
       "44        2.825000          22.0          NaN      3         False  ...   \n",
       "59        2.650000          13.0          NaN     13         False  ...   \n",
       "\n",
       "    balcony                        locality_name  airports_nearest  \\\n",
       "3       0.0                      Санкт-Петербург           28098.0   \n",
       "30      0.0                             Коммунар           26757.0   \n",
       "37      0.0  поселок городского типа Красный Бор           26757.0   \n",
       "44      1.0                      Санкт-Петербург           30471.0   \n",
       "59      0.0                      Санкт-Петербург           11125.0   \n",
       "\n",
       "    cityCenters_nearest parks_around3000  parks_nearest  ponds_around3000  \\\n",
       "3                6800.0              2.0           84.0               3.0   \n",
       "30                  NaN              0.0          455.0               1.0   \n",
       "37                  NaN              0.0          455.0               1.0   \n",
       "44              11603.0              1.0          620.0               1.0   \n",
       "59              14501.0              0.0          455.0               0.0   \n",
       "\n",
       "    ponds_nearest  days_exposition  cityCenters_distance  \n",
       "3           234.0            424.0                     1  \n",
       "30          503.0             63.0                     0  \n",
       "37          503.0            196.0                     0  \n",
       "44         1152.0              NaN                     1  \n",
       "59          503.0            336.0                     1  \n",
       "\n",
       "[5 rows x 23 columns]"
      ]
     },
     "execution_count": 25,
     "metadata": {},
     "output_type": "execute_result"
    }
   ],
   "source": [
    "filtered_data = data.loc[data['kitchen_area'].isna()]\n",
    "filtered_data.head()"
   ]
  },
  {
   "cell_type": "markdown",
   "metadata": {},
   "source": [
    "Пропуски в столбце kitchen_area практически всегда совпадают с пропусками в столбце living_area.  \n",
    "Найдем среднее соотношение общей площади к жилой и к площади кухни и заполним пропуски."
   ]
  },
  {
   "cell_type": "code",
   "execution_count": 26,
   "metadata": {},
   "outputs": [
    {
     "name": "stdout",
     "output_type": "stream",
     "text": [
      "Среднее отношение жилой площади к общей: 56.5%\n",
      "Среднее отношение площади кухни к общей: 18.7%\n"
     ]
    }
   ],
   "source": [
    "la_ratio = (data['living_area'] / data['total_area']).mean()\n",
    "ka_ratio = (data['kitchen_area'] / data['total_area']).mean()\n",
    "print('Среднее отношение жилой площади к общей: {:.1%}'.format(la_ratio))\n",
    "print('Среднее отношение площади кухни к общей: {:.1%}'.format(ka_ratio))"
   ]
  },
  {
   "cell_type": "markdown",
   "metadata": {},
   "source": [
    "Заполним пустые значения в столбцах kitchen_area и living_area."
   ]
  },
  {
   "cell_type": "code",
   "execution_count": 27,
   "metadata": {},
   "outputs": [
    {
     "data": {
      "text/plain": [
       "total_images               0\n",
       "last_price                 0\n",
       "total_area                 0\n",
       "first_day_exposition       0\n",
       "rooms                      0\n",
       "ceiling_height             0\n",
       "floors_total               0\n",
       "living_area                0\n",
       "floor                      0\n",
       "is_apartment               0\n",
       "studio                     0\n",
       "open_plan                  0\n",
       "kitchen_area               0\n",
       "balcony                    0\n",
       "locality_name              0\n",
       "airports_nearest           0\n",
       "cityCenters_nearest     5451\n",
       "parks_around3000           0\n",
       "parks_nearest              0\n",
       "ponds_around3000           0\n",
       "ponds_nearest              0\n",
       "days_exposition         3150\n",
       "cityCenters_distance       0\n",
       "dtype: int64"
      ]
     },
     "execution_count": 27,
     "metadata": {},
     "output_type": "execute_result"
    }
   ],
   "source": [
    "data['living_area'] = data['living_area'].fillna(data['total_area']*la_ratio)\n",
    "data['kitchen_area'] = data['kitchen_area'].fillna(data['total_area']*ka_ratio)\n",
    "data.isna().sum()"
   ]
  },
  {
   "cell_type": "markdown",
   "metadata": {},
   "source": [
    "В столбце days_exposition пропуски могут быть связан с тем, что квартира до сих пор не продана.  \n",
    "В связи с тем, что этот столбец важен для исследования, значения столбца нельзя экстраполировать друг на друга и количество пропусков не критичное, удалим строки с пропусками."
   ]
  },
  {
   "cell_type": "code",
   "execution_count": 28,
   "metadata": {},
   "outputs": [
    {
     "name": "stdout",
     "output_type": "stream",
     "text": [
      "<class 'pandas.core.frame.DataFrame'>\n",
      "Int64Index: 20280 entries, 1 to 23697\n",
      "Data columns (total 23 columns):\n",
      "total_images            20280 non-null int64\n",
      "last_price              20280 non-null float64\n",
      "total_area              20280 non-null float64\n",
      "first_day_exposition    20280 non-null datetime64[ns]\n",
      "rooms                   20280 non-null int64\n",
      "ceiling_height          20280 non-null float64\n",
      "floors_total            20280 non-null float64\n",
      "living_area             20280 non-null float64\n",
      "floor                   20280 non-null int64\n",
      "is_apartment            20280 non-null bool\n",
      "studio                  20280 non-null bool\n",
      "open_plan               20280 non-null bool\n",
      "kitchen_area            20280 non-null float64\n",
      "balcony                 20280 non-null float64\n",
      "locality_name           20280 non-null object\n",
      "airports_nearest        20280 non-null float64\n",
      "cityCenters_nearest     15684 non-null float64\n",
      "parks_around3000        20280 non-null float64\n",
      "parks_nearest           20280 non-null float64\n",
      "ponds_around3000        20280 non-null float64\n",
      "ponds_nearest           20280 non-null float64\n",
      "days_exposition         20280 non-null float64\n",
      "cityCenters_distance    20280 non-null int64\n",
      "dtypes: bool(3), datetime64[ns](1), float64(14), int64(4), object(1)\n",
      "memory usage: 3.3+ MB\n"
     ]
    }
   ],
   "source": [
    "data.dropna(subset = ['days_exposition'], inplace = True)\n",
    "data.reset_index(drop=True)\n",
    "data.info()"
   ]
  },
  {
   "cell_type": "markdown",
   "metadata": {},
   "source": [
    "* Изучим названия населенных пунктов."
   ]
  },
  {
   "cell_type": "code",
   "execution_count": 29,
   "metadata": {},
   "outputs": [
    {
     "data": {
      "text/plain": [
       "array(['посёлок Шушары', 'Санкт-Петербург', 'городской посёлок Янино-1',\n",
       "       'посёлок Парголово', 'посёлок Мурино', 'Ломоносов', 'Сертолово',\n",
       "       'Петергоф', 'Пушкин', 'деревня Кудрово', 'Коммунар', 'Колпино',\n",
       "       'поселок городского типа Красный Бор', 'Гатчина', 'поселок Мурино',\n",
       "       'деревня Фёдоровское', 'Выборг', 'Кронштадт', 'Кировск',\n",
       "       'деревня Новое Девяткино', 'посёлок Металлострой',\n",
       "       'посёлок городского типа Сиверский', 'поселок Молодцово',\n",
       "       'поселок городского типа Кузьмоловский', 'Павловск',\n",
       "       'деревня Пикколово', 'Всеволожск', 'Кингисепп', 'Сестрорецк',\n",
       "       'деревня Куттузи', 'поселок городского типа Ефимовский',\n",
       "       'посёлок Плодовое', 'деревня Заклинье', 'поселок Торковичи',\n",
       "       'Красное Село', 'посёлок Понтонный', 'Сясьстрой', 'Приозерск',\n",
       "       'Сланцы', 'село Путилово', 'Ивангород', 'Шлиссельбург',\n",
       "       'Никольское', 'Зеленогорск', 'Сосновый Бор', 'поселок Новый Свет',\n",
       "       'деревня Оржицы', 'деревня Кальтино', 'поселок Романовка',\n",
       "       'посёлок Бугры', 'поселок Бугры', 'поселок городского типа Рощино',\n",
       "       'Луга', 'Волосово', 'Отрадное', 'село Павлово', 'поселок Оредеж',\n",
       "       'село Копорье', 'посёлок городского типа Красный Бор', 'Кудрово',\n",
       "       'Тихвин', 'деревня Нурма', 'поселок городского типа Синявино',\n",
       "       'Тосно', 'посёлок Стрельна', 'посёлок Александровская',\n",
       "       'деревня Лопухинка', 'Пикалёво', 'поселок Терволово',\n",
       "       'поселок городского типа Советский', 'посёлок Аннино', 'Кириши',\n",
       "       'Бокситогорск', 'посёлок городского типа Токсово',\n",
       "       'поселок Сельцо', 'посёлок городского типа Вырица',\n",
       "       'деревня Келози', 'деревня Вартемяги',\n",
       "       'посёлок городского типа Кузьмоловский', 'посёлок Тельмана',\n",
       "       'поселок Севастьяново', 'городской поселок Большая Ижора',\n",
       "       'городской посёлок Павлово', 'деревня Агалатово',\n",
       "       'посёлок Новогорелово', 'деревня Старая', 'Волхов',\n",
       "       'поселок городского типа Вырица', 'городской посёлок Новоселье',\n",
       "       'деревня Большие Колпаны', 'деревня Горбунки', 'деревня Заневка',\n",
       "       'деревня Иссад', 'Приморск', 'деревня Мистолово',\n",
       "       'поселок Зимитицы', 'поселок Барышево', 'деревня Разметелево',\n",
       "       'поселок городского типа имени Свердлова', 'деревня Пеники',\n",
       "       'поселок Рябово', 'деревня Пудомяги', 'поселок станции Корнево',\n",
       "       'деревня Низино', 'деревня Бегуницы', 'городской посёлок Мга',\n",
       "       'деревня Колтуши', 'посёлок городского типа Рощино',\n",
       "       'деревня Малое Карлино', 'посёлок Песочный', 'деревня Аро',\n",
       "       'поселок Ильичёво', 'посёлок городского типа Тайцы',\n",
       "       'деревня Малое Верево', 'деревня Извара', 'Подпорожье',\n",
       "       'поселок станции Вещево', 'село Паша', 'деревня Калитино',\n",
       "       'посёлок городского типа Ульяновка',\n",
       "       'поселок городского типа Дубровка', 'поселок Войсковицы',\n",
       "       'посёлок городского типа имени Свердлова', 'посёлок Ропша',\n",
       "       'поселок Первомайское', 'поселок городского типа Приладожский',\n",
       "       'посёлок Щеглово', 'посёлок Гаврилово', 'Лодейное Поле',\n",
       "       'поселок городского типа Никольский',\n",
       "       'посёлок городского типа Лебяжье', 'деревня Кузьмолово',\n",
       "       'деревня Малые Колпаны', 'поселок Тельмана',\n",
       "       'посёлок Петро-Славянка', 'деревня Лаголово',\n",
       "       'городской посёлок Назия', 'посёлок Ильичёво', 'поселок Углово',\n",
       "       'поселок Старая Малукса', 'садовое товарищество Рахья',\n",
       "       'поселок Аннино', 'поселок Победа', 'деревня Старые Бегуницы',\n",
       "       'поселок Елизаветино', 'посёлок городского типа имени Морозова',\n",
       "       'поселок городского типа Рахья', 'посёлок Сапёрный',\n",
       "       'поселок Семрино', 'поселок Гаврилово', 'поселок Глажево',\n",
       "       'поселок Кобринское', 'поселок Запорожское', 'Новая Ладога',\n",
       "       'деревня Юкки', 'поселок станции Приветнинское',\n",
       "       'деревня Мануйлово', 'поселок Поляны', 'посёлок Мичуринское',\n",
       "       'деревня Лесколово', 'деревня Белогорка', 'посёлок Новый Свет',\n",
       "       'поселок Цвылёво', 'поселок Мельниково', 'деревня Гостилицы',\n",
       "       'посёлок Пудость', 'Светогорск', 'Любань', 'поселок Селезнёво',\n",
       "       'поселок городского типа Рябово', 'Каменногорск',\n",
       "       'поселок Глебычево', 'деревня Парицы', 'поселок Жилпосёлок',\n",
       "       'посёлок городского типа Мга', 'городской поселок Янино-1',\n",
       "       'посёлок Терволово', 'поселок Стеклянный',\n",
       "       'посёлок городского типа Важины',\n",
       "       'посёлок городского типа Кузнечное', 'село Русско-Высоцкое',\n",
       "       'поселок городского типа Лебяжье',\n",
       "       'поселок городского типа Форносово', 'село Старая Ладога',\n",
       "       'поселок Житково', 'городской посёлок Виллози', 'деревня Лампово',\n",
       "       'деревня Шпаньково', 'деревня Лаврики', 'деревня Кипень',\n",
       "       'посёлок Молодёжное', 'посёлок Сосново', 'посёлок Возрождение',\n",
       "       'деревня Старосиверская', 'посёлок Кикерино',\n",
       "       'поселок Возрождение', 'деревня Старое Хинколово',\n",
       "       'посёлок Пригородный', 'посёлок Торфяное', 'посёлок Репино',\n",
       "       'городской посёлок Будогощь', 'поселок Суходолье',\n",
       "       'поселок Красная Долина', 'деревня Хапо-Ое',\n",
       "       'поселок городского типа Дружная Горка', 'деревня Гарболово',\n",
       "       'поселок Лисий Нос', 'посёлок Стеклянный', 'село Рождествено',\n",
       "       'деревня Старополье', 'посёлок Войскорово', 'посёлок Левашово',\n",
       "       'деревня Сяськелево', 'деревня Камышовка',\n",
       "       'садоводческое некоммерческое товарищество Лесная Поляна',\n",
       "       'деревня Хязельки', 'поселок Жилгородок',\n",
       "       'посёлок городского типа Павлово', 'деревня Ялгино',\n",
       "       'деревня Батово', 'поселок Новый Учхоз', 'поселок Гончарово',\n",
       "       'посёлок Сапёрное', 'посёлок Платформа 69-й километр',\n",
       "       'поселок Каложицы', 'деревня Фалилеево', 'деревня Пельгора',\n",
       "       'поселок городского типа Лесогорский', 'посёлок Белоостров',\n",
       "       'посёлок Алексеевка', 'поселок Серебрянский', 'поселок Петровское',\n",
       "       'деревня Щеглово', 'посёлок Усть-Луга', 'поселок Мичуринское',\n",
       "       'деревня Тарасово', 'поселок Кингисеппский',\n",
       "       'посёлок при железнодорожной станции Вещево', 'поселок Ушаки',\n",
       "       'деревня Торосово', 'городской посёлок Фёдоровское',\n",
       "       'посёлок Мельниково', 'поселок городского типа Назия',\n",
       "       'деревня Старая Пустошь', 'поселок Коммунары', 'поселок Починок',\n",
       "       'посёлок городского типа Вознесенье',\n",
       "       'посёлок городского типа Рябово', 'поселок Гладкое',\n",
       "       'поселок Тёсово-4', 'посёлок Жилгородок', 'деревня Бор',\n",
       "       'посёлок Лисий Нос', 'деревня Разбегаево', 'деревня Суоранда',\n",
       "       'поселок Кобралово', 'поселок городского типа Кондратьево',\n",
       "       'посёлок Кобралово', 'коттеджный поселок Счастье',\n",
       "       'поселок Любань', 'деревня Реброво', 'деревня Яльгелево',\n",
       "       'деревня Большая Вруда', 'деревня Зимитицы', 'поселок Семиозерье',\n",
       "       'поселок Совхозный', 'поселок Усть-Луга', 'посёлок Ленинское',\n",
       "       'посёлок Суйда', 'посёлок Поляны', 'деревня Нижние Осельки',\n",
       "       'посёлок станции Свирь', 'поселок Перово', 'поселок Заводской',\n",
       "       'Высоцк', 'поселок Гарболово', 'село Шум',\n",
       "       'поселок станции Лужайка', 'деревня Большая Пустомержа',\n",
       "       'поселок Красносельское', 'деревня Вахнова Кара',\n",
       "       'коттеджный поселок Кивеннапа Север', 'поселок Коробицыно',\n",
       "       'поселок Ромашки', 'посёлок городского типа Форносово',\n",
       "       'посёлок Перово', 'деревня Каськово', 'деревня Куровицы',\n",
       "       'посёлок Плоское', 'поселок Сумино',\n",
       "       'поселок городского типа Большая Ижора', 'деревня Ям-Тесово',\n",
       "       'деревня Терпилицы', 'деревня Глинка',\n",
       "       'поселок городского типа Токсово', 'деревня Ваганово',\n",
       "       'поселок Пушное', 'садовое товарищество Садко',\n",
       "       'посёлок Усть-Ижора', 'посёлок Петровское', 'деревня Выскатка',\n",
       "       'городской посёлок Свирьстрой', 'деревня Кисельня',\n",
       "       'поселок Котельский', 'посёлок Старая Малукса',\n",
       "       'деревня Трубников Бор', 'поселок Калитино',\n",
       "       'посёлок станции Громово', 'посёлок Высокоключевой',\n",
       "       'садовое товарищество Приладожский',\n",
       "       'посёлок Пансионат Зелёный Бор', 'деревня Ненимяки',\n",
       "       'поселок Пансионат Зелёный Бор', 'поселок Громово',\n",
       "       'деревня Рапполово', 'деревня Пустынка', 'деревня Русско',\n",
       "       'деревня Лупполово', 'деревня Большое Рейзино',\n",
       "       'деревня Малая Романовка', 'городской посёлок Рощино',\n",
       "       'поселок Дружноселье', 'поселок Пчевжа', 'поселок Володарское',\n",
       "       'коттеджный посёлок Лесное', 'деревня Тихковицы',\n",
       "       'деревня Борисова Грива', 'деревня Рабитицы'], dtype=object)"
      ]
     },
     "execution_count": 29,
     "metadata": {},
     "output_type": "execute_result"
    }
   ],
   "source": [
    "data['locality_name'].unique()"
   ]
  },
  {
   "cell_type": "markdown",
   "metadata": {},
   "source": [
    "Мы видим, что в названиях населенных пунктов встречаются их типы, написанные разными способами. Уберем эти типы из названий.  \n",
    "Для этого сначала создадим множество наиболее часто встречающихся типов, затем с помощью функции удалим их из названий населенных пунктов."
   ]
  },
  {
   "cell_type": "code",
   "execution_count": 30,
   "metadata": {},
   "outputs": [
    {
     "data": {
      "text/plain": [
       "Санкт-Петербург    13511\n",
       "Мурино               543\n",
       "Кудрово              437\n",
       "Шушары               407\n",
       "Всеволожск           339\n",
       "                   ...  \n",
       "Рабитицы               1\n",
       "Пельгора               1\n",
       "Шпаньково              1\n",
       "Цвылёво                1\n",
       "Тихковицы              1\n",
       "Name: loc_name, Length: 279, dtype: int64"
      ]
     },
     "execution_count": 30,
     "metadata": {},
     "output_type": "execute_result"
    }
   ],
   "source": [
    "data['locality_name'] = data['locality_name'].astype('str')\n",
    "\n",
    "types = {'посёлок','городской','деревня',\n",
    "         'поселок','городского','типа','садовое','товарищество','село','станции','город',\n",
    "         'коттеджный', 'при', 'железнодорожной'}\n",
    "def name(text):\n",
    "    line = set(text.split())\n",
    "    loc_name = line - types\n",
    "    return str(loc_name)[2:-2]\n",
    "\n",
    "data['loc_name'] = data['locality_name'].apply(name)\n",
    "data['loc_name'].value_counts()"
   ]
  },
  {
   "cell_type": "markdown",
   "metadata": {},
   "source": [
    "* Проверим значение столбца rooms"
   ]
  },
  {
   "cell_type": "code",
   "execution_count": 31,
   "metadata": {},
   "outputs": [
    {
     "data": {
      "text/plain": [
       "1     7197\n",
       "2     6825\n",
       "3     4770\n",
       "4      928\n",
       "5      248\n",
       "0      178\n",
       "6       74\n",
       "7       36\n",
       "8       11\n",
       "9        4\n",
       "14       2\n",
       "10       2\n",
       "19       1\n",
       "11       1\n",
       "12       1\n",
       "16       1\n",
       "15       1\n",
       "Name: rooms, dtype: int64"
      ]
     },
     "execution_count": 31,
     "metadata": {},
     "output_type": "execute_result"
    }
   ],
   "source": [
    "data['rooms'].value_counts()"
   ]
  },
  {
   "cell_type": "markdown",
   "metadata": {},
   "source": [
    "Видим некорретные значения 0. Удалим их."
   ]
  },
  {
   "cell_type": "code",
   "execution_count": 32,
   "metadata": {},
   "outputs": [
    {
     "data": {
      "text/plain": [
       "1    7197\n",
       "2    6825\n",
       "3    4770\n",
       "4     928\n",
       "5     248\n",
       "6      74\n",
       "7      36\n",
       "8      11\n",
       "Name: rooms, dtype: int64"
      ]
     },
     "execution_count": 32,
     "metadata": {},
     "output_type": "execute_result"
    }
   ],
   "source": [
    "data = data.loc[data['rooms'] != 0]\n",
    "data = data.loc[data['rooms'] < 9]\n",
    "cityCenters_good = cityCenters_good.loc[cityCenters_good['rooms'] != 0]\n",
    "cityCenters_good = cityCenters_good.loc[cityCenters_good['rooms'] < 9]\n",
    "data = data.reset_index(drop=True)\n",
    "cityCenters_good = cityCenters_good.reset_index(drop=True)\n",
    "data['rooms'].value_counts()"
   ]
  },
  {
   "cell_type": "markdown",
   "metadata": {},
   "source": [
    "<div style=\"border:solid  green  2px; padding: 20px\"> <h1 style=\"color: green ; margin-bottom:20px\">Комментарий наставника</h1>\n",
    "\n",
    "Вся требуемая предобработка выполнена, всё логично и точно, продолжай в том же духе!)\n"
   ]
  },
  {
   "cell_type": "markdown",
   "metadata": {},
   "source": [
    "### Шаг 3. Посчитайте и добавьте в таблицу"
   ]
  },
  {
   "cell_type": "markdown",
   "metadata": {},
   "source": [
    "**Посчитаем стоимость квадратного метра для каждого объявления и добавим в отдельный столбец**"
   ]
  },
  {
   "cell_type": "code",
   "execution_count": 33,
   "metadata": {},
   "outputs": [
    {
     "data": {
      "text/html": [
       "<div>\n",
       "<style scoped>\n",
       "    .dataframe tbody tr th:only-of-type {\n",
       "        vertical-align: middle;\n",
       "    }\n",
       "\n",
       "    .dataframe tbody tr th {\n",
       "        vertical-align: top;\n",
       "    }\n",
       "\n",
       "    .dataframe thead th {\n",
       "        text-align: right;\n",
       "    }\n",
       "</style>\n",
       "<table border=\"1\" class=\"dataframe\">\n",
       "  <thead>\n",
       "    <tr style=\"text-align: right;\">\n",
       "      <th></th>\n",
       "      <th>total_images</th>\n",
       "      <th>last_price</th>\n",
       "      <th>total_area</th>\n",
       "      <th>first_day_exposition</th>\n",
       "      <th>rooms</th>\n",
       "      <th>ceiling_height</th>\n",
       "      <th>floors_total</th>\n",
       "      <th>living_area</th>\n",
       "      <th>floor</th>\n",
       "      <th>is_apartment</th>\n",
       "      <th>...</th>\n",
       "      <th>airports_nearest</th>\n",
       "      <th>cityCenters_nearest</th>\n",
       "      <th>parks_around3000</th>\n",
       "      <th>parks_nearest</th>\n",
       "      <th>ponds_around3000</th>\n",
       "      <th>ponds_nearest</th>\n",
       "      <th>days_exposition</th>\n",
       "      <th>cityCenters_distance</th>\n",
       "      <th>loc_name</th>\n",
       "      <th>msq_price</th>\n",
       "    </tr>\n",
       "  </thead>\n",
       "  <tbody>\n",
       "    <tr>\n",
       "      <td>0</td>\n",
       "      <td>7</td>\n",
       "      <td>3350000.0</td>\n",
       "      <td>40.4</td>\n",
       "      <td>2018-12-04</td>\n",
       "      <td>1</td>\n",
       "      <td>2.7825</td>\n",
       "      <td>11.0</td>\n",
       "      <td>18.600000</td>\n",
       "      <td>1</td>\n",
       "      <td>False</td>\n",
       "      <td>...</td>\n",
       "      <td>12817.0</td>\n",
       "      <td>18603.0</td>\n",
       "      <td>0.0</td>\n",
       "      <td>455.0</td>\n",
       "      <td>0.0</td>\n",
       "      <td>503.0</td>\n",
       "      <td>81.0</td>\n",
       "      <td>1</td>\n",
       "      <td>Шушары</td>\n",
       "      <td>82920.79</td>\n",
       "    </tr>\n",
       "    <tr>\n",
       "      <td>1</td>\n",
       "      <td>10</td>\n",
       "      <td>5196000.0</td>\n",
       "      <td>56.0</td>\n",
       "      <td>2015-08-20</td>\n",
       "      <td>2</td>\n",
       "      <td>2.8650</td>\n",
       "      <td>5.0</td>\n",
       "      <td>34.300000</td>\n",
       "      <td>4</td>\n",
       "      <td>False</td>\n",
       "      <td>...</td>\n",
       "      <td>21741.0</td>\n",
       "      <td>13933.0</td>\n",
       "      <td>1.0</td>\n",
       "      <td>90.0</td>\n",
       "      <td>2.0</td>\n",
       "      <td>574.0</td>\n",
       "      <td>558.0</td>\n",
       "      <td>1</td>\n",
       "      <td>Санкт-Петербург</td>\n",
       "      <td>92785.71</td>\n",
       "    </tr>\n",
       "    <tr>\n",
       "      <td>2</td>\n",
       "      <td>0</td>\n",
       "      <td>64900000.0</td>\n",
       "      <td>159.0</td>\n",
       "      <td>2015-07-24</td>\n",
       "      <td>3</td>\n",
       "      <td>2.9475</td>\n",
       "      <td>14.0</td>\n",
       "      <td>89.796259</td>\n",
       "      <td>9</td>\n",
       "      <td>False</td>\n",
       "      <td>...</td>\n",
       "      <td>28098.0</td>\n",
       "      <td>6800.0</td>\n",
       "      <td>2.0</td>\n",
       "      <td>84.0</td>\n",
       "      <td>3.0</td>\n",
       "      <td>234.0</td>\n",
       "      <td>424.0</td>\n",
       "      <td>1</td>\n",
       "      <td>Санкт-Петербург</td>\n",
       "      <td>408176.10</td>\n",
       "    </tr>\n",
       "    <tr>\n",
       "      <td>3</td>\n",
       "      <td>2</td>\n",
       "      <td>10000000.0</td>\n",
       "      <td>100.0</td>\n",
       "      <td>2018-06-19</td>\n",
       "      <td>2</td>\n",
       "      <td>3.0300</td>\n",
       "      <td>14.0</td>\n",
       "      <td>32.000000</td>\n",
       "      <td>13</td>\n",
       "      <td>False</td>\n",
       "      <td>...</td>\n",
       "      <td>31856.0</td>\n",
       "      <td>8098.0</td>\n",
       "      <td>2.0</td>\n",
       "      <td>112.0</td>\n",
       "      <td>1.0</td>\n",
       "      <td>48.0</td>\n",
       "      <td>121.0</td>\n",
       "      <td>1</td>\n",
       "      <td>Санкт-Петербург</td>\n",
       "      <td>100000.00</td>\n",
       "    </tr>\n",
       "    <tr>\n",
       "      <td>4</td>\n",
       "      <td>10</td>\n",
       "      <td>2890000.0</td>\n",
       "      <td>30.4</td>\n",
       "      <td>2018-09-10</td>\n",
       "      <td>1</td>\n",
       "      <td>2.9240</td>\n",
       "      <td>12.0</td>\n",
       "      <td>14.400000</td>\n",
       "      <td>5</td>\n",
       "      <td>False</td>\n",
       "      <td>...</td>\n",
       "      <td>26757.0</td>\n",
       "      <td>NaN</td>\n",
       "      <td>0.0</td>\n",
       "      <td>455.0</td>\n",
       "      <td>1.0</td>\n",
       "      <td>503.0</td>\n",
       "      <td>55.0</td>\n",
       "      <td>0</td>\n",
       "      <td>Янино-1</td>\n",
       "      <td>95065.79</td>\n",
       "    </tr>\n",
       "  </tbody>\n",
       "</table>\n",
       "<p>5 rows × 25 columns</p>\n",
       "</div>"
      ],
      "text/plain": [
       "   total_images  last_price  total_area first_day_exposition  rooms  \\\n",
       "0             7   3350000.0        40.4           2018-12-04      1   \n",
       "1            10   5196000.0        56.0           2015-08-20      2   \n",
       "2             0  64900000.0       159.0           2015-07-24      3   \n",
       "3             2  10000000.0       100.0           2018-06-19      2   \n",
       "4            10   2890000.0        30.4           2018-09-10      1   \n",
       "\n",
       "   ceiling_height  floors_total  living_area  floor  is_apartment  ...  \\\n",
       "0          2.7825          11.0    18.600000      1         False  ...   \n",
       "1          2.8650           5.0    34.300000      4         False  ...   \n",
       "2          2.9475          14.0    89.796259      9         False  ...   \n",
       "3          3.0300          14.0    32.000000     13         False  ...   \n",
       "4          2.9240          12.0    14.400000      5         False  ...   \n",
       "\n",
       "   airports_nearest  cityCenters_nearest  parks_around3000  parks_nearest  \\\n",
       "0           12817.0              18603.0               0.0          455.0   \n",
       "1           21741.0              13933.0               1.0           90.0   \n",
       "2           28098.0               6800.0               2.0           84.0   \n",
       "3           31856.0               8098.0               2.0          112.0   \n",
       "4           26757.0                  NaN               0.0          455.0   \n",
       "\n",
       "  ponds_around3000  ponds_nearest  days_exposition  cityCenters_distance  \\\n",
       "0              0.0          503.0             81.0                     1   \n",
       "1              2.0          574.0            558.0                     1   \n",
       "2              3.0          234.0            424.0                     1   \n",
       "3              1.0           48.0            121.0                     1   \n",
       "4              1.0          503.0             55.0                     0   \n",
       "\n",
       "          loc_name  msq_price  \n",
       "0           Шушары   82920.79  \n",
       "1  Санкт-Петербург   92785.71  \n",
       "2  Санкт-Петербург  408176.10  \n",
       "3  Санкт-Петербург  100000.00  \n",
       "4          Янино-1   95065.79  \n",
       "\n",
       "[5 rows x 25 columns]"
      ]
     },
     "execution_count": 33,
     "metadata": {},
     "output_type": "execute_result"
    }
   ],
   "source": [
    "msq_price = data['last_price'] / data['total_area']\n",
    "data['msq_price'] = round(msq_price, 2)\n",
    "cityCenters_good['msq_price'] = round(msq_price, 2)\n",
    "data.head()"
   ]
  },
  {
   "cell_type": "markdown",
   "metadata": {},
   "source": [
    "**Создадим столбцы с указанием дня недели, месяца и года публикации объявления**"
   ]
  },
  {
   "cell_type": "code",
   "execution_count": 34,
   "metadata": {},
   "outputs": [
    {
     "data": {
      "text/plain": [
       "четверг        3693\n",
       "вторник        3547\n",
       "пятница        3444\n",
       "среда          3343\n",
       "понедельник    2988\n",
       "суббота        1632\n",
       "воскресенье    1442\n",
       "Name: weekday_name, dtype: int64"
      ]
     },
     "execution_count": 34,
     "metadata": {},
     "output_type": "execute_result"
    }
   ],
   "source": [
    "data['weekday_number'] = data['first_day_exposition'].dt.weekday\n",
    "cityCenters_good['weekday_number'] = cityCenters_good['first_day_exposition'].dt.weekday\n",
    "def weekday(row):\n",
    "    weekday_name = row['weekday_number']\n",
    "    if weekday_name == 0:\n",
    "        return 'понедельник'\n",
    "    if weekday_name == 1:\n",
    "        return 'вторник'\n",
    "    if weekday_name == 2:\n",
    "        return 'среда'\n",
    "    if weekday_name == 3:\n",
    "        return 'четверг'\n",
    "    if weekday_name == 4:\n",
    "        return 'пятница'\n",
    "    if weekday_name == 5:\n",
    "        return 'суббота'\n",
    "    if weekday_name == 6:\n",
    "        return 'воскресенье'\n",
    "data['weekday_name'] = data.apply(weekday, axis=1) \n",
    "cityCenters_good['weekday_name'] = cityCenters_good.apply(weekday, axis=1) \n",
    "data['weekday_name'].value_counts()"
   ]
  },
  {
   "cell_type": "code",
   "execution_count": 35,
   "metadata": {},
   "outputs": [
    {
     "data": {
      "text/plain": [
       "февраль     2249\n",
       "ноябрь      2104\n",
       "март        1937\n",
       "октябрь     1891\n",
       "сентябрь    1804\n",
       "июнь        1656\n",
       "август      1582\n",
       "июль        1543\n",
       "апрель      1488\n",
       "декабрь     1447\n",
       "январь      1258\n",
       "май         1130\n",
       "Name: month_name, dtype: int64"
      ]
     },
     "execution_count": 35,
     "metadata": {},
     "output_type": "execute_result"
    }
   ],
   "source": [
    "cityCenters_good['month_number'] = cityCenters_good['first_day_exposition'].dt.month\n",
    "data['month_number'] = data['first_day_exposition'].dt.month\n",
    "def month(row):\n",
    "    month_name = row['month_number']\n",
    "    if month_name == 1:\n",
    "        return 'январь'\n",
    "    if month_name == 2:\n",
    "        return 'февраль'\n",
    "    if month_name == 3:\n",
    "        return 'март'\n",
    "    if month_name == 4:\n",
    "        return 'апрель'\n",
    "    if month_name == 5:\n",
    "        return 'май'\n",
    "    if month_name == 6:\n",
    "        return 'июнь'\n",
    "    if month_name == 7:\n",
    "        return 'июль'\n",
    "    if month_name == 8:\n",
    "        return 'август'\n",
    "    if month_name == 9:\n",
    "        return 'сентябрь'\n",
    "    if month_name == 10:\n",
    "        return 'октябрь'\n",
    "    if month_name == 11:\n",
    "        return 'ноябрь'\n",
    "    if month_name == 12:\n",
    "        return 'декабрь'\n",
    "data['month_name'] = data.apply(month, axis=1) \n",
    "cityCenters_good['month_name'] = cityCenters_good.apply(month, axis=1) \n",
    "data['month_name'].value_counts()"
   ]
  },
  {
   "cell_type": "code",
   "execution_count": 36,
   "metadata": {},
   "outputs": [
    {
     "data": {
      "text/plain": [
       "2017    7740\n",
       "2018    7418\n",
       "2016    2656\n",
       "2015    1087\n",
       "2019    1071\n",
       "2014     117\n",
       "Name: year, dtype: int64"
      ]
     },
     "execution_count": 36,
     "metadata": {},
     "output_type": "execute_result"
    }
   ],
   "source": [
    "data['year'] = data['first_day_exposition'].dt.year\n",
    "cityCenters_good['year'] = cityCenters_good['first_day_exposition'].dt.year\n",
    "data['year'].value_counts()"
   ]
  },
  {
   "cell_type": "markdown",
   "metadata": {},
   "source": [
    "**Создадим столбец с указанием этажа квартиры — первый, последний, другой.**"
   ]
  },
  {
   "cell_type": "code",
   "execution_count": 37,
   "metadata": {},
   "outputs": [
    {
     "data": {
      "text/plain": [
       "другой       14887\n",
       "последний     2775\n",
       "первый        2427\n",
       "Name: floor_name, dtype: int64"
      ]
     },
     "execution_count": 37,
     "metadata": {},
     "output_type": "execute_result"
    }
   ],
   "source": [
    "def floor_type(row):\n",
    "    floor_n = row['floor']\n",
    "    floors_total_n = row['floors_total']\n",
    "    if floor_n == 1:\n",
    "        return 'первый'\n",
    "    if floor_n == floors_total_n:\n",
    "        return 'последний'\n",
    "    return 'другой'\n",
    "\n",
    "data['floor_name'] = data.apply(floor_type, axis=1) \n",
    "cityCenters_good['floor_name'] = cityCenters_good.apply(floor_type, axis=1)\n",
    "data['floor_name'].value_counts()"
   ]
  },
  {
   "cell_type": "markdown",
   "metadata": {},
   "source": [
    "**Создадим столбцы с соотношением жилой и общей площади и площади кухни к общей.**"
   ]
  },
  {
   "cell_type": "code",
   "execution_count": 38,
   "metadata": {},
   "outputs": [
    {
     "name": "stdout",
     "output_type": "stream",
     "text": [
      "<class 'pandas.core.frame.DataFrame'>\n",
      "RangeIndex: 20089 entries, 0 to 20088\n",
      "Data columns (total 33 columns):\n",
      "total_images            20089 non-null int64\n",
      "last_price              20089 non-null float64\n",
      "total_area              20089 non-null float64\n",
      "first_day_exposition    20089 non-null datetime64[ns]\n",
      "rooms                   20089 non-null int64\n",
      "ceiling_height          20089 non-null float64\n",
      "floors_total            20089 non-null float64\n",
      "living_area             20089 non-null float64\n",
      "floor                   20089 non-null int64\n",
      "is_apartment            20089 non-null bool\n",
      "studio                  20089 non-null bool\n",
      "open_plan               20089 non-null bool\n",
      "kitchen_area            20089 non-null float64\n",
      "balcony                 20089 non-null float64\n",
      "locality_name           20089 non-null object\n",
      "airports_nearest        20089 non-null float64\n",
      "cityCenters_nearest     15563 non-null float64\n",
      "parks_around3000        20089 non-null float64\n",
      "parks_nearest           20089 non-null float64\n",
      "ponds_around3000        20089 non-null float64\n",
      "ponds_nearest           20089 non-null float64\n",
      "days_exposition         20089 non-null float64\n",
      "cityCenters_distance    20089 non-null int64\n",
      "loc_name                20089 non-null object\n",
      "msq_price               20089 non-null float64\n",
      "weekday_number          20089 non-null int64\n",
      "weekday_name            20089 non-null object\n",
      "month_number            20089 non-null int64\n",
      "month_name              20089 non-null object\n",
      "year                    20089 non-null int64\n",
      "floor_name              20089 non-null object\n",
      "la_ratio                20089 non-null float64\n",
      "ka_ratio                20089 non-null float64\n",
      "dtypes: bool(3), datetime64[ns](1), float64(17), int64(7), object(5)\n",
      "memory usage: 4.7+ MB\n"
     ]
    }
   ],
   "source": [
    "#Столбец с с соотношением жилой и общей площади\n",
    "data['la_ratio'] = round(data['living_area'] / data['total_area'], 2)\n",
    "#Столбец с с соотношением площади кухни к общей\n",
    "data['ka_ratio'] = round(data['kitchen_area'] / data['total_area'], 2)\n",
    "data.info()"
   ]
  },
  {
   "cell_type": "markdown",
   "metadata": {},
   "source": [
    "<div style=\"border:solid  green  2px; padding: 20px\"> <h1 style=\"color: green ; margin-bottom:20px\">Комментарий наставника</h1>\n",
    "\n",
    "Всё посчитано верно и добавлено в таблицу, продолжай в том же духе)"
   ]
  },
  {
   "cell_type": "markdown",
   "metadata": {},
   "source": [
    "### Шаг 4. Проведите исследовательский анализ данных и выполните инструкции:"
   ]
  },
  {
   "cell_type": "markdown",
   "metadata": {},
   "source": [
    "**1. Изучение параметров: площадь, цена, число комнат, высота потолков**"
   ]
  },
  {
   "cell_type": "markdown",
   "metadata": {},
   "source": [
    "В начале анализа архива объявлений о продаже квартир в Санкт-Петербурге и соседних населённых пунктов изучим следующие параметры: площадь, цена, число комнат, высота потолков и построим гистограммы для каждого параметра."
   ]
  },
  {
   "cell_type": "markdown",
   "metadata": {},
   "source": [
    "**Гистограмма по параметру площадь квартиры**"
   ]
  },
  {
   "cell_type": "markdown",
   "metadata": {},
   "source": [
    "Создадим функцию для построения гистограммы."
   ]
  },
  {
   "cell_type": "code",
   "execution_count": 39,
   "metadata": {},
   "outputs": [],
   "source": [
    "def graph_hist(data, column, bins, xlabel, ylabel):\n",
    "    Q1 = column.quantile(0.25)\n",
    "    Q3 = column.quantile(0.75)\n",
    "    IQR = Q3 - Q1\n",
    "    fig, ax = plt.subplots()\n",
    "    column.plot(kind = 'hist', bins = bins, grid = True,\n",
    "                       range = (Q1 - IQR, Q3 + 3*IQR), figsize = (7, 4)\n",
    "                      )\n",
    "    ax.set_xlabel(xlabel)\n",
    "    ax.set_ylabel(ylabel)"
   ]
  },
  {
   "cell_type": "code",
   "execution_count": 40,
   "metadata": {},
   "outputs": [
    {
     "name": "stdout",
     "output_type": "stream",
     "text": [
      "Медианная площадь квартиры: 51.00\n",
      "Средняя площадь квартиры: 58.85\n"
     ]
    },
    {
     "data": {
      "image/png": "[encoded data removed]",
      "text/plain": [
       "<Figure size 504x288 with 1 Axes>"
      ]
     },
     "metadata": {
      "needs_background": "light"
     },
     "output_type": "display_data"
    }
   ],
   "source": [
    "graph_hist(data, data['total_area'], 30, 'Площадь квартиры', 'Количество')\n",
    "print('Медианная площадь квартиры: {:.2f}'.format(data['total_area'].median()))\n",
    "print('Средняя площадь квартиры: {:.2f}'.format(data['total_area'].mean()))"
   ]
  },
  {
   "cell_type": "markdown",
   "metadata": {},
   "source": [
    "Распределение квартир по площади похоже на распределение Пуассона. Некоторые всплески обусловлены типизацией квартир в России.  \n",
    "Начиная, примерно, с площади в 60кв.м количетсво квартир равномерно падает, после 150кв.м. составляя практически статистическую погрешность."
   ]
  },
  {
   "cell_type": "markdown",
   "metadata": {},
   "source": [
    "**Гистограмма по параметру цена квартиры**"
   ]
  },
  {
   "cell_type": "code",
   "execution_count": 41,
   "metadata": {},
   "outputs": [
    {
     "name": "stdout",
     "output_type": "stream",
     "text": [
      "Медианная цена продажи квартиры: 4550000.00\n",
      "Средняя цена продажи квартиры: 6233296.36\n"
     ]
    },
    {
     "data": {
      "text/plain": [
       "count    2.008900e+04\n",
       "mean     6.233296e+06\n",
       "std      1.040872e+07\n",
       "min      1.219000e+04\n",
       "25%      3.400000e+06\n",
       "50%      4.550000e+06\n",
       "75%      6.500000e+06\n",
       "max      7.630000e+08\n",
       "Name: last_price, dtype: float64"
      ]
     },
     "execution_count": 41,
     "metadata": {},
     "output_type": "execute_result"
    },
    {
     "data": {
      "image/png": "[encoded data removed]",
      "text/plain": [
       "<Figure size 504x288 with 1 Axes>"
      ]
     },
     "metadata": {
      "needs_background": "light"
     },
     "output_type": "display_data"
    }
   ],
   "source": [
    "graph_hist(data, data['last_price'], 30, 'Стоимость квартиры', 'Количество')\n",
    "print('Медианная цена продажи квартиры: {:.2f}'.format(data['last_price'].median()))\n",
    "print('Средняя цена продажи квартиры: {:.2f}'.format(data['last_price'].mean()))\n",
    "data['last_price'].describe()"
   ]
  },
  {
   "cell_type": "markdown",
   "metadata": {},
   "source": [
    "<div style=\"border:solid  red  2px; padding: 20px\"> <h1 style=\"color: red ; margin-bottom:20px\">Комментарий наставника</h1>\n",
    "\n",
    "Подпиши оси на всех графиках\n"
   ]
  },
  {
   "cell_type": "markdown",
   "metadata": {},
   "source": [
    "<div style=\"border:solid green 2px; padding: 20px\"> <h1 style=\"color:green; margin-bottom:20px\">Комментарий наставника</h1>\n",
    "\n",
    "Хорошо"
   ]
  },
  {
   "cell_type": "markdown",
   "metadata": {},
   "source": [
    "Распределение квартир по цене также похоже на распределение Пуассона. Стандартное отклонение небольшое. Следовательно с выборкой все в порядке."
   ]
  },
  {
   "cell_type": "markdown",
   "metadata": {},
   "source": [
    "**График по параметру количество комнат**"
   ]
  },
  {
   "cell_type": "code",
   "execution_count": 42,
   "metadata": {},
   "outputs": [
    {
     "name": "stdout",
     "output_type": "stream",
     "text": [
      "Медианное количество комнат: 2.00\n"
     ]
    },
    {
     "data": {
      "image/png": "[encoded data removed]",
      "text/plain": [
       "<Figure size 504x288 with 1 Axes>"
      ]
     },
     "metadata": {
      "needs_background": "light"
     },
     "output_type": "display_data"
    }
   ],
   "source": [
    "graph_hist(data, data['rooms'], 20, 'Количество комнат', 'Количество')\n",
    "print('Медианное количество комнат: {:.2f}'.format(data['rooms'].median()))"
   ]
  },
  {
   "cell_type": "markdown",
   "metadata": {},
   "source": [
    "Распределение по количеству комнат также является распределением Пуассона. Наибольшее количество квартир однокомнатные. Медианным количество комнат является 2 комнаты."
   ]
  },
  {
   "cell_type": "markdown",
   "metadata": {},
   "source": [
    "**Гистограмма по параметру высота потолков в квартире**"
   ]
  },
  {
   "cell_type": "code",
   "execution_count": 43,
   "metadata": {},
   "outputs": [
    {
     "name": "stdout",
     "output_type": "stream",
     "text": [
      "Медианная высота потолка: 2.65\n",
      "Средняя высота потолка: 2.72\n"
     ]
    },
    {
     "data": {
      "image/png": "[encoded data removed]",
      "text/plain": [
       "<Figure size 504x288 with 1 Axes>"
      ]
     },
     "metadata": {
      "needs_background": "light"
     },
     "output_type": "display_data"
    }
   ],
   "source": [
    "graph_hist(data, data['ceiling_height'], 30, 'Высота потолка', 'Количество')\n",
    "print('Медианная высота потолка: {:.2f}'.format(data['ceiling_height'].median()))\n",
    "print('Средняя высота потолка: {:.2f}'.format(data['ceiling_height'].mean()))"
   ]
  },
  {
   "cell_type": "markdown",
   "metadata": {},
   "source": [
    "<div style=\"border:solid  red  2px; padding: 20px\"> <h1 style=\"color: red ; margin-bottom:20px\">Комментарий наставника</h1>\n",
    "\n",
    "Надо оптимизировать построение однотипных графиков (например строить их в цикле или написать функцию)\n"
   ]
  },
  {
   "cell_type": "markdown",
   "metadata": {},
   "source": [
    "<div style=\"border:solid green 2px; padding: 20px\"> <h1 style=\"color:green; margin-bottom:20px\">Комментарий наставника</h1>\n",
    "\n",
    "верно"
   ]
  },
  {
   "cell_type": "markdown",
   "metadata": {},
   "source": [
    "В базе данных было очень много пропущенных значений высоты потолка, которые мы заменили с помощью метода стохастической линейной регрессии. После замены гистограмма столбца изменилась не сильно, все ключевые показатели остались практически неизменны. Гистограмма по аналогии с гистограммой площади квартир похожа на распределение Пуассона с некоторыми выбивающимися значениями, которые являются следствием типизации при строительстве жилых домов."
   ]
  },
  {
   "cell_type": "markdown",
   "metadata": {},
   "source": [
    "**2. Изучение параметра время продажи квартиры**"
   ]
  },
  {
   "cell_type": "code",
   "execution_count": 44,
   "metadata": {},
   "outputs": [
    {
     "data": {
      "text/plain": [
       "count    20089.000000\n",
       "mean       181.288665\n",
       "std        220.088138\n",
       "min          1.000000\n",
       "25%         45.000000\n",
       "50%         96.000000\n",
       "75%        232.000000\n",
       "max       1580.000000\n",
       "Name: days_exposition, dtype: float64"
      ]
     },
     "execution_count": 44,
     "metadata": {},
     "output_type": "execute_result"
    },
    {
     "data": {
      "image/png": "[encoded data removed]",
      "text/plain": [
       "<Figure size 432x288 with 1 Axes>"
      ]
     },
     "metadata": {
      "needs_background": "light"
     },
     "output_type": "display_data"
    }
   ],
   "source": [
    "plt.ylim(0, 1700)\n",
    "data.boxplot('days_exposition')\n",
    "data['days_exposition'].describe()"
   ]
  },
  {
   "cell_type": "markdown",
   "metadata": {},
   "source": [
    "На графике \"ящик с усами\" видно, что нижний ус упирается в 0, верхний расположен около 500 дней.   \n",
    "Максимальное значение при этом 1580 дней, что равно примерно 4,5 годам. Минимальное значение равно 1 дню - оба значения очень необычны и скорее всего являются выбросами.\n",
    "Медианным временем продажи квартиры является 96 дней, что достаточно правдоподобно.\n",
    "Среднеквадратичное отклонение выборки очень большое. Для того, чтобы понять, можно ли удалить какие-либо значения, построим гистограмму параметра. "
   ]
  },
  {
   "cell_type": "code",
   "execution_count": 45,
   "metadata": {},
   "outputs": [
    {
     "data": {
      "image/png": "[encoded data removed]",
      "text/plain": [
       "<Figure size 504x288 with 1 Axes>"
      ]
     },
     "metadata": {
      "needs_background": "light"
     },
     "output_type": "display_data"
    }
   ],
   "source": [
    "graph_hist(data, data['days_exposition'], 100, 'Длительность продажи, дни', 'Количество')"
   ]
  },
  {
   "cell_type": "markdown",
   "metadata": {},
   "source": [
    "Судя по гистограмме длительность продажи квартиры более 800 дней встречается довольно редко. С точки зрения здравого смысла, строки с данными значениями можно удалить."
   ]
  },
  {
   "cell_type": "code",
   "execution_count": 46,
   "metadata": {},
   "outputs": [],
   "source": [
    "days_exposition_good = data.query('days_exposition < 800').reset_index(drop=True)"
   ]
  },
  {
   "cell_type": "markdown",
   "metadata": {},
   "source": [
    "После того, как разобрались со слишком долгими продажами, изучим удивительно быстрые продажи.  \n",
    "Исходя из жизненного опыта можно сделать предположение, что продать квартиру быстрее, чем за 7 дней можно только сильно понизив цену, что в свою очередь во многих случаях может быть признаком мошеннических действий. Проверим это, сначала посчитав долю таких продаж в общем количестве, а потом сравнив среднюю цену продажи."
   ]
  },
  {
   "cell_type": "code",
   "execution_count": 47,
   "metadata": {},
   "outputs": [
    {
     "data": {
      "text/plain": [
       "0.02971775598586291"
      ]
     },
     "execution_count": 47,
     "metadata": {},
     "output_type": "execute_result"
    }
   ],
   "source": [
    "short_sales = data.query('days_exposition < 7')\n",
    "len(short_sales) / len(data)"
   ]
  },
  {
   "cell_type": "code",
   "execution_count": 48,
   "metadata": {},
   "outputs": [
    {
     "data": {
      "text/plain": [
       "0.14973368510129922"
      ]
     },
     "execution_count": 48,
     "metadata": {},
     "output_type": "execute_result"
    }
   ],
   "source": [
    "short_sales = data.query('days_exposition > 365')\n",
    "len(short_sales) / len(data)"
   ]
  },
  {
   "cell_type": "markdown",
   "metadata": {},
   "source": [
    "Сравним среднюю цену продажи трех категорий и посчитаем корреляцию между ценой и длительностью продажи."
   ]
  },
  {
   "cell_type": "code",
   "execution_count": 49,
   "metadata": {},
   "outputs": [
    {
     "data": {
      "text/html": [
       "<div>\n",
       "<style scoped>\n",
       "    .dataframe tbody tr th:only-of-type {\n",
       "        vertical-align: middle;\n",
       "    }\n",
       "\n",
       "    .dataframe tbody tr th {\n",
       "        vertical-align: top;\n",
       "    }\n",
       "\n",
       "    .dataframe thead tr th {\n",
       "        text-align: left;\n",
       "    }\n",
       "\n",
       "    .dataframe thead tr:last-of-type th {\n",
       "        text-align: right;\n",
       "    }\n",
       "</style>\n",
       "<table border=\"1\" class=\"dataframe\">\n",
       "  <thead>\n",
       "    <tr>\n",
       "      <th></th>\n",
       "      <th>count</th>\n",
       "      <th>mean</th>\n",
       "    </tr>\n",
       "    <tr>\n",
       "      <th></th>\n",
       "      <th>last_price</th>\n",
       "      <th>last_price</th>\n",
       "    </tr>\n",
       "    <tr>\n",
       "      <th>sale_type</th>\n",
       "      <th></th>\n",
       "      <th></th>\n",
       "    </tr>\n",
       "  </thead>\n",
       "  <tbody>\n",
       "    <tr>\n",
       "      <td>быстрая продажа</td>\n",
       "      <td>597</td>\n",
       "      <td>5.478317e+06</td>\n",
       "    </tr>\n",
       "    <tr>\n",
       "      <td>медленная продажа</td>\n",
       "      <td>3008</td>\n",
       "      <td>7.904487e+06</td>\n",
       "    </tr>\n",
       "    <tr>\n",
       "      <td>стандартная продажа</td>\n",
       "      <td>16484</td>\n",
       "      <td>5.955681e+06</td>\n",
       "    </tr>\n",
       "  </tbody>\n",
       "</table>\n",
       "</div>"
      ],
      "text/plain": [
       "                         count          mean\n",
       "                    last_price    last_price\n",
       "sale_type                                   \n",
       "быстрая продажа            597  5.478317e+06\n",
       "медленная продажа         3008  7.904487e+06\n",
       "стандартная продажа      16484  5.955681e+06"
      ]
     },
     "execution_count": 49,
     "metadata": {},
     "output_type": "execute_result"
    }
   ],
   "source": [
    "def sales_speed(row):\n",
    "    sales_days = row['days_exposition']\n",
    "    if sales_days < 7:\n",
    "        return 'быстрая продажа'\n",
    "    if sales_days > 365:\n",
    "        return 'медленная продажа'\n",
    "    return 'стандартная продажа'\n",
    "data['sale_type'] = data.apply(sales_speed, axis=1)\n",
    "days_exposition_good['sale_type'] = days_exposition_good.apply(sales_speed, axis=1)\n",
    "\n",
    "data.pivot_table(index='sale_type', values='last_price', aggfunc=['count', 'mean'])"
   ]
  },
  {
   "cell_type": "code",
   "execution_count": 50,
   "metadata": {},
   "outputs": [
    {
     "name": "stdout",
     "output_type": "stream",
     "text": [
      "Корреляция между ценой и длительностью продажи: 0.08\n"
     ]
    }
   ],
   "source": [
    "print('Корреляция между ценой и длительностью продажи: {:.2f}'.format(data['days_exposition'].corr(data['last_price'])))"
   ]
  },
  {
   "cell_type": "markdown",
   "metadata": {},
   "source": [
    "Средняя цена быстро проданных квартир достаточно сильно меньше, чем у квартир, проданных за стандартное время, а квартиры, а дорогие квартиры продаются очень долго.\n",
    "При этом коэффициент корреляции между двумя показателями очень небольшой, что достаточно странно.  \n",
    "Принимаем решение удалить данные квартир, проданные быстрее 4 дней и сравним полученные данные."
   ]
  },
  {
   "cell_type": "code",
   "execution_count": 51,
   "metadata": {},
   "outputs": [
    {
     "data": {
      "text/html": [
       "<div>\n",
       "<style scoped>\n",
       "    .dataframe tbody tr th:only-of-type {\n",
       "        vertical-align: middle;\n",
       "    }\n",
       "\n",
       "    .dataframe tbody tr th {\n",
       "        vertical-align: top;\n",
       "    }\n",
       "\n",
       "    .dataframe thead tr th {\n",
       "        text-align: left;\n",
       "    }\n",
       "\n",
       "    .dataframe thead tr:last-of-type th {\n",
       "        text-align: right;\n",
       "    }\n",
       "</style>\n",
       "<table border=\"1\" class=\"dataframe\">\n",
       "  <thead>\n",
       "    <tr>\n",
       "      <th></th>\n",
       "      <th>count</th>\n",
       "      <th>mean</th>\n",
       "    </tr>\n",
       "    <tr>\n",
       "      <th></th>\n",
       "      <th>last_price</th>\n",
       "      <th>last_price</th>\n",
       "    </tr>\n",
       "    <tr>\n",
       "      <th>sale_type</th>\n",
       "      <th></th>\n",
       "      <th></th>\n",
       "    </tr>\n",
       "  </thead>\n",
       "  <tbody>\n",
       "    <tr>\n",
       "      <td>быстрая продажа</td>\n",
       "      <td>439</td>\n",
       "      <td>5.599742e+06</td>\n",
       "    </tr>\n",
       "    <tr>\n",
       "      <td>медленная продажа</td>\n",
       "      <td>2425</td>\n",
       "      <td>7.592840e+06</td>\n",
       "    </tr>\n",
       "    <tr>\n",
       "      <td>стандартная продажа</td>\n",
       "      <td>16484</td>\n",
       "      <td>5.955681e+06</td>\n",
       "    </tr>\n",
       "  </tbody>\n",
       "</table>\n",
       "</div>"
      ],
      "text/plain": [
       "                         count          mean\n",
       "                    last_price    last_price\n",
       "sale_type                                   \n",
       "быстрая продажа            439  5.599742e+06\n",
       "медленная продажа         2425  7.592840e+06\n",
       "стандартная продажа      16484  5.955681e+06"
      ]
     },
     "execution_count": 51,
     "metadata": {},
     "output_type": "execute_result"
    }
   ],
   "source": [
    "days_exposition_good = days_exposition_good.query('days_exposition >= 4').reset_index(drop=True)\n",
    "days_exposition_good.pivot_table(index='sale_type', values='last_price', aggfunc=['count', 'mean'])"
   ]
  },
  {
   "cell_type": "code",
   "execution_count": 52,
   "metadata": {},
   "outputs": [
    {
     "name": "stdout",
     "output_type": "stream",
     "text": [
      "Корреляция между ценой и длительностью продажи: 0.07\n"
     ]
    }
   ],
   "source": [
    "print('Корреляция между ценой и длительностью продажи: {:.2f}'.format(days_exposition_good['days_exposition'].corr(days_exposition_good['last_price'])))"
   ]
  },
  {
   "cell_type": "markdown",
   "metadata": {},
   "source": [
    "Значение средней цены быстрой продажи немного выросли. Корреляция немного уменьшилась."
   ]
  },
  {
   "cell_type": "markdown",
   "metadata": {},
   "source": [
    "**3. Изучим какие факторы больше всего влияют на стоимость квартиры.**"
   ]
  },
  {
   "cell_type": "markdown",
   "metadata": {},
   "source": [
    "**Посчитаем корреляцию между ценой и другими параметрами квартир.**"
   ]
  },
  {
   "cell_type": "code",
   "execution_count": 53,
   "metadata": {},
   "outputs": [
    {
     "name": "stdout",
     "output_type": "stream",
     "text": [
      "Корреляция между ценой и общей площадью: 0.62\n",
      "Корреляция между ценой и количеством комнат: 0.34\n",
      "Корреляция между ценой и высотой потолков: 0.22\n",
      "Корреляция между ценой и количеством этажей в доме: -0.00\n",
      "Корреляция между ценой и этажом квартиры: 0.02\n",
      "Корреляция между ценой и жилой площадью: 0.56\n",
      "Корреляция между ценой и апартаменты или нет: 0.03\n",
      "Корреляция между ценой и студия или нет: -0.01\n",
      "Корреляция между ценой и площадью кухни: 0.49\n",
      "Корреляция между ценой и количеством балконов: 0.02\n",
      "Корреляция между ценой и близостью к аэропорту: -0.01\n",
      "Корреляция между ценой и близостью к центру города: -0.20\n",
      "Корреляция между ценой и количеством парков поблизости: 0.18\n",
      "Корреляция между ценой и количеством прудов поблизости: 0.13\n",
      "Корреляция между ценой и длительностью продажи: 0.08\n"
     ]
    }
   ],
   "source": [
    "print('Корреляция между ценой и общей площадью: {:.2f}'.format(data['total_area'].corr(data['last_price'])))\n",
    "print('Корреляция между ценой и количеством комнат: {:.2f}'.format(data['rooms'].corr(data['last_price'])))\n",
    "print('Корреляция между ценой и высотой потолков: {:.2f}'.format(data['ceiling_height'].corr(data['last_price'])))\n",
    "print('Корреляция между ценой и количеством этажей в доме: {:.2f}'.format(data['floors_total'].corr(data['last_price'])))\n",
    "print('Корреляция между ценой и этажом квартиры: {:.2f}'.format(data['floor'].corr(data['last_price'])))\n",
    "print('Корреляция между ценой и жилой площадью: {:.2f}'.format(data['living_area'].corr(data['last_price'])))\n",
    "print('Корреляция между ценой и апартаменты или нет: {:.2f}'.format(data['is_apartment'].corr(data['last_price'])))\n",
    "print('Корреляция между ценой и студия или нет: {:.2f}'.format(data['studio'].corr(data['last_price'])))\n",
    "print('Корреляция между ценой и площадью кухни: {:.2f}'.format(data['kitchen_area'].corr(data['last_price'])))\n",
    "print('Корреляция между ценой и количеством балконов: {:.2f}'.format(data['balcony'].corr(data['last_price'])))\n",
    "print('Корреляция между ценой и близостью к аэропорту: {:.2f}'.format(data['airports_nearest'].corr(data['last_price'])))\n",
    "print('Корреляция между ценой и близостью к центру города: {:.2f}'.format(data['cityCenters_nearest'].corr(data['last_price'])))\n",
    "print('Корреляция между ценой и количеством парков поблизости: {:.2f}'.format(data['parks_around3000'].corr(data['last_price'])))\n",
    "print('Корреляция между ценой и количеством прудов поблизости: {:.2f}'.format(data['ponds_around3000'].corr(data['last_price'])))\n",
    "print('Корреляция между ценой и длительностью продажи: {:.2f}'.format(data['days_exposition'].corr(data['last_price'])))"
   ]
  },
  {
   "cell_type": "code",
   "execution_count": 54,
   "metadata": {},
   "outputs": [
    {
     "name": "stdout",
     "output_type": "stream",
     "text": [
      "<class 'pandas.core.frame.DataFrame'>\n",
      "RangeIndex: 20089 entries, 0 to 20088\n",
      "Data columns (total 34 columns):\n",
      "total_images            20089 non-null int64\n",
      "last_price              20089 non-null float64\n",
      "total_area              20089 non-null float64\n",
      "first_day_exposition    20089 non-null datetime64[ns]\n",
      "rooms                   20089 non-null int64\n",
      "ceiling_height          20089 non-null float64\n",
      "floors_total            20089 non-null float64\n",
      "living_area             20089 non-null float64\n",
      "floor                   20089 non-null int64\n",
      "is_apartment            20089 non-null bool\n",
      "studio                  20089 non-null bool\n",
      "open_plan               20089 non-null bool\n",
      "kitchen_area            20089 non-null float64\n",
      "balcony                 20089 non-null float64\n",
      "locality_name           20089 non-null object\n",
      "airports_nearest        20089 non-null float64\n",
      "cityCenters_nearest     15563 non-null float64\n",
      "parks_around3000        20089 non-null float64\n",
      "parks_nearest           20089 non-null float64\n",
      "ponds_around3000        20089 non-null float64\n",
      "ponds_nearest           20089 non-null float64\n",
      "days_exposition         20089 non-null float64\n",
      "cityCenters_distance    20089 non-null int64\n",
      "loc_name                20089 non-null object\n",
      "msq_price               20089 non-null float64\n",
      "weekday_number          20089 non-null int64\n",
      "weekday_name            20089 non-null object\n",
      "month_number            20089 non-null int64\n",
      "month_name              20089 non-null object\n",
      "year                    20089 non-null int64\n",
      "floor_name              20089 non-null object\n",
      "la_ratio                20089 non-null float64\n",
      "ka_ratio                20089 non-null float64\n",
      "sale_type               20089 non-null object\n",
      "dtypes: bool(3), datetime64[ns](1), float64(17), int64(7), object(6)\n",
      "memory usage: 4.8+ MB\n"
     ]
    }
   ],
   "source": [
    "data.info()"
   ]
  },
  {
   "cell_type": "code",
   "execution_count": 55,
   "metadata": {},
   "outputs": [
    {
     "data": {
      "text/plain": [
       "<matplotlib.axes._subplots.AxesSubplot at 0x7f72b7f2db90>"
      ]
     },
     "execution_count": 55,
     "metadata": {},
     "output_type": "execute_result"
    },
    {
     "data": {
      "image/png": "[encoded data removed]",
      "text/plain": [
       "<Figure size 432x288 with 2 Axes>"
      ]
     },
     "metadata": {
      "needs_background": "light"
     },
     "output_type": "display_data"
    }
   ],
   "source": [
    "corr_matrix = data.drop(['total_images', 'first_day_exposition', 'floors_total',\n",
    "                      'living_area', 'is_apartment', 'studio', 'open_plan', 'locality_name', 'loc_name','weekday_name',\n",
    "                        'month_name', 'floor_name', 'sale_type'], axis = 1).corr()\n",
    "sns.heatmap(corr_matrix)"
   ]
  },
  {
   "cell_type": "markdown",
   "metadata": {},
   "source": [
    "Наиболее сильно цена квартиры зависит от площади (общей, жилой, площади кухни), следующим параметром является количество комнат и высота потолков. Также заметно влияние парков и прудов поблизости с квартирой."
   ]
  },
  {
   "cell_type": "markdown",
   "metadata": {},
   "source": [
    "**Рассмотрим подробнее влияние параметров - общая площадь, количество комнат и удаленность от центра.  \n",
    "Для этого построим графики зависимости этих параметров.**"
   ]
  },
  {
   "cell_type": "markdown",
   "metadata": {},
   "source": [
    "Построим график зависимости цены и количества комнат, предварительно создав сводную таблицу."
   ]
  },
  {
   "cell_type": "markdown",
   "metadata": {},
   "source": [
    "Создадим функцию для построения графика bar"
   ]
  },
  {
   "cell_type": "code",
   "execution_count": 56,
   "metadata": {},
   "outputs": [],
   "source": [
    "def graph_bar(data, column, xlabel, ylabel, xsize, ysize):\n",
    "    fig, ax = plt.subplots()\n",
    "    column.plot(kind = 'bar', grid = True, figsize = (xsize, ysize))\n",
    "    ax.set_xlabel(xlabel)\n",
    "    ax.set_ylabel(ylabel)"
   ]
  },
  {
   "cell_type": "code",
   "execution_count": 57,
   "metadata": {},
   "outputs": [
    {
     "data": {
      "image/png": "[encoded data removed]",
      "text/plain": [
       "<Figure size 504x288 with 1 Axes>"
      ]
     },
     "metadata": {
      "needs_background": "light"
     },
     "output_type": "display_data"
    }
   ],
   "source": [
    "rooms_price = data.pivot_table(index='rooms', values='last_price', aggfunc=['mean'])\n",
    "rooms_price.columns = ['mean_last_price']\n",
    "graph_bar(rooms_price, rooms_price['mean_last_price'], 'Кол-во комнат', 'Средняя стоимость', 7, 4)\n",
    "plt.show()"
   ]
  },
  {
   "cell_type": "markdown",
   "metadata": {},
   "source": [
    "С увеличением количества комнат средняя цена квартир пропорционально растет. При очень большом количестве комнат (>7) этот парметр теряет свое влияние на цену."
   ]
  },
  {
   "cell_type": "markdown",
   "metadata": {},
   "source": [
    "Построим диаграмму рассеяния между параметрами стоимость квадратного метра и площадь квартиры."
   ]
  },
  {
   "cell_type": "code",
   "execution_count": 58,
   "metadata": {},
   "outputs": [
    {
     "data": {
      "image/png": "[encoded data removed]",
      "text/plain": [
       "<Figure size 432x288 with 1 Axes>"
      ]
     },
     "metadata": {
      "needs_background": "light"
     },
     "output_type": "display_data"
    }
   ],
   "source": [
    "data.plot(x='total_area', y='last_price', kind='scatter', xlim=(0, 150), ylim=(0, 20000000), alpha=0.01, grid = True)\n",
    "plt.show()"
   ]
  },
  {
   "cell_type": "markdown",
   "metadata": {},
   "source": [
    "Из получившейся диаграммы рассеяния видно, что площадь также сильно влияет на цену - при увеличении площади, цена увеличивается."
   ]
  },
  {
   "cell_type": "markdown",
   "metadata": {},
   "source": [
    "Построим диаграмму рассеяния между параметрами цена и удаленность от центра."
   ]
  },
  {
   "cell_type": "code",
   "execution_count": 59,
   "metadata": {},
   "outputs": [
    {
     "data": {
      "image/png": "[encoded data removed]",
      "text/plain": [
       "<Figure size 432x288 with 1 Axes>"
      ]
     },
     "metadata": {
      "needs_background": "light"
     },
     "output_type": "display_data"
    }
   ],
   "source": [
    "cityCenters_good.plot(x='cityCenters_nearest', y='last_price', kind='scatter', \n",
    "                      xlim=(0, 50000), ylim=(0, 20000000), alpha=0.03, grid = True\n",
    "                     )\n",
    "plt.show()"
   ]
  },
  {
   "cell_type": "markdown",
   "metadata": {},
   "source": [
    "Из диаграммы видно, что наибольшее количество квартир находится на расстоянии 10-15 км от центра.  \n",
    "При приближению к центру средняя стоимость квартир растет, но это является не основным параметром, влияющим на цену."
   ]
  },
  {
   "cell_type": "markdown",
   "metadata": {},
   "source": [
    "**Изучим зависимость цены кв.м. от того, на каком этаже расположена квартира: первом, последнем или другом.**"
   ]
  },
  {
   "cell_type": "code",
   "execution_count": 60,
   "metadata": {},
   "outputs": [
    {
     "data": {
      "image/png": "[encoded data removed]",
      "text/plain": [
       "<Figure size 504x288 with 1 Axes>"
      ]
     },
     "metadata": {
      "needs_background": "light"
     },
     "output_type": "display_data"
    }
   ],
   "source": [
    "floor_apt = data.pivot_table(index='floor_name', values='last_price', aggfunc=['mean'])\n",
    "floor_apt.columns = ['mean_last_price']\n",
    "graph_bar(floor_apt, floor_apt['mean_last_price'], 'Этаж квартиры', 'Средняя стоимость', 7, 4)"
   ]
  },
  {
   "cell_type": "markdown",
   "metadata": {},
   "source": [
    "Из графика видно, что средняя цена квартир, находящихся на первом этаже сильно ниже остальных квартир. \n",
    "Расположение квартиры на последнем этаже на цену не влияет."
   ]
  },
  {
   "cell_type": "markdown",
   "metadata": {},
   "source": [
    "**Изучим зависимость от даты размещения: дня недели, месяца и года.**"
   ]
  },
  {
   "cell_type": "markdown",
   "metadata": {},
   "source": [
    "* Построим график зависимости средней цены продажи от года размещения объявления."
   ]
  },
  {
   "cell_type": "code",
   "execution_count": 61,
   "metadata": {},
   "outputs": [
    {
     "data": {
      "image/png": "[encoded data removed]",
      "text/plain": [
       "<Figure size 504x288 with 1 Axes>"
      ]
     },
     "metadata": {
      "needs_background": "light"
     },
     "output_type": "display_data"
    }
   ],
   "source": [
    "year_sale = data.pivot_table(index='year', values='last_price', aggfunc=['mean'])\n",
    "year_sale.columns = ['mean_last_price']\n",
    "graph_bar(year_sale, year_sale['mean_last_price'], 'Год объявления', 'Средняя стоимость', 7, 4)"
   ]
  },
  {
   "cell_type": "markdown",
   "metadata": {},
   "source": [
    "Явно видно падение средних цен квартир на отрезке с 2014 года по 2018 год.  \n",
    "Причина - стагнация российской экономики и снижение покупательской способности населения.\n",
    "В 2019 году наметился небольшой рост, является ли это сменой тренда пока сказать нельзя."
   ]
  },
  {
   "cell_type": "markdown",
   "metadata": {},
   "source": [
    "* Построим график зависимости средней цены продажи от месяца размещения объявления."
   ]
  },
  {
   "cell_type": "code",
   "execution_count": 62,
   "metadata": {},
   "outputs": [
    {
     "data": {
      "image/png": "[encoded data removed]",
      "text/plain": [
       "<Figure size 504x288 with 1 Axes>"
      ]
     },
     "metadata": {
      "needs_background": "light"
     },
     "output_type": "display_data"
    }
   ],
   "source": [
    "month_sale = data.pivot_table(index='month_name', values='last_price', aggfunc=['mean'])\n",
    "month_sale.columns = ['mean_last_price']\n",
    "graph_bar(month_sale, month_sale['mean_last_price'], 'Месяц продажи', 'Средняя стоимость', 7, 4)"
   ]
  },
  {
   "cell_type": "markdown",
   "metadata": {},
   "source": [
    "Календарный месяц размещения объявления не сильно влияет на стоимость кв. метра недвижимости. Ярко выраженных тенденций не видно. Единственное, можно сказать, что максимальная средняя цена наблюдается в сентябре."
   ]
  },
  {
   "cell_type": "markdown",
   "metadata": {},
   "source": [
    "* Построим график зависимости средней цены продажи от дня размещения объявления."
   ]
  },
  {
   "cell_type": "markdown",
   "metadata": {},
   "source": [
    "Календарный месяц размещения объявления не сильно влияет на цену квартир. Ярко выраженных тенденций не видно. Единственное, можно сказать, что максимальная средняя цена наблюдается в сентябре, минимальная в марте и октябре."
   ]
  },
  {
   "cell_type": "code",
   "execution_count": 63,
   "metadata": {},
   "outputs": [
    {
     "data": {
      "image/png": "[encoded data removed]",
      "text/plain": [
       "<Figure size 504x288 with 1 Axes>"
      ]
     },
     "metadata": {
      "needs_background": "light"
     },
     "output_type": "display_data"
    }
   ],
   "source": [
    "weekday_sale = data.pivot_table(index='weekday_name', values='last_price', aggfunc=['mean'])\n",
    "weekday_sale.columns = ['mean_last_price']\n",
    "graph_bar(weekday_sale, weekday_sale['mean_last_price'], 'День продажи', 'Средняя стоимость', 7, 4)"
   ]
  },
  {
   "cell_type": "markdown",
   "metadata": {},
   "source": [
    "Наибольшую цену квартир указывают владельцы, размещающие объявления в субботу. Возможно это связано с психологическими факторами - напрмиер, если человек не торопится продавать квартиру, то он ждет субботу, чтобы сделать качественные фотографии квартиры и полностью заполнить объявление."
   ]
  },
  {
   "cell_type": "markdown",
   "metadata": {},
   "source": [
    "**Изучим 10 населённых пунктов с наибольшим числом объявлений.**"
   ]
  },
  {
   "cell_type": "code",
   "execution_count": 64,
   "metadata": {},
   "outputs": [
    {
     "data": {
      "text/html": [
       "<div>\n",
       "<style scoped>\n",
       "    .dataframe tbody tr th:only-of-type {\n",
       "        vertical-align: middle;\n",
       "    }\n",
       "\n",
       "    .dataframe tbody tr th {\n",
       "        vertical-align: top;\n",
       "    }\n",
       "\n",
       "    .dataframe thead th {\n",
       "        text-align: right;\n",
       "    }\n",
       "</style>\n",
       "<table border=\"1\" class=\"dataframe\">\n",
       "  <thead>\n",
       "    <tr style=\"text-align: right;\">\n",
       "      <th></th>\n",
       "      <th>count</th>\n",
       "      <th>mean_msq_price</th>\n",
       "    </tr>\n",
       "    <tr>\n",
       "      <th>loc_name</th>\n",
       "      <th></th>\n",
       "      <th></th>\n",
       "    </tr>\n",
       "  </thead>\n",
       "  <tbody>\n",
       "    <tr>\n",
       "      <td>Санкт-Петербург</td>\n",
       "      <td>13398</td>\n",
       "      <td>112212.392818</td>\n",
       "    </tr>\n",
       "    <tr>\n",
       "      <td>Пушкин</td>\n",
       "      <td>305</td>\n",
       "      <td>102113.701344</td>\n",
       "    </tr>\n",
       "    <tr>\n",
       "      <td>Кудрово</td>\n",
       "      <td>417</td>\n",
       "      <td>94168.389448</td>\n",
       "    </tr>\n",
       "    <tr>\n",
       "      <td>Парголово</td>\n",
       "      <td>297</td>\n",
       "      <td>89643.427172</td>\n",
       "    </tr>\n",
       "    <tr>\n",
       "      <td>Мурино</td>\n",
       "      <td>518</td>\n",
       "      <td>85114.842452</td>\n",
       "    </tr>\n",
       "    <tr>\n",
       "      <td>Шушары</td>\n",
       "      <td>403</td>\n",
       "      <td>77570.744541</td>\n",
       "    </tr>\n",
       "    <tr>\n",
       "      <td>Колпино</td>\n",
       "      <td>307</td>\n",
       "      <td>74884.831694</td>\n",
       "    </tr>\n",
       "    <tr>\n",
       "      <td>Всеволожск</td>\n",
       "      <td>335</td>\n",
       "      <td>68530.987463</td>\n",
       "    </tr>\n",
       "    <tr>\n",
       "      <td>Гатчина</td>\n",
       "      <td>267</td>\n",
       "      <td>67938.480112</td>\n",
       "    </tr>\n",
       "    <tr>\n",
       "      <td>Выборг</td>\n",
       "      <td>202</td>\n",
       "      <td>57097.437574</td>\n",
       "    </tr>\n",
       "  </tbody>\n",
       "</table>\n",
       "</div>"
      ],
      "text/plain": [
       "                 count  mean_msq_price\n",
       "loc_name                              \n",
       "Санкт-Петербург  13398   112212.392818\n",
       "Пушкин             305   102113.701344\n",
       "Кудрово            417    94168.389448\n",
       "Парголово          297    89643.427172\n",
       "Мурино             518    85114.842452\n",
       "Шушары             403    77570.744541\n",
       "Колпино            307    74884.831694\n",
       "Всеволожск         335    68530.987463\n",
       "Гатчина            267    67938.480112\n",
       "Выборг             202    57097.437574"
      ]
     },
     "execution_count": 64,
     "metadata": {},
     "output_type": "execute_result"
    }
   ],
   "source": [
    "loc_name_stat = data.pivot_table(index='loc_name', values='msq_price', aggfunc=['count', 'mean'])\n",
    "loc_name_stat.columns = ['count', 'mean_msq_price']\n",
    "loc_name_stat = loc_name_stat.sort_values(by = 'count', ascending = False)\n",
    "loc_name_stat_top = loc_name_stat.head(10)\n",
    "loc_name_stat_top.sort_values(by = 'mean_msq_price', ascending = False)"
   ]
  },
  {
   "cell_type": "markdown",
   "metadata": {},
   "source": [
    "* Санкт-Петербург ожидаемо оказался городом с самой высокой стоимостью квадратного метра жилья. На втором месте Пушкин - небольшой исторический город с большим количеством парков, находящийся на среднем удалении от Санкт-Петербурга. На третьем месте Кудрово - пригород Санкт-Петербурга с большим количеством новостроек.\n",
    "* Самая низкая стоимость кв. метра недвижимости из ТОП-10 городов с наибольшим числом объявлений в Выборге. Объясняется большой удаленностью от Санкт-Петербурга и общей депрессивностью города. Аналогичная ситуация с Гатчиной, которая при этом не является историческим городом, но находится ближе к Санкт-Петербургу. "
   ]
  },
  {
   "cell_type": "markdown",
   "metadata": {},
   "source": [
    "**Изучим, что же является центром города в Санкт-Петербурге с точки зрения продавцов недвижимости**"
   ]
  },
  {
   "cell_type": "markdown",
   "metadata": {},
   "source": [
    "Найдем центр города в Санкт-Петербурге с точки зрения продавцов недвижимости:  \n",
    "* Для этого создадим столбец с расстоянием до центра в километрах: округлим его до целых значений, после этого посчитаем среднюю цену для каждого километра; \n",
    "* Построим график, который будет показывать как цена зависит от удалённости от центра;\n",
    "* Определите границу, где график сильно меняется — это и будет центральная зона."
   ]
  },
  {
   "cell_type": "code",
   "execution_count": 65,
   "metadata": {},
   "outputs": [
    {
     "data": {
      "text/plain": [
       "0    16.0\n",
       "1    19.0\n",
       "2    14.0\n",
       "3     7.0\n",
       "4     8.0\n",
       "Name: cityCenters_r, dtype: float64"
      ]
     },
     "execution_count": 65,
     "metadata": {},
     "output_type": "execute_result"
    }
   ],
   "source": [
    "cityCenters_good['cityCenters_r'] = round(cityCenters_good['cityCenters_nearest'] / 1000)\n",
    "cityCenters_good['cityCenters_r'].head()"
   ]
  },
  {
   "cell_type": "code",
   "execution_count": 66,
   "metadata": {},
   "outputs": [
    {
     "data": {
      "text/html": [
       "<div>\n",
       "<style scoped>\n",
       "    .dataframe tbody tr th:only-of-type {\n",
       "        vertical-align: middle;\n",
       "    }\n",
       "\n",
       "    .dataframe tbody tr th {\n",
       "        vertical-align: top;\n",
       "    }\n",
       "\n",
       "    .dataframe thead th {\n",
       "        text-align: right;\n",
       "    }\n",
       "</style>\n",
       "<table border=\"1\" class=\"dataframe\">\n",
       "  <thead>\n",
       "    <tr style=\"text-align: right;\">\n",
       "      <th></th>\n",
       "      <th>total_images</th>\n",
       "      <th>last_price</th>\n",
       "      <th>total_area</th>\n",
       "      <th>first_day_exposition</th>\n",
       "      <th>rooms</th>\n",
       "      <th>ceiling_height</th>\n",
       "      <th>floors_total</th>\n",
       "      <th>living_area</th>\n",
       "      <th>floor</th>\n",
       "      <th>is_apartment</th>\n",
       "      <th>...</th>\n",
       "      <th>days_exposition</th>\n",
       "      <th>cityCenters_distance</th>\n",
       "      <th>msq_price</th>\n",
       "      <th>weekday_number</th>\n",
       "      <th>weekday_name</th>\n",
       "      <th>month_number</th>\n",
       "      <th>month_name</th>\n",
       "      <th>year</th>\n",
       "      <th>floor_name</th>\n",
       "      <th>cityCenters_r</th>\n",
       "    </tr>\n",
       "  </thead>\n",
       "  <tbody>\n",
       "    <tr>\n",
       "      <td>0</td>\n",
       "      <td>20</td>\n",
       "      <td>13000000.0</td>\n",
       "      <td>108.0</td>\n",
       "      <td>2019-03-07</td>\n",
       "      <td>3</td>\n",
       "      <td>2.70</td>\n",
       "      <td>16.0</td>\n",
       "      <td>51.0</td>\n",
       "      <td>8</td>\n",
       "      <td>NaN</td>\n",
       "      <td>...</td>\n",
       "      <td>NaN</td>\n",
       "      <td>1</td>\n",
       "      <td>82920.79</td>\n",
       "      <td>3</td>\n",
       "      <td>четверг</td>\n",
       "      <td>3</td>\n",
       "      <td>март</td>\n",
       "      <td>2019</td>\n",
       "      <td>другой</td>\n",
       "      <td>16.0</td>\n",
       "    </tr>\n",
       "    <tr>\n",
       "      <td>2</td>\n",
       "      <td>10</td>\n",
       "      <td>5196000.0</td>\n",
       "      <td>56.0</td>\n",
       "      <td>2015-08-20</td>\n",
       "      <td>2</td>\n",
       "      <td>NaN</td>\n",
       "      <td>5.0</td>\n",
       "      <td>34.3</td>\n",
       "      <td>4</td>\n",
       "      <td>NaN</td>\n",
       "      <td>...</td>\n",
       "      <td>558.0</td>\n",
       "      <td>1</td>\n",
       "      <td>408176.10</td>\n",
       "      <td>3</td>\n",
       "      <td>четверг</td>\n",
       "      <td>8</td>\n",
       "      <td>август</td>\n",
       "      <td>2015</td>\n",
       "      <td>другой</td>\n",
       "      <td>14.0</td>\n",
       "    </tr>\n",
       "    <tr>\n",
       "      <td>3</td>\n",
       "      <td>0</td>\n",
       "      <td>64900000.0</td>\n",
       "      <td>159.0</td>\n",
       "      <td>2015-07-24</td>\n",
       "      <td>3</td>\n",
       "      <td>NaN</td>\n",
       "      <td>14.0</td>\n",
       "      <td>NaN</td>\n",
       "      <td>9</td>\n",
       "      <td>NaN</td>\n",
       "      <td>...</td>\n",
       "      <td>424.0</td>\n",
       "      <td>1</td>\n",
       "      <td>100000.00</td>\n",
       "      <td>4</td>\n",
       "      <td>пятница</td>\n",
       "      <td>7</td>\n",
       "      <td>июль</td>\n",
       "      <td>2015</td>\n",
       "      <td>другой</td>\n",
       "      <td>7.0</td>\n",
       "    </tr>\n",
       "    <tr>\n",
       "      <td>4</td>\n",
       "      <td>2</td>\n",
       "      <td>10000000.0</td>\n",
       "      <td>100.0</td>\n",
       "      <td>2018-06-19</td>\n",
       "      <td>2</td>\n",
       "      <td>3.03</td>\n",
       "      <td>14.0</td>\n",
       "      <td>32.0</td>\n",
       "      <td>13</td>\n",
       "      <td>NaN</td>\n",
       "      <td>...</td>\n",
       "      <td>121.0</td>\n",
       "      <td>1</td>\n",
       "      <td>95065.79</td>\n",
       "      <td>1</td>\n",
       "      <td>вторник</td>\n",
       "      <td>6</td>\n",
       "      <td>июнь</td>\n",
       "      <td>2018</td>\n",
       "      <td>другой</td>\n",
       "      <td>8.0</td>\n",
       "    </tr>\n",
       "    <tr>\n",
       "      <td>6</td>\n",
       "      <td>5</td>\n",
       "      <td>7915000.0</td>\n",
       "      <td>71.6</td>\n",
       "      <td>2019-04-18</td>\n",
       "      <td>2</td>\n",
       "      <td>NaN</td>\n",
       "      <td>24.0</td>\n",
       "      <td>NaN</td>\n",
       "      <td>22</td>\n",
       "      <td>NaN</td>\n",
       "      <td>...</td>\n",
       "      <td>NaN</td>\n",
       "      <td>1</td>\n",
       "      <td>87454.76</td>\n",
       "      <td>3</td>\n",
       "      <td>четверг</td>\n",
       "      <td>4</td>\n",
       "      <td>апрель</td>\n",
       "      <td>2019</td>\n",
       "      <td>другой</td>\n",
       "      <td>12.0</td>\n",
       "    </tr>\n",
       "  </tbody>\n",
       "</table>\n",
       "<p>5 rows × 31 columns</p>\n",
       "</div>"
      ],
      "text/plain": [
       "   total_images  last_price  total_area first_day_exposition  rooms  \\\n",
       "0            20  13000000.0       108.0           2019-03-07      3   \n",
       "2            10   5196000.0        56.0           2015-08-20      2   \n",
       "3             0  64900000.0       159.0           2015-07-24      3   \n",
       "4             2  10000000.0       100.0           2018-06-19      2   \n",
       "6             5   7915000.0        71.6           2019-04-18      2   \n",
       "\n",
       "   ceiling_height  floors_total  living_area  floor is_apartment  ...  \\\n",
       "0            2.70          16.0         51.0      8          NaN  ...   \n",
       "2             NaN           5.0         34.3      4          NaN  ...   \n",
       "3             NaN          14.0          NaN      9          NaN  ...   \n",
       "4            3.03          14.0         32.0     13          NaN  ...   \n",
       "6             NaN          24.0          NaN     22          NaN  ...   \n",
       "\n",
       "   days_exposition  cityCenters_distance  msq_price  weekday_number  \\\n",
       "0              NaN                     1   82920.79               3   \n",
       "2            558.0                     1  408176.10               3   \n",
       "3            424.0                     1  100000.00               4   \n",
       "4            121.0                     1   95065.79               1   \n",
       "6              NaN                     1   87454.76               3   \n",
       "\n",
       "  weekday_name  month_number  month_name  year  floor_name  cityCenters_r  \n",
       "0      четверг             3        март  2019      другой           16.0  \n",
       "2      четверг             8      август  2015      другой           14.0  \n",
       "3      пятница             7        июль  2015      другой            7.0  \n",
       "4      вторник             6        июнь  2018      другой            8.0  \n",
       "6      четверг             4      апрель  2019      другой           12.0  \n",
       "\n",
       "[5 rows x 31 columns]"
      ]
     },
     "execution_count": 66,
     "metadata": {},
     "output_type": "execute_result"
    }
   ],
   "source": [
    "cityCenters_spb = cityCenters_good.query('locality_name == \"Санкт-Петербург\"')\n",
    "cityCenters_spb.head()"
   ]
  },
  {
   "cell_type": "markdown",
   "metadata": {},
   "source": [
    "* Построим график, который будет показывать как цена зависит от удалённости от центра;"
   ]
  },
  {
   "cell_type": "code",
   "execution_count": 67,
   "metadata": {},
   "outputs": [
    {
     "data": {
      "image/png": "[encoded data removed]",
      "text/plain": [
       "<Figure size 1152x360 with 1 Axes>"
      ]
     },
     "metadata": {
      "needs_background": "light"
     },
     "output_type": "display_data"
    }
   ],
   "source": [
    "center_dist = cityCenters_spb.pivot_table(index='cityCenters_r', values='last_price', aggfunc=['mean'])\n",
    "center_dist.columns = ['mean_last_price']\n",
    "graph_bar(center_dist, center_dist['mean_last_price'], 'Расстояние до центра Санкт-Петербурга', 'Средняя стоимость', 16, 5)"
   ]
  },
  {
   "cell_type": "code",
   "execution_count": 77,
   "metadata": {},
   "outputs": [
    {
     "data": {
      "text/html": [
       "<div>\n",
       "<style scoped>\n",
       "    .dataframe tbody tr th:only-of-type {\n",
       "        vertical-align: middle;\n",
       "    }\n",
       "\n",
       "    .dataframe tbody tr th {\n",
       "        vertical-align: top;\n",
       "    }\n",
       "\n",
       "    .dataframe thead th {\n",
       "        text-align: right;\n",
       "    }\n",
       "</style>\n",
       "<table border=\"1\" class=\"dataframe\">\n",
       "  <thead>\n",
       "    <tr style=\"text-align: right;\">\n",
       "      <th></th>\n",
       "      <th>mean_last_price</th>\n",
       "    </tr>\n",
       "    <tr>\n",
       "      <th>cityCenters_r</th>\n",
       "      <th></th>\n",
       "    </tr>\n",
       "  </thead>\n",
       "  <tbody>\n",
       "    <tr>\n",
       "      <td>0.0</td>\n",
       "      <td>3.144912e+07</td>\n",
       "    </tr>\n",
       "    <tr>\n",
       "      <td>1.0</td>\n",
       "      <td>2.121311e+07</td>\n",
       "    </tr>\n",
       "    <tr>\n",
       "      <td>2.0</td>\n",
       "      <td>1.785153e+07</td>\n",
       "    </tr>\n",
       "    <tr>\n",
       "      <td>3.0</td>\n",
       "      <td>1.091946e+07</td>\n",
       "    </tr>\n",
       "    <tr>\n",
       "      <td>4.0</td>\n",
       "      <td>1.327068e+07</td>\n",
       "    </tr>\n",
       "    <tr>\n",
       "      <td>5.0</td>\n",
       "      <td>1.438381e+07</td>\n",
       "    </tr>\n",
       "    <tr>\n",
       "      <td>6.0</td>\n",
       "      <td>1.532842e+07</td>\n",
       "    </tr>\n",
       "    <tr>\n",
       "      <td>7.0</td>\n",
       "      <td>1.483023e+07</td>\n",
       "    </tr>\n",
       "    <tr>\n",
       "      <td>8.0</td>\n",
       "      <td>9.283877e+06</td>\n",
       "    </tr>\n",
       "    <tr>\n",
       "      <td>9.0</td>\n",
       "      <td>6.969390e+06</td>\n",
       "    </tr>\n",
       "    <tr>\n",
       "      <td>10.0</td>\n",
       "      <td>6.425122e+06</td>\n",
       "    </tr>\n",
       "    <tr>\n",
       "      <td>11.0</td>\n",
       "      <td>6.228108e+06</td>\n",
       "    </tr>\n",
       "    <tr>\n",
       "      <td>12.0</td>\n",
       "      <td>5.843461e+06</td>\n",
       "    </tr>\n",
       "    <tr>\n",
       "      <td>13.0</td>\n",
       "      <td>6.109652e+06</td>\n",
       "    </tr>\n",
       "    <tr>\n",
       "      <td>14.0</td>\n",
       "      <td>5.652588e+06</td>\n",
       "    </tr>\n",
       "    <tr>\n",
       "      <td>15.0</td>\n",
       "      <td>5.887143e+06</td>\n",
       "    </tr>\n",
       "    <tr>\n",
       "      <td>16.0</td>\n",
       "      <td>5.388663e+06</td>\n",
       "    </tr>\n",
       "    <tr>\n",
       "      <td>17.0</td>\n",
       "      <td>5.278800e+06</td>\n",
       "    </tr>\n",
       "    <tr>\n",
       "      <td>18.0</td>\n",
       "      <td>5.099375e+06</td>\n",
       "    </tr>\n",
       "    <tr>\n",
       "      <td>19.0</td>\n",
       "      <td>5.081623e+06</td>\n",
       "    </tr>\n",
       "    <tr>\n",
       "      <td>20.0</td>\n",
       "      <td>6.054931e+06</td>\n",
       "    </tr>\n",
       "    <tr>\n",
       "      <td>21.0</td>\n",
       "      <td>5.519275e+06</td>\n",
       "    </tr>\n",
       "    <tr>\n",
       "      <td>22.0</td>\n",
       "      <td>5.415524e+06</td>\n",
       "    </tr>\n",
       "    <tr>\n",
       "      <td>23.0</td>\n",
       "      <td>5.042855e+06</td>\n",
       "    </tr>\n",
       "    <tr>\n",
       "      <td>24.0</td>\n",
       "      <td>3.890687e+06</td>\n",
       "    </tr>\n",
       "    <tr>\n",
       "      <td>25.0</td>\n",
       "      <td>4.052840e+06</td>\n",
       "    </tr>\n",
       "    <tr>\n",
       "      <td>26.0</td>\n",
       "      <td>4.014287e+06</td>\n",
       "    </tr>\n",
       "    <tr>\n",
       "      <td>27.0</td>\n",
       "      <td>8.300000e+06</td>\n",
       "    </tr>\n",
       "    <tr>\n",
       "      <td>28.0</td>\n",
       "      <td>5.026429e+06</td>\n",
       "    </tr>\n",
       "    <tr>\n",
       "      <td>29.0</td>\n",
       "      <td>4.236667e+06</td>\n",
       "    </tr>\n",
       "  </tbody>\n",
       "</table>\n",
       "</div>"
      ],
      "text/plain": [
       "               mean_last_price\n",
       "cityCenters_r                 \n",
       "0.0               3.144912e+07\n",
       "1.0               2.121311e+07\n",
       "2.0               1.785153e+07\n",
       "3.0               1.091946e+07\n",
       "4.0               1.327068e+07\n",
       "5.0               1.438381e+07\n",
       "6.0               1.532842e+07\n",
       "7.0               1.483023e+07\n",
       "8.0               9.283877e+06\n",
       "9.0               6.969390e+06\n",
       "10.0              6.425122e+06\n",
       "11.0              6.228108e+06\n",
       "12.0              5.843461e+06\n",
       "13.0              6.109652e+06\n",
       "14.0              5.652588e+06\n",
       "15.0              5.887143e+06\n",
       "16.0              5.388663e+06\n",
       "17.0              5.278800e+06\n",
       "18.0              5.099375e+06\n",
       "19.0              5.081623e+06\n",
       "20.0              6.054931e+06\n",
       "21.0              5.519275e+06\n",
       "22.0              5.415524e+06\n",
       "23.0              5.042855e+06\n",
       "24.0              3.890687e+06\n",
       "25.0              4.052840e+06\n",
       "26.0              4.014287e+06\n",
       "27.0              8.300000e+06\n",
       "28.0              5.026429e+06\n",
       "29.0              4.236667e+06"
      ]
     },
     "execution_count": 77,
     "metadata": {},
     "output_type": "execute_result"
    }
   ],
   "source": [
    "center_dist"
   ]
  },
  {
   "cell_type": "markdown",
   "metadata": {},
   "source": [
    "* График зависимости цены от удалённости от центра ведет себя не линейно - средние цены после спада на 3км от центра Санкт-Петербурга начинают повышаться и только на 8км окончательно начинают движение вниз.  \n",
    "* Скорее всего такое поведение графика обусловлено районами Крестовского и Васильевских островов, которые находятся на расстоянии 4-6 км от центра являюется местом концентрации недвижимости бизнес-класса. "
   ]
  },
  {
   "cell_type": "markdown",
   "metadata": {},
   "source": [
    "* Примем за центральную часть города радиус 3 км от центра. Создадим новый срез."
   ]
  },
  {
   "cell_type": "markdown",
   "metadata": {},
   "source": [
    "<div style=\"border:solid  red  2px; padding: 20px\"> <h1 style=\"color: red; margin-bottom:20px\">Комментарий наставника</h1>\n",
    "\n",
    "Центр всё же в радиусе 3 км, это видно из графика, поправь \n",
    "\n"
   ]
  },
  {
   "cell_type": "markdown",
   "metadata": {},
   "source": [
    "<div style=\"border:solid green 2px; padding: 20px\"> <h1 style=\"color:green; margin-bottom:20px\">Комментарий наставника</h1>\n",
    "\n",
    "Хорошо"
   ]
  },
  {
   "cell_type": "code",
   "execution_count": 68,
   "metadata": {},
   "outputs": [
    {
     "data": {
      "text/html": [
       "<div>\n",
       "<style scoped>\n",
       "    .dataframe tbody tr th:only-of-type {\n",
       "        vertical-align: middle;\n",
       "    }\n",
       "\n",
       "    .dataframe tbody tr th {\n",
       "        vertical-align: top;\n",
       "    }\n",
       "\n",
       "    .dataframe thead th {\n",
       "        text-align: right;\n",
       "    }\n",
       "</style>\n",
       "<table border=\"1\" class=\"dataframe\">\n",
       "  <thead>\n",
       "    <tr style=\"text-align: right;\">\n",
       "      <th></th>\n",
       "      <th>total_images</th>\n",
       "      <th>last_price</th>\n",
       "      <th>total_area</th>\n",
       "      <th>first_day_exposition</th>\n",
       "      <th>rooms</th>\n",
       "      <th>ceiling_height</th>\n",
       "      <th>floors_total</th>\n",
       "      <th>living_area</th>\n",
       "      <th>floor</th>\n",
       "      <th>is_apartment</th>\n",
       "      <th>...</th>\n",
       "      <th>days_exposition</th>\n",
       "      <th>cityCenters_distance</th>\n",
       "      <th>msq_price</th>\n",
       "      <th>weekday_number</th>\n",
       "      <th>weekday_name</th>\n",
       "      <th>month_number</th>\n",
       "      <th>month_name</th>\n",
       "      <th>year</th>\n",
       "      <th>floor_name</th>\n",
       "      <th>cityCenters_r</th>\n",
       "    </tr>\n",
       "  </thead>\n",
       "  <tbody>\n",
       "    <tr>\n",
       "      <td>20</td>\n",
       "      <td>8</td>\n",
       "      <td>6500000.0</td>\n",
       "      <td>97.2</td>\n",
       "      <td>2015-10-31</td>\n",
       "      <td>2</td>\n",
       "      <td>NaN</td>\n",
       "      <td>3.0</td>\n",
       "      <td>46.5</td>\n",
       "      <td>1</td>\n",
       "      <td>NaN</td>\n",
       "      <td>...</td>\n",
       "      <td>265.0</td>\n",
       "      <td>1</td>\n",
       "      <td>86206.90</td>\n",
       "      <td>5</td>\n",
       "      <td>суббота</td>\n",
       "      <td>10</td>\n",
       "      <td>октябрь</td>\n",
       "      <td>2015</td>\n",
       "      <td>первый</td>\n",
       "      <td>2.0</td>\n",
       "    </tr>\n",
       "    <tr>\n",
       "      <td>120</td>\n",
       "      <td>8</td>\n",
       "      <td>96000000.0</td>\n",
       "      <td>317.0</td>\n",
       "      <td>2017-07-07</td>\n",
       "      <td>4</td>\n",
       "      <td>3.5</td>\n",
       "      <td>3.0</td>\n",
       "      <td>183.0</td>\n",
       "      <td>3</td>\n",
       "      <td>NaN</td>\n",
       "      <td>...</td>\n",
       "      <td>62.0</td>\n",
       "      <td>1</td>\n",
       "      <td>160000.00</td>\n",
       "      <td>4</td>\n",
       "      <td>пятница</td>\n",
       "      <td>7</td>\n",
       "      <td>июль</td>\n",
       "      <td>2017</td>\n",
       "      <td>последний</td>\n",
       "      <td>2.0</td>\n",
       "    </tr>\n",
       "    <tr>\n",
       "      <td>159</td>\n",
       "      <td>11</td>\n",
       "      <td>9000000.0</td>\n",
       "      <td>72.6</td>\n",
       "      <td>2018-09-08</td>\n",
       "      <td>2</td>\n",
       "      <td>2.9</td>\n",
       "      <td>5.0</td>\n",
       "      <td>43.2</td>\n",
       "      <td>4</td>\n",
       "      <td>NaN</td>\n",
       "      <td>...</td>\n",
       "      <td>NaN</td>\n",
       "      <td>1</td>\n",
       "      <td>94510.74</td>\n",
       "      <td>5</td>\n",
       "      <td>суббота</td>\n",
       "      <td>9</td>\n",
       "      <td>сентябрь</td>\n",
       "      <td>2018</td>\n",
       "      <td>другой</td>\n",
       "      <td>2.0</td>\n",
       "    </tr>\n",
       "    <tr>\n",
       "      <td>164</td>\n",
       "      <td>11</td>\n",
       "      <td>8700000.0</td>\n",
       "      <td>111.4</td>\n",
       "      <td>2016-10-10</td>\n",
       "      <td>4</td>\n",
       "      <td>3.1</td>\n",
       "      <td>4.0</td>\n",
       "      <td>73.2</td>\n",
       "      <td>2</td>\n",
       "      <td>NaN</td>\n",
       "      <td>...</td>\n",
       "      <td>791.0</td>\n",
       "      <td>1</td>\n",
       "      <td>82857.14</td>\n",
       "      <td>0</td>\n",
       "      <td>понедельник</td>\n",
       "      <td>10</td>\n",
       "      <td>октябрь</td>\n",
       "      <td>2016</td>\n",
       "      <td>другой</td>\n",
       "      <td>1.0</td>\n",
       "    </tr>\n",
       "    <tr>\n",
       "      <td>173</td>\n",
       "      <td>17</td>\n",
       "      <td>7950000.0</td>\n",
       "      <td>86.4</td>\n",
       "      <td>2019-04-24</td>\n",
       "      <td>4</td>\n",
       "      <td>NaN</td>\n",
       "      <td>3.0</td>\n",
       "      <td>52.7</td>\n",
       "      <td>1</td>\n",
       "      <td>NaN</td>\n",
       "      <td>...</td>\n",
       "      <td>NaN</td>\n",
       "      <td>1</td>\n",
       "      <td>148148.15</td>\n",
       "      <td>2</td>\n",
       "      <td>среда</td>\n",
       "      <td>4</td>\n",
       "      <td>апрель</td>\n",
       "      <td>2019</td>\n",
       "      <td>первый</td>\n",
       "      <td>2.0</td>\n",
       "    </tr>\n",
       "  </tbody>\n",
       "</table>\n",
       "<p>5 rows × 31 columns</p>\n",
       "</div>"
      ],
      "text/plain": [
       "     total_images  last_price  total_area first_day_exposition  rooms  \\\n",
       "20              8   6500000.0        97.2           2015-10-31      2   \n",
       "120             8  96000000.0       317.0           2017-07-07      4   \n",
       "159            11   9000000.0        72.6           2018-09-08      2   \n",
       "164            11   8700000.0       111.4           2016-10-10      4   \n",
       "173            17   7950000.0        86.4           2019-04-24      4   \n",
       "\n",
       "     ceiling_height  floors_total  living_area  floor is_apartment  ...  \\\n",
       "20              NaN           3.0         46.5      1          NaN  ...   \n",
       "120             3.5           3.0        183.0      3          NaN  ...   \n",
       "159             2.9           5.0         43.2      4          NaN  ...   \n",
       "164             3.1           4.0         73.2      2          NaN  ...   \n",
       "173             NaN           3.0         52.7      1          NaN  ...   \n",
       "\n",
       "     days_exposition  cityCenters_distance  msq_price  weekday_number  \\\n",
       "20             265.0                     1   86206.90               5   \n",
       "120             62.0                     1  160000.00               4   \n",
       "159              NaN                     1   94510.74               5   \n",
       "164            791.0                     1   82857.14               0   \n",
       "173              NaN                     1  148148.15               2   \n",
       "\n",
       "    weekday_name  month_number  month_name  year  floor_name  cityCenters_r  \n",
       "20       суббота            10     октябрь  2015      первый            2.0  \n",
       "120      пятница             7        июль  2017   последний            2.0  \n",
       "159      суббота             9    сентябрь  2018      другой            2.0  \n",
       "164  понедельник            10     октябрь  2016      другой            1.0  \n",
       "173        среда             4      апрель  2019      первый            2.0  \n",
       "\n",
       "[5 rows x 31 columns]"
      ]
     },
     "execution_count": 68,
     "metadata": {},
     "output_type": "execute_result"
    }
   ],
   "source": [
    "city_center = cityCenters_spb.query('cityCenters_r < 3')\n",
    "city_center.head()"
   ]
  },
  {
   "cell_type": "markdown",
   "metadata": {},
   "source": [
    "**Проанализируем эту территорию и изучим следующие параметры: площадь, цена, число комнат, высота потолков.**\n"
   ]
  },
  {
   "cell_type": "markdown",
   "metadata": {},
   "source": [
    "* Построим совместную гистограмму площади квартир в центре и по всей выборке."
   ]
  },
  {
   "cell_type": "code",
   "execution_count": 69,
   "metadata": {},
   "outputs": [
    {
     "data": {
      "image/png": "[encoded data removed]",
      "text/plain": [
       "<Figure size 504x288 with 1 Axes>"
      ]
     },
     "metadata": {
      "needs_background": "light"
     },
     "output_type": "display_data"
    },
    {
     "data": {
      "image/png": "[encoded data removed]",
      "text/plain": [
       "<Figure size 504x288 with 1 Axes>"
      ]
     },
     "metadata": {
      "needs_background": "light"
     },
     "output_type": "display_data"
    },
    {
     "name": "stdout",
     "output_type": "stream",
     "text": [
      "Средняя площадь квартиры в центре: 104.11\n",
      "Средняя площадь квартиры по всей выборке: 58.85\n"
     ]
    }
   ],
   "source": [
    "graph_hist(city_center, city_center['total_area'], 30, 'Площадь квартиры', 'Количество')\n",
    "plt.show()\n",
    "graph_hist(data, data['total_area'], 30, 'Площадь квартиры', 'Количество')\n",
    "plt.show()\n",
    "print('Средняя площадь квартиры в центре: {:.2f}'.format(city_center['total_area'].mean()))\n",
    "print('Средняя площадь квартиры по всей выборке: {:.2f}'.format(data['total_area'].mean()))"
   ]
  },
  {
   "cell_type": "markdown",
   "metadata": {},
   "source": [
    "Средняя площадь квартиры в центре на 77% выше средней площади по всей выборке."
   ]
  },
  {
   "cell_type": "markdown",
   "metadata": {},
   "source": [
    "* Построим совместную гистограмму цены квартир в центре и по всей выборке."
   ]
  },
  {
   "cell_type": "code",
   "execution_count": 70,
   "metadata": {},
   "outputs": [
    {
     "data": {
      "image/png": "[encoded data removed]",
      "text/plain": [
       "<Figure size 504x288 with 1 Axes>"
      ]
     },
     "metadata": {
      "needs_background": "light"
     },
     "output_type": "display_data"
    },
    {
     "data": {
      "image/png": "[encoded data removed]",
      "text/plain": [
       "<Figure size 504x288 with 1 Axes>"
      ]
     },
     "metadata": {
      "needs_background": "light"
     },
     "output_type": "display_data"
    },
    {
     "name": "stdout",
     "output_type": "stream",
     "text": [
      "Средняя цена продажи квартиры в центре: 19771062.23\n",
      "Средняя цена продажи квартиры по всей выборке: 6233296.36\n"
     ]
    }
   ],
   "source": [
    "graph_hist(city_center, city_center['last_price'], 30, 'Цена продажи', 'Количество')\n",
    "plt.show()\n",
    "graph_hist(data, data['last_price'], 30, 'Цена продажи', 'Количество')\n",
    "plt.show()\n",
    "print('Средняя цена продажи квартиры в центре: {:.2f}'.format(city_center['last_price'].mean()))\n",
    "print('Средняя цена продажи квартиры по всей выборке: {:.2f}'.format(data['last_price'].mean()))"
   ]
  },
  {
   "cell_type": "markdown",
   "metadata": {},
   "source": [
    "Средняя цена квартиры в центре в 3.2 раза выше средней цены по всей выборке."
   ]
  },
  {
   "cell_type": "markdown",
   "metadata": {},
   "source": [
    "* Построим гистограммы по числу комнат квартир в центре и по всей выборке."
   ]
  },
  {
   "cell_type": "code",
   "execution_count": 71,
   "metadata": {},
   "outputs": [
    {
     "data": {
      "image/png": "[encoded data removed]",
      "text/plain": [
       "<Figure size 504x288 with 1 Axes>"
      ]
     },
     "metadata": {
      "needs_background": "light"
     },
     "output_type": "display_data"
    },
    {
     "data": {
      "image/png": "[encoded data removed]",
      "text/plain": [
       "<Figure size 504x288 with 1 Axes>"
      ]
     },
     "metadata": {
      "needs_background": "light"
     },
     "output_type": "display_data"
    },
    {
     "name": "stdout",
     "output_type": "stream",
     "text": [
      "Среднее количество комнат в центре: 3.17\n",
      "Среднее количество комнат по всей выборке: 2.04\n"
     ]
    }
   ],
   "source": [
    "graph_hist(city_center, city_center['rooms'], 10, 'Количество комнат', 'Количество')\n",
    "plt.show()\n",
    "graph_hist(data, data['rooms'], 10, 'Количество комнат', 'Количество')\n",
    "plt.show()\n",
    "print('Среднее количество комнат в центре: {:.2f}'.format(city_center['rooms'].mean()))\n",
    "print('Среднее количество комнат по всей выборке: {:.2f}'.format(data['rooms'].mean()))"
   ]
  },
  {
   "cell_type": "markdown",
   "metadata": {},
   "source": [
    "Среднее количество комнат в центре выше, чем по всей выборке - количество однокомнатных квартир намного меньше, а трехкомнатных больше, чем по всей выборке. Также больше количество пяти и шестикомнатных."
   ]
  },
  {
   "cell_type": "markdown",
   "metadata": {},
   "source": [
    "* Построим совместную гистограмму по высоте потолков в центре и по всей выборке."
   ]
  },
  {
   "cell_type": "code",
   "execution_count": 72,
   "metadata": {},
   "outputs": [
    {
     "data": {
      "image/png": "[encoded data removed]",
      "text/plain": [
       "<Figure size 504x288 with 1 Axes>"
      ]
     },
     "metadata": {
      "needs_background": "light"
     },
     "output_type": "display_data"
    },
    {
     "data": {
      "image/png": "[encoded data removed]",
      "text/plain": [
       "<Figure size 504x288 with 1 Axes>"
      ]
     },
     "metadata": {
      "needs_background": "light"
     },
     "output_type": "display_data"
    },
    {
     "name": "stdout",
     "output_type": "stream",
     "text": [
      "Средняя высота потолка в центре: 3.23\n",
      "Средняя высота потолка по всей выборке: 2.72\n"
     ]
    }
   ],
   "source": [
    "graph_hist(city_center, city_center['ceiling_height'], 10, 'Высота потолков', 'Количество')\n",
    "plt.show()\n",
    "graph_hist(data, data['ceiling_height'], 10, 'Высота потолков', 'Количество')\n",
    "plt.show()\n",
    "print('Средняя высота потолка в центре: {:.2f}'.format(city_center['ceiling_height'].mean()))\n",
    "print('Средняя высота потолка по всей выборке: {:.2f}'.format(data['ceiling_height'].mean()))"
   ]
  },
  {
   "cell_type": "markdown",
   "metadata": {},
   "source": [
    "Средняя высота потолка в центре выше, чем по всей выборке - в центре очень мало квартир с потолками ниже 3 метров. Потолки высотой 3 метра скорее всего являются стандартом для дорогого жилья."
   ]
  },
  {
   "cell_type": "markdown",
   "metadata": {},
   "source": [
    "**Рассмотрим влияние параметров общая площадь, количество комнат и удаленность от центра. На стоимость квартир в центре города.  \n",
    "Для этого построим графики зависимости этих параметров.**"
   ]
  },
  {
   "cell_type": "markdown",
   "metadata": {},
   "source": [
    "* Сравним два графика зависимости цены от количества комнат для квартир в центре и по всей выборке."
   ]
  },
  {
   "cell_type": "code",
   "execution_count": 73,
   "metadata": {},
   "outputs": [
    {
     "data": {
      "image/png": "[encoded data removed]",
      "text/plain": [
       "<Figure size 504x288 with 1 Axes>"
      ]
     },
     "metadata": {
      "needs_background": "light"
     },
     "output_type": "display_data"
    },
    {
     "data": {
      "image/png": "[encoded data removed]",
      "text/plain": [
       "<Figure size 504x288 with 1 Axes>"
      ]
     },
     "metadata": {
      "needs_background": "light"
     },
     "output_type": "display_data"
    },
    {
     "name": "stdout",
     "output_type": "stream",
     "text": [
      "Корреляция между ценой и количеством комнат в центре: 0.23\n",
      "Корреляция между ценой и количеством комнат по всей выборке: 0.34\n",
      "Среднее количество комнат в квартирах в центре: 3.17\n",
      "Средняя количество комнат в квартирах по всей выборке: 2.04\n"
     ]
    }
   ],
   "source": [
    "city_center_rooms_price = city_center.pivot_table(index='rooms', values='last_price', aggfunc=['mean'])\n",
    "city_center_rooms_price.columns = ['mean_last_price']\n",
    "\n",
    "graph_bar(city_center_rooms_price, city_center_rooms_price['mean_last_price'], 'Количество комнат. Квартиры в центре', 'Средняя стоимость', 7, 4)\n",
    "plt.show()\n",
    "graph_bar(rooms_price, rooms_price['mean_last_price'], 'Количество комнат. Квартиры вне центра', 'Средняя стоимость кв.м.', 7, 4)\n",
    "plt.show()\n",
    "\n",
    "\n",
    "print('Корреляция между ценой и количеством комнат в центре: {:.2f}'.format(city_center['rooms'].corr(city_center['last_price'])))\n",
    "print('Корреляция между ценой и количеством комнат по всей выборке: {:.2f}'.format(data['rooms'].corr(data['last_price'])))\n",
    "print('Среднее количество комнат в квартирах в центре: {:.2f}'.format(city_center['rooms'].mean()))\n",
    "print('Средняя количество комнат в квартирах по всей выборке: {:.2f}'.format(data['rooms'].mean()))"
   ]
  },
  {
   "cell_type": "markdown",
   "metadata": {},
   "source": [
    "Стоимость квартир в центре меньше зависит от количества комнат, чем стоимость квартир в остальных частях города.  \n",
    "В центре среднее количество комнат в квартире 3.17, в остальных районах города 2.04 - это очень большая разница, сильно характеризующая разницу продаваемой недвижимости."
   ]
  },
  {
   "cell_type": "markdown",
   "metadata": {},
   "source": [
    "* Сравним два графика зависимости цены от этажа для квартир в центре и по всей выборке."
   ]
  },
  {
   "cell_type": "code",
   "execution_count": 74,
   "metadata": {},
   "outputs": [
    {
     "data": {
      "image/png": "[encoded data removed]",
      "text/plain": [
       "<Figure size 504x288 with 1 Axes>"
      ]
     },
     "metadata": {
      "needs_background": "light"
     },
     "output_type": "display_data"
    },
    {
     "data": {
      "image/png": "[encoded data removed]",
      "text/plain": [
       "<Figure size 504x288 with 1 Axes>"
      ]
     },
     "metadata": {
      "needs_background": "light"
     },
     "output_type": "display_data"
    }
   ],
   "source": [
    "city_center_floor = city_center.pivot_table(index='floor_name', values='last_price', aggfunc=['mean'])\n",
    "city_center_floor.columns = ['mean_last_price']\n",
    "\n",
    "graph_bar(city_center_floor, city_center_floor['mean_last_price'], 'Этаж. Квартиры в центре', 'Средняя стоимость', 7, 4)\n",
    "plt.show()\n",
    "graph_bar(floor_apt, floor_apt['mean_last_price'], 'Этаж. Квартиры вне центра', 'Средняя стоимость кв.м.', 7, 4)\n",
    "plt.show()"
   ]
  },
  {
   "cell_type": "markdown",
   "metadata": {},
   "source": [
    "Визуально графики зависимости цены от количества комнат недвижимости в центре и во всей выборке отличаются не сильно, но в центре квартиры на первом ценятся еще меньше, чем по всей выборке."
   ]
  },
  {
   "cell_type": "markdown",
   "metadata": {},
   "source": [
    "* Сравним два графика зависимости цены от года продажи для квартир в центре и по всей выборке."
   ]
  },
  {
   "cell_type": "code",
   "execution_count": 75,
   "metadata": {},
   "outputs": [
    {
     "data": {
      "image/png": "[encoded data removed]",
      "text/plain": [
       "<Figure size 504x288 with 1 Axes>"
      ]
     },
     "metadata": {
      "needs_background": "light"
     },
     "output_type": "display_data"
    },
    {
     "data": {
      "image/png": "[encoded data removed]",
      "text/plain": [
       "<Figure size 504x288 with 1 Axes>"
      ]
     },
     "metadata": {
      "needs_background": "light"
     },
     "output_type": "display_data"
    }
   ],
   "source": [
    "city_center_year = city_center.pivot_table(index='year', values='last_price', aggfunc=['mean'])\n",
    "city_center_year.columns = ['mean_last_price']\n",
    "\n",
    "graph_bar(city_center_year, city_center_year['mean_last_price'], 'Год объявления. Квартиры в центре', 'Средняя стоимость', 7, 4)\n",
    "plt.show()\n",
    "graph_bar(year_sale, year_sale['mean_last_price'], 'Год объявления. Квартиры вне центра', 'Средняя стоимость', 7, 4)\n",
    "plt.show()"
   ]
  },
  {
   "cell_type": "markdown",
   "metadata": {},
   "source": [
    "Кризис 2014 года намного сильнее повлиял на цены недвижимости в центре, чем на квартиры по всей выборке - средние цены упали практически в 2.5 раза и держались на одном уровне вплоть до 2019 года.  \n",
    "Однако в 2019 году на рынке дорогой недвижимости наметился заметный подъем, в отличие от рынка массового жилья."
   ]
  },
  {
   "cell_type": "markdown",
   "metadata": {},
   "source": [
    "<div style=\"border:solid  red  2px; padding: 20px\"> <h1 style=\"color: red; margin-bottom:20px\">Комментарий наставника</h1>\n",
    "\n",
    "Посмотрим как изменятся результаты при изменении границ центральной зоны\n"
   ]
  },
  {
   "cell_type": "markdown",
   "metadata": {},
   "source": [
    "<div style=\"border:solid  green  2px; padding: 20px\"> <h1 style=\"color: green ; margin-bottom:20px\">Комментарий наставника</h1>\n",
    "\n",
    "Просто класс! Очень здорово и детально, работа проделана колоссальная, продолжай в том же духе\n"
   ]
  },
  {
   "cell_type": "markdown",
   "metadata": {},
   "source": [
    "### Шаг 5. Общий вывод"
   ]
  },
  {
   "cell_type": "markdown",
   "metadata": {},
   "source": [
    "* В процессе анализа рынка недвижимости Санкт-Петербурга и ЛО были выявлены слишком быстрые (быстрее, чем за неделю) и слишком долгие продажи квартир (дольше 1 года). Общая доля слишком быстрых продаж около 2 процентов от выборки, продаж дольше года около 15% от выборки.  \n",
    "* Несмотря на то, что корреляция цены и длительности продажи по всей выборке близка к нулю, влияние цены на дительность продажи заметно в случае очень быстрой или долгой продажи недвижимости - квартиры, проданные быстрее, чем за 7дней на 8% дешевле стандартных. Проданные дольше, чем за 365 дней, дороже стандартно проданных квартир на 30%\n",
    "\n",
    "* Проанализированы параметры, влияющие на стоимость недвижимости:  \n",
    "    1) общая площадь квартиры и количество комнат - чем больше площадь, тем дороже в целом квартира;  \n",
    "    2) расположение на первом или других этажах - первый этаж сильно снижает стоимость недвижимости, расположение на последнем этаже не влияет на цену;  \n",
    "    3) район расположения квартиры - в центре дороже, чем на окраине;  \n",
    "    4) общая экономическая ситуация в стране - в кризис квартиры продать сложнее;  \n",
    "    5) высота потолков - чем выше потолки, тем дороже квартира. Потолки высотой 3 метра являются стандартном в дорогом жилье;  \n",
    "    6) Наличие рядом парков - этот параметр входит в пятерку по величине корреляции с ценой, но в целом она не очень высокая.\n",
    "    \n",
    "* Выделен центральный район Санкт-Петербурга, и проведено сравнение параметров квартир, находящихся в центре и по всей выборке:  \n",
    "    1) В центре квартиры больше по площади с большим количеством комнат и намного дороже квартир на окраине;  \n",
    "    2) Цена квартир в центре не так сильно зависит от количества комнат, чем квартиры на окраине;  \n",
    "    3) Высота потолков выше, чем квартирах на окраине;    \n",
    "    4) Квартиры на первом этаже ценятся еще меньше остальных квартир;  \n",
    "    5) На продажу недвижимости в центре намного сильнее повлиял кризис 2014 года, но в 2019 году начался достаточно резкий подъем, в отличие от остальных районов города;  \n",
    "    \n",
    "\n"
   ]
  },
  {
   "cell_type": "markdown",
   "metadata": {},
   "source": [
    "<div style=\"border:solid  green  2px; padding: 20px\"> <h1 style=\"color: green ; margin-bottom:20px\">Комментарий наставника</h1>\n",
    "\n",
    "У тебя отлично получается анализировать сложные данные и находить скрытые зависимости, здорово!)"
   ]
  },
  {
   "cell_type": "markdown",
   "metadata": {},
   "source": [
    "### Чек-лист готовности проекта\n",
    "\n",
    "Поставьте 'x' в выполненных пунктах. Далее нажмите Shift+Enter."
   ]
  },
  {
   "cell_type": "markdown",
   "metadata": {},
   "source": [
    "- [x]  открыт файл\n",
    "- [x]  файлы изучены (выведены первые строки, метод info())\n",
    "- [x]  определены пропущенные значения\n",
    "- [x]  заполнены пропущенные значения\n",
    "- [x]  есть пояснение какие пропущенные значения обнаружены\n",
    "- [x]  изменены типы данных\n",
    "- [x]  есть пояснение в каких столбцах изменены типы и почему\n",
    "- [x]  посчитано и добавлено в таблицу: цена квадратного метра\n",
    "- [x]  посчитано и добавлено в таблицу: день недели, месяц и год публикации объявления\n",
    "- [x]  посчитано и добавлено в таблицу: этаж квартиры; варианты — первый, последний, другой\n",
    "- [x]  посчитано и добавлено в таблицу: соотношение жилой и общей площади, а также отношение площади кухни к общей\n",
    "- [x]  изучены следующие параметры: площадь, цена, число комнат, высота потолков\n",
    "- [x]  построены гистограммы для каждого параметра\n",
    "- [x]  выполнено задание: \"Изучите время продажи квартиры. Постройте гистограмму. Посчитайте среднее и медиану. Опишите, сколько обычно занимает продажа. Когда можно считать, что продажи прошли очень быстро, а когда необычно долго?\"\n",
    "- [x]  выполнено задание: \"Уберите редкие и выбивающиеся значения. Опишите, какие особенности обнаружили.\"\n",
    "- [x]  выполнено задание: \"Какие факторы больше всего влияют на стоимость квартиры? Изучите, зависит ли цена от квадратного метра, числа комнат, этажа (первого или последнего), удалённости от центра. Также изучите зависимость от даты размещения: дня недели, месяца и года. \"Выберите 10 населённых пунктов с наибольшим числом объявлений. Посчитайте среднюю цену квадратного метра в этих населённых пунктах. Выделите населённые пункты с самой высокой и низкой стоимостью жилья. Эти данные можно найти по имени в столбце '*locality_name'*. \"\n",
    "- [x]  выполнено задание: \"Изучите предложения квартир: для каждой квартиры есть информация о расстоянии до центра. Выделите квартиры в Санкт-Петербурге (*'locality_name'*). Ваша задача — выяснить, какая область входит в центр. Создайте столбец с расстоянием до центра в километрах: округлите до целых значений. После этого посчитайте среднюю цену для каждого километра. Постройте график: он должен показывать, как цена зависит от удалённости от центра. Определите границу, где график сильно меняется — это и будет центральная зона. \"\n",
    "- [x]  выполнено задание: \"Выделите сегмент квартир в центре. Проанализируйте эту территорию и изучите следующие параметры: площадь, цена, число комнат, высота потолков. Также выделите факторы, которые влияют на стоимость квартиры (число комнат, этаж, удалённость от центра, дата размещения объявления). Сделайте выводы. Отличаются ли они от общих выводов по всему городу?\"\n",
    "- [x]  в каждом этапе есть выводы\n",
    "- [x]  есть общий вывод"
   ]
  },
  {
   "cell_type": "markdown",
   "metadata": {},
   "source": [
    "<div style=\"border:solid  orange  2px; padding: 20px\"> <h1 style=\"color: orange ; margin-bottom:20px\">Комментарий наставника</h1>\n",
    "\n",
    "Работа хорошая, но стоит исправить обозначенные неточности, буду ждать исправленный вариант\n"
   ]
  },
  {
   "cell_type": "markdown",
   "metadata": {},
   "source": [
    "<div style=\"border:solid  green  2px; padding: 20px\">\n",
    "\n",
    "<h1 style=\"color: green ; margin-bottom:20px\">Комментарий наставника</h1>\n",
    "\n",
    "#### Код\n",
    "\n",
    "Всё отлично. Из того, что очень порадовало - соблюдена структура проекта, шаги из задания обозначены и выполнены последовательно, код написан аккуратно, используются комментарии к коду, быстро можно понять, какие операции выполняют сложные конструкции. В качестве совета предлагаю глубже изучить библиотеку Seaborn для построения более ярких и качественных визуализаций в Python, так как иногда хорошая красочная визуализация может сказать очень многое о данных.\n",
    "\n",
    "#### Выводы\n",
    "\n",
    "Ты пишешь отличные обоснованные выводы по проделанной раблоте и выдвигаешь корректные гипотезы - это очень радует!) Так же видно глубокое понимание проведённого анализа. Было очень интересно проверять твой проект и следить за твоей мыслью, продолжай в том же духе) Удачи!)"
   ]
  }
 ],
 "metadata": {
  "kernelspec": {
   "display_name": "Python 3",
   "language": "python",
   "name": "python3"
  },
  "language_info": {
   "codemirror_mode": {
    "name": "ipython",
    "version": 3
   },
   "file_extension": ".py",
   "mimetype": "text/x-python",
   "name": "python",
   "nbconvert_exporter": "python",
   "pygments_lexer": "ipython3",
   "version": "3.7.6"
  }
 },
 "nbformat": 4,
 "nbformat_minor": 2
}
