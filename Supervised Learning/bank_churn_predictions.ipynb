{
 "cells": [
  {
   "cell_type": "markdown",
   "metadata": {},
   "source": [
    "# Отток клиентов"
   ]
  },
  {
   "cell_type": "markdown",
   "metadata": {},
   "source": [
    "Из банка стали уходить клиенты. Банковские маркетологи посчитали: сохранять текущих клиентов дешевле, чем привлекать новых.\n",
    "\n",
    "Необходимо создать модель и спрогнозировать, уйдёт клиент из банка в ближайшее время или нет.  \n",
    "В наличии исторические данные о поведении клиентов и расторжении договоров с банком. "
   ]
  },
  {
   "cell_type": "markdown",
   "metadata": {},
   "source": [
    "# Описание данных"
   ]
  },
  {
   "cell_type": "markdown",
   "metadata": {},
   "source": [
    "* RowNumber — индекс строки в данных\n",
    "* CustomerId — уникальный идентификатор клиента\n",
    "* Surname — фамилия\n",
    "* CreditScore — кредитный рейтинг\n",
    "* Geography — страна проживания\n",
    "* Gender — пол\n",
    "* Age — возраст\n",
    "* Tenure — количество недвижимости у клиента\n",
    "* Balance — баланс на счёте\n",
    "* NumOfProducts — количество продуктов банка, используемых клиентом\n",
    "* HasCrCard — наличие кредитной карты\n",
    "* IsActiveMember — активность клиента\n",
    "* EstimatedSalary — предполагаемая зарплата  \n",
    "\n",
    "Целевой признак\n",
    "* Exited — факт ухода клиента"
   ]
  },
  {
   "cell_type": "markdown",
   "metadata": {},
   "source": [
    "## План работы с проектом"
   ]
  },
  {
   "cell_type": "markdown",
   "metadata": {},
   "source": [
    "1. Откроем файл с данными, изучим его и подготовим данные к анализу; \n",
    "2. Исследуем баланс классов, обучим модель без учёта дисбаланса;\n",
    "3. Улучшим качество модели, учитывая дисбаланс классов. Обучим разные модели и найдем лучшую;\n",
    "4. Проведем финальное тестирование;\n",
    "5. Проверим модели на вменяемость. "
   ]
  },
  {
   "cell_type": "markdown",
   "metadata": {},
   "source": [
    "***\n",
    "# 1. Подготовка данных"
   ]
  },
  {
   "cell_type": "markdown",
   "metadata": {},
   "source": [
    "Для подготовки данных нам необходимо выполнить следующие шаги:  \n",
    "* Предобработать данные, заполнить пропуски, привести данные к нужным форматам;\n",
    "* Преобразовать категориальные признаки в численные;\n",
    "* Масштабировать количественные признаки."
   ]
  },
  {
   "cell_type": "markdown",
   "metadata": {},
   "source": [
    "***\n",
    "## Предобработка данных"
   ]
  },
  {
   "cell_type": "markdown",
   "metadata": {},
   "source": [
    "*Откроем файл и посмотрим на его структуру, данные и наличие или отсутсвие пропусков.*"
   ]
  },
  {
   "cell_type": "code",
   "execution_count": 1,
   "metadata": {},
   "outputs": [
    {
     "name": "stdout",
     "output_type": "stream",
     "text": [
      "<class 'pandas.core.frame.DataFrame'>\n",
      "RangeIndex: 10000 entries, 0 to 9999\n",
      "Data columns (total 14 columns):\n",
      "RowNumber          10000 non-null int64\n",
      "CustomerId         10000 non-null int64\n",
      "Surname            10000 non-null object\n",
      "CreditScore        10000 non-null int64\n",
      "Geography          10000 non-null object\n",
      "Gender             10000 non-null object\n",
      "Age                10000 non-null int64\n",
      "Tenure             9091 non-null float64\n",
      "Balance            10000 non-null float64\n",
      "NumOfProducts      10000 non-null int64\n",
      "HasCrCard          10000 non-null int64\n",
      "IsActiveMember     10000 non-null int64\n",
      "EstimatedSalary    10000 non-null float64\n",
      "Exited             10000 non-null int64\n",
      "dtypes: float64(3), int64(8), object(3)\n",
      "memory usage: 1.1+ MB\n"
     ]
    },
    {
     "data": {
      "text/html": [
       "<div>\n",
       "<style scoped>\n",
       "    .dataframe tbody tr th:only-of-type {\n",
       "        vertical-align: middle;\n",
       "    }\n",
       "\n",
       "    .dataframe tbody tr th {\n",
       "        vertical-align: top;\n",
       "    }\n",
       "\n",
       "    .dataframe thead th {\n",
       "        text-align: right;\n",
       "    }\n",
       "</style>\n",
       "<table border=\"1\" class=\"dataframe\">\n",
       "  <thead>\n",
       "    <tr style=\"text-align: right;\">\n",
       "      <th></th>\n",
       "      <th>RowNumber</th>\n",
       "      <th>CustomerId</th>\n",
       "      <th>Surname</th>\n",
       "      <th>CreditScore</th>\n",
       "      <th>Geography</th>\n",
       "      <th>Gender</th>\n",
       "      <th>Age</th>\n",
       "      <th>Tenure</th>\n",
       "      <th>Balance</th>\n",
       "      <th>NumOfProducts</th>\n",
       "      <th>HasCrCard</th>\n",
       "      <th>IsActiveMember</th>\n",
       "      <th>EstimatedSalary</th>\n",
       "      <th>Exited</th>\n",
       "    </tr>\n",
       "  </thead>\n",
       "  <tbody>\n",
       "    <tr>\n",
       "      <td>0</td>\n",
       "      <td>1</td>\n",
       "      <td>15634602</td>\n",
       "      <td>Hargrave</td>\n",
       "      <td>619</td>\n",
       "      <td>France</td>\n",
       "      <td>Female</td>\n",
       "      <td>42</td>\n",
       "      <td>2.0</td>\n",
       "      <td>0.00</td>\n",
       "      <td>1</td>\n",
       "      <td>1</td>\n",
       "      <td>1</td>\n",
       "      <td>101348.88</td>\n",
       "      <td>1</td>\n",
       "    </tr>\n",
       "    <tr>\n",
       "      <td>1</td>\n",
       "      <td>2</td>\n",
       "      <td>15647311</td>\n",
       "      <td>Hill</td>\n",
       "      <td>608</td>\n",
       "      <td>Spain</td>\n",
       "      <td>Female</td>\n",
       "      <td>41</td>\n",
       "      <td>1.0</td>\n",
       "      <td>83807.86</td>\n",
       "      <td>1</td>\n",
       "      <td>0</td>\n",
       "      <td>1</td>\n",
       "      <td>112542.58</td>\n",
       "      <td>0</td>\n",
       "    </tr>\n",
       "    <tr>\n",
       "      <td>2</td>\n",
       "      <td>3</td>\n",
       "      <td>15619304</td>\n",
       "      <td>Onio</td>\n",
       "      <td>502</td>\n",
       "      <td>France</td>\n",
       "      <td>Female</td>\n",
       "      <td>42</td>\n",
       "      <td>8.0</td>\n",
       "      <td>159660.80</td>\n",
       "      <td>3</td>\n",
       "      <td>1</td>\n",
       "      <td>0</td>\n",
       "      <td>113931.57</td>\n",
       "      <td>1</td>\n",
       "    </tr>\n",
       "    <tr>\n",
       "      <td>3</td>\n",
       "      <td>4</td>\n",
       "      <td>15701354</td>\n",
       "      <td>Boni</td>\n",
       "      <td>699</td>\n",
       "      <td>France</td>\n",
       "      <td>Female</td>\n",
       "      <td>39</td>\n",
       "      <td>1.0</td>\n",
       "      <td>0.00</td>\n",
       "      <td>2</td>\n",
       "      <td>0</td>\n",
       "      <td>0</td>\n",
       "      <td>93826.63</td>\n",
       "      <td>0</td>\n",
       "    </tr>\n",
       "    <tr>\n",
       "      <td>4</td>\n",
       "      <td>5</td>\n",
       "      <td>15737888</td>\n",
       "      <td>Mitchell</td>\n",
       "      <td>850</td>\n",
       "      <td>Spain</td>\n",
       "      <td>Female</td>\n",
       "      <td>43</td>\n",
       "      <td>2.0</td>\n",
       "      <td>125510.82</td>\n",
       "      <td>1</td>\n",
       "      <td>1</td>\n",
       "      <td>1</td>\n",
       "      <td>79084.10</td>\n",
       "      <td>0</td>\n",
       "    </tr>\n",
       "  </tbody>\n",
       "</table>\n",
       "</div>"
      ],
      "text/plain": [
       "   RowNumber  CustomerId   Surname  CreditScore Geography  Gender  Age  \\\n",
       "0          1    15634602  Hargrave          619    France  Female   42   \n",
       "1          2    15647311      Hill          608     Spain  Female   41   \n",
       "2          3    15619304      Onio          502    France  Female   42   \n",
       "3          4    15701354      Boni          699    France  Female   39   \n",
       "4          5    15737888  Mitchell          850     Spain  Female   43   \n",
       "\n",
       "   Tenure    Balance  NumOfProducts  HasCrCard  IsActiveMember  \\\n",
       "0     2.0       0.00              1          1               1   \n",
       "1     1.0   83807.86              1          0               1   \n",
       "2     8.0  159660.80              3          1               0   \n",
       "3     1.0       0.00              2          0               0   \n",
       "4     2.0  125510.82              1          1               1   \n",
       "\n",
       "   EstimatedSalary  Exited  \n",
       "0        101348.88       1  \n",
       "1        112542.58       0  \n",
       "2        113931.57       1  \n",
       "3         93826.63       0  \n",
       "4         79084.10       0  "
      ]
     },
     "execution_count": 1,
     "metadata": {},
     "output_type": "execute_result"
    }
   ],
   "source": [
    "import warnings\n",
    "warnings.simplefilter('ignore')\n",
    "\n",
    "import pandas as pd\n",
    "import seaborn as sns\n",
    "import matplotlib.pyplot as plt\n",
    "import joblib\n",
    "from sklearn.model_selection import train_test_split, GridSearchCV, RandomizedSearchCV\n",
    "from sklearn.preprocessing import StandardScaler\n",
    "from sklearn.ensemble import RandomForestClassifier\n",
    "from sklearn.tree import DecisionTreeClassifier\n",
    "from sklearn.linear_model import LogisticRegression\n",
    "from sklearn.metrics import f1_score, recall_score, precision_score, accuracy_score, roc_auc_score \n",
    "from sklearn.utils import shuffle\n",
    "    \n",
    "data = pd.read_csv('/datasets/Churn.csv')\n",
    "data.info()\n",
    "data.head()"
   ]
  },
  {
   "cell_type": "markdown",
   "metadata": {},
   "source": [
    "Всего в файле 10000 объектов, дубликатов нет, пропуски есть в столбце Tenure.  \n",
    "Все данные, кроме столбца Tenure приведены к нужному формату. Наименования столбцов нужно будет привести к нижнему регистру.  \n",
    "Целевым признаком является столбец Exited."
   ]
  },
  {
   "cell_type": "markdown",
   "metadata": {},
   "source": [
    "*Приведем названия столбцов к нижнему регистру.*"
   ]
  },
  {
   "cell_type": "code",
   "execution_count": 2,
   "metadata": {},
   "outputs": [
    {
     "data": {
      "text/plain": [
       "Index(['rownumber', 'customerid', 'surname', 'creditscore', 'geography',\n",
       "       'gender', 'age', 'tenure', 'balance', 'numofproducts', 'hascrcard',\n",
       "       'isactivemember', 'estimatedsalary', 'exited'],\n",
       "      dtype='object')"
      ]
     },
     "execution_count": 2,
     "metadata": {},
     "output_type": "execute_result"
    }
   ],
   "source": [
    "new_names = data.columns.str.lower()\n",
    "data.set_axis(new_names, axis = 'columns', inplace = True)\n",
    "data.columns"
   ]
  },
  {
   "cell_type": "markdown",
   "metadata": {},
   "source": [
    "*Проверим таблицу на наличие пропусков и посмотрим сколько пропусков в процентном соотношении в каждом столбце*"
   ]
  },
  {
   "cell_type": "code",
   "execution_count": 3,
   "metadata": {},
   "outputs": [
    {
     "data": {
      "text/plain": [
       "tenure             9.09\n",
       "exited             0.00\n",
       "estimatedsalary    0.00\n",
       "isactivemember     0.00\n",
       "hascrcard          0.00\n",
       "numofproducts      0.00\n",
       "balance            0.00\n",
       "age                0.00\n",
       "gender             0.00\n",
       "geography          0.00\n",
       "creditscore        0.00\n",
       "surname            0.00\n",
       "customerid         0.00\n",
       "rownumber          0.00\n",
       "dtype: float64"
      ]
     },
     "execution_count": 3,
     "metadata": {},
     "output_type": "execute_result"
    }
   ],
   "source": [
    "(data.isnull().sum()/data.shape[0]*100).sort_values(ascending = False)"
   ]
  },
  {
   "cell_type": "markdown",
   "metadata": {},
   "source": [
    "Видим, что 9% пропусков есть в столбце Tenure (количество недвижимости у клиента).   \n",
    "Посмотрим распределение значений в этом столбце и подсчитаем количество каждого значения."
   ]
  },
  {
   "cell_type": "code",
   "execution_count": 4,
   "metadata": {},
   "outputs": [
    {
     "data": {
      "image/png": "[encoded data removed]",
      "text/plain": [
       "<Figure size 432x288 with 1 Axes>"
      ]
     },
     "metadata": {
      "needs_background": "light"
     },
     "output_type": "display_data"
    },
    {
     "data": {
      "text/plain": [
       "1.0     952\n",
       "2.0     950\n",
       "8.0     933\n",
       "3.0     928\n",
       "5.0     927\n",
       "7.0     925\n",
       "NaN     909\n",
       "4.0     885\n",
       "9.0     882\n",
       "6.0     881\n",
       "10.0    446\n",
       "0.0     382\n",
       "Name: tenure, dtype: int64"
      ]
     },
     "execution_count": 4,
     "metadata": {},
     "output_type": "execute_result"
    }
   ],
   "source": [
    "sns.countplot(x='tenure', data=data, color='lightblue')\n",
    "plt.show()\n",
    "data.tenure.value_counts(dropna=False)"
   ]
  },
  {
   "cell_type": "markdown",
   "metadata": {},
   "source": [
    "Количество объектов недвижимости у клиентов от 0 до 10, меньше всего клиентов без недвижимости и с десятью объектами.\n",
    "Видим, что пропусков 909 - предположим, что пропуски появились из-за того, что клиенты без недвижимости оставляли это поле пустым.  \n",
    "\n",
    "Заполним пропуски значением 0."
   ]
  },
  {
   "cell_type": "code",
   "execution_count": 5,
   "metadata": {},
   "outputs": [],
   "source": [
    "data.tenure = data.tenure.fillna(0)"
   ]
  },
  {
   "cell_type": "markdown",
   "metadata": {},
   "source": [
    "Посмотрим после этого на распределение значений этого столбца."
   ]
  },
  {
   "cell_type": "code",
   "execution_count": 6,
   "metadata": {},
   "outputs": [
    {
     "data": {
      "image/png": "[encoded data removed]",
      "text/plain": [
       "<Figure size 432x288 with 1 Axes>"
      ]
     },
     "metadata": {
      "needs_background": "light"
     },
     "output_type": "display_data"
    }
   ],
   "source": [
    "sns.countplot(x='tenure', data=data, color='lightblue')\n",
    "plt.show()"
   ]
  },
  {
   "cell_type": "markdown",
   "metadata": {},
   "source": [
    "Ситуация стала выглядеть более логично - количество клиентов без недвижимости стало немного больше, чем остальных вариантов."
   ]
  },
  {
   "cell_type": "markdown",
   "metadata": {},
   "source": [
    "*Изменим тип данных столбца tenure на целочисленый*"
   ]
  },
  {
   "cell_type": "code",
   "execution_count": 7,
   "metadata": {},
   "outputs": [
    {
     "name": "stdout",
     "output_type": "stream",
     "text": [
      "<class 'pandas.core.frame.DataFrame'>\n",
      "RangeIndex: 10000 entries, 0 to 9999\n",
      "Data columns (total 14 columns):\n",
      "rownumber          10000 non-null int64\n",
      "customerid         10000 non-null int64\n",
      "surname            10000 non-null object\n",
      "creditscore        10000 non-null int64\n",
      "geography          10000 non-null object\n",
      "gender             10000 non-null object\n",
      "age                10000 non-null int64\n",
      "tenure             10000 non-null int64\n",
      "balance            10000 non-null float64\n",
      "numofproducts      10000 non-null int64\n",
      "hascrcard          10000 non-null int64\n",
      "isactivemember     10000 non-null int64\n",
      "estimatedsalary    10000 non-null float64\n",
      "exited             10000 non-null int64\n",
      "dtypes: float64(2), int64(9), object(3)\n",
      "memory usage: 1.1+ MB\n"
     ]
    }
   ],
   "source": [
    "data.tenure = data.tenure.astype(int)\n",
    "data.info()"
   ]
  },
  {
   "cell_type": "markdown",
   "metadata": {},
   "source": [
    "*Проверим таблицу на наличие дубликатов*"
   ]
  },
  {
   "cell_type": "code",
   "execution_count": 8,
   "metadata": {},
   "outputs": [
    {
     "data": {
      "text/plain": [
       "0"
      ]
     },
     "execution_count": 8,
     "metadata": {},
     "output_type": "execute_result"
    }
   ],
   "source": [
    "data.duplicated().sum()"
   ]
  },
  {
   "cell_type": "markdown",
   "metadata": {},
   "source": [
    "Дубликатов нет."
   ]
  },
  {
   "cell_type": "markdown",
   "metadata": {},
   "source": [
    "***\n",
    "### Вывод"
   ]
  },
  {
   "cell_type": "markdown",
   "metadata": {},
   "source": [
    "Каждый объект в наборе данных — это информация о одном из клиентов банка.\n",
    "\n",
    "В файле 14 столбцов:\n",
    "\n",
    "* RowNumber — индекс строки в данных\n",
    "* CustomerId — уникальный идентификатор клиента\n",
    "* Surname — фамилия\n",
    "* CreditScore — кредитный рейтинг\n",
    "* Geography — страна проживания\n",
    "* Gender — пол\n",
    "* Age — возраст\n",
    "* Tenure — количество недвижимости у клиента\n",
    "* Balance — баланс на счёте\n",
    "* NumOfProducts — количество продуктов банка, используемых клиентом\n",
    "* HasCrCard — наличие кредитной карты\n",
    "* IsActiveMember — активность клиента\n",
    "* EstimatedSalary — предполагаемая зарплата\n",
    "* Exited — факт ухода клиента  \n",
    "\n",
    "Целевым признаком является столбец Exited.  \n",
    "\n",
    "\n",
    "На данном шаге были изучены имеющиеся данные, заполнены пропуски, изменен тип данных там, где это было нужно. "
   ]
  },
  {
   "cell_type": "markdown",
   "metadata": {},
   "source": [
    "***\n",
    "## Преобразование категориальных признаков в численные"
   ]
  },
  {
   "cell_type": "markdown",
   "metadata": {},
   "source": [
    "Для обучения наших будущих моделей нам необходимо преобразовать столбцы с категориальными данными в количественные.  \n",
    "В нашей базе данных три столбца с категориальными данными - Surname, Geography, Gender.  \n",
    "\n",
    "Для прогнозирования, уйдёт клиент из банка в ближайшее время или нет, нам не нужна информация о фамилии клиента, поэтому удалим столбец с данной информацией."
   ]
  },
  {
   "cell_type": "code",
   "execution_count": 9,
   "metadata": {},
   "outputs": [
    {
     "data": {
      "text/html": [
       "<div>\n",
       "<style scoped>\n",
       "    .dataframe tbody tr th:only-of-type {\n",
       "        vertical-align: middle;\n",
       "    }\n",
       "\n",
       "    .dataframe tbody tr th {\n",
       "        vertical-align: top;\n",
       "    }\n",
       "\n",
       "    .dataframe thead th {\n",
       "        text-align: right;\n",
       "    }\n",
       "</style>\n",
       "<table border=\"1\" class=\"dataframe\">\n",
       "  <thead>\n",
       "    <tr style=\"text-align: right;\">\n",
       "      <th></th>\n",
       "      <th>rownumber</th>\n",
       "      <th>customerid</th>\n",
       "      <th>creditscore</th>\n",
       "      <th>geography</th>\n",
       "      <th>gender</th>\n",
       "      <th>age</th>\n",
       "      <th>tenure</th>\n",
       "      <th>balance</th>\n",
       "      <th>numofproducts</th>\n",
       "      <th>hascrcard</th>\n",
       "      <th>isactivemember</th>\n",
       "      <th>estimatedsalary</th>\n",
       "      <th>exited</th>\n",
       "    </tr>\n",
       "  </thead>\n",
       "  <tbody>\n",
       "    <tr>\n",
       "      <td>0</td>\n",
       "      <td>1</td>\n",
       "      <td>15634602</td>\n",
       "      <td>619</td>\n",
       "      <td>France</td>\n",
       "      <td>Female</td>\n",
       "      <td>42</td>\n",
       "      <td>2</td>\n",
       "      <td>0.00</td>\n",
       "      <td>1</td>\n",
       "      <td>1</td>\n",
       "      <td>1</td>\n",
       "      <td>101348.88</td>\n",
       "      <td>1</td>\n",
       "    </tr>\n",
       "    <tr>\n",
       "      <td>1</td>\n",
       "      <td>2</td>\n",
       "      <td>15647311</td>\n",
       "      <td>608</td>\n",
       "      <td>Spain</td>\n",
       "      <td>Female</td>\n",
       "      <td>41</td>\n",
       "      <td>1</td>\n",
       "      <td>83807.86</td>\n",
       "      <td>1</td>\n",
       "      <td>0</td>\n",
       "      <td>1</td>\n",
       "      <td>112542.58</td>\n",
       "      <td>0</td>\n",
       "    </tr>\n",
       "    <tr>\n",
       "      <td>2</td>\n",
       "      <td>3</td>\n",
       "      <td>15619304</td>\n",
       "      <td>502</td>\n",
       "      <td>France</td>\n",
       "      <td>Female</td>\n",
       "      <td>42</td>\n",
       "      <td>8</td>\n",
       "      <td>159660.80</td>\n",
       "      <td>3</td>\n",
       "      <td>1</td>\n",
       "      <td>0</td>\n",
       "      <td>113931.57</td>\n",
       "      <td>1</td>\n",
       "    </tr>\n",
       "    <tr>\n",
       "      <td>3</td>\n",
       "      <td>4</td>\n",
       "      <td>15701354</td>\n",
       "      <td>699</td>\n",
       "      <td>France</td>\n",
       "      <td>Female</td>\n",
       "      <td>39</td>\n",
       "      <td>1</td>\n",
       "      <td>0.00</td>\n",
       "      <td>2</td>\n",
       "      <td>0</td>\n",
       "      <td>0</td>\n",
       "      <td>93826.63</td>\n",
       "      <td>0</td>\n",
       "    </tr>\n",
       "    <tr>\n",
       "      <td>4</td>\n",
       "      <td>5</td>\n",
       "      <td>15737888</td>\n",
       "      <td>850</td>\n",
       "      <td>Spain</td>\n",
       "      <td>Female</td>\n",
       "      <td>43</td>\n",
       "      <td>2</td>\n",
       "      <td>125510.82</td>\n",
       "      <td>1</td>\n",
       "      <td>1</td>\n",
       "      <td>1</td>\n",
       "      <td>79084.10</td>\n",
       "      <td>0</td>\n",
       "    </tr>\n",
       "  </tbody>\n",
       "</table>\n",
       "</div>"
      ],
      "text/plain": [
       "   rownumber  customerid  creditscore geography  gender  age  tenure  \\\n",
       "0          1    15634602          619    France  Female   42       2   \n",
       "1          2    15647311          608     Spain  Female   41       1   \n",
       "2          3    15619304          502    France  Female   42       8   \n",
       "3          4    15701354          699    France  Female   39       1   \n",
       "4          5    15737888          850     Spain  Female   43       2   \n",
       "\n",
       "     balance  numofproducts  hascrcard  isactivemember  estimatedsalary  \\\n",
       "0       0.00              1          1               1        101348.88   \n",
       "1   83807.86              1          0               1        112542.58   \n",
       "2  159660.80              3          1               0        113931.57   \n",
       "3       0.00              2          0               0         93826.63   \n",
       "4  125510.82              1          1               1         79084.10   \n",
       "\n",
       "   exited  \n",
       "0       1  \n",
       "1       0  \n",
       "2       1  \n",
       "3       0  \n",
       "4       0  "
      ]
     },
     "execution_count": 9,
     "metadata": {},
     "output_type": "execute_result"
    }
   ],
   "source": [
    "data = data.drop(['surname'], axis=1)\n",
    "data.head()"
   ]
  },
  {
   "cell_type": "markdown",
   "metadata": {},
   "source": [
    "Теперь проведем преобразование категориальных признаков в численные методом *One-Hot Encoding*, который является более универсальным, чем метод *Ordinal Encoding*"
   ]
  },
  {
   "cell_type": "code",
   "execution_count": 10,
   "metadata": {},
   "outputs": [
    {
     "data": {
      "text/html": [
       "<div>\n",
       "<style scoped>\n",
       "    .dataframe tbody tr th:only-of-type {\n",
       "        vertical-align: middle;\n",
       "    }\n",
       "\n",
       "    .dataframe tbody tr th {\n",
       "        vertical-align: top;\n",
       "    }\n",
       "\n",
       "    .dataframe thead th {\n",
       "        text-align: right;\n",
       "    }\n",
       "</style>\n",
       "<table border=\"1\" class=\"dataframe\">\n",
       "  <thead>\n",
       "    <tr style=\"text-align: right;\">\n",
       "      <th></th>\n",
       "      <th>rownumber</th>\n",
       "      <th>customerid</th>\n",
       "      <th>creditscore</th>\n",
       "      <th>age</th>\n",
       "      <th>tenure</th>\n",
       "      <th>balance</th>\n",
       "      <th>numofproducts</th>\n",
       "      <th>hascrcard</th>\n",
       "      <th>isactivemember</th>\n",
       "      <th>estimatedsalary</th>\n",
       "      <th>exited</th>\n",
       "      <th>geography_Germany</th>\n",
       "      <th>geography_Spain</th>\n",
       "      <th>gender_Male</th>\n",
       "    </tr>\n",
       "  </thead>\n",
       "  <tbody>\n",
       "    <tr>\n",
       "      <td>0</td>\n",
       "      <td>1</td>\n",
       "      <td>15634602</td>\n",
       "      <td>619</td>\n",
       "      <td>42</td>\n",
       "      <td>2</td>\n",
       "      <td>0.00</td>\n",
       "      <td>1</td>\n",
       "      <td>1</td>\n",
       "      <td>1</td>\n",
       "      <td>101348.88</td>\n",
       "      <td>1</td>\n",
       "      <td>0</td>\n",
       "      <td>0</td>\n",
       "      <td>0</td>\n",
       "    </tr>\n",
       "    <tr>\n",
       "      <td>1</td>\n",
       "      <td>2</td>\n",
       "      <td>15647311</td>\n",
       "      <td>608</td>\n",
       "      <td>41</td>\n",
       "      <td>1</td>\n",
       "      <td>83807.86</td>\n",
       "      <td>1</td>\n",
       "      <td>0</td>\n",
       "      <td>1</td>\n",
       "      <td>112542.58</td>\n",
       "      <td>0</td>\n",
       "      <td>0</td>\n",
       "      <td>1</td>\n",
       "      <td>0</td>\n",
       "    </tr>\n",
       "    <tr>\n",
       "      <td>2</td>\n",
       "      <td>3</td>\n",
       "      <td>15619304</td>\n",
       "      <td>502</td>\n",
       "      <td>42</td>\n",
       "      <td>8</td>\n",
       "      <td>159660.80</td>\n",
       "      <td>3</td>\n",
       "      <td>1</td>\n",
       "      <td>0</td>\n",
       "      <td>113931.57</td>\n",
       "      <td>1</td>\n",
       "      <td>0</td>\n",
       "      <td>0</td>\n",
       "      <td>0</td>\n",
       "    </tr>\n",
       "    <tr>\n",
       "      <td>3</td>\n",
       "      <td>4</td>\n",
       "      <td>15701354</td>\n",
       "      <td>699</td>\n",
       "      <td>39</td>\n",
       "      <td>1</td>\n",
       "      <td>0.00</td>\n",
       "      <td>2</td>\n",
       "      <td>0</td>\n",
       "      <td>0</td>\n",
       "      <td>93826.63</td>\n",
       "      <td>0</td>\n",
       "      <td>0</td>\n",
       "      <td>0</td>\n",
       "      <td>0</td>\n",
       "    </tr>\n",
       "    <tr>\n",
       "      <td>4</td>\n",
       "      <td>5</td>\n",
       "      <td>15737888</td>\n",
       "      <td>850</td>\n",
       "      <td>43</td>\n",
       "      <td>2</td>\n",
       "      <td>125510.82</td>\n",
       "      <td>1</td>\n",
       "      <td>1</td>\n",
       "      <td>1</td>\n",
       "      <td>79084.10</td>\n",
       "      <td>0</td>\n",
       "      <td>0</td>\n",
       "      <td>1</td>\n",
       "      <td>0</td>\n",
       "    </tr>\n",
       "  </tbody>\n",
       "</table>\n",
       "</div>"
      ],
      "text/plain": [
       "   rownumber  customerid  creditscore  age  tenure    balance  numofproducts  \\\n",
       "0          1    15634602          619   42       2       0.00              1   \n",
       "1          2    15647311          608   41       1   83807.86              1   \n",
       "2          3    15619304          502   42       8  159660.80              3   \n",
       "3          4    15701354          699   39       1       0.00              2   \n",
       "4          5    15737888          850   43       2  125510.82              1   \n",
       "\n",
       "   hascrcard  isactivemember  estimatedsalary  exited  geography_Germany  \\\n",
       "0          1               1        101348.88       1                  0   \n",
       "1          0               1        112542.58       0                  0   \n",
       "2          1               0        113931.57       1                  0   \n",
       "3          0               0         93826.63       0                  0   \n",
       "4          1               1         79084.10       0                  0   \n",
       "\n",
       "   geography_Spain  gender_Male  \n",
       "0                0            0  \n",
       "1                1            0  \n",
       "2                0            0  \n",
       "3                0            0  \n",
       "4                1            0  "
      ]
     },
     "execution_count": 10,
     "metadata": {},
     "output_type": "execute_result"
    }
   ],
   "source": [
    "data_new = pd.get_dummies(data, drop_first=True)\n",
    "data_new.head()"
   ]
  },
  {
   "cell_type": "markdown",
   "metadata": {},
   "source": [
    "### Вывод"
   ]
  },
  {
   "cell_type": "markdown",
   "metadata": {},
   "source": [
    "На данном шаге было проведено преобразование категориальных признаков в численные методом One-Hot Encoding.  \n",
    "Предварительно перед этим был удален столбец surname с информацией о фамилии клиента."
   ]
  },
  {
   "cell_type": "markdown",
   "metadata": {},
   "source": [
    "## Комментарий наставника\n",
    "<span style=\"color:green\">Всё верно.</span>"
   ]
  },
  {
   "cell_type": "markdown",
   "metadata": {},
   "source": [
    "В таблице осталось два столбца, которые не нужны для обучения обучения модели.  \n",
    "Это столбцы - rownumber и customerid. Удалим их."
   ]
  },
  {
   "cell_type": "code",
   "execution_count": 11,
   "metadata": {},
   "outputs": [
    {
     "data": {
      "text/html": [
       "<div>\n",
       "<style scoped>\n",
       "    .dataframe tbody tr th:only-of-type {\n",
       "        vertical-align: middle;\n",
       "    }\n",
       "\n",
       "    .dataframe tbody tr th {\n",
       "        vertical-align: top;\n",
       "    }\n",
       "\n",
       "    .dataframe thead th {\n",
       "        text-align: right;\n",
       "    }\n",
       "</style>\n",
       "<table border=\"1\" class=\"dataframe\">\n",
       "  <thead>\n",
       "    <tr style=\"text-align: right;\">\n",
       "      <th></th>\n",
       "      <th>creditscore</th>\n",
       "      <th>age</th>\n",
       "      <th>tenure</th>\n",
       "      <th>balance</th>\n",
       "      <th>numofproducts</th>\n",
       "      <th>hascrcard</th>\n",
       "      <th>isactivemember</th>\n",
       "      <th>estimatedsalary</th>\n",
       "      <th>exited</th>\n",
       "      <th>geography_Germany</th>\n",
       "      <th>geography_Spain</th>\n",
       "      <th>gender_Male</th>\n",
       "    </tr>\n",
       "  </thead>\n",
       "  <tbody>\n",
       "    <tr>\n",
       "      <td>0</td>\n",
       "      <td>619</td>\n",
       "      <td>42</td>\n",
       "      <td>2</td>\n",
       "      <td>0.00</td>\n",
       "      <td>1</td>\n",
       "      <td>1</td>\n",
       "      <td>1</td>\n",
       "      <td>101348.88</td>\n",
       "      <td>1</td>\n",
       "      <td>0</td>\n",
       "      <td>0</td>\n",
       "      <td>0</td>\n",
       "    </tr>\n",
       "    <tr>\n",
       "      <td>1</td>\n",
       "      <td>608</td>\n",
       "      <td>41</td>\n",
       "      <td>1</td>\n",
       "      <td>83807.86</td>\n",
       "      <td>1</td>\n",
       "      <td>0</td>\n",
       "      <td>1</td>\n",
       "      <td>112542.58</td>\n",
       "      <td>0</td>\n",
       "      <td>0</td>\n",
       "      <td>1</td>\n",
       "      <td>0</td>\n",
       "    </tr>\n",
       "    <tr>\n",
       "      <td>2</td>\n",
       "      <td>502</td>\n",
       "      <td>42</td>\n",
       "      <td>8</td>\n",
       "      <td>159660.80</td>\n",
       "      <td>3</td>\n",
       "      <td>1</td>\n",
       "      <td>0</td>\n",
       "      <td>113931.57</td>\n",
       "      <td>1</td>\n",
       "      <td>0</td>\n",
       "      <td>0</td>\n",
       "      <td>0</td>\n",
       "    </tr>\n",
       "    <tr>\n",
       "      <td>3</td>\n",
       "      <td>699</td>\n",
       "      <td>39</td>\n",
       "      <td>1</td>\n",
       "      <td>0.00</td>\n",
       "      <td>2</td>\n",
       "      <td>0</td>\n",
       "      <td>0</td>\n",
       "      <td>93826.63</td>\n",
       "      <td>0</td>\n",
       "      <td>0</td>\n",
       "      <td>0</td>\n",
       "      <td>0</td>\n",
       "    </tr>\n",
       "    <tr>\n",
       "      <td>4</td>\n",
       "      <td>850</td>\n",
       "      <td>43</td>\n",
       "      <td>2</td>\n",
       "      <td>125510.82</td>\n",
       "      <td>1</td>\n",
       "      <td>1</td>\n",
       "      <td>1</td>\n",
       "      <td>79084.10</td>\n",
       "      <td>0</td>\n",
       "      <td>0</td>\n",
       "      <td>1</td>\n",
       "      <td>0</td>\n",
       "    </tr>\n",
       "  </tbody>\n",
       "</table>\n",
       "</div>"
      ],
      "text/plain": [
       "   creditscore  age  tenure    balance  numofproducts  hascrcard  \\\n",
       "0          619   42       2       0.00              1          1   \n",
       "1          608   41       1   83807.86              1          0   \n",
       "2          502   42       8  159660.80              3          1   \n",
       "3          699   39       1       0.00              2          0   \n",
       "4          850   43       2  125510.82              1          1   \n",
       "\n",
       "   isactivemember  estimatedsalary  exited  geography_Germany  \\\n",
       "0               1        101348.88       1                  0   \n",
       "1               1        112542.58       0                  0   \n",
       "2               0        113931.57       1                  0   \n",
       "3               0         93826.63       0                  0   \n",
       "4               1         79084.10       0                  0   \n",
       "\n",
       "   geography_Spain  gender_Male  \n",
       "0                0            0  \n",
       "1                1            0  \n",
       "2                0            0  \n",
       "3                0            0  \n",
       "4                1            0  "
      ]
     },
     "execution_count": 11,
     "metadata": {},
     "output_type": "execute_result"
    }
   ],
   "source": [
    "data_new = data_new.drop(['rownumber', 'customerid'], axis=1)\n",
    "data_new.head()"
   ]
  },
  {
   "cell_type": "markdown",
   "metadata": {},
   "source": [
    "***\n",
    "## Масштабирование количественных признаков"
   ]
  },
  {
   "cell_type": "markdown",
   "metadata": {},
   "source": [
    "Теперь проведем масштабирование данных в оставшихся численных столбцах, не трогая целевой столбец exited.  \n",
    "Перед проведением масштабирования разделим данные на три выборки - обучающую, валидационную, тестовую в соотношении 3/1/1."
   ]
  },
  {
   "cell_type": "code",
   "execution_count": 12,
   "metadata": {},
   "outputs": [
    {
     "name": "stdout",
     "output_type": "stream",
     "text": [
      "Размер обучающей выборки: (6000, 11)\n",
      "Размер валидационной выборки: (2000, 11)\n",
      "Размер тестовой выборки: (2000, 11)\n"
     ]
    }
   ],
   "source": [
    "features = data_new.drop('exited', axis=1)\n",
    "target = data_new['exited']\n",
    "\n",
    "features_train, features_valid, target_train, target_valid = train_test_split(features, target, test_size=0.4, random_state=12345)\n",
    "features_valid, features_test, target_valid, target_test = train_test_split(features_valid, target_valid, test_size=0.5, random_state=12345)\n",
    "\n",
    "print('Размер обучающей выборки:', features_train.shape)\n",
    "print('Размер валидационной выборки:', features_valid.shape)\n",
    "print('Размер тестовой выборки:', features_test.shape)"
   ]
  },
  {
   "cell_type": "code",
   "execution_count": 13,
   "metadata": {},
   "outputs": [
    {
     "data": {
      "text/html": [
       "<div>\n",
       "<style scoped>\n",
       "    .dataframe tbody tr th:only-of-type {\n",
       "        vertical-align: middle;\n",
       "    }\n",
       "\n",
       "    .dataframe tbody tr th {\n",
       "        vertical-align: top;\n",
       "    }\n",
       "\n",
       "    .dataframe thead th {\n",
       "        text-align: right;\n",
       "    }\n",
       "</style>\n",
       "<table border=\"1\" class=\"dataframe\">\n",
       "  <thead>\n",
       "    <tr style=\"text-align: right;\">\n",
       "      <th></th>\n",
       "      <th>creditscore</th>\n",
       "      <th>age</th>\n",
       "      <th>tenure</th>\n",
       "      <th>balance</th>\n",
       "      <th>numofproducts</th>\n",
       "      <th>hascrcard</th>\n",
       "      <th>isactivemember</th>\n",
       "      <th>estimatedsalary</th>\n",
       "      <th>geography_Germany</th>\n",
       "      <th>geography_Spain</th>\n",
       "      <th>gender_Male</th>\n",
       "    </tr>\n",
       "  </thead>\n",
       "  <tbody>\n",
       "    <tr>\n",
       "      <td>7479</td>\n",
       "      <td>-0.886751</td>\n",
       "      <td>-0.373192</td>\n",
       "      <td>1.104696</td>\n",
       "      <td>1.232271</td>\n",
       "      <td>-0.891560</td>\n",
       "      <td>0.642466</td>\n",
       "      <td>-1.055187</td>\n",
       "      <td>-0.187705</td>\n",
       "      <td>0</td>\n",
       "      <td>1</td>\n",
       "      <td>1</td>\n",
       "    </tr>\n",
       "    <tr>\n",
       "      <td>3411</td>\n",
       "      <td>0.608663</td>\n",
       "      <td>-0.183385</td>\n",
       "      <td>1.104696</td>\n",
       "      <td>0.600563</td>\n",
       "      <td>-0.891560</td>\n",
       "      <td>-1.556504</td>\n",
       "      <td>-1.055187</td>\n",
       "      <td>-0.333945</td>\n",
       "      <td>0</td>\n",
       "      <td>0</td>\n",
       "      <td>0</td>\n",
       "    </tr>\n",
       "    <tr>\n",
       "      <td>6027</td>\n",
       "      <td>2.052152</td>\n",
       "      <td>0.480939</td>\n",
       "      <td>-0.503694</td>\n",
       "      <td>1.027098</td>\n",
       "      <td>0.830152</td>\n",
       "      <td>-1.556504</td>\n",
       "      <td>0.947699</td>\n",
       "      <td>1.503095</td>\n",
       "      <td>1</td>\n",
       "      <td>0</td>\n",
       "      <td>1</td>\n",
       "    </tr>\n",
       "    <tr>\n",
       "      <td>1247</td>\n",
       "      <td>-1.457915</td>\n",
       "      <td>-1.417129</td>\n",
       "      <td>0.461340</td>\n",
       "      <td>-1.233163</td>\n",
       "      <td>0.830152</td>\n",
       "      <td>0.642466</td>\n",
       "      <td>-1.055187</td>\n",
       "      <td>-1.071061</td>\n",
       "      <td>0</td>\n",
       "      <td>0</td>\n",
       "      <td>1</td>\n",
       "    </tr>\n",
       "    <tr>\n",
       "      <td>3716</td>\n",
       "      <td>0.130961</td>\n",
       "      <td>-1.132419</td>\n",
       "      <td>-0.825373</td>\n",
       "      <td>1.140475</td>\n",
       "      <td>-0.891560</td>\n",
       "      <td>-1.556504</td>\n",
       "      <td>-1.055187</td>\n",
       "      <td>1.524268</td>\n",
       "      <td>1</td>\n",
       "      <td>0</td>\n",
       "      <td>0</td>\n",
       "    </tr>\n",
       "  </tbody>\n",
       "</table>\n",
       "</div>"
      ],
      "text/plain": [
       "      creditscore       age    tenure   balance  numofproducts  hascrcard  \\\n",
       "7479    -0.886751 -0.373192  1.104696  1.232271      -0.891560   0.642466   \n",
       "3411     0.608663 -0.183385  1.104696  0.600563      -0.891560  -1.556504   \n",
       "6027     2.052152  0.480939 -0.503694  1.027098       0.830152  -1.556504   \n",
       "1247    -1.457915 -1.417129  0.461340 -1.233163       0.830152   0.642466   \n",
       "3716     0.130961 -1.132419 -0.825373  1.140475      -0.891560  -1.556504   \n",
       "\n",
       "      isactivemember  estimatedsalary  geography_Germany  geography_Spain  \\\n",
       "7479       -1.055187        -0.187705                  0                1   \n",
       "3411       -1.055187        -0.333945                  0                0   \n",
       "6027        0.947699         1.503095                  1                0   \n",
       "1247       -1.055187        -1.071061                  0                0   \n",
       "3716       -1.055187         1.524268                  1                0   \n",
       "\n",
       "      gender_Male  \n",
       "7479            1  \n",
       "3411            0  \n",
       "6027            1  \n",
       "1247            1  \n",
       "3716            0  "
      ]
     },
     "execution_count": 13,
     "metadata": {},
     "output_type": "execute_result"
    }
   ],
   "source": [
    "numeric = ['creditscore', 'age', 'tenure', 'balance', 'numofproducts', 'hascrcard', 'isactivemember', 'estimatedsalary']\n",
    "\n",
    "scaler = StandardScaler()\n",
    "scaler.fit(features_train[numeric])\n",
    "\n",
    "features_train[numeric] = scaler.transform(features_train[numeric])\n",
    "features_valid[numeric] = scaler.transform(features_valid[numeric])\n",
    "features_test[numeric] = scaler.transform(features_test[numeric])\n",
    "\n",
    "features_train.head()"
   ]
  },
  {
   "cell_type": "markdown",
   "metadata": {},
   "source": [
    "***\n",
    "### Вывод"
   ]
  },
  {
   "cell_type": "markdown",
   "metadata": {},
   "source": [
    "На данном шаге было разделение данных на 3 выборки и проведено масштабирование численных признаков.  \n",
    "Предварительно перед этим были удалены столбцы rownumber и customerid с информацией о номере записи и id клиента."
   ]
  },
  {
   "cell_type": "markdown",
   "metadata": {},
   "source": [
    "***\n",
    "# 2. Исследование задачи"
   ]
  },
  {
   "cell_type": "markdown",
   "metadata": {},
   "source": [
    "На данном этапе исследования необходимо выполнить следующие шаги:  \n",
    "* Изучить баланс классов;  \n",
    "* Обучить модель без учета дисбаланса"
   ]
  },
  {
   "cell_type": "markdown",
   "metadata": {},
   "source": [
    "***\n",
    "### Изучим баланс классов"
   ]
  },
  {
   "cell_type": "markdown",
   "metadata": {},
   "source": [
    "Для получения наилучших результатов прогнозирования классы в данных должны быть сбалансированы.  \n",
    "Посмотрим на их текущее состояние."
   ]
  },
  {
   "cell_type": "code",
   "execution_count": 14,
   "metadata": {},
   "outputs": [
    {
     "data": {
      "text/plain": [
       "0    0.7963\n",
       "1    0.2037\n",
       "Name: exited, dtype: float64"
      ]
     },
     "execution_count": 14,
     "metadata": {},
     "output_type": "execute_result"
    }
   ],
   "source": [
    "data_new.exited.value_counts(normalize=True)"
   ]
  },
  {
   "cell_type": "markdown",
   "metadata": {},
   "source": [
    "Видим, что классы не сбалансированы.  "
   ]
  },
  {
   "cell_type": "markdown",
   "metadata": {},
   "source": [
    "***\n",
    "### Обучение модели без учета дисбаланса"
   ]
  },
  {
   "cell_type": "markdown",
   "metadata": {},
   "source": [
    "Посмотрим, какого результата прогнозирования можно достичь при работе с имеющимися данными без учета дисбаланса."
   ]
  },
  {
   "cell_type": "markdown",
   "metadata": {},
   "source": [
    "**Обучение модели**"
   ]
  },
  {
   "cell_type": "markdown",
   "metadata": {},
   "source": [
    "В данном проекте нам предстоит решить модель бинарной классификации - обучить модель предсказывать уйдет ли клиент из банка или нет.  \n",
    "На имеющихся данных построим модель Случайный лес и оценим её качество."
   ]
  },
  {
   "cell_type": "code",
   "execution_count": 15,
   "metadata": {},
   "outputs": [
    {
     "name": "stdout",
     "output_type": "stream",
     "text": [
      "accuracy_score = 0.85\n",
      "f1 = 0.56\n",
      "AUC-ROC = 0.81\n"
     ]
    }
   ],
   "source": [
    "forest_unb = RandomForestClassifier(random_state=12345)\n",
    "forest_unb.fit(features_train, target_train)\n",
    "predictions_valid = forest_unb.predict(features_valid)\n",
    "probabilities_valid = forest_unb.predict_proba(features_valid)\n",
    "print('accuracy_score = {:.2f}'.format(accuracy_score(target_valid, predictions_valid)))\n",
    "print('f1 = {:.2f}'.format(f1_score(target_valid, predictions_valid)))\n",
    "print('AUC-ROC = {:.2f}'.format(roc_auc_score(target_valid, probabilities_valid[:,1])))"
   ]
  },
  {
   "cell_type": "markdown",
   "metadata": {},
   "source": [
    "***\n",
    "### Вывод"
   ]
  },
  {
   "cell_type": "markdown",
   "metadata": {},
   "source": [
    "На данном этапе исследования мы изучили баланс классов в имеющейся выборке и провели обучение модели Случайный лес.  \n",
    "Результаты работы модели следующие:  \n",
    "* accuracy_score = 0.85\n",
    "* f1 = 0.56\n",
    "* AUC-ROC = 0.81\n",
    "\n",
    "Значения метрик accuracy_score и AUC-ROC достаточно неплохие, но метрика f1-мера ниже целевого показателя.  \n",
    "На следующем этапе работы посмотрим, можно ли улучшить результаты работы моделей."
   ]
  },
  {
   "cell_type": "markdown",
   "metadata": {},
   "source": [
    "***\n",
    "# 3. Борьба с дисбалансом"
   ]
  },
  {
   "cell_type": "markdown",
   "metadata": {},
   "source": [
    "Для того, чтобы улучшить работу нашей модели необходимо сбалансировать данные.  \n",
    "Это можно сделать следующими способами:  \n",
    "* Придать объектам редкого класса больший вес в параметрах модели;\n",
    "* Увеличить выборку путем повторения несколько раз положительных объектов и проверить работу разных моделей;\n",
    "* Уменьшить выборку путем уменьшения количества отрицательных объектов и проверить работу разных моделей;\n",
    "* Нахождение оптимальных гиперпараметров наилучшей модели."
   ]
  },
  {
   "cell_type": "markdown",
   "metadata": {},
   "source": [
    "### Увеличение веса объектов редкого класса  в параметрах модели"
   ]
  },
  {
   "cell_type": "markdown",
   "metadata": {},
   "source": [
    "Самым простым способом улучшения баланса классов является увеличение их веса в параметрах модели.  \n",
    "Проверим, насколько это поможет улучшить нашу модель случайного леса, обученную ранее."
   ]
  },
  {
   "cell_type": "code",
   "execution_count": 16,
   "metadata": {},
   "outputs": [
    {
     "name": "stdout",
     "output_type": "stream",
     "text": [
      "accuracy_score = 0.85\n",
      "f1 = 0.53\n",
      "AUC-ROC = 0.81\n"
     ]
    }
   ],
   "source": [
    "forest_b = RandomForestClassifier(random_state=12345, class_weight='balanced')\n",
    "forest_b.fit(features_train, target_train)\n",
    "predictions_valid = forest_b.predict(features_valid)\n",
    "probabilities_valid = forest_b.predict_proba(features_valid)\n",
    "print('accuracy_score = {:.2f}'.format(accuracy_score(target_valid, predictions_valid)))\n",
    "print('f1 = {:.2f}'.format(f1_score(target_valid, predictions_valid)))\n",
    "print('AUC-ROC = {:.2f}'.format(roc_auc_score(target_valid, probabilities_valid[:,1])))"
   ]
  },
  {
   "cell_type": "markdown",
   "metadata": {},
   "source": [
    "Значения метрик accuracy_score и AUC-ROC не изменились, а значение метрики f1-мера снизилось.  \n",
    "Данный метод балансировки классов нам не помог.  \n",
    "Далее попробуем изменить баланс классов в выборке с помощью методов upsampling И downsampling. "
   ]
  },
  {
   "cell_type": "markdown",
   "metadata": {},
   "source": [
    "### Увеличение выборки путем повторения несколько раз положительных объектов (upsampling)"
   ]
  },
  {
   "cell_type": "markdown",
   "metadata": {},
   "source": [
    "Техника увеличения выборки путем повторения несколько раз положительных объектов называется upsampling.  \n",
    "Преобразование проходит в несколько этапов:\n",
    "* Разделить обучающую выборку на отрицательные и положительные объекты;\n",
    "* Скопировать несколько раз положительные объекты.  \n",
    "В нашем случае увеличиваем выборку положительных объектов в 4 раза;\n",
    "* С учётом полученных данных создать новую обучающую выборку;\n",
    "* Перемешать данные."
   ]
  },
  {
   "cell_type": "code",
   "execution_count": 17,
   "metadata": {},
   "outputs": [],
   "source": [
    "def upsample(features, target, repeat):\n",
    "    features_zeros = features[target == 0]\n",
    "    features_ones = features[target == 1]\n",
    "    target_zeros = target[target == 0]\n",
    "    target_ones = target[target == 1]\n",
    "\n",
    "    features_upsampled = pd.concat([features_zeros] + [features_ones] * repeat)\n",
    "    target_upsampled = pd.concat([target_zeros] + [target_ones] * repeat)\n",
    "    \n",
    "    features_upsampled, target_upsampled = shuffle(\n",
    "        features_upsampled, target_upsampled, random_state=12345)\n",
    "    \n",
    "    return features_upsampled, target_upsampled\n",
    "\n",
    "features_upsampled, target_upsampled = upsample(features_train, target_train, 4)"
   ]
  },
  {
   "cell_type": "markdown",
   "metadata": {},
   "source": [
    "Посмотрим размеры новых таблиц и изучим новый баланс классов."
   ]
  },
  {
   "cell_type": "code",
   "execution_count": 18,
   "metadata": {},
   "outputs": [
    {
     "name": "stdout",
     "output_type": "stream",
     "text": [
      "Размеры таблицы features_upsampled: (9588, 11)\n",
      "Размеры таблицы target_upsampled: (9588,)\n",
      "\n",
      "0    0.501043\n",
      "1    0.498957\n",
      "Name: exited, dtype: float64\n"
     ]
    }
   ],
   "source": [
    "print('Размеры таблицы features_upsampled:', features_upsampled.shape)\n",
    "print('Размеры таблицы target_upsampled:',target_upsampled.shape)\n",
    "print()\n",
    "print(target_upsampled.value_counts(normalize=True))"
   ]
  },
  {
   "cell_type": "markdown",
   "metadata": {},
   "source": [
    "После проведения upsampling классы стали сбалансированными, а размер таблиц увеличился. \n",
    "Посмотрим как это повлияет на результаты прогнозирования ухода клиентов из банка.  \n",
    "\n",
    "На получившихся данных обучим модели Решающее дерево, Случайный лес и Логистическая регрессия."
   ]
  },
  {
   "cell_type": "markdown",
   "metadata": {},
   "source": [
    "*Создадим функцию для постройки моделей*"
   ]
  },
  {
   "cell_type": "code",
   "execution_count": 19,
   "metadata": {},
   "outputs": [],
   "source": [
    "def ml_models(models, ft, tt, fv, tv):\n",
    "    model = models\n",
    "    model.fit(ft, tt)\n",
    "    predictions_valid = model.predict(fv)\n",
    "    probabilities_valid = model.predict_proba(fv)\n",
    "    print('accuracy_score = {:.2f}'.format(accuracy_score(tv, predictions_valid)))\n",
    "    print('recall = {:.2f}'.format(recall_score(tv, predictions_valid)))\n",
    "    print('precision = {:.2f}'.format(precision_score(tv, predictions_valid)))\n",
    "    print('f1 = {:.2f}'.format(f1_score(tv, predictions_valid)))\n",
    "    print('AUC-ROC = {:.2f}'.format(roc_auc_score(tv, probabilities_valid[:,1])))"
   ]
  },
  {
   "cell_type": "markdown",
   "metadata": {},
   "source": [
    "*Построим модель Случайного леса*"
   ]
  },
  {
   "cell_type": "code",
   "execution_count": 20,
   "metadata": {},
   "outputs": [
    {
     "name": "stdout",
     "output_type": "stream",
     "text": [
      "accuracy_score = 0.84\n",
      "recall = 0.51\n",
      "precision = 0.67\n",
      "f1 = 0.58\n",
      "AUC-ROC = 0.82\n"
     ]
    }
   ],
   "source": [
    "ml_models(RandomForestClassifier(random_state=12345), features_upsampled, target_upsampled, features_valid, target_valid)"
   ]
  },
  {
   "cell_type": "markdown",
   "metadata": {},
   "source": [
    "Результаты работы модели Случайного леса улучшились. Одновременно выросли значения f1-меры и accuracy."
   ]
  },
  {
   "cell_type": "markdown",
   "metadata": {},
   "source": [
    "*Построим модель Дерево решений*"
   ]
  },
  {
   "cell_type": "code",
   "execution_count": 21,
   "metadata": {},
   "outputs": [
    {
     "name": "stdout",
     "output_type": "stream",
     "text": [
      "accuracy_score = 0.78\n",
      "recall = 0.44\n",
      "precision = 0.47\n",
      "f1 = 0.46\n",
      "AUC-ROC = 0.66\n"
     ]
    }
   ],
   "source": [
    "ml_models(DecisionTreeClassifier(random_state=12345), features_upsampled, target_upsampled, features_valid, target_valid)"
   ]
  },
  {
   "cell_type": "markdown",
   "metadata": {},
   "source": [
    "Модель Дерево решений показала худшие значения всех показателей по сравнению со Случайным лесом.  \n",
    "Значения f1-меры, показателя AUC-ROC, точности намного хуже, чем у модели Случайного леса. "
   ]
  },
  {
   "cell_type": "markdown",
   "metadata": {},
   "source": [
    "*Построим модель Логистической регрессии*"
   ]
  },
  {
   "cell_type": "code",
   "execution_count": 22,
   "metadata": {},
   "outputs": [
    {
     "name": "stdout",
     "output_type": "stream",
     "text": [
      "accuracy_score = 0.70\n",
      "recall = 0.68\n",
      "precision = 0.38\n",
      "f1 = 0.49\n",
      "AUC-ROC = 0.76\n"
     ]
    }
   ],
   "source": [
    "ml_models(LogisticRegression(random_state=12345), features_upsampled, target_upsampled, features_valid, target_valid)"
   ]
  },
  {
   "cell_type": "markdown",
   "metadata": {},
   "source": [
    "Модель Логистической регрессии также предоставляет более плохие результаты прогнозирования по сравнению со Случайным лесом.  \n",
    "При этом модель выделила большую долю положительных и одновременно ложноположительных среди всех ответов."
   ]
  },
  {
   "cell_type": "markdown",
   "metadata": {},
   "source": [
    "***\n",
    "### Вывод"
   ]
  },
  {
   "cell_type": "markdown",
   "metadata": {},
   "source": [
    "Увеличение выборки методом upsampling помогло улучшить результат f1-меры у модели случайного леса с 0.56 до 0.58.  \n",
    "Модели Решающее дерево и Логистическая регрессия дали прогнозы намного более плохого качества - f1-мера у Решающего дерева равна 0.46,  \n",
    "у логистической регрессии 0.49."
   ]
  },
  {
   "cell_type": "markdown",
   "metadata": {},
   "source": [
    "### Изменение выборки путем уменьшения количества отрицательных объектов (downsampling)"
   ]
  },
  {
   "cell_type": "markdown",
   "metadata": {},
   "source": [
    "Вместо повторения важных вопросов, уберём часть неважных. Это можно сделать техникой downsampling.  \n",
    "Преобразование проходит в несколько этапов:\n",
    "* Разделить обучающую выборку на отрицательные и положительные объекты;\n",
    "* Случайным образом отбросить часть из отрицательных объектов.  \n",
    "В нашем случае уменьшаем выборку отрицательных объектов в 4 раза;\n",
    "* С учётом полученных данных создать новую обучающую выборку;\n",
    "* Перемешать данные."
   ]
  },
  {
   "cell_type": "code",
   "execution_count": 23,
   "metadata": {},
   "outputs": [],
   "source": [
    "def downsample(features, target, fraction):\n",
    "    features_zeros = features[target == 0]\n",
    "    features_ones = features[target == 1]\n",
    "    target_zeros = target[target == 0]\n",
    "    target_ones = target[target == 1]\n",
    "\n",
    "    features_downsampled = pd.concat(\n",
    "        [features_zeros.sample(frac=fraction, random_state=12345)] + [features_ones])\n",
    "    target_downsampled = pd.concat(\n",
    "        [target_zeros.sample(frac=fraction, random_state=12345)] + [target_ones])\n",
    "    \n",
    "    features_downsampled, target_downsampled = shuffle(\n",
    "        features_downsampled, target_downsampled, random_state=12345)\n",
    "    \n",
    "    return features_downsampled, target_downsampled\n",
    "\n",
    "features_downsampled, target_downsampled = downsample(features_train, target_train, 0.25)"
   ]
  },
  {
   "cell_type": "markdown",
   "metadata": {},
   "source": [
    "Посмотрим размеры новых таблиц и изучим новый баланс классов."
   ]
  },
  {
   "cell_type": "code",
   "execution_count": 24,
   "metadata": {},
   "outputs": [
    {
     "name": "stdout",
     "output_type": "stream",
     "text": [
      "Размеры таблицы features_downsampled: (2397, 11)\n",
      "Размеры таблицы target_downsampled: (2397,)\n",
      "\n",
      "0    0.501043\n",
      "1    0.498957\n",
      "Name: exited, dtype: float64\n"
     ]
    }
   ],
   "source": [
    "print('Размеры таблицы features_downsampled:', features_downsampled.shape)\n",
    "print('Размеры таблицы target_downsampled:',target_downsampled.shape)\n",
    "print()\n",
    "print(target_downsampled.value_counts(normalize=True))"
   ]
  },
  {
   "cell_type": "markdown",
   "metadata": {},
   "source": [
    "После проведения downsampling классы стали сбалансированными, а размер таблиц сильно ууменьшился. \n",
    "Посмотрим как это повлияет на результаты прогнозирования ухода клиентов из банка.  \n",
    "\n",
    "На получившихся данных обучим модели Решающее дерево, Случайный лес и Логистическая регрессия."
   ]
  },
  {
   "cell_type": "markdown",
   "metadata": {},
   "source": [
    "*Построим модель Случайного леса*"
   ]
  },
  {
   "cell_type": "code",
   "execution_count": 25,
   "metadata": {},
   "outputs": [
    {
     "name": "stdout",
     "output_type": "stream",
     "text": [
      "accuracy_score = 0.78\n",
      "recall = 0.68\n",
      "precision = 0.49\n",
      "f1 = 0.57\n",
      "AUC-ROC = 0.82\n"
     ]
    }
   ],
   "source": [
    "ml_models(RandomForestClassifier(random_state=12345), features_downsampled, target_downsampled, features_valid, target_valid)"
   ]
  },
  {
   "cell_type": "markdown",
   "metadata": {},
   "source": [
    "После проведения downsampling результат f1-меры модели Случайный лес немного улучшился по сравнению с несбалансированной выборкой, но оказался немного хуже, чем у выборки, увеличенной методом upsampling."
   ]
  },
  {
   "cell_type": "markdown",
   "metadata": {},
   "source": [
    "*Построим модель Дерево решений*"
   ]
  },
  {
   "cell_type": "code",
   "execution_count": 26,
   "metadata": {},
   "outputs": [
    {
     "name": "stdout",
     "output_type": "stream",
     "text": [
      "accuracy_score = 0.70\n",
      "recall = 0.69\n",
      "precision = 0.38\n",
      "f1 = 0.49\n",
      "AUC-ROC = 0.69\n"
     ]
    }
   ],
   "source": [
    "ml_models(DecisionTreeClassifier(random_state=12345), features_downsampled, target_downsampled, features_valid, target_valid)"
   ]
  },
  {
   "cell_type": "markdown",
   "metadata": {},
   "source": [
    "На уменьшенной выборке модель Дерево решений показала плохие результаты всех метрик, аналогично с работой на увеличенной выборке."
   ]
  },
  {
   "cell_type": "markdown",
   "metadata": {},
   "source": [
    "*Построим модель Логистической регрессии*"
   ]
  },
  {
   "cell_type": "code",
   "execution_count": 27,
   "metadata": {},
   "outputs": [
    {
     "name": "stdout",
     "output_type": "stream",
     "text": [
      "accuracy_score = 0.70\n",
      "recall = 0.68\n",
      "precision = 0.38\n",
      "f1 = 0.49\n",
      "AUC-ROC = 0.76\n"
     ]
    }
   ],
   "source": [
    "ml_models(LogisticRegression(random_state=12345), features_downsampled, target_downsampled, features_valid, target_valid)"
   ]
  },
  {
   "cell_type": "markdown",
   "metadata": {},
   "source": [
    "Модель Логистической регрессии аналогично оказалась хуже Случайного леса."
   ]
  },
  {
   "cell_type": "markdown",
   "metadata": {},
   "source": [
    "***\n",
    "### Вывод"
   ]
  },
  {
   "cell_type": "markdown",
   "metadata": {},
   "source": [
    "Уменьшение выборки методом downsampling помогло улучшить результат f1-меры у модели случайного леса с 0.56 до 0.57.  \n",
    "Модели Решающее дерево и Логистическая регрессия дали прогнозы намного более плохого качества - f1-мера у Решающего дерева равна 0.49,  \n",
    "у логистической регрессии 0.49."
   ]
  },
  {
   "cell_type": "markdown",
   "metadata": {},
   "source": [
    "***\n",
    "### Нахождение оптимальных гиперпараметров наилучшей модели"
   ]
  },
  {
   "cell_type": "markdown",
   "metadata": {},
   "source": [
    "Лучшей моделью на двух вариантах выборки(увеличенной и уменьшенной) является модель Случайный лес.  \n",
    "Найдем оптимальные значения гиперпараметров модели для двух выборок - увеличенной и уменьшенной."
   ]
  },
  {
   "cell_type": "markdown",
   "metadata": {},
   "source": [
    "**Поиск оптимальных параметров для увеличенной выборки**"
   ]
  },
  {
   "cell_type": "markdown",
   "metadata": {},
   "source": [
    "Построим модель Случайный лес и проверим результаты прогнозирования при разных количествах деревьев."
   ]
  },
  {
   "cell_type": "code",
   "execution_count": 28,
   "metadata": {
    "scrolled": true
   },
   "outputs": [
    {
     "name": "stdout",
     "output_type": "stream",
     "text": [
      "Показатель f1 для валидационной выборки при n_estimators = 1 : 0.48464912280701755\n",
      "Показатель f1 для валидационной выборки при n_estimators = 7 : 0.5735660847880298\n",
      "Показатель f1 для валидационной выборки при n_estimators = 13 : 0.5880861850443599\n",
      "Показатель f1 для валидационной выборки при n_estimators = 19 : 0.5906735751295336\n",
      "Показатель f1 для валидационной выборки при n_estimators = 25 : 0.5992115637319316\n",
      "Показатель f1 для валидационной выборки при n_estimators = 31 : 0.5931758530183726\n",
      "Показатель f1 для валидационной выборки при n_estimators = 37 : 0.5930851063829786\n",
      "Показатель f1 для валидационной выборки при n_estimators = 43 : 0.5869853917662683\n",
      "Показатель f1 для валидационной выборки при n_estimators = 49 : 0.596537949400799\n",
      "Показатель f1 для валидационной выборки при n_estimators = 55 : 0.5896414342629482\n",
      "Показатель f1 для валидационной выборки при n_estimators = 61 : 0.5946666666666667\n",
      "Показатель f1 для валидационной выборки при n_estimators = 67 : 0.5904255319148937\n",
      "Показатель f1 для валидационной выборки при n_estimators = 73 : 0.5957446808510638\n",
      "Показатель f1 для валидационной выборки при n_estimators = 79 : 0.596537949400799\n",
      "Показатель f1 для валидационной выборки при n_estimators = 85 : 0.5943775100401607\n",
      "Показатель f1 для валидационной выборки при n_estimators = 91 : 0.5943775100401607\n",
      "Показатель f1 для валидационной выборки при n_estimators = 97 : 0.596537949400799\n",
      "Показатель f1 для валидационной выборки при n_estimators = 103 : 0.6050198150594451\n",
      "Показатель f1 для валидационной выборки при n_estimators = 109 : 0.6047745358090186\n",
      "Показатель f1 для валидационной выборки при n_estimators = 115 : 0.6068601583113458\n",
      "Показатель f1 для валидационной выборки при n_estimators = 121 : 0.6052631578947368\n",
      "Показатель f1 для валидационной выборки при n_estimators = 127 : 0.6089238845144357\n",
      "Показатель f1 для валидационной выборки при n_estimators = 133 : 0.6078947368421053\n",
      "Показатель f1 для валидационной выборки при n_estimators = 139 : 0.6060606060606061\n",
      "Показатель f1 для валидационной выборки при n_estimators = 145 : 0.6034255599472992\n"
     ]
    }
   ],
   "source": [
    "for estimator in range(1, 150, 6):\n",
    "    model = RandomForestClassifier(random_state=12345, n_estimators=estimator, )\n",
    "    model.fit(features_upsampled, target_upsampled)\n",
    "    predictions_valid = model.predict(features_valid)\n",
    "    print('Показатель f1 для валидационной выборки при n_estimators =', estimator, ':',\n",
    "          f1_score(target_valid, predictions_valid))"
   ]
  },
  {
   "cell_type": "markdown",
   "metadata": {},
   "source": [
    "Наилучший результат при количестве деревьев равном 127 и равно 0.6089"
   ]
  },
  {
   "cell_type": "markdown",
   "metadata": {},
   "source": [
    "Теперь проверим при какой глубине дерева будет получен наилучший результат."
   ]
  },
  {
   "cell_type": "code",
   "execution_count": 29,
   "metadata": {},
   "outputs": [
    {
     "name": "stdout",
     "output_type": "stream",
     "text": [
      "Показатель f1 для валидационной выборки при max_depth = 1 : 0.5446009389671361\n",
      "Показатель f1 для валидационной выборки при max_depth = 2 : 0.5627864344637947\n",
      "Показатель f1 для валидационной выборки при max_depth = 3 : 0.588011417697431\n",
      "Показатель f1 для валидационной выборки при max_depth = 4 : 0.596116504854369\n",
      "Показатель f1 для валидационной выборки при max_depth = 5 : 0.6027397260273972\n",
      "Показатель f1 для валидационной выборки при max_depth = 6 : 0.6099009900990099\n",
      "Показатель f1 для валидационной выборки при max_depth = 7 : 0.6152304609218436\n",
      "Показатель f1 для валидационной выборки при max_depth = 8 : 0.6147540983606556\n",
      "Показатель f1 для валидационной выборки при max_depth = 9 : 0.617678381256656\n",
      "Показатель f1 для валидационной выборки при max_depth = 10 : 0.608505997818975\n",
      "Показатель f1 для валидационной выборки при max_depth = 11 : 0.6210045662100457\n",
      "Показатель f1 для валидационной выборки при max_depth = 12 : 0.6229508196721311\n",
      "Показатель f1 для валидационной выборки при max_depth = 13 : 0.6319612590799032\n",
      "Показатель f1 для валидационной выборки при max_depth = 14 : 0.6129032258064517\n"
     ]
    }
   ],
   "source": [
    "for depth in range(1, 15):\n",
    "    model = RandomForestClassifier(random_state=12345, n_estimators=127, max_depth=depth)\n",
    "    model.fit(features_upsampled, target_upsampled)\n",
    "    predictions_valid = model.predict(features_valid)\n",
    "    print('Показатель f1 для валидационной выборки при max_depth =', depth, ':',\n",
    "          f1_score(target_valid, predictions_valid))"
   ]
  },
  {
   "cell_type": "markdown",
   "metadata": {},
   "source": [
    "Наилучший результат при глубине деревьев равной 13, и равно 0.632"
   ]
  },
  {
   "cell_type": "markdown",
   "metadata": {},
   "source": [
    "***\n",
    "**Вывод**"
   ]
  },
  {
   "cell_type": "markdown",
   "metadata": {},
   "source": [
    "С помощью подбора значений были найдены оптимальные параметры модели Случайный лес, обученной на увеличенной выборке.  \n",
    "\n",
    "Лучшее значение параметра *n_estimators - количество деревьев = 127*.   \n",
    "Лучшее значение параметра *max_depth - глубина дерева = 13*.  \n",
    "\n",
    "Метрика f1-мера при данных показателях равна 0.632, что является хорошим результатом, лучшим чем у базовой модели."
   ]
  },
  {
   "cell_type": "markdown",
   "metadata": {},
   "source": [
    "***\n",
    "**Используем метод downsampling для уменьшения новой обучающей выборки**"
   ]
  },
  {
   "cell_type": "markdown",
   "metadata": {},
   "source": [
    "Аналогично найдем наилучшие значения для уменьшенной выборки."
   ]
  },
  {
   "cell_type": "code",
   "execution_count": 30,
   "metadata": {},
   "outputs": [
    {
     "name": "stdout",
     "output_type": "stream",
     "text": [
      "Показатель f1 для валидационной выборки при n_estimators = 1 : 0.4640522875816993\n",
      "Показатель f1 для валидационной выборки при n_estimators = 11 : 0.5579240037071362\n",
      "Показатель f1 для валидационной выборки при n_estimators = 21 : 0.5693160813308688\n",
      "Показатель f1 для валидационной выборки при n_estimators = 31 : 0.5807050092764379\n",
      "Показатель f1 для валидационной выборки при n_estimators = 41 : 0.5799812909260992\n",
      "Показатель f1 для валидационной выборки при n_estimators = 51 : 0.587138863000932\n",
      "Показатель f1 для валидационной выборки при n_estimators = 61 : 0.5853658536585366\n",
      "Показатель f1 для валидационной выборки при n_estimators = 71 : 0.5841860465116279\n",
      "Показатель f1 для валидационной выборки при n_estimators = 81 : 0.5796831314072695\n",
      "Показатель f1 для валидационной выборки при n_estimators = 91 : 0.5818521983161833\n"
     ]
    }
   ],
   "source": [
    "for estimator in range(1, 101, 10):\n",
    "    model = RandomForestClassifier(random_state=12345, n_estimators=estimator, )\n",
    "    model.fit(features_downsampled, target_downsampled)\n",
    "    predictions_valid = model.predict(features_valid)\n",
    "    print('Показатель f1 для валидационной выборки при n_estimators =', estimator, ':',\n",
    "          f1_score(target_valid, predictions_valid))"
   ]
  },
  {
   "cell_type": "code",
   "execution_count": 31,
   "metadata": {},
   "outputs": [
    {
     "name": "stdout",
     "output_type": "stream",
     "text": [
      "Показатель f1 для валидационной выборки при max_depth = 1 : 0.5423111919927207\n",
      "Показатель f1 для валидационной выборки при max_depth = 2 : 0.5539305301645339\n",
      "Показатель f1 для валидационной выборки при max_depth = 3 : 0.5592163846838825\n",
      "Показатель f1 для валидационной выборки при max_depth = 4 : 0.5855018587360595\n",
      "Показатель f1 для валидационной выборки при max_depth = 5 : 0.5833333333333334\n",
      "Показатель f1 для валидационной выборки при max_depth = 6 : 0.5906542056074765\n",
      "Показатель f1 для валидационной выборки при max_depth = 7 : 0.5920303605313093\n",
      "Показатель f1 для валидационной выборки при max_depth = 8 : 0.5835694050991501\n",
      "Показатель f1 для валидационной выборки при max_depth = 9 : 0.5929456625357483\n",
      "Показатель f1 для валидационной выборки при max_depth = 10 : 0.581547064305685\n",
      "Показатель f1 для валидационной выборки при max_depth = 11 : 0.582302568981922\n",
      "Показатель f1 для валидационной выборки при max_depth = 12 : 0.5799812909260992\n",
      "Показатель f1 для валидационной выборки при max_depth = 13 : 0.5674931129476584\n",
      "Показатель f1 для валидационной выборки при max_depth = 14 : 0.5780669144981414\n"
     ]
    }
   ],
   "source": [
    "for depth in range(1, 15):\n",
    "    model = RandomForestClassifier(random_state=12345, n_estimators=51, max_depth=depth)\n",
    "    model.fit(features_downsampled, target_downsampled)\n",
    "    predictions_valid = model.predict(features_valid)\n",
    "    print('Показатель f1 для валидационной выборки при max_depth =', depth, ':',\n",
    "          f1_score(target_valid, predictions_valid))"
   ]
  },
  {
   "cell_type": "markdown",
   "metadata": {},
   "source": [
    "***\n",
    "**Вывод**"
   ]
  },
  {
   "cell_type": "markdown",
   "metadata": {},
   "source": [
    "С помощью метода подбора значений были найдены оптимальные параметры модели Случайный лес, обученной на уменьшенной выборке.  \n",
    "\n",
    "Лучшее значение параметра *n_estimators - количество деревьев = 51*.   \n",
    "Лучшее значение параметра *max_depth - глубина дерева = 9*.  \n",
    "\n",
    "Метрика f1-мера при данных показателях равна 0.593, что лучше, чем у базовой модели, обученной на уменьшенной выборке, но , одновременно, хуже, чем у модели, обученной на увеличенной выборке."
   ]
  },
  {
   "cell_type": "markdown",
   "metadata": {},
   "source": [
    "***\n",
    "## Вывод"
   ]
  },
  {
   "cell_type": "markdown",
   "metadata": {},
   "source": [
    "В данном разделе исследования мы сделали следущие шаги:\n",
    "* Сбалансировали данные несколькими способами - наилучшие результаты дал способ upsampling;\n",
    "* Нашли наилучшую модель прогнозирования. Лучшая модель на обеих выборках - модель Случайный лес;\n",
    "* Нашли наилучшие значения гиперпараметров - n_estimators = 127, max_depth = 13."
   ]
  },
  {
   "cell_type": "markdown",
   "metadata": {},
   "source": [
    "Полученое значение f1-меры хорошее, нам осалось проверить модель на тестовой выборке и решить, можно ли ее запускать в работу."
   ]
  },
  {
   "cell_type": "markdown",
   "metadata": {},
   "source": [
    "***\n",
    "# 4. Тестирование модели"
   ]
  },
  {
   "cell_type": "markdown",
   "metadata": {},
   "source": [
    "Произведем проверку модели на тестовой выборке"
   ]
  },
  {
   "cell_type": "code",
   "execution_count": 32,
   "metadata": {},
   "outputs": [
    {
     "name": "stdout",
     "output_type": "stream",
     "text": [
      "accuracy_score = 0.84\n",
      "recall = 0.60\n",
      "precision = 0.63\n",
      "f1 = 0.61\n",
      "AUC-ROC = 0.85\n"
     ]
    }
   ],
   "source": [
    "ml_models(RandomForestClassifier(random_state=12345, n_estimators=131, max_depth=13), \n",
    "          features_upsampled, target_upsampled, features_test, target_test)"
   ]
  },
  {
   "cell_type": "markdown",
   "metadata": {},
   "source": [
    "***\n",
    "### Вывод"
   ]
  },
  {
   "cell_type": "markdown",
   "metadata": {},
   "source": [
    "Метрика f1-мера равна 0.61, что выше целевого значения.  \n",
    "Метрика AUC-ROC равна 0.85. Это хорошее значение, следовательно наша модель работает хорошо."
   ]
  },
  {
   "cell_type": "markdown",
   "metadata": {},
   "source": [
    "***\n",
    "# Общий Вывод"
   ]
  },
  {
   "cell_type": "markdown",
   "metadata": {},
   "source": [
    "* В данном исследовании проведена работа по созданию модели классификации клиентов банка «Бета-Банк» на тех, которые останутся в банке и тех, которые уйдут из банка в ближайшей перспективе.\n",
    "* Была проведена подготовка данных к дальнейшему исследованию и использовании в моделях предсказания;\n",
    "* Была проведена балансировка классов, для улучшения результатов работы моделей;\n",
    "* Была построены модели на основе трех алгоритмов - Решающее дерево, Случайный лес и алгоритм Логистической регрессии;\n",
    "* Наилучший результат на увеличенной и уменьшенной выборках показала модель Случайного леса;\n",
    "* С помощью перебора значений были найдены оптимальные параметры модели Случайный лес для обеих выборок;\n",
    "* Лучшие результаты оказались у модели, обученной на увеличенных методом upsampling данных;\n",
    "* На тестовой выборке данная модель показала знаение f1-меры - 0.61, а метрика AUC-ROC оказалась равна 0.85;\n",
    "* Метрика f1-мера обученной модели выше целевого значения, равного 0.59;"
   ]
  }
 ],
 "metadata": {
  "kernelspec": {
   "display_name": "Python 3",
   "language": "python",
   "name": "python3"
  },
  "language_info": {
   "codemirror_mode": {
    "name": "ipython",
    "version": 3
   },
   "file_extension": ".py",
   "mimetype": "text/x-python",
   "name": "python",
   "nbconvert_exporter": "python",
   "pygments_lexer": "ipython3",
   "version": "3.7.6"
  }
 },
 "nbformat": 4,
 "nbformat_minor": 2
}
