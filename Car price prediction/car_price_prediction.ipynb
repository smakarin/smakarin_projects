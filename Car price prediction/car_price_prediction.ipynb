{
 "cells": [
  {
   "cell_type": "markdown",
   "metadata": {},
   "source": [
    "# Project description"
   ]
  },
  {
   "cell_type": "markdown",
   "metadata": {},
   "source": [
    "In this project, our task is to build a model to determine the cost of a car for a used car sales service, which is developing an app to attract new customers.   \n",
    "We have historical data at our disposal: technical specifications, configurations, and prices of cars.  \n",
    "\n",
    "The customer is concerned about:  \n",
    "\n",
    "- quality of prediction;\n",
    "- speed of prediction;\n",
    "- training time.  \n",
    "\n",
    "To evaluate the quality of the models, we will use the RMSE metric."
   ]
  },
  {
   "cell_type": "markdown",
   "metadata": {},
   "source": [
    "## Date features"
   ]
  },
  {
   "cell_type": "markdown",
   "metadata": {},
   "source": [
    "- DateCrawled — date of downloading the questionnaire from the database\n",
    "- VehicleType — type of car body\n",
    "- RegistrationYear — year of car registration\n",
    "- Gearbox — type of transmission\n",
    "- Power — power (hp)\n",
    "- Model — car model\n",
    "- Kilometer — mileage (km)\n",
    "- RegistrationMonth — month of car registration\n",
    "- FuelType — type of fuel\n",
    "- Brand — car brand\n",
    "- NotRepaired — whether the car was in repair or not\n",
    "- DateCreated — date of creation of the questionnaire\n",
    "- NumberOfPictures — number of car photos\n",
    "- PostalCode — postal code of the questionnaire owner (user)\n",
    "- LastSeen — date of the last user activity  \n",
    "\n",
    "Target feature  \n",
    "\n",
    "- Price — price (Euro)"
   ]
  },
  {
   "cell_type": "markdown",
   "metadata": {},
   "source": [
    "# Work plan for the project"
   ]
  },
  {
   "cell_type": "markdown",
   "metadata": {},
   "source": [
    "To perform the task, we will carry out the following steps:\n",
    "- Load and prepare the data;\n",
    "- Train models with different hyperparameters;\n",
    "- Analyze the speed of operation and quality of models.  \n",
    "\n",
    "Notes:\n",
    "- To evaluate the quality of the models, we will use the RMSE metric."
   ]
  },
  {
   "cell_type": "markdown",
   "metadata": {},
   "source": [
    "# 1. Data preparation"
   ]
  },
  {
   "cell_type": "code",
   "execution_count": 58,
   "metadata": {},
   "outputs": [],
   "source": [
    "import warnings\n",
    "warnings.simplefilter('ignore')\n",
    "\n",
    "import pandas as pd\n",
    "import sklearn\n",
    "import matplotlib.pyplot as plt\n",
    "import numpy as np\n",
    "import seaborn as sns\n",
    "from scipy import stats as st\n",
    "import lightgbm as lgb\n",
    "from sklearn.model_selection import train_test_split\n",
    "from sklearn.preprocessing import StandardScaler\n",
    "from sklearn.metrics import mean_squared_error\n",
    "from lightgbm import LGBMRegressor\n",
    "from catboost import CatBoostRegressor\n",
    "from sklearn.ensemble import GradientBoostingRegressor\n",
    "from sklearn.linear_model import LinearRegression\n",
    "from sklearn.model_selection import GridSearchCV\n",
    "from sklearn.ensemble import RandomForestRegressor, GradientBoostingRegressor\n",
    "\n",
    "pd.set_option('display.max_columns', 100)"
   ]
  },
  {
   "cell_type": "markdown",
   "metadata": {},
   "source": [
    "***\n",
    "### Preliminary study of data"
   ]
  },
  {
   "cell_type": "markdown",
   "metadata": {},
   "source": [
    "We will load the data and take a look at it."
   ]
  },
  {
   "cell_type": "code",
   "execution_count": 2,
   "metadata": {},
   "outputs": [],
   "source": [
    "cars = pd.read_csv('/datasets/autos.csv')"
   ]
  },
  {
   "cell_type": "code",
   "execution_count": 3,
   "metadata": {},
   "outputs": [
    {
     "data": {
      "text/html": [
       "<div>\n",
       "<style scoped>\n",
       "    .dataframe tbody tr th:only-of-type {\n",
       "        vertical-align: middle;\n",
       "    }\n",
       "\n",
       "    .dataframe tbody tr th {\n",
       "        vertical-align: top;\n",
       "    }\n",
       "\n",
       "    .dataframe thead th {\n",
       "        text-align: right;\n",
       "    }\n",
       "</style>\n",
       "<table border=\"1\" class=\"dataframe\">\n",
       "  <thead>\n",
       "    <tr style=\"text-align: right;\">\n",
       "      <th></th>\n",
       "      <th>DateCrawled</th>\n",
       "      <th>Price</th>\n",
       "      <th>VehicleType</th>\n",
       "      <th>RegistrationYear</th>\n",
       "      <th>Gearbox</th>\n",
       "      <th>Power</th>\n",
       "      <th>Model</th>\n",
       "      <th>Kilometer</th>\n",
       "      <th>RegistrationMonth</th>\n",
       "      <th>FuelType</th>\n",
       "      <th>Brand</th>\n",
       "      <th>NotRepaired</th>\n",
       "      <th>DateCreated</th>\n",
       "      <th>NumberOfPictures</th>\n",
       "      <th>PostalCode</th>\n",
       "      <th>LastSeen</th>\n",
       "    </tr>\n",
       "  </thead>\n",
       "  <tbody>\n",
       "    <tr>\n",
       "      <td>0</td>\n",
       "      <td>2016-03-24 11:52:17</td>\n",
       "      <td>480</td>\n",
       "      <td>NaN</td>\n",
       "      <td>1993</td>\n",
       "      <td>manual</td>\n",
       "      <td>0</td>\n",
       "      <td>golf</td>\n",
       "      <td>150000</td>\n",
       "      <td>0</td>\n",
       "      <td>petrol</td>\n",
       "      <td>volkswagen</td>\n",
       "      <td>NaN</td>\n",
       "      <td>2016-03-24 00:00:00</td>\n",
       "      <td>0</td>\n",
       "      <td>70435</td>\n",
       "      <td>2016-04-07 03:16:57</td>\n",
       "    </tr>\n",
       "    <tr>\n",
       "      <td>1</td>\n",
       "      <td>2016-03-24 10:58:45</td>\n",
       "      <td>18300</td>\n",
       "      <td>coupe</td>\n",
       "      <td>2011</td>\n",
       "      <td>manual</td>\n",
       "      <td>190</td>\n",
       "      <td>NaN</td>\n",
       "      <td>125000</td>\n",
       "      <td>5</td>\n",
       "      <td>gasoline</td>\n",
       "      <td>audi</td>\n",
       "      <td>yes</td>\n",
       "      <td>2016-03-24 00:00:00</td>\n",
       "      <td>0</td>\n",
       "      <td>66954</td>\n",
       "      <td>2016-04-07 01:46:50</td>\n",
       "    </tr>\n",
       "    <tr>\n",
       "      <td>2</td>\n",
       "      <td>2016-03-14 12:52:21</td>\n",
       "      <td>9800</td>\n",
       "      <td>suv</td>\n",
       "      <td>2004</td>\n",
       "      <td>auto</td>\n",
       "      <td>163</td>\n",
       "      <td>grand</td>\n",
       "      <td>125000</td>\n",
       "      <td>8</td>\n",
       "      <td>gasoline</td>\n",
       "      <td>jeep</td>\n",
       "      <td>NaN</td>\n",
       "      <td>2016-03-14 00:00:00</td>\n",
       "      <td>0</td>\n",
       "      <td>90480</td>\n",
       "      <td>2016-04-05 12:47:46</td>\n",
       "    </tr>\n",
       "    <tr>\n",
       "      <td>3</td>\n",
       "      <td>2016-03-17 16:54:04</td>\n",
       "      <td>1500</td>\n",
       "      <td>small</td>\n",
       "      <td>2001</td>\n",
       "      <td>manual</td>\n",
       "      <td>75</td>\n",
       "      <td>golf</td>\n",
       "      <td>150000</td>\n",
       "      <td>6</td>\n",
       "      <td>petrol</td>\n",
       "      <td>volkswagen</td>\n",
       "      <td>no</td>\n",
       "      <td>2016-03-17 00:00:00</td>\n",
       "      <td>0</td>\n",
       "      <td>91074</td>\n",
       "      <td>2016-03-17 17:40:17</td>\n",
       "    </tr>\n",
       "    <tr>\n",
       "      <td>4</td>\n",
       "      <td>2016-03-31 17:25:20</td>\n",
       "      <td>3600</td>\n",
       "      <td>small</td>\n",
       "      <td>2008</td>\n",
       "      <td>manual</td>\n",
       "      <td>69</td>\n",
       "      <td>fabia</td>\n",
       "      <td>90000</td>\n",
       "      <td>7</td>\n",
       "      <td>gasoline</td>\n",
       "      <td>skoda</td>\n",
       "      <td>no</td>\n",
       "      <td>2016-03-31 00:00:00</td>\n",
       "      <td>0</td>\n",
       "      <td>60437</td>\n",
       "      <td>2016-04-06 10:17:21</td>\n",
       "    </tr>\n",
       "  </tbody>\n",
       "</table>\n",
       "</div>"
      ],
      "text/plain": [
       "           DateCrawled  Price VehicleType  RegistrationYear Gearbox  Power  \\\n",
       "0  2016-03-24 11:52:17    480         NaN              1993  manual      0   \n",
       "1  2016-03-24 10:58:45  18300       coupe              2011  manual    190   \n",
       "2  2016-03-14 12:52:21   9800         suv              2004    auto    163   \n",
       "3  2016-03-17 16:54:04   1500       small              2001  manual     75   \n",
       "4  2016-03-31 17:25:20   3600       small              2008  manual     69   \n",
       "\n",
       "   Model  Kilometer  RegistrationMonth  FuelType       Brand NotRepaired  \\\n",
       "0   golf     150000                  0    petrol  volkswagen         NaN   \n",
       "1    NaN     125000                  5  gasoline        audi         yes   \n",
       "2  grand     125000                  8  gasoline        jeep         NaN   \n",
       "3   golf     150000                  6    petrol  volkswagen          no   \n",
       "4  fabia      90000                  7  gasoline       skoda          no   \n",
       "\n",
       "           DateCreated  NumberOfPictures  PostalCode             LastSeen  \n",
       "0  2016-03-24 00:00:00                 0       70435  2016-04-07 03:16:57  \n",
       "1  2016-03-24 00:00:00                 0       66954  2016-04-07 01:46:50  \n",
       "2  2016-03-14 00:00:00                 0       90480  2016-04-05 12:47:46  \n",
       "3  2016-03-17 00:00:00                 0       91074  2016-03-17 17:40:17  \n",
       "4  2016-03-31 00:00:00                 0       60437  2016-04-06 10:17:21  "
      ]
     },
     "execution_count": 3,
     "metadata": {},
     "output_type": "execute_result"
    }
   ],
   "source": [
    "cars.head()"
   ]
  },
  {
   "cell_type": "code",
   "execution_count": 4,
   "metadata": {},
   "outputs": [
    {
     "name": "stdout",
     "output_type": "stream",
     "text": [
      "<class 'pandas.core.frame.DataFrame'>\n",
      "RangeIndex: 354369 entries, 0 to 354368\n",
      "Data columns (total 16 columns):\n",
      "DateCrawled          354369 non-null object\n",
      "Price                354369 non-null int64\n",
      "VehicleType          316879 non-null object\n",
      "RegistrationYear     354369 non-null int64\n",
      "Gearbox              334536 non-null object\n",
      "Power                354369 non-null int64\n",
      "Model                334664 non-null object\n",
      "Kilometer            354369 non-null int64\n",
      "RegistrationMonth    354369 non-null int64\n",
      "FuelType             321474 non-null object\n",
      "Brand                354369 non-null object\n",
      "NotRepaired          283215 non-null object\n",
      "DateCreated          354369 non-null object\n",
      "NumberOfPictures     354369 non-null int64\n",
      "PostalCode           354369 non-null int64\n",
      "LastSeen             354369 non-null object\n",
      "dtypes: int64(7), object(9)\n",
      "memory usage: 43.3+ MB\n"
     ]
    }
   ],
   "source": [
    "cars.info()"
   ]
  },
  {
   "cell_type": "markdown",
   "metadata": {},
   "source": [
    "***\n",
    "**Conclusion**\n",
    "\n",
    "The dataset contains about 355,000 objects and 16 features, the target of which is the Price feature.  \n",
    "Training features are in int or object format, including 2 date features.  \n",
    "\n",
    "**Features**  \n",
    "\n",
    "- DateCrawled — date of downloading the questionnaire from the database\n",
    "- VehicleType — type of car body\n",
    "- RegistrationYear — year of car registration\n",
    "- Gearbox — type of transmission\n",
    "- Power — power (hp)\n",
    "- Model — car model\n",
    "- Kilometer — mileage (km)\n",
    "- RegistrationMonth — month of car registration\n",
    "- FuelType — type of fuel\n",
    "- Brand — car brand\n",
    "- NotRepaired — whether the car was in repair or not\n",
    "- DateCreated — date of creation of the questionnaire\n",
    "- NumberOfPictures — number of car photos\n",
    "- PostalCode — postal code of the questionnaire owner (user)\n",
    "- LastSeen — date of the last user activity  \n",
    "\n",
    "**Target feature**\n",
    "\n",
    "- Price — price (Euro)"
   ]
  },
  {
   "cell_type": "markdown",
   "metadata": {},
   "source": [
    "***\n",
    "## Preprocessing of data"
   ]
  },
  {
   "cell_type": "markdown",
   "metadata": {},
   "source": [
    "Let's convert column names to lowercase"
   ]
  },
  {
   "cell_type": "code",
   "execution_count": 5,
   "metadata": {},
   "outputs": [
    {
     "data": {
      "text/plain": [
       "Index(['datecrawled', 'price', 'vehicletype', 'registrationyear', 'gearbox',\n",
       "       'power', 'model', 'kilometer', 'registrationmonth', 'fueltype', 'brand',\n",
       "       'notrepaired', 'datecreated', 'numberofpictures', 'postalcode',\n",
       "       'lastseen'],\n",
       "      dtype='object')"
      ]
     },
     "execution_count": 5,
     "metadata": {},
     "output_type": "execute_result"
    }
   ],
   "source": [
    "new_names = cars.columns.str.lower()\n",
    "cars.set_axis(new_names, axis = 'columns', inplace = True)\n",
    "cars.columns"
   ]
  },
  {
   "cell_type": "markdown",
   "metadata": {},
   "source": [
    "Let's find and remove duplicates."
   ]
  },
  {
   "cell_type": "code",
   "execution_count": 6,
   "metadata": {},
   "outputs": [
    {
     "name": "stdout",
     "output_type": "stream",
     "text": [
      "Количество дубликатов до удаления: 4\n",
      "Количество дубликатов после удаления: 0\n"
     ]
    }
   ],
   "source": [
    "print('Number of duplicates before deleting:', cars.duplicated().sum())\n",
    "cars = cars.drop_duplicates().reset_index(drop = True)\n",
    "print('Number of duplicates after deleting:', cars.duplicated().sum())"
   ]
  },
  {
   "cell_type": "markdown",
   "metadata": {},
   "source": [
    "### Missing value processing"
   ]
  },
  {
   "cell_type": "code",
   "execution_count": 7,
   "metadata": {},
   "outputs": [],
   "source": [
    "def miss_inf(data):\n",
    "    shape_data = data.shape\n",
    "    miss_data = (data.isnull().sum()/data.shape[0]*100).sort_values(ascending = False).head(10)\n",
    "    print('Number of rows, columns:', shape_data)\n",
    "    print()\n",
    "    print('Share of missing values in columns (top-10):')\n",
    "    print(miss_data)"
   ]
  },
  {
   "cell_type": "code",
   "execution_count": 8,
   "metadata": {},
   "outputs": [
    {
     "name": "stdout",
     "output_type": "stream",
     "text": [
      "Количество строк, столбцов: (354365, 16)\n",
      "\n",
      "Доля пропущенных значений в столбцах (топ-10):\n",
      "notrepaired         20.079297\n",
      "vehicletype         10.579487\n",
      "fueltype             9.282802\n",
      "gearbox              5.596772\n",
      "model                5.560651\n",
      "lastseen             0.000000\n",
      "postalcode           0.000000\n",
      "numberofpictures     0.000000\n",
      "datecreated          0.000000\n",
      "brand                0.000000\n",
      "dtype: float64\n"
     ]
    }
   ],
   "source": [
    "miss_inf(cars)"
   ]
  },
  {
   "cell_type": "markdown",
   "metadata": {},
   "source": [
    "There are gaps in 5 features:  \n",
    "\n",
    "- notrepaired - whether the car was in repair or not. About 20% of missing values.  \n",
    "In this case, missing values may mean that the car was not in repair. We will fill them with the 'no' value;\n",
    "- vehicletype - type of car body. A little over 10% of missing values.  \n",
    "In this case, we will fill in the gaps with the most frequent values grouped by brand and model;\n",
    "- fueltype - type of fuel. About 10% of missing values.  \n",
    "We will fill in the gaps similarly to the body type - the most frequent values grouped by brand and model;\n",
    "-  gearbox - type of transmission. About 5% of missing values.  \n",
    "We will fill in the gaps similarly to the body type - the most frequent values grouped by brand and model;\n",
    "- model - car model. About 5% of missing values.  \n",
    "\n",
    "We will fill in the gaps with the most frequent values grouped by brand and release year."
   ]
  },
  {
   "cell_type": "markdown",
   "metadata": {},
   "source": [
    "Let's fill in the gaps in the notrepaired feature"
   ]
  },
  {
   "cell_type": "code",
   "execution_count": 9,
   "metadata": {},
   "outputs": [],
   "source": [
    "cars['notrepaired'] = cars['notrepaired'].fillna('no')"
   ]
  },
  {
   "cell_type": "markdown",
   "metadata": {},
   "source": [
    "Let's fill in the gaps in the model feature, after that we will fill in the gaps in the fueltype, vehicletype, gearbox features."
   ]
  },
  {
   "cell_type": "code",
   "execution_count": 10,
   "metadata": {},
   "outputs": [],
   "source": [
    "def filler(data, column1, column2, column):\n",
    "    cars[column] = cars.groupby([column1, column2])[column].transform(lambda x: x.fillna((x.mode()[0] if not x.mode().empty else \"Empty\")))"
   ]
  },
  {
   "cell_type": "code",
   "execution_count": 11,
   "metadata": {},
   "outputs": [],
   "source": [
    "filler(cars, 'brand', 'registrationyear', 'model')\n",
    "filler(cars, 'brand', 'model', 'fueltype')\n",
    "filler(cars, 'brand', 'model', 'vehicletype')\n",
    "filler(cars, 'brand', 'model', 'gearbox')"
   ]
  },
  {
   "cell_type": "markdown",
   "metadata": {},
   "source": [
    "Let's check for missing values."
   ]
  },
  {
   "cell_type": "code",
   "execution_count": 12,
   "metadata": {
    "scrolled": true
   },
   "outputs": [
    {
     "data": {
      "text/plain": [
       "datecrawled          0\n",
       "price                0\n",
       "vehicletype          0\n",
       "registrationyear     0\n",
       "gearbox              0\n",
       "power                0\n",
       "model                0\n",
       "kilometer            0\n",
       "registrationmonth    0\n",
       "fueltype             0\n",
       "brand                0\n",
       "notrepaired          0\n",
       "datecreated          0\n",
       "numberofpictures     0\n",
       "postalcode           0\n",
       "lastseen             0\n",
       "dtype: int64"
      ]
     },
     "execution_count": 12,
     "metadata": {},
     "output_type": "execute_result"
    }
   ],
   "source": [
    "cars.isnull().sum()"
   ]
  },
  {
   "cell_type": "markdown",
   "metadata": {},
   "source": [
    "Let's check how many objects we got with the value of the model feature = Empty."
   ]
  },
  {
   "cell_type": "code",
   "execution_count": 13,
   "metadata": {},
   "outputs": [
    {
     "data": {
      "text/plain": [
       "0.009713148871925838"
      ]
     },
     "execution_count": 13,
     "metadata": {},
     "output_type": "execute_result"
    }
   ],
   "source": [
    "cars['model'][cars['model'] == 'Empty'].count()/cars.shape[0]"
   ]
  },
  {
   "cell_type": "markdown",
   "metadata": {},
   "source": [
    "Since there are less than 1% of such objects, we will remove them from the sample."
   ]
  },
  {
   "cell_type": "code",
   "execution_count": 14,
   "metadata": {},
   "outputs": [],
   "source": [
    "cars = cars[cars['model'] != 'Empty'].reset_index(drop = True)"
   ]
  },
  {
   "cell_type": "markdown",
   "metadata": {},
   "source": [
    "### The study of the values of quantitative features"
   ]
  },
  {
   "cell_type": "markdown",
   "metadata": {},
   "source": [
    "There are 4 features in the table indicating the date of the event:\n",
    "\n",
    "- datecrawled — date of downloading the questionnaire from the database;\n",
    "- registrationyear — year of the car registration;\n",
    "- registrationmonth — month of the car registration;\n",
    "- datecreated — date of the questionnaire creation;\n",
    "- lastseen - date of the last user activity.  \n",
    "\n",
    "We will remove 4 of them, leaving only the registrationyear feature.   \n",
    "Also, we will immediately remove the postalcode feature — the owner's postal code (user)."
   ]
  },
  {
   "cell_type": "code",
   "execution_count": 15,
   "metadata": {},
   "outputs": [],
   "source": [
    "cars = cars.drop(['datecrawled', 'registrationmonth', 'datecreated', 'lastseen', 'postalcode'], axis=1)"
   ]
  },
  {
   "cell_type": "markdown",
   "metadata": {},
   "source": [
    "Let's study the distribution of values in the remaining quantitative features:\n",
    "\n",
    "- registrationyear — year of the car registration;\n",
    "- power — power (hp);\n",
    "- kilometer — mileage (km);\n",
    "- numberofpictures — number of car photos"
   ]
  },
  {
   "cell_type": "markdown",
   "metadata": {},
   "source": [
    "**The study of the values of the registrationyear column**"
   ]
  },
  {
   "cell_type": "code",
   "execution_count": 16,
   "metadata": {},
   "outputs": [
    {
     "data": {
      "text/plain": [
       "count    350923.000000\n",
       "mean       2003.938328\n",
       "std          71.953394\n",
       "min        1000.000000\n",
       "25%        1999.000000\n",
       "50%        2003.000000\n",
       "75%        2008.000000\n",
       "max        9999.000000\n",
       "Name: registrationyear, dtype: float64"
      ]
     },
     "execution_count": 16,
     "metadata": {},
     "output_type": "execute_result"
    }
   ],
   "source": [
    "cars['registrationyear'].describe()"
   ]
  },
  {
   "cell_type": "markdown",
   "metadata": {},
   "source": [
    "We see that there are abnormal values of the car's release year. We will remove all values below 1950 and above 2020."
   ]
  },
  {
   "cell_type": "code",
   "execution_count": 17,
   "metadata": {},
   "outputs": [],
   "source": [
    "cars = cars.query('1950 <= registrationyear <= 2020')"
   ]
  },
  {
   "cell_type": "markdown",
   "metadata": {},
   "source": [
    "**The study of the distribution of the target feature of the sample - the price column**"
   ]
  },
  {
   "cell_type": "code",
   "execution_count": 18,
   "metadata": {},
   "outputs": [],
   "source": [
    "def graph(data, column, title):\n",
    "    fig, axes = plt.subplots(1, 2, figsize=(18, 6))\n",
    "\n",
    "    axes[0].set_title(title)\n",
    "    sns.boxplot(y = column, data=data, palette='rainbow', ax = axes[0])\n",
    "    axes[0].set_xlabel('Quantity')\n",
    "     \n",
    "    axes[1].set_title(title)\n",
    "    sns.distplot(data[column], kde=False, bins=50, ax = axes[1])\n",
    "    axes[1].set_ylabel('Quantity')\n",
    "            \n",
    "    plt.show()\n",
    "    \n",
    "    print(data[column].describe())"
   ]
  },
  {
   "cell_type": "code",
   "execution_count": 19,
   "metadata": {},
   "outputs": [
    {
     "data": {
      "image/png": "[encoded data removed]",
      "text/plain": [
       "<Figure size 1296x432 with 2 Axes>"
      ]
     },
     "metadata": {
      "needs_background": "light"
     },
     "output_type": "display_data"
    },
    {
     "name": "stdout",
     "output_type": "stream",
     "text": [
      "count    350716.000000\n",
      "mean       4411.664398\n",
      "std        4502.620498\n",
      "min           0.000000\n",
      "25%        1099.000000\n",
      "50%        2700.000000\n",
      "75%        6399.000000\n",
      "max       20000.000000\n",
      "Name: price, dtype: float64\n"
     ]
    }
   ],
   "source": [
    "graph(cars, 'price', 'price')"
   ]
  },
  {
   "cell_type": "markdown",
   "metadata": {},
   "source": [
    "From the graphs, we can see that a very large number of values are close to zero and this shifts the boxplot graph, making it notnformative.    \n",
    "We will temporarily remove objects with a price equal to 0 and look at the distribution. "
   ]
  },
  {
   "cell_type": "code",
   "execution_count": 20,
   "metadata": {},
   "outputs": [
    {
     "data": {
      "image/png": "[encoded data removed]",
      "text/plain": [
       "<Figure size 1296x432 with 2 Axes>"
      ]
     },
     "metadata": {
      "needs_background": "light"
     },
     "output_type": "display_data"
    },
    {
     "name": "stdout",
     "output_type": "stream",
     "text": [
      "count    340524.000000\n",
      "mean       4543.707025\n",
      "std        4503.379163\n",
      "min           1.000000\n",
      "25%        1200.000000\n",
      "50%        2850.000000\n",
      "75%        6500.000000\n",
      "max       20000.000000\n",
      "Name: price, dtype: float64\n"
     ]
    }
   ],
   "source": [
    "cars_price_not_null = cars.query('price != 0')\n",
    "graph(cars_price_not_null, 'price', 'price')"
   ]
  },
  {
   "cell_type": "markdown",
   "metadata": {},
   "source": [
    "The situation did not clear up much, but we see that there are about 10 thousand zero values.  \n",
    "In this case, we will find the 1-5% quantiles of the distribution."
   ]
  },
  {
   "cell_type": "code",
   "execution_count": 21,
   "metadata": {},
   "outputs": [
    {
     "name": "stdout",
     "output_type": "stream",
     "text": [
      "Значение цены при квантиле 0.01 -  0.0\n",
      "Значение цены при квантиле 0.02 -  0.0\n",
      "Значение цены при квантиле 0.03 -  1.0\n",
      "Значение цены при квантиле 0.04 -  130.0\n",
      "Значение цены при квантиле 0.05 -  200.0\n"
     ]
    }
   ],
   "source": [
    "print('Price value at the quantile 0.01 - ', cars['price'].quantile(0.01))\n",
    "print('Price value at the quantile 0.02 - ', cars['price'].quantile(0.02))\n",
    "print('Price value at the quantile 0.03 - ', cars['price'].quantile(0.03))\n",
    "print('Price value at the quantile 0.04 - ', cars['price'].quantile(0.04))\n",
    "print('Price value at the quantile 0.05 - ', cars['price'].quantile(0.05))"
   ]
  },
  {
   "cell_type": "markdown",
   "metadata": {},
   "source": [
    "Information about the quantiles gave us a better understanding of the minimum car prices - in 3% of ads, the car price is lower or equal to 1 dollar. These are clear outliers.  \n",
    "We can choose a starting price of 200 dollars for a car and remove objects with a lower price."
   ]
  },
  {
   "cell_type": "code",
   "execution_count": 22,
   "metadata": {},
   "outputs": [],
   "source": [
    "cars = cars.query('price >= 200')"
   ]
  },
  {
   "cell_type": "markdown",
   "metadata": {},
   "source": [
    "**The study of the distribution of the sample feature - the power column**"
   ]
  },
  {
   "cell_type": "code",
   "execution_count": 23,
   "metadata": {},
   "outputs": [
    {
     "data": {
      "image/png": "[encoded data removed]",
      "text/plain": [
       "<Figure size 1296x432 with 2 Axes>"
      ]
     },
     "metadata": {
      "needs_background": "light"
     },
     "output_type": "display_data"
    },
    {
     "name": "stdout",
     "output_type": "stream",
     "text": [
      "count    334075.000000\n",
      "mean        112.139388\n",
      "std         187.183172\n",
      "min           0.000000\n",
      "25%          72.000000\n",
      "50%         105.000000\n",
      "75%         143.000000\n",
      "max       20000.000000\n",
      "Name: power, dtype: float64\n"
     ]
    }
   ],
   "source": [
    "graph(cars, 'power', 'power')"
   ]
  },
  {
   "cell_type": "markdown",
   "metadata": {},
   "source": [
    "The graph shows that there are many outliers, and due to them, the graphs are almost unreadable.  \n",
    "Let's build graphs with a limitation of values on the X-axis - the right border will be the Q3 + 4 x IQR value, the left one Q1 - IQR."
   ]
  },
  {
   "cell_type": "code",
   "execution_count": 24,
   "metadata": {},
   "outputs": [],
   "source": [
    "def graph_hist(data, column, bins, xlabel, ylabel):\n",
    "    Q1 = column.quantile(0.25)\n",
    "    Q3 = column.quantile(0.75)\n",
    "    IQR = Q3 - Q1\n",
    "    fig, ax = plt.subplots()\n",
    "    column.plot(kind = 'hist', bins = bins, grid = True,\n",
    "                       range = (Q1 - IQR, Q3 + 3*IQR), figsize = (7, 4)\n",
    "                      )\n",
    "    ax.set_xlabel(xlabel)\n",
    "    ax.set_ylabel(ylabel)"
   ]
  },
  {
   "cell_type": "code",
   "execution_count": 25,
   "metadata": {},
   "outputs": [
    {
     "data": {
      "image/png": "[encoded data removed]",
      "text/plain": [
       "<Figure size 504x288 with 1 Axes>"
      ]
     },
     "metadata": {
      "needs_background": "light"
     },
     "output_type": "display_data"
    }
   ],
   "source": [
    "graph_hist(cars, cars['power'], 100, 'лс', 'количество')"
   ]
  },
  {
   "cell_type": "markdown",
   "metadata": {},
   "source": [
    "The graph has become more readable, and it shows:  \n",
    "\n",
    "- there is a very large number of objects with a power equal to zero;\n",
    "- objects with power greater than 350 hp are almost not found.  \n",
    "\n",
    "Based on this, we will remove power values above 350 hp and replace zero values with median ones, grouped by car model."
   ]
  },
  {
   "cell_type": "code",
   "execution_count": 26,
   "metadata": {},
   "outputs": [],
   "source": [
    "cars = cars.query('power <= 350')"
   ]
  },
  {
   "cell_type": "code",
   "execution_count": 27,
   "metadata": {},
   "outputs": [
    {
     "data": {
      "image/png": "[encoded data removed]",
      "text/plain": [
       "<Figure size 1296x432 with 2 Axes>"
      ]
     },
     "metadata": {
      "needs_background": "light"
     },
     "output_type": "display_data"
    },
    {
     "name": "stdout",
     "output_type": "stream",
     "text": [
      "count    332993.000000\n",
      "mean        108.014751\n",
      "std          60.350272\n",
      "min           0.000000\n",
      "25%          71.000000\n",
      "50%         105.000000\n",
      "75%         143.000000\n",
      "max         350.000000\n",
      "Name: power, dtype: float64\n"
     ]
    }
   ],
   "source": [
    "graph(cars, 'power', 'power')"
   ]
  },
  {
   "cell_type": "code",
   "execution_count": 28,
   "metadata": {},
   "outputs": [],
   "source": [
    "medians  = cars.groupby('model')['power'].median(skipna = True).to_dict()\n",
    "def filler (row):\n",
    "    if row['power'] == 0:\n",
    "        return medians [row['model']]\n",
    "    return row ['power']\n",
    "cars['power'] = cars.apply(lambda row: filler(row), axis = 1)"
   ]
  },
  {
   "cell_type": "code",
   "execution_count": 29,
   "metadata": {},
   "outputs": [
    {
     "data": {
      "image/png": "[encoded data removed]",
      "text/plain": [
       "<Figure size 1296x432 with 2 Axes>"
      ]
     },
     "metadata": {
      "needs_background": "light"
     },
     "output_type": "display_data"
    },
    {
     "name": "stdout",
     "output_type": "stream",
     "text": [
      "count    332993.000000\n",
      "mean        118.251555\n",
      "std          50.328187\n",
      "min           0.000000\n",
      "25%          75.000000\n",
      "50%         109.000000\n",
      "75%         144.000000\n",
      "max         350.000000\n",
      "Name: power, dtype: float64\n"
     ]
    }
   ],
   "source": [
    "graph(cars, 'power', 'power')"
   ]
  },
  {
   "cell_type": "markdown",
   "metadata": {},
   "source": [
    "The values of the quantiles have not changed much, got rid of zeros. Great!"
   ]
  },
  {
   "cell_type": "markdown",
   "metadata": {},
   "source": [
    "**The study of the distribution of the sample feature - the kilometer column**"
   ]
  },
  {
   "cell_type": "code",
   "execution_count": 30,
   "metadata": {},
   "outputs": [
    {
     "data": {
      "image/png": "[encoded data removed]",
      "text/plain": [
       "<Figure size 1296x432 with 2 Axes>"
      ]
     },
     "metadata": {
      "needs_background": "light"
     },
     "output_type": "display_data"
    },
    {
     "name": "stdout",
     "output_type": "stream",
     "text": [
      "count    332993.000000\n",
      "mean     128785.424919\n",
      "std       36789.596306\n",
      "min        5000.000000\n",
      "25%      125000.000000\n",
      "50%      150000.000000\n",
      "75%      150000.000000\n",
      "max      150000.000000\n",
      "Name: kilometer, dtype: float64\n"
     ]
    }
   ],
   "source": [
    "graph(cars, 'kilometer', 'kilometer')"
   ]
  },
  {
   "cell_type": "markdown",
   "metadata": {},
   "source": [
    "The kilometer feature data are distributed discretely, and the median is simultaneously the maximum value.  \n",
    "We will count the exact number of each value in the distribution. We will not change anything."
   ]
  },
  {
   "cell_type": "code",
   "execution_count": 31,
   "metadata": {},
   "outputs": [
    {
     "data": {
      "text/plain": [
       "150000    223970\n",
       "125000     35035\n",
       "100000     13955\n",
       "90000      11172\n",
       "80000       9711\n",
       "70000       8295\n",
       "60000       7228\n",
       "50000       6009\n",
       "40000       4752\n",
       "30000       4159\n",
       "5000        4144\n",
       "20000       3593\n",
       "10000        970\n",
       "Name: kilometer, dtype: int64"
      ]
     },
     "execution_count": 31,
     "metadata": {},
     "output_type": "execute_result"
    }
   ],
   "source": [
    "cars['kilometer'].value_counts()"
   ]
  },
  {
   "cell_type": "markdown",
   "metadata": {},
   "source": [
    "We can see that the largest number of cars have a mileage of 150,000 km - perhaps this is the maximum value that can be entered in the application."
   ]
  },
  {
   "cell_type": "markdown",
   "metadata": {},
   "source": [
    "**The study of the distribution of the sample feature - the numberofpictures column**"
   ]
  },
  {
   "cell_type": "markdown",
   "metadata": {},
   "source": [
    "Very often, the number of car photos affects the speed of sales, so this parameter can be important.  \n",
    "Let's look at its distribution."
   ]
  },
  {
   "cell_type": "code",
   "execution_count": 32,
   "metadata": {},
   "outputs": [
    {
     "data": {
      "image/png": "[encoded data removed]",
      "text/plain": [
       "<Figure size 1296x432 with 2 Axes>"
      ]
     },
     "metadata": {
      "needs_background": "light"
     },
     "output_type": "display_data"
    },
    {
     "name": "stdout",
     "output_type": "stream",
     "text": [
      "count    332993.0\n",
      "mean          0.0\n",
      "std           0.0\n",
      "min           0.0\n",
      "25%           0.0\n",
      "50%           0.0\n",
      "75%           0.0\n",
      "max           0.0\n",
      "Name: numberofpictures, dtype: float64\n"
     ]
    }
   ],
   "source": [
    "graph(cars, 'numberofpictures', 'numberofpictures')"
   ]
  },
  {
   "cell_type": "markdown",
   "metadata": {},
   "source": [
    "All values are equal to zero. We will remove this column and look at the final table."
   ]
  },
  {
   "cell_type": "code",
   "execution_count": 33,
   "metadata": {},
   "outputs": [
    {
     "data": {
      "text/html": [
       "<div>\n",
       "<style scoped>\n",
       "    .dataframe tbody tr th:only-of-type {\n",
       "        vertical-align: middle;\n",
       "    }\n",
       "\n",
       "    .dataframe tbody tr th {\n",
       "        vertical-align: top;\n",
       "    }\n",
       "\n",
       "    .dataframe thead th {\n",
       "        text-align: right;\n",
       "    }\n",
       "</style>\n",
       "<table border=\"1\" class=\"dataframe\">\n",
       "  <thead>\n",
       "    <tr style=\"text-align: right;\">\n",
       "      <th></th>\n",
       "      <th>price</th>\n",
       "      <th>vehicletype</th>\n",
       "      <th>registrationyear</th>\n",
       "      <th>gearbox</th>\n",
       "      <th>power</th>\n",
       "      <th>model</th>\n",
       "      <th>kilometer</th>\n",
       "      <th>fueltype</th>\n",
       "      <th>brand</th>\n",
       "      <th>notrepaired</th>\n",
       "    </tr>\n",
       "  </thead>\n",
       "  <tbody>\n",
       "    <tr>\n",
       "      <td>0</td>\n",
       "      <td>480</td>\n",
       "      <td>sedan</td>\n",
       "      <td>1993</td>\n",
       "      <td>manual</td>\n",
       "      <td>90.0</td>\n",
       "      <td>golf</td>\n",
       "      <td>150000</td>\n",
       "      <td>petrol</td>\n",
       "      <td>volkswagen</td>\n",
       "      <td>no</td>\n",
       "    </tr>\n",
       "    <tr>\n",
       "      <td>1</td>\n",
       "      <td>18300</td>\n",
       "      <td>coupe</td>\n",
       "      <td>2011</td>\n",
       "      <td>manual</td>\n",
       "      <td>190.0</td>\n",
       "      <td>a4</td>\n",
       "      <td>125000</td>\n",
       "      <td>gasoline</td>\n",
       "      <td>audi</td>\n",
       "      <td>yes</td>\n",
       "    </tr>\n",
       "    <tr>\n",
       "      <td>2</td>\n",
       "      <td>9800</td>\n",
       "      <td>suv</td>\n",
       "      <td>2004</td>\n",
       "      <td>auto</td>\n",
       "      <td>163.0</td>\n",
       "      <td>grand</td>\n",
       "      <td>125000</td>\n",
       "      <td>gasoline</td>\n",
       "      <td>jeep</td>\n",
       "      <td>no</td>\n",
       "    </tr>\n",
       "    <tr>\n",
       "      <td>3</td>\n",
       "      <td>1500</td>\n",
       "      <td>small</td>\n",
       "      <td>2001</td>\n",
       "      <td>manual</td>\n",
       "      <td>75.0</td>\n",
       "      <td>golf</td>\n",
       "      <td>150000</td>\n",
       "      <td>petrol</td>\n",
       "      <td>volkswagen</td>\n",
       "      <td>no</td>\n",
       "    </tr>\n",
       "    <tr>\n",
       "      <td>4</td>\n",
       "      <td>3600</td>\n",
       "      <td>small</td>\n",
       "      <td>2008</td>\n",
       "      <td>manual</td>\n",
       "      <td>69.0</td>\n",
       "      <td>fabia</td>\n",
       "      <td>90000</td>\n",
       "      <td>gasoline</td>\n",
       "      <td>skoda</td>\n",
       "      <td>no</td>\n",
       "    </tr>\n",
       "    <tr>\n",
       "      <td>...</td>\n",
       "      <td>...</td>\n",
       "      <td>...</td>\n",
       "      <td>...</td>\n",
       "      <td>...</td>\n",
       "      <td>...</td>\n",
       "      <td>...</td>\n",
       "      <td>...</td>\n",
       "      <td>...</td>\n",
       "      <td>...</td>\n",
       "      <td>...</td>\n",
       "    </tr>\n",
       "    <tr>\n",
       "      <td>350917</td>\n",
       "      <td>3200</td>\n",
       "      <td>sedan</td>\n",
       "      <td>2004</td>\n",
       "      <td>manual</td>\n",
       "      <td>225.0</td>\n",
       "      <td>leon</td>\n",
       "      <td>150000</td>\n",
       "      <td>petrol</td>\n",
       "      <td>seat</td>\n",
       "      <td>yes</td>\n",
       "    </tr>\n",
       "    <tr>\n",
       "      <td>350918</td>\n",
       "      <td>1150</td>\n",
       "      <td>bus</td>\n",
       "      <td>2000</td>\n",
       "      <td>manual</td>\n",
       "      <td>120.0</td>\n",
       "      <td>zafira</td>\n",
       "      <td>150000</td>\n",
       "      <td>petrol</td>\n",
       "      <td>opel</td>\n",
       "      <td>no</td>\n",
       "    </tr>\n",
       "    <tr>\n",
       "      <td>350920</td>\n",
       "      <td>1199</td>\n",
       "      <td>convertible</td>\n",
       "      <td>2000</td>\n",
       "      <td>auto</td>\n",
       "      <td>101.0</td>\n",
       "      <td>fortwo</td>\n",
       "      <td>125000</td>\n",
       "      <td>petrol</td>\n",
       "      <td>smart</td>\n",
       "      <td>no</td>\n",
       "    </tr>\n",
       "    <tr>\n",
       "      <td>350921</td>\n",
       "      <td>9200</td>\n",
       "      <td>bus</td>\n",
       "      <td>1996</td>\n",
       "      <td>manual</td>\n",
       "      <td>102.0</td>\n",
       "      <td>transporter</td>\n",
       "      <td>150000</td>\n",
       "      <td>gasoline</td>\n",
       "      <td>volkswagen</td>\n",
       "      <td>no</td>\n",
       "    </tr>\n",
       "    <tr>\n",
       "      <td>350922</td>\n",
       "      <td>3400</td>\n",
       "      <td>wagon</td>\n",
       "      <td>2002</td>\n",
       "      <td>manual</td>\n",
       "      <td>100.0</td>\n",
       "      <td>golf</td>\n",
       "      <td>150000</td>\n",
       "      <td>gasoline</td>\n",
       "      <td>volkswagen</td>\n",
       "      <td>no</td>\n",
       "    </tr>\n",
       "  </tbody>\n",
       "</table>\n",
       "<p>332993 rows × 10 columns</p>\n",
       "</div>"
      ],
      "text/plain": [
       "        price  vehicletype  registrationyear gearbox  power        model  \\\n",
       "0         480        sedan              1993  manual   90.0         golf   \n",
       "1       18300        coupe              2011  manual  190.0           a4   \n",
       "2        9800          suv              2004    auto  163.0        grand   \n",
       "3        1500        small              2001  manual   75.0         golf   \n",
       "4        3600        small              2008  manual   69.0        fabia   \n",
       "...       ...          ...               ...     ...    ...          ...   \n",
       "350917   3200        sedan              2004  manual  225.0         leon   \n",
       "350918   1150          bus              2000  manual  120.0       zafira   \n",
       "350920   1199  convertible              2000    auto  101.0       fortwo   \n",
       "350921   9200          bus              1996  manual  102.0  transporter   \n",
       "350922   3400        wagon              2002  manual  100.0         golf   \n",
       "\n",
       "        kilometer  fueltype       brand notrepaired  \n",
       "0          150000    petrol  volkswagen          no  \n",
       "1          125000  gasoline        audi         yes  \n",
       "2          125000  gasoline        jeep          no  \n",
       "3          150000    petrol  volkswagen          no  \n",
       "4           90000  gasoline       skoda          no  \n",
       "...           ...       ...         ...         ...  \n",
       "350917     150000    petrol        seat         yes  \n",
       "350918     150000    petrol        opel          no  \n",
       "350920     125000    petrol       smart          no  \n",
       "350921     150000  gasoline  volkswagen          no  \n",
       "350922     150000  gasoline  volkswagen          no  \n",
       "\n",
       "[332993 rows x 10 columns]"
      ]
     },
     "execution_count": 33,
     "metadata": {},
     "output_type": "execute_result"
    }
   ],
   "source": [
    "cars = cars.drop(['numberofpictures'], axis=1)\n",
    "cars"
   ]
  },
  {
   "cell_type": "markdown",
   "metadata": {},
   "source": [
    "***\n",
    "## Conclusion"
   ]
  },
  {
   "cell_type": "markdown",
   "metadata": {},
   "source": [
    "At this stage, data preprocessing has been carried out for further analysis:\n",
    "\n",
    "- Duplicates have been removed;\n",
    "- Missing values have been filled in;\n",
    "- Data outliers in quantitative features have been removed;\n",
    "- Features that will not be needed in further model training have been removed."
   ]
  },
  {
   "cell_type": "markdown",
   "metadata": {},
   "source": [
    "# 2. Model Training"
   ]
  },
  {
   "cell_type": "markdown",
   "metadata": {},
   "source": [
    "At this stage, we will prepare data for training various forecasting models, train the models, and select the best one."
   ]
  },
  {
   "cell_type": "markdown",
   "metadata": {},
   "source": [
    "***\n",
    "## Data Preparation for Training"
   ]
  },
  {
   "cell_type": "markdown",
   "metadata": {},
   "source": [
    "We will prepare the data for training by performing the following actions:\n",
    "\n",
    "- split the sample into training and target;\n",
    "- convert the type of categorical features from object to categorial;\n",
    "- perform scaling of quantitative features."
   ]
  },
  {
   "cell_type": "markdown",
   "metadata": {},
   "source": [
    "***\n",
    "### Splitting the Sample into Training and Target"
   ]
  },
  {
   "cell_type": "markdown",
   "metadata": {},
   "source": [
    "Let's separate the target feature price into a separate table"
   ]
  },
  {
   "cell_type": "code",
   "execution_count": 34,
   "metadata": {},
   "outputs": [],
   "source": [
    "cars_features = cars.drop(['price'], axis=1)\n",
    "cars_target = cars['price']"
   ]
  },
  {
   "cell_type": "markdown",
   "metadata": {},
   "source": [
    "***\n",
    "### Conversion of Categorical Features"
   ]
  },
  {
   "cell_type": "markdown",
   "metadata": {},
   "source": [
    "For training our models, we will need to change the type of categorical features from object to category."
   ]
  },
  {
   "cell_type": "code",
   "execution_count": 35,
   "metadata": {},
   "outputs": [],
   "source": [
    "categorial = {'vehicletype', 'gearbox', 'model', 'fueltype', 'brand', 'notrepaired'}\n",
    "\n",
    "for cat in categorial:\n",
    "    cars_features[cat] = cars_features[cat].astype('category')"
   ]
  },
  {
   "cell_type": "code",
   "execution_count": 36,
   "metadata": {},
   "outputs": [
    {
     "name": "stdout",
     "output_type": "stream",
     "text": [
      "<class 'pandas.core.frame.DataFrame'>\n",
      "Int64Index: 332993 entries, 0 to 350922\n",
      "Data columns (total 9 columns):\n",
      "vehicletype         332993 non-null category\n",
      "registrationyear    332993 non-null int64\n",
      "gearbox             332993 non-null category\n",
      "power               332993 non-null float64\n",
      "model               332993 non-null category\n",
      "kilometer           332993 non-null int64\n",
      "fueltype            332993 non-null category\n",
      "brand               332993 non-null category\n",
      "notrepaired         332993 non-null category\n",
      "dtypes: category(6), float64(1), int64(2)\n",
      "memory usage: 12.4 MB\n"
     ]
    }
   ],
   "source": [
    "cars_features.info()"
   ]
  },
  {
   "cell_type": "markdown",
   "metadata": {},
   "source": [
    "***\n",
    "### Scaling Quantitative Features"
   ]
  },
  {
   "cell_type": "markdown",
   "metadata": {},
   "source": [
    "Now we will perform scaling of the data in the remaining numerical columns.  \n",
    "Before scaling, we will divide the data into 3 samples - training, validation, and testing in a ratio of 60/20/20."
   ]
  },
  {
   "cell_type": "code",
   "execution_count": 37,
   "metadata": {},
   "outputs": [],
   "source": [
    "cars_ftrain, cars_frest, cars_ttrain, cars_trest = train_test_split(\n",
    "    cars_features, cars_target, test_size=0.25, random_state=12345)\n",
    "cars_fvalid, cars_ftest, cars_tvalid, cars_ttest = train_test_split(\n",
    "    cars_frest, cars_trest, test_size=0.5, random_state=12345)"
   ]
  },
  {
   "cell_type": "code",
   "execution_count": 38,
   "metadata": {},
   "outputs": [
    {
     "name": "stdout",
     "output_type": "stream",
     "text": [
      "(249744, 9)\n",
      "(41624, 9)\n",
      "(41625, 9)\n"
     ]
    }
   ],
   "source": [
    "print(cars_ftrain.shape)\n",
    "print(cars_fvalid.shape)\n",
    "print(cars_ftest.shape)"
   ]
  },
  {
   "cell_type": "markdown",
   "metadata": {},
   "source": [
    "Now we will perform scaling of quantitative features using the Standardization method.  \n",
    "Standardization implies such data preprocessing after which each feature has an average of 0 and a variance of 1.  \n",
    "We will first check the distribution of feature values and create a standardization function."
   ]
  },
  {
   "cell_type": "code",
   "execution_count": 39,
   "metadata": {},
   "outputs": [
    {
     "data": {
      "text/html": [
       "<div>\n",
       "<style scoped>\n",
       "    .dataframe tbody tr th:only-of-type {\n",
       "        vertical-align: middle;\n",
       "    }\n",
       "\n",
       "    .dataframe tbody tr th {\n",
       "        vertical-align: top;\n",
       "    }\n",
       "\n",
       "    .dataframe thead th {\n",
       "        text-align: right;\n",
       "    }\n",
       "</style>\n",
       "<table border=\"1\" class=\"dataframe\">\n",
       "  <thead>\n",
       "    <tr style=\"text-align: right;\">\n",
       "      <th></th>\n",
       "      <th>registrationyear</th>\n",
       "      <th>power</th>\n",
       "      <th>kilometer</th>\n",
       "    </tr>\n",
       "  </thead>\n",
       "  <tbody>\n",
       "    <tr>\n",
       "      <td>count</td>\n",
       "      <td>249744.0000</td>\n",
       "      <td>249744.0000</td>\n",
       "      <td>249744.0000</td>\n",
       "    </tr>\n",
       "    <tr>\n",
       "      <td>mean</td>\n",
       "      <td>2003.3432</td>\n",
       "      <td>118.2716</td>\n",
       "      <td>128810.8823</td>\n",
       "    </tr>\n",
       "    <tr>\n",
       "      <td>std</td>\n",
       "      <td>7.0383</td>\n",
       "      <td>50.3434</td>\n",
       "      <td>36767.1106</td>\n",
       "    </tr>\n",
       "    <tr>\n",
       "      <td>min</td>\n",
       "      <td>1950.0000</td>\n",
       "      <td>0.0000</td>\n",
       "      <td>5000.0000</td>\n",
       "    </tr>\n",
       "    <tr>\n",
       "      <td>25%</td>\n",
       "      <td>1999.0000</td>\n",
       "      <td>75.0000</td>\n",
       "      <td>125000.0000</td>\n",
       "    </tr>\n",
       "    <tr>\n",
       "      <td>50%</td>\n",
       "      <td>2003.0000</td>\n",
       "      <td>109.0000</td>\n",
       "      <td>150000.0000</td>\n",
       "    </tr>\n",
       "    <tr>\n",
       "      <td>75%</td>\n",
       "      <td>2008.0000</td>\n",
       "      <td>144.0000</td>\n",
       "      <td>150000.0000</td>\n",
       "    </tr>\n",
       "    <tr>\n",
       "      <td>max</td>\n",
       "      <td>2019.0000</td>\n",
       "      <td>350.0000</td>\n",
       "      <td>150000.0000</td>\n",
       "    </tr>\n",
       "  </tbody>\n",
       "</table>\n",
       "</div>"
      ],
      "text/plain": [
       "       registrationyear        power    kilometer\n",
       "count       249744.0000  249744.0000  249744.0000\n",
       "mean          2003.3432     118.2716  128810.8823\n",
       "std              7.0383      50.3434   36767.1106\n",
       "min           1950.0000       0.0000    5000.0000\n",
       "25%           1999.0000      75.0000  125000.0000\n",
       "50%           2003.0000     109.0000  150000.0000\n",
       "75%           2008.0000     144.0000  150000.0000\n",
       "max           2019.0000     350.0000  150000.0000"
      ]
     },
     "execution_count": 39,
     "metadata": {},
     "output_type": "execute_result"
    }
   ],
   "source": [
    "cars_ftrain.describe().round(4)"
   ]
  },
  {
   "cell_type": "code",
   "execution_count": 40,
   "metadata": {},
   "outputs": [],
   "source": [
    "def scalers(train, valid, test):\n",
    "    numeric = ['registrationyear', 'power', 'kilometer']\n",
    "    scaler = StandardScaler()\n",
    "    scaler.fit(train[numeric])\n",
    "    train[numeric] = scaler.transform(train[numeric])\n",
    "    valid[numeric] = scaler.transform(valid[numeric])\n",
    "    test[numeric] = scaler.transform(test[numeric])"
   ]
  },
  {
   "cell_type": "code",
   "execution_count": 41,
   "metadata": {},
   "outputs": [],
   "source": [
    "scalers(cars_ftrain, cars_fvalid, cars_ftest)"
   ]
  },
  {
   "cell_type": "markdown",
   "metadata": {},
   "source": [
    "Now we will perform scaling of quantitative features using the Standardization method."
   ]
  },
  {
   "cell_type": "code",
   "execution_count": 42,
   "metadata": {},
   "outputs": [
    {
     "data": {
      "text/html": [
       "<div>\n",
       "<style scoped>\n",
       "    .dataframe tbody tr th:only-of-type {\n",
       "        vertical-align: middle;\n",
       "    }\n",
       "\n",
       "    .dataframe tbody tr th {\n",
       "        vertical-align: top;\n",
       "    }\n",
       "\n",
       "    .dataframe thead th {\n",
       "        text-align: right;\n",
       "    }\n",
       "</style>\n",
       "<table border=\"1\" class=\"dataframe\">\n",
       "  <thead>\n",
       "    <tr style=\"text-align: right;\">\n",
       "      <th></th>\n",
       "      <th>registrationyear</th>\n",
       "      <th>power</th>\n",
       "      <th>kilometer</th>\n",
       "    </tr>\n",
       "  </thead>\n",
       "  <tbody>\n",
       "    <tr>\n",
       "      <td>count</td>\n",
       "      <td>249744.0000</td>\n",
       "      <td>249744.0000</td>\n",
       "      <td>249744.0000</td>\n",
       "    </tr>\n",
       "    <tr>\n",
       "      <td>mean</td>\n",
       "      <td>-0.0000</td>\n",
       "      <td>0.0000</td>\n",
       "      <td>-0.0000</td>\n",
       "    </tr>\n",
       "    <tr>\n",
       "      <td>std</td>\n",
       "      <td>1.0000</td>\n",
       "      <td>1.0000</td>\n",
       "      <td>1.0000</td>\n",
       "    </tr>\n",
       "    <tr>\n",
       "      <td>min</td>\n",
       "      <td>-7.5790</td>\n",
       "      <td>-2.3493</td>\n",
       "      <td>-3.3674</td>\n",
       "    </tr>\n",
       "    <tr>\n",
       "      <td>25%</td>\n",
       "      <td>-0.6171</td>\n",
       "      <td>-0.8595</td>\n",
       "      <td>-0.1036</td>\n",
       "    </tr>\n",
       "    <tr>\n",
       "      <td>50%</td>\n",
       "      <td>-0.0488</td>\n",
       "      <td>-0.1842</td>\n",
       "      <td>0.5763</td>\n",
       "    </tr>\n",
       "    <tr>\n",
       "      <td>75%</td>\n",
       "      <td>0.6616</td>\n",
       "      <td>0.5111</td>\n",
       "      <td>0.5763</td>\n",
       "    </tr>\n",
       "    <tr>\n",
       "      <td>max</td>\n",
       "      <td>2.2245</td>\n",
       "      <td>4.6030</td>\n",
       "      <td>0.5763</td>\n",
       "    </tr>\n",
       "  </tbody>\n",
       "</table>\n",
       "</div>"
      ],
      "text/plain": [
       "       registrationyear        power    kilometer\n",
       "count       249744.0000  249744.0000  249744.0000\n",
       "mean            -0.0000       0.0000      -0.0000\n",
       "std              1.0000       1.0000       1.0000\n",
       "min             -7.5790      -2.3493      -3.3674\n",
       "25%             -0.6171      -0.8595      -0.1036\n",
       "50%             -0.0488      -0.1842       0.5763\n",
       "75%              0.6616       0.5111       0.5763\n",
       "max              2.2245       4.6030       0.5763"
      ]
     },
     "execution_count": 42,
     "metadata": {},
     "output_type": "execute_result"
    }
   ],
   "source": [
    "cars_ftrain.describe().round(4)"
   ]
  },
  {
   "cell_type": "markdown",
   "metadata": {},
   "source": [
    "Standardization implies such data preprocessing after which each feature has an average of 0 and a variance of 1.  \n",
    "We will first check the distribution of feature values and create a standardization function."
   ]
  },
  {
   "cell_type": "markdown",
   "metadata": {},
   "source": [
    "***\n",
    "### Conclusion"
   ]
  },
  {
   "cell_type": "markdown",
   "metadata": {},
   "source": [
    "The data has been prepared for model training:\n",
    "- Splitting the sample into training and target;\n",
    "- Conversion of categorical features from object to categorial;\n",
    "- Scaling of quantitative features."
   ]
  },
  {
   "cell_type": "markdown",
   "metadata": {},
   "source": [
    "***\n",
    "## Gradient Boosting Model Training"
   ]
  },
  {
   "cell_type": "markdown",
   "metadata": {},
   "source": [
    "We will conduct training of gradient boosting models from two libraries and compare the results:\n",
    "\n",
    "- LightGBM - LGBMRegressor;\n",
    "- CatBoost - CatBoostRegressor.  \n",
    "\n",
    "We choose these two models because of their fast operation and ability to work with categorical features without the need to convert them to numbers."
   ]
  },
  {
   "cell_type": "markdown",
   "metadata": {},
   "source": [
    "Let's create a list with the names of the categorical columns."
   ]
  },
  {
   "cell_type": "code",
   "execution_count": 43,
   "metadata": {},
   "outputs": [],
   "source": [
    "cat_columns = ['vehicletype', 'gearbox', 'model', 'fueltype', 'brand', 'notrepaired']"
   ]
  },
  {
   "cell_type": "markdown",
   "metadata": {},
   "source": [
    "**LGBMRegressor**"
   ]
  },
  {
   "cell_type": "markdown",
   "metadata": {},
   "source": [
    "Let's create a function that takes as arguments the features and the target feature, and on output gives a dictionary with the best hyperparameters and the best result for the LGBMRegressor model."
   ]
  },
  {
   "cell_type": "code",
   "execution_count": 44,
   "metadata": {},
   "outputs": [],
   "source": [
    "def lgb_gridsearchcv(features, target):\n",
    "    model = LGBMRegressor()\n",
    "    param_grid = {\n",
    "        'boosting_type' : ['gbdt'],\n",
    "        'n_estimators' : [50, 100],\n",
    "        'max_depth' : [5, 7, 10],\n",
    "        'verbose' : [0],\n",
    "        'random_state' : [12345]        \n",
    "    }\n",
    "    CV = GridSearchCV(estimator = model, param_grid = param_grid, cv = 2, scoring = 'neg_mean_squared_error')\n",
    "    CV.fit(features, target, categorical_feature = cat_columns)\n",
    "    print('The best hyperparametres: ', CV.best_params_)\n",
    "    print('The best RMSE: {:.2f}'.format((-CV.best_score_) ** 0.5))"
   ]
  },
  {
   "cell_type": "markdown",
   "metadata": {},
   "source": [
    "Let's apply it to the existing sample."
   ]
  },
  {
   "cell_type": "code",
   "execution_count": 45,
   "metadata": {},
   "outputs": [
    {
     "name": "stdout",
     "output_type": "stream",
     "text": [
      "Лучшие гиперпараметры:  {'boosting_type': 'gbdt', 'max_depth': 10, 'n_estimators': 100, 'random_state': 12345, 'verbose': 0}\n",
      "Лучшее RMSE: 1675.80\n",
      "CPU times: user 1min 14s, sys: 376 ms, total: 1min 14s\n",
      "Wall time: 1min 15s\n"
     ]
    }
   ],
   "source": [
    "%%time\n",
    "lgb_gridsearchcv(cars_ftrain, cars_ttrain)"
   ]
  },
  {
   "cell_type": "markdown",
   "metadata": {},
   "source": [
    "Let's check the best hyperparameters on the validation sample."
   ]
  },
  {
   "cell_type": "code",
   "execution_count": 46,
   "metadata": {},
   "outputs": [
    {
     "name": "stdout",
     "output_type": "stream",
     "text": [
      "RMSE_test 1654.23\n",
      "CPU times: user 9.58 s, sys: 48.2 ms, total: 9.63 s\n",
      "Wall time: 9.7 s\n"
     ]
    }
   ],
   "source": [
    "%%time\n",
    "\n",
    "LGBMR = LGBMRegressor(random_state = 12345, max_depth = 10, n_estimators = 100, verbose = 0)\n",
    "LGBMR.fit(cars_ftrain, cars_ttrain, categorical_feature = cat_columns)\n",
    "prediction = LGBMR.predict(cars_fvalid)\n",
    "rmse = mean_squared_error(prediction, cars_tvalid) ** 0.5\n",
    "print(f'RMSE_test {rmse:.2f}')"
   ]
  },
  {
   "cell_type": "markdown",
   "metadata": {},
   "source": [
    "**Conclusion**\n",
    "\n",
    "From this relatively small list of parameters, the best ones were 'boosting_type' : 'gbdt', 'max_depth': 10, 'n_estimators': 100.  \n",
    "- Best RMSE: 1654.23\n",
    "- Wall time: 9.7 s  \n",
    "  \n",
    "The function worked quite quickly, but with a larger number of parameters and when using other search algorithms, the speed significantly deteriorated, and the gridsearch function took several tens of minutes to find the solution."
   ]
  },
  {
   "cell_type": "markdown",
   "metadata": {},
   "source": [
    "**CatBoostRegressor**"
   ]
  },
  {
   "cell_type": "markdown",
   "metadata": {},
   "source": [
    "Let's create a function that takes as arguments the features and the target feature, and on output gives a dictionary with the best hyperparameters and the best result for the CatBoostRegressor model."
   ]
  },
  {
   "cell_type": "code",
   "execution_count": 47,
   "metadata": {},
   "outputs": [],
   "source": [
    "def cat_gridsearchcv(features, target):\n",
    "    model = CatBoostRegressor()\n",
    "    param_grid = {\n",
    "        'n_estimators' : [50, 100],\n",
    "        'max_depth' : [5, 7, 10],\n",
    "        'verbose' : [0],\n",
    "        'random_state' : [12345]        \n",
    "    }\n",
    "    CV = GridSearchCV(estimator = model, param_grid = param_grid, cv = 2, scoring = 'neg_mean_squared_error')\n",
    "    CV.fit(features, target, cat_features = cat_columns)\n",
    "    print('Лучшие гиперпараметры: ', CV.best_params_)\n",
    "    print('Лучшее RMSE: {:.2f}'.format((-CV.best_score_) ** 0.5))"
   ]
  },
  {
   "cell_type": "markdown",
   "metadata": {},
   "source": [
    "Let's apply it to the existing sample."
   ]
  },
  {
   "cell_type": "code",
   "execution_count": 48,
   "metadata": {},
   "outputs": [
    {
     "name": "stdout",
     "output_type": "stream",
     "text": [
      "Лучшие гиперпараметры:  {'max_depth': 10, 'n_estimators': 100, 'random_state': 12345, 'verbose': 0}\n",
      "Лучшее RMSE: 1888.62\n",
      "CPU times: user 3min 41s, sys: 22.7 s, total: 4min 3s\n",
      "Wall time: 4min 45s\n"
     ]
    }
   ],
   "source": [
    "%%time\n",
    "cat_gridsearchcv(cars_ftrain, cars_ttrain)"
   ]
  },
  {
   "cell_type": "markdown",
   "metadata": {},
   "source": [
    "Let's check the best hyperparameters on the validation sample."
   ]
  },
  {
   "cell_type": "code",
   "execution_count": 49,
   "metadata": {},
   "outputs": [
    {
     "name": "stdout",
     "output_type": "stream",
     "text": [
      "RMSE_test 1866.72\n",
      "CPU times: user 42.4 s, sys: 2.95 s, total: 45.4 s\n",
      "Wall time: 48.7 s\n"
     ]
    }
   ],
   "source": [
    "%%time\n",
    "\n",
    "CBR = CatBoostRegressor(random_state = 12345, max_depth = 10, n_estimators = 100, verbose = 0)\n",
    "CBR.fit(cars_ftrain, cars_ttrain, cat_features = cat_columns)\n",
    "prediction = CBR.predict(cars_fvalid)\n",
    "rmse = mean_squared_error(prediction, cars_tvalid) ** 0.5\n",
    "print(f'RMSE_test {rmse:.2f}')"
   ]
  },
  {
   "cell_type": "markdown",
   "metadata": {},
   "source": [
    "**Conclusion**\n",
    "\n",
    "In this model, the best parameters were also 'max_depth': 10, 'n_estimators': 100.\n",
    "- Best RMSE: 1866.72\n",
    "- Wall time: 48.7 s  \n",
    "  \n",
    "However, the best RMSE indicator and the speed of learning were significantly worse than for the LGBMRegressor"
   ]
  },
  {
   "cell_type": "markdown",
   "metadata": {},
   "source": [
    "***\n",
    "### Conclusion"
   ]
  },
  {
   "cell_type": "markdown",
   "metadata": {},
   "source": [
    "At this stage, data preparation for model operation was carried out, and LGBMRegressor and CatBoostRegressor models were built.\n",
    "The best RMSE result and the best speed were shown by the LGBMRegressor model.  \n",
    "  \n",
    "Best hyperparameters: 'boosting_type' : 'gbdt', 'max_depth': 10, 'n_estimators': 100, 'random_state': 12345, 'verbose': 0\n",
    "The best RMSE result is 1650.82. Training and prediction time is 17.3 seconds.  \n",
    "  \n",
    "When selecting other hyperparameters, such as learning_rate, num_leaves, min_data_in_leaf, the result remained roughly the same, but the speed of work significantly decreased."
   ]
  },
  {
   "cell_type": "markdown",
   "metadata": {},
   "source": [
    "## Training of prediction models requiring dummy transformation - linear regression, random forest, GradientBoostingRegressor."
   ]
  },
  {
   "cell_type": "markdown",
   "metadata": {},
   "source": [
    "Copy the dataset"
   ]
  },
  {
   "cell_type": "code",
   "execution_count": 51,
   "metadata": {},
   "outputs": [],
   "source": [
    "cars_2 = cars.copy()"
   ]
  },
  {
   "cell_type": "markdown",
   "metadata": {},
   "source": [
    "Conduct one-hot encoding of categorical features and split the data into samples."
   ]
  },
  {
   "cell_type": "code",
   "execution_count": 55,
   "metadata": {},
   "outputs": [
    {
     "name": "stdout",
     "output_type": "stream",
     "text": [
      "Размер обучающей выборки (199795, 305)\n",
      "Размер валидационной выборки (66599, 305)\n",
      "Размер тестовой выборки (66599, 305)\n"
     ]
    }
   ],
   "source": [
    "cars_ohe = pd.get_dummies(cars_2, drop_first=True)\n",
    "\n",
    "cars_ohe_features = cars_ohe.drop(['price'], axis=1)\n",
    "cars_ohe_target = cars_ohe['price']\n",
    "\n",
    "features_train, features_rest, target_train, target_rest = train_test_split(cars_ohe_features, cars_ohe_target,\n",
    "                                                                              test_size = 0.4, random_state=12345)\n",
    "features_valid, features_test, target_valid, target_test = train_test_split(features_rest, target_rest, test_size=0.5,\n",
    "                                                                                random_state=12345)\n",
    "print(\"The size of the training sample\", features_train.shape)\n",
    "print(\"The size of the validating sample\", features_valid.shape)\n",
    "print(\"The size of the test sample\", features_test.shape)"
   ]
  },
  {
   "cell_type": "markdown",
   "metadata": {},
   "source": [
    "Scale the quantitative features."
   ]
  },
  {
   "cell_type": "code",
   "execution_count": 57,
   "metadata": {},
   "outputs": [],
   "source": [
    "scalers(features_train, features_valid, features_test)"
   ]
  },
  {
   "cell_type": "markdown",
   "metadata": {},
   "source": [
    "Train the forecasting models:"
   ]
  },
  {
   "cell_type": "markdown",
   "metadata": {},
   "source": [
    "Linear Regression"
   ]
  },
  {
   "cell_type": "code",
   "execution_count": 62,
   "metadata": {},
   "outputs": [
    {
     "name": "stdout",
     "output_type": "stream",
     "text": [
      "RMSE_test 2695.28\n",
      "CPU times: user 16.7 s, sys: 4.58 s, total: 21.2 s\n",
      "Wall time: 21.5 s\n"
     ]
    }
   ],
   "source": [
    "%%time\n",
    "\n",
    "LNR = LinearRegression(n_jobs=-1)\n",
    "LNR.fit(features_train, target_train)\n",
    "prediction = LNR.predict(features_valid)\n",
    "rmse = mean_squared_error(prediction, target_valid) ** 0.5\n",
    "print(f'RMSE_test {rmse:.2f}')"
   ]
  },
  {
   "cell_type": "markdown",
   "metadata": {},
   "source": [
    "Random Forest"
   ]
  },
  {
   "cell_type": "code",
   "execution_count": 64,
   "metadata": {},
   "outputs": [
    {
     "name": "stdout",
     "output_type": "stream",
     "text": [
      "RMSE_test 2447.50\n",
      "CPU times: user 39.2 s, sys: 180 ms, total: 39.4 s\n",
      "Wall time: 39.6 s\n"
     ]
    }
   ],
   "source": [
    "%%time\n",
    "\n",
    "RFR = RandomForestRegressor(n_estimators=100, max_depth=10, max_features=10, random_state=12345)\n",
    "RFR.fit(features_train, target_train)\n",
    "prediction = RFR.predict(features_valid)\n",
    "rmse = mean_squared_error(prediction, target_valid) ** 0.5\n",
    "print(f'RMSE_test {rmse:.2f}')"
   ]
  },
  {
   "cell_type": "markdown",
   "metadata": {},
   "source": [
    "GradientBoostingRegressor"
   ]
  },
  {
   "cell_type": "code",
   "execution_count": 66,
   "metadata": {},
   "outputs": [
    {
     "name": "stdout",
     "output_type": "stream",
     "text": [
      "RMSE_test 1928.88\n",
      "CPU times: user 2min 38s, sys: 0 ns, total: 2min 38s\n",
      "Wall time: 2min 42s\n"
     ]
    }
   ],
   "source": [
    "%%time\n",
    "\n",
    "GBR = GradientBoostingRegressor()\n",
    "GBR.fit(features_train, target_train)\n",
    "prediction = GBR.predict(features_valid)\n",
    "rmse = mean_squared_error(prediction, target_valid) ** 0.5\n",
    "print(f'RMSE_test {rmse:.2f}')"
   ]
  },
  {
   "cell_type": "markdown",
   "metadata": {},
   "source": [
    "The GradientBoostingRegressor model showed the best result in terms of the RMSE metric, but its result is still much worse than the LGBMRegressor model"
   ]
  },
  {
   "cell_type": "markdown",
   "metadata": {},
   "source": [
    "**Testing the LGBMRegressor model on test data**"
   ]
  },
  {
   "cell_type": "code",
   "execution_count": 50,
   "metadata": {},
   "outputs": [
    {
     "name": "stdout",
     "output_type": "stream",
     "text": [
      "RMSE_test 1640.17\n",
      "CPU times: user 9.18 s, sys: 0 ns, total: 9.18 s\n",
      "Wall time: 9.3 s\n"
     ]
    }
   ],
   "source": [
    "%%time\n",
    "\n",
    "LGBMR = LGBMRegressor(random_state = 12345, max_depth = 10, n_estimators = 100, verbose = 0)\n",
    "LGBMR.fit(cars_ftrain, cars_ttrain, categorical_feature = cat_columns)\n",
    "prediction = LGBMR.predict(cars_ftest)\n",
    "rmse = mean_squared_error(prediction, cars_ttest) ** 0.5\n",
    "print(f'RMSE_test {rmse:.2f}')"
   ]
  },
  {
   "cell_type": "markdown",
   "metadata": {},
   "source": [
    "Testing the LGBMRegressor model on test data."
   ]
  },
  {
   "cell_type": "markdown",
   "metadata": {},
   "source": [
    "# 3. Analysis of models"
   ]
  },
  {
   "cell_type": "markdown",
   "metadata": {},
   "source": [
    "In this project, due to the need to analyze and train a model on a large sample (over 300 thousand objects), it was decided to train gradient boosting models.  \n",
    "The most common gradient boosting libraries are:\n",
    "\n",
    "- XGBoost (from extreme gradient boosting) - a popular gradient boosting library on the Kaggle platform. Open source software. Released in 2014.\n",
    "- LightGBM (from light gradient boosting machine). Developed by Microsoft, it quickly and accurately trains gradient boosting. Works directly with categorical features.\n",
    "- CatBoost (from categorical boosting). Developed by Yandex, it surpasses other algorithms in terms of quality metrics. Applies various techniques of encoding categorical features (LabelEncoding, One-Hot Encoding).  \n",
    "\n",
    "We chose the LightGBM and CatBoost libraries from them and trained the LGBMRegressor and CatBoostRegressor models.  \n",
    "Despite the declared learning speed, the hyperparameter tuning took a very long time, and in the end, it was decided to stop at the choice of two hyperparameters - max_depth, n_estimators.  \n",
    "  \n",
    "In both models, the best values were 'max_depth': 10, 'n_estimators': 100, however, the LGBMRegressor model showed a better RMSE result and faster training and prediction time."
   ]
  },
  {
   "cell_type": "code",
   "execution_count": 81,
   "metadata": {},
   "outputs": [
    {
     "data": {
      "text/html": [
       "<div>\n",
       "<style scoped>\n",
       "    .dataframe tbody tr th:only-of-type {\n",
       "        vertical-align: middle;\n",
       "    }\n",
       "\n",
       "    .dataframe tbody tr th {\n",
       "        vertical-align: top;\n",
       "    }\n",
       "\n",
       "    .dataframe thead th {\n",
       "        text-align: right;\n",
       "    }\n",
       "</style>\n",
       "<table border=\"1\" class=\"dataframe\">\n",
       "  <thead>\n",
       "    <tr style=\"text-align: right;\">\n",
       "      <th></th>\n",
       "      <th>Model</th>\n",
       "      <th>RMSE</th>\n",
       "      <th>time, s</th>\n",
       "    </tr>\n",
       "  </thead>\n",
       "  <tbody>\n",
       "    <tr>\n",
       "      <td>0</td>\n",
       "      <td>LightGBM</td>\n",
       "      <td>1654.23</td>\n",
       "      <td>10</td>\n",
       "    </tr>\n",
       "    <tr>\n",
       "      <td>1</td>\n",
       "      <td>CatBoost</td>\n",
       "      <td>1866.72</td>\n",
       "      <td>49</td>\n",
       "    </tr>\n",
       "    <tr>\n",
       "      <td>2</td>\n",
       "      <td>LinearRegression</td>\n",
       "      <td>2695.28</td>\n",
       "      <td>22</td>\n",
       "    </tr>\n",
       "    <tr>\n",
       "      <td>3</td>\n",
       "      <td>RandomForestRegressor</td>\n",
       "      <td>2447.50</td>\n",
       "      <td>40</td>\n",
       "    </tr>\n",
       "    <tr>\n",
       "      <td>4</td>\n",
       "      <td>GradientBoostingRegressor</td>\n",
       "      <td>1928.88</td>\n",
       "      <td>162</td>\n",
       "    </tr>\n",
       "  </tbody>\n",
       "</table>\n",
       "</div>"
      ],
      "text/plain": [
       "                       Model     RMSE  time, s\n",
       "0                   LightGBM  1654.23       10\n",
       "1                   CatBoost  1866.72       49\n",
       "2           LinearRegression  2695.28       22\n",
       "3      RandomForestRegressor  2447.50       40\n",
       "4  GradientBoostingRegressor  1928.88      162"
      ]
     },
     "execution_count": 81,
     "metadata": {},
     "output_type": "execute_result"
    }
   ],
   "source": [
    "d = {'Model' : ['LightGBM', 'CatBoost', 'LinearRegression', \n",
    "                                         'RandomForestRegressor', 'GradientBoostingRegressor'],\n",
    "    'RMSE' :pd.Series([1654.23, 1866.72, 2695.28, 2447.50, 1928.88]),\n",
    "     'time, s': pd.Series([10, 49, 22, 40, 162])\n",
    "    }\n",
    "df1 = pd.DataFrame(d)\n",
    "df1"
   ]
  }
 ],
 "metadata": {
  "kernelspec": {
   "display_name": "Python 3",
   "language": "python",
   "name": "python3"
  },
  "language_info": {
   "codemirror_mode": {
    "name": "ipython",
    "version": 3
   },
   "file_extension": ".py",
   "mimetype": "text/x-python",
   "name": "python",
   "nbconvert_exporter": "python",
   "pygments_lexer": "ipython3",
   "version": "3.7.6"
  }
 },
 "nbformat": 4,
 "nbformat_minor": 2
}
